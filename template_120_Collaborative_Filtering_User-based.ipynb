{
 "cells": [
  {
   "cell_type": "markdown",
   "id": "0e1d1ef9",
   "metadata": {},
   "source": [
    "# 120. User-Based Collaborative Filtering (협업 필터링)\n",
    "\n",
    "### User-Based CF 의 알고리즘\n",
    "\n",
    "| USER | M1 | M2 | M3 | M4 | M5 | U1과의 유사도 |\n",
    "| --- | --- |--- |--- | ---|--- | --- |\n",
    "| U1 | 2 | 5 | 3 |   |   |\n",
    "|U2|4|4|3|5|1|0.19|\n",
    "|U3|1|5|4| | 5| 0.89|\n",
    "|U4|3|5|3|2|5  |0.94|\n",
    "|U5|4|5|3|4| |0.65|\n",
    "|U3, U4 평균|2|5|3.5|2|5|\n",
    "\n",
    "1) U1과 취향이 비슷한 사용자를 찾는다. 취향은 각 사용자의 영화에 대한 평가의 유사성을 계산하여 찾는다. --> U3와 U4가 U1과 가장 높은 상관 관계를 보임.  \n",
    "\n",
    "2) U1 과 가장 유사한 U3와 U4가 가장 좋게 평가한 영화를 찾는다. U1 이 아직 보지 않은 영화 M4, M5 에 대해 U3, U4 의 평점 평균을 내면 각각 2 와 5 이다. 따라서 평점 평균이 높은 M5를 U1도 좋아할 것으로 예상.\n",
    "\n",
    "### MovieLens dataset\n",
    "- MovieLens 라는 테스트 추천 시스템으로부터 수집된 데이터  \n",
    "- 사용자들이 영화에 대해서 평가한 데이터  \n",
    "- MovieLens에서는 사용자가 각 영화를 1점(최악)에서 5점(최고) 사이의 점수로 평가  "
   ]
  },
  {
   "cell_type": "code",
   "execution_count": null,
   "id": "5562fbdc",
   "metadata": {},
   "outputs": [],
   "source": []
  },
  {
   "cell_type": "code",
   "execution_count": null,
   "id": "6db06017",
   "metadata": {},
   "outputs": [],
   "source": [
    "# 필요한 라이브러리 임포트\n",
    "# from sklearn.metrics import mean_squared_error  # sklearn 구 버전\n",
    "# 두 벡터 간의 코사인 유사도를 계산하기 위한 함수\n",
    "# 영화 데이터의 열 이름을 정의\n",
    "# 영화 (특성) 정보 로드"
   ]
  },
  {
   "cell_type": "markdown",
   "id": "402ef56c-bfe9-4ce3-ab9e-0ea2a469e8e7",
   "metadata": {},
   "source": [
    "- content-based filtering 과 달리 CF 는 similarity 를 이용하므로 **item의 feature 정보가 필요하지 않기 때문**에 movies dataframe에서 title 을 제외한 모든 다른 열을 drop 한다.  "
   ]
  },
  {
   "cell_type": "code",
   "execution_count": null,
   "id": "ef954ef1",
   "metadata": {},
   "outputs": [],
   "source": [
    "# item의 특성 정보가 필요하지 않으므로 movie ID와 title 빼고 다른 데이터 제거"
   ]
  },
  {
   "cell_type": "code",
   "execution_count": null,
   "id": "d2976e46",
   "metadata": {},
   "outputs": [],
   "source": [
    "# 사용자의 영화 평점(rating) 정보 로드\n",
    "# 평점 데이터의 열 이름을 정의\n",
    "# 평점 데이터를 파일에서 읽어옴\n",
    "# 로드된 평점 데이터의 첫 5개 행을 출력하여 데이터 확인"
   ]
  },
  {
   "cell_type": "markdown",
   "id": "4d27c821",
   "metadata": {},
   "source": [
    "- ratings 만을 입력으로 사용"
   ]
  },
  {
   "cell_type": "code",
   "execution_count": null,
   "id": "a1d58562",
   "metadata": {},
   "outputs": [],
   "source": [
    "# timestamp 제거 "
   ]
  },
  {
   "cell_type": "code",
   "execution_count": null,
   "id": "959af3ad",
   "metadata": {},
   "outputs": [],
   "source": [
    "# ratings를 train, test set 으로 분리\n",
    "# train set으로 평점 matrix 생성\n",
    "# test set으로 모델 성능 평가   "
   ]
  },
  {
   "cell_type": "markdown",
   "id": "fbaab7f5",
   "metadata": {},
   "source": [
    "### train 데이터로 평점 matrix 생성"
   ]
  },
  {
   "cell_type": "code",
   "execution_count": null,
   "id": "1efbf49d",
   "metadata": {},
   "outputs": [],
   "source": [
    "# 평점 매트릭스를 생성 - 사용자별로 각 영화에 대한 평점을 나타내는 2차원 테이블.\n",
    "# 사용자 ID가 행 인덱스로, 영화 ID가 열 인덱스로 설정됩니다. 각 셀에는 해당 사용자가 해당 영화에 부여한 평점이 저장됩니다."
   ]
  },
  {
   "cell_type": "markdown",
   "id": "bf7e6cc2",
   "metadata": {},
   "source": [
    "### User-Based CF 알고리즘\n",
    "\n",
    "step 1) 모든 사용자간의 평가의 유사도를 계산  \n",
    "step 2) 현재 추천 대상이 되는 사용자와 다른 사용자간의 유사도를 추출  \n",
    "step 3) 현재 사용자가 평가하지 않은 모든 아이템에 대해서 현재 사용자의 예상 평가값 계산. 예상 평가값은 다른 사용자의 해당 아이템에 대한 평가(평점)를 현재 사용자와 그 사용자의 유사도로 가중 평균  \n",
    "step 4) 아이템 중에서 예상 평가값이 가장 높은 N 개의 아이템을 추천  \n",
    "\n",
    "이 알고리즘이 작동하기 위해서는 추천 대상 사용자가 평가한 아이템과 다른 사용자들이 평가한 동일한 아이템이 유사하게 계산되면 신뢰할 수 있는 모델이 만들어진 것이고, 이 모델을 이용하여 추천 대상 사용자가 보지 않은 아이템(영화)의 평점을 계산하고 가장 예상 평점이 높은 N 개 아이템을 추천하면 된다.    \n",
    "\n",
    "이때, 추천 대상 사용자와 가장 유사도가 높은 K 개의 다른 사용자의 평가만 반영하여 예측 평가의 품질을 높인다.\n",
    "\n",
    "이를 위해 추천 사용자, 영화 id 를 parameter 로 받아 예상 평점을 반환하는 함수를 작성"
   ]
  },
  {
   "cell_type": "markdown",
   "id": "d88ac9fa-26d7-45c7-b74e-9903261b953a",
   "metadata": {},
   "source": [
    "### step 1) 모든 사용자간의 평가의 유사도를 계산"
   ]
  },
  {
   "cell_type": "code",
   "execution_count": null,
   "id": "371a75b2",
   "metadata": {},
   "outputs": [],
   "source": [
    "# 평점 매트릭스의 복사본을 생성하고, NaN 값을 0으로 채웁니다. (평점을 부여하지 않은 영화는 평점이 0인 것으로 처리)\n",
    "# 사용자 간의 코사인 유사도를 계산합니다.\n",
    "# 여기서 matrix_dummy의 각 행은 사용자를 나타내며, 열은 영화에 대한 사용자의 평점을 나타냅니다.\n",
    "# cosine_similarity 함수는 이 행렬을 입력으로 받아, 모든 가능한 사용자 쌍 간의 코사인 유사도를 계산합니다.\n",
    "# 코사인 유사도 매트릭스를 DataFrame으로 변환하고, 인덱스와 컬럼 이름을 rating_matrix의 인덱스(사용자 ID)로 설정합니다.\n",
    "# 따라서, 이 DataFrame의 각 셀은 특정 사용자 쌍 사이의 코사인 유사도를 나타냅니다."
   ]
  },
  {
   "cell_type": "markdown",
   "id": "bc8168b3-b361-4ca3-b68d-b4edf1910131",
   "metadata": {},
   "source": [
    "### 추천 대상이 되는 사용자에게 보지 않은 영화를 추천할 때 사용자가 부여할 rating 예측\n",
    "\n",
    "1. 추천 대상 영화에 대해 이미 평가를 내린 모든 사용자의 rating값 가져오기 --> 영화 ID를 기준으로 모든 사용자의 평점 값을 필터링  \n",
    "3. 추천 대상 영화를 평가하지 않은 사용자의 index 가져오기\n",
    "4. 대상 영화를 평가하지 않은 사용자의 rating (null) 제거 --> 추천 대상 영화를 평가한 사용자만 남김"
   ]
  },
  {
   "cell_type": "markdown",
   "id": "446331a2",
   "metadata": {},
   "source": [
    "### step2) 현재 추천 대상이 되는 사용자와 다른 사용자들의 유사도를 추출"
   ]
  },
  {
   "cell_type": "code",
   "execution_count": null,
   "id": "f2ed5e21",
   "metadata": {},
   "outputs": [],
   "source": [
    "# 사용자별 영화 평점 테이블"
   ]
  },
  {
   "cell_type": "markdown",
   "id": "fcb524d9-d37d-4008-9660-642e2213e939",
   "metadata": {},
   "source": [
    "- `ratings_matrix(사용자별로 각 영화에 대한 평점을 나타내는 테이블)`에서 user_id 1 이 movie_id 5를 평가하지 않았으므로 user_id 1 에게 movie_id 5을 추천할 때의 예상 rating을 예측해 봅니다."
   ]
  },
  {
   "cell_type": "code",
   "execution_count": null,
   "id": "48acd30c",
   "metadata": {},
   "outputs": [],
   "source": [
    "# 현재 추천 대상이 되는 사용자\n",
    "# 추천대상 영화\n",
    "#step2)현재 추천 대상이 되는 사용자와 다른 사용자들 간의 similarity 가져오기"
   ]
  },
  {
   "cell_type": "code",
   "execution_count": null,
   "id": "40334b2a",
   "metadata": {},
   "outputs": [],
   "source": [
    "# step 3) 현재 사용자가 평가하지 않은 모든 아이템에 대해서 현재 사용자의 예상 평가값 계산. \n",
    "# 1.추천대상 영화(movie_id)에 대한 모든 사용자의 평점을 구함\n",
    "# rating_matrix에서 영화 ID가 movie_id인 열을 선택"
   ]
  },
  {
   "cell_type": "code",
   "execution_count": null,
   "id": "9e312e72",
   "metadata": {},
   "outputs": [],
   "source": [
    "# 2.추천대상 영화를 평가하지 않은 사용자(movie_ratings에서 평점이 NaN)의 index 가져오기\n",
    "# 추천대상 영화에 대해 평점을 부여하지 않은 사용자의 수\n",
    "# 평점을 부여하지 않은 사용자의 인덱스 목록 출력"
   ]
  },
  {
   "cell_type": "code",
   "execution_count": null,
   "id": "903430e6",
   "metadata": {},
   "outputs": [],
   "source": [
    "# 3. 추천대상 영화를 평가하지 않은 사용자의 rating (null) 제거 --> 추천 대상 영화를 평가한 사용자만 남김\n",
    "# 추천대상 영화에 평점을 부여한 사용자의 수"
   ]
  },
  {
   "cell_type": "code",
   "execution_count": null,
   "id": "587c0be3",
   "metadata": {},
   "outputs": [],
   "source": [
    "# 4. 현재 영화를 평가하지 않은 사용자의 similarity값 제거\n",
    "#추천대상 영화에 실제로 평점을 부여한 사용자들 간의 유사도 값의 수"
   ]
  },
  {
   "cell_type": "code",
   "execution_count": null,
   "id": "4c48370e",
   "metadata": {},
   "outputs": [],
   "source": [
    "# 정규화: 유사도 점수의 합이 1이 되도록 조정"
   ]
  },
  {
   "cell_type": "markdown",
   "id": "c6d654b4-babe-45d8-b087-ec0249a272dd",
   "metadata": {},
   "source": [
    "### 가장 유사도가 높은 상위 K명의 사용자 찾기"
   ]
  },
  {
   "cell_type": "code",
   "execution_count": null,
   "id": "bf5c7ac8",
   "metadata": {},
   "outputs": [],
   "source": [
    "# 5.유사도가 높은 사용자 순으로 정렬"
   ]
  },
  {
   "cell_type": "code",
   "execution_count": null,
   "id": "6bc8848e",
   "metadata": {},
   "outputs": [],
   "source": [
    "# 6.상위 n_neighbors에 해당하는 평점만 추출"
   ]
  },
  {
   "cell_type": "markdown",
   "id": "7d8dfa05-9160-43ac-9b1f-12242759ad23",
   "metadata": {},
   "source": [
    "### Implicit Rating을 이용한 추천 공식\n",
    "\n",
    "$$\\tilde{r}_{ui} = \\frac{\\sum_{v \\in KNN(u)}r_{vi} \\cdot S_{vu}}{\\sum_{v \\in KNN(u)}S_{vu}}$$"
   ]
  },
  {
   "cell_type": "code",
   "execution_count": null,
   "id": "73928977",
   "metadata": {},
   "outputs": [],
   "source": [
    "# 7. 가중평균 계산\n",
    "# top_users: 상위 유사도를 가진 사용자들의 유사도 점수 배열\n",
    "# top_ratings: 상위 유사도를 가진 사용자들이 해당 영화에 매긴 평점 배열\n",
    "# np.dot(top_users, top_ratings): 유사도 점수와 평점의 가중합을 계산\n",
    "# top_users.sum(): 유사도 점수의 합으로 가중합을 나누어 가중평균을 계산\n",
    "# 계산된 가중평균 평점 출력"
   ]
  },
  {
   "cell_type": "markdown",
   "id": "44e0845b",
   "metadata": {},
   "source": [
    "###  특정 사용자에게 추천하는 영화(movie_id)의  가중평균 rating을 계산하는 함수\n",
    "- 위의 과정을 model 함수로 작성\n",
    "- 위에서 개별 사용자와 아이템에 대해 구하던 predicted_rating을 함수로 작성\n",
    "- 가중치는 주어진 사용자와 다른 사용자 간의 유사도(user_similarity)"
   ]
  },
  {
   "cell_type": "code",
   "execution_count": null,
   "id": "88ca69f6",
   "metadata": {},
   "outputs": [],
   "source": [
    "def UBCF_knn_model(user_id, movie_id, rating_matrix, user_similarity, n_neighbors=0):\n",
    "    # 현재 영화가 rating_matrix의 컬럼에 있는지 확인\n",
    "        # 추천 대상 사용자와 다른 사용자 간의 유사도 가져오기\n",
    "        # 1. 추천 대상이 되는 영화에 대한 모든 사용자 평가\n",
    "        # 2. 추천 대상 영화를 평가하지 않은 사용자의 index 가져오기\n",
    "        # 3. 추천 대상 영화를 평가하지 않은 사용자의 rating (null) 제거\n",
    "        # 4. 추천 대상 영화를 평가하지 않은 사용자의 similarity값 제거\n",
    "        # 유사도의 합으로 나누기 전에 유사도가 0인지 확인\n",
    "        # k가 지정되지 않은 경우 모든 유사도를 사용\n",
    "        # n_neighbors가 1 이상이면, 유사도가 높은 순으로 정렬하고 상위 n_neighbors만 사용\n",
    "            # 5.유사도가 높은 사용자 순으로 정렬\n",
    "            # 6.상위 n_neighbors에 해당하는 평점만 추출\n",
    "            # 7.가중평균 계산\n",
    "            # 유사한 사용자가 없거나 한 명뿐인 경우 기본 평점을 할당"
   ]
  },
  {
   "cell_type": "code",
   "execution_count": null,
   "id": "5b309f12",
   "metadata": {},
   "outputs": [],
   "source": []
  },
  {
   "cell_type": "code",
   "execution_count": null,
   "id": "b34d0faa",
   "metadata": {},
   "outputs": [],
   "source": []
  },
  {
   "cell_type": "code",
   "execution_count": null,
   "id": "374fa116",
   "metadata": {},
   "outputs": [],
   "source": []
  },
  {
   "cell_type": "markdown",
   "id": "722fff38-fdf5-4ac3-bffd-da4630a7d560",
   "metadata": {},
   "source": [
    "### 모델 성능 평가 - 모델별 RMSE를 계산하는 함수 \n",
    "- Test set을 이용하여 모델 성능 측정  "
   ]
  },
  {
   "cell_type": "code",
   "execution_count": null,
   "id": "fe1c86ca",
   "metadata": {},
   "outputs": [],
   "source": [
    "def score(model, n_neighbors=0):\n",
    "    # X_test 데이터셋에서 사용자 ID와 영화 ID의 쌍을 생성합니다.\n",
    "    # 생성된 각 ID 쌍에 대해 모델을 사용하여 예상 평점을 계산합니다.\n",
    "    # X_test 데이터셋에서 실제 평점을 가져옵니다.\n",
    "    # 실제 평점과 예측 평점 사이의 RMSE를 계산하여 반환합니다.\n",
    "    # return mean_squared_error(y_true, y_pred, squared=False)  # sklearn old version"
   ]
  },
  {
   "cell_type": "code",
   "execution_count": null,
   "id": "21ee54d3",
   "metadata": {},
   "outputs": [],
   "source": [
    "# 정확도 계산"
   ]
  },
  {
   "cell_type": "markdown",
   "id": "e871b5b1-c76c-42fc-8353-fc5568f1cb6e",
   "metadata": {},
   "source": [
    "### Step4) 특정 사용자에 대하여 영화 추천\n",
    "- 이미 본 영화는 제외하고 보지 않은 영화 중에서 예상 평점이 높은 영화 추천"
   ]
  },
  {
   "cell_type": "code",
   "execution_count": null,
   "id": "780fa064",
   "metadata": {},
   "outputs": [],
   "source": [
    "# rating matrix에서 추천 대상 사용자의 해당 row 가져오기"
   ]
  },
  {
   "cell_type": "code",
   "execution_count": null,
   "id": "d387ad78",
   "metadata": {},
   "outputs": [],
   "source": [
    "# 가져온 row에서 추천 대상 사용자의 평점이 없는(보지 않은) 영화를 식별합니다."
   ]
  },
  {
   "cell_type": "code",
   "execution_count": null,
   "id": "96e35b91",
   "metadata": {},
   "outputs": [],
   "source": [
    "# 평가되지 않은 각 영화에 대해 예상 평점을 계산합니다.\n",
    "# 예상 평점순으로 정렬된 Series를 생성합니다."
   ]
  },
  {
   "cell_type": "markdown",
   "id": "929cd054",
   "metadata": {},
   "source": [
    "영화를 높은 예상 평점에 따라 제목을 뽑아 줌"
   ]
  },
  {
   "cell_type": "code",
   "execution_count": null,
   "id": "6ec47407",
   "metadata": {},
   "outputs": [],
   "source": []
  },
  {
   "cell_type": "markdown",
   "id": "2ec108b7",
   "metadata": {},
   "source": [
    "### 주어진 사용자에 대하여 추천 받는 함수\n",
    "위 코드들을 하나의 함수로 작성 "
   ]
  },
  {
   "cell_type": "code",
   "execution_count": null,
   "id": "fa779561",
   "metadata": {},
   "outputs": [],
   "source": [
    "def recom_movie(user_id, n_items, n_neighbors=30):\n",
    "    # rating matrix에서 추천 대상 사용자의 해당 row 가져오기\n",
    "    # 가져온 row에서 추천 대상 사용자의 평점이 없는(보지 않은) 영화를 식별합니다.\n",
    "    # 평가되지 않은 각 영화에 대해 예상 평점을 계산합니다.\n",
    "    # 예상 평점순으로 정렬된 Series를 생성합니다.\n",
    "    # 추천 영화의 제목을 가져옵니다."
   ]
  },
  {
   "cell_type": "code",
   "execution_count": null,
   "id": "94bad39d",
   "metadata": {},
   "outputs": [],
   "source": [
    "# 특정 사용자에 대해 n_items 개의 영화 추천"
   ]
  },
  {
   "cell_type": "markdown",
   "id": "5ab1e277",
   "metadata": {},
   "source": [
    "### 최적의 neighbor size 구하기"
   ]
  },
  {
   "cell_type": "code",
   "execution_count": null,
   "id": "60347460",
   "metadata": {},
   "outputs": [],
   "source": [
    "# 다양한 이웃 크기(neighbor size)에 대해 RMSE 계산 및 출력"
   ]
  },
  {
   "cell_type": "code",
   "execution_count": null,
   "id": "8fd6316a",
   "metadata": {},
   "outputs": [],
   "source": []
  }
 ],
 "metadata": {
  "kernelspec": {
   "display_name": "Python 3 (ipykernel)",
   "language": "python",
   "name": "python3"
  },
  "language_info": {
   "codemirror_mode": {
    "name": "ipython",
    "version": 3
   },
   "file_extension": ".py",
   "mimetype": "text/x-python",
   "name": "python",
   "nbconvert_exporter": "python",
   "pygments_lexer": "ipython3",
   "version": "3.9.21"
  }
 },
 "nbformat": 4,
 "nbformat_minor": 5
}
