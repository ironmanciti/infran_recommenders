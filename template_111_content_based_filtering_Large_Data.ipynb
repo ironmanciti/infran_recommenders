{
 "cells": [
  {
   "cell_type": "markdown",
   "id": "a220f418",
   "metadata": {},
   "source": [
    "# 111 - Content Based Filtering - manual feature engineering\n",
    "\n",
    "MovieLens 데이터셋을 사용하여 사용자에게 새로운 영화를 추천하는 Content-Based Filtering 추천 시스템입니다. 영화의 장르를 기반으로 사용자 프로필을 생성하고, 사용자가 아직 평가하지 않은 영화 중에서 개인화된 추천을 수행합니다.\n",
    "\n",
    "## Content-Based Recommender System algorithm\n",
    "\n",
    "Step 1: 사용자의 영화 평가를 근거로 가중 장르 행렬 작성 - 사용자가 선호하는 장르의 가중치 계산  \n",
    "    - 각 사용자가 본 영화에 대한 평점을 영화의 장르별로 합산합니다.   \n",
    "    - 합산된 평점을 각 장르별로 정규화하여 가중치를 계산합니다.  \n",
    "    \n",
    "Step 2: 가중 장르 행렬로부터 사용자 프로파일 작성 - 각 사용자의 장르 선호도를 나타내는 사용자 프로파일 작성  \n",
    "    - 각 사용자의 가중 장르 행렬을 기반으로 사용자 프로파일을 생성합니다.  \n",
    "    - 사용자 프로파일은 사용자가 선호하는 각 장르의 가중치를 포함합니다.  \n",
    "    \n",
    "Step 3: 사용자가 보지 않은 영화에 사용자 프로파일 적용하여 추천 영화 리스트 작성\n",
    "    -사용자가 보지 않은 영화의 장르 행렬을 작성합니다.  \n",
    "    -사용자 프로파일과 영화의 장르 행렬을 기반으로 각 영화에 대한 예측 평점을 계산합니다.  \n",
    "    \n",
    "예측 평점이 높은 영화를 사용자에게 추천합니다.     \n",
    "사용자의 영화 평가 데이터를 기반으로 하여 사용자가 선호하는 장르를 파악하고, 이를 바탕으로 새로운 영화를 추천하는 방식입니다."
   ]
  },
  {
   "cell_type": "code",
   "execution_count": null,
   "id": "a802391a",
   "metadata": {},
   "outputs": [],
   "source": [
    "# 필요한 Library import\n",
    "# 경고 메시지를 무시하도록 설정"
   ]
  },
  {
   "cell_type": "markdown",
   "id": "d070e2d1",
   "metadata": {},
   "source": [
    "- `ratings.csv` 데이터셋은 사용자들이 다양한 영화에 대해 매긴 평점 정보를 포함\n",
    "    - userId: 사용자의 고유 ID\n",
    "    - movieId: 영화의 고유 ID\n",
    "    - rating: 사용자가 영화에 매긴 평점\n",
    "    - timestamp: 사용자가 평점을 매긴 시간 정보. Unix 타임스탬프 형식.\n",
    " <br><br>\n",
    "- `movies.csv` 데이터셋은 각 영화의 고유 정보와 장르를 포함  \n",
    "    - movieId: 영화의 고유 ID  \n",
    "    - title: 영화의 제목  \n",
    "    - genres: 영화의 장르. 여러 장르가 쉼표로 구분되어 있습니다."
   ]
  },
  {
   "cell_type": "code",
   "execution_count": null,
   "id": "eeeab070",
   "metadata": {},
   "outputs": [],
   "source": [
    "# 사용자 영화 평점 데이터 로드"
   ]
  },
  {
   "cell_type": "code",
   "execution_count": null,
   "id": "92039f44",
   "metadata": {},
   "outputs": [],
   "source": [
    "# 영화 특성 데이터 로드"
   ]
  },
  {
   "cell_type": "code",
   "execution_count": null,
   "id": "7e31d837",
   "metadata": {},
   "outputs": [],
   "source": [
    "# ratings에서 중복 movieId를 제거합니다.\n",
    "# movies dataframe에서 사용자 rating이 있는 movie만 골라냅니다."
   ]
  },
  {
   "cell_type": "code",
   "execution_count": null,
   "id": "42f69c21",
   "metadata": {},
   "outputs": [],
   "source": [
    "# 평가된 영화 데이터프레임에서 영화 제목을 가져옴\n",
    "# 영화 제목 목록의 길이를 출력\n",
    "# 영화 제목 목록을 출력"
   ]
  },
  {
   "cell_type": "markdown",
   "id": "683c04ad",
   "metadata": {},
   "source": [
    "### 사용자별 영화 평가 Matrix 생성 \n",
    "\n",
    "사용자가 선호하는 장르의 가중치 계산"
   ]
  },
  {
   "cell_type": "code",
   "execution_count": null,
   "id": "d213d6a9",
   "metadata": {},
   "outputs": [],
   "source": [
    "# ratings 데이터프레임을 변환하여 movieId를 열로, rating을 값으로 하는 데이터프레임으로 변환\n",
    "# 변환된 데이터프레임의 shape을 출력\n",
    "# 결측값(NaN)을 0으로 채움"
   ]
  },
  {
   "cell_type": "code",
   "execution_count": null,
   "id": "a6ad3363",
   "metadata": {},
   "outputs": [],
   "source": [
    "# 컬럼명을 영화명으로 replace"
   ]
  },
  {
   "cell_type": "code",
   "execution_count": null,
   "id": "59823306",
   "metadata": {},
   "outputs": [],
   "source": [
    "# 사용자 영화평 matrix 생성"
   ]
  },
  {
   "cell_type": "markdown",
   "id": "b580cd54",
   "metadata": {},
   "source": [
    "### 영화 특성 Matrix 작성"
   ]
  },
  {
   "cell_type": "code",
   "execution_count": null,
   "id": "544ae1fe",
   "metadata": {},
   "outputs": [],
   "source": [
    "# 영화 데이터에서 모든 장르를 추출하여 중복을 제거한 후 정렬된 리스트를 생성합니다."
   ]
  },
  {
   "cell_type": "code",
   "execution_count": null,
   "id": "4547eafa",
   "metadata": {},
   "outputs": [],
   "source": [
    "# features라는 리스트에 있는 각 genre 요소가 문자열 genres에 포함되어 있는지 여부를 확인하는 리스트 컴프리헨션"
   ]
  },
  {
   "cell_type": "code",
   "execution_count": null,
   "id": "7452b736",
   "metadata": {},
   "outputs": [],
   "source": [
    "# 위의 list comprehesion 결과를 multi-hot encoding으로 표현"
   ]
  },
  {
   "cell_type": "code",
   "execution_count": null,
   "id": "fcc3e59f",
   "metadata": {},
   "outputs": [],
   "source": [
    "# all_eatures 리스트에 있는 각 genre 요소가 문자열 genres에 포함되어 있는지 여부를 multi-hot encoding 변환하는 함수\n",
    "def genre_vector(genres, all_features):\n",
    "# 'genre_vec' multi-hot encoding 열을 추가합니다.\n",
    "# multi-hot encoding된 결과 출력"
   ]
  },
  {
   "cell_type": "code",
   "execution_count": null,
   "id": "6c94f344",
   "metadata": {},
   "outputs": [],
   "source": [
    "# 각 영화의 장르 벡터를 수직으로 쌓아 새로운 데이터프레임 생성"
   ]
  },
  {
   "cell_type": "code",
   "execution_count": null,
   "id": "a400faf1",
   "metadata": {},
   "outputs": [],
   "source": [
    "# 각 영화에 대한 장르 특성 maxtrix 생성"
   ]
  },
  {
   "cell_type": "markdown",
   "id": "daadbbf8",
   "metadata": {},
   "source": [
    "## step1) 사용자 특성 매트릭스 (weighted genre matrix) 계산\n",
    "\n",
    "사용자의 영화 평가를 근거로 가중 장르 행렬 작성 - 사용자가 선호하는 장르의 가중치 계산"
   ]
  },
  {
   "cell_type": "code",
   "execution_count": null,
   "id": "6a9a1dcb",
   "metadata": {},
   "outputs": [],
   "source": []
  },
  {
   "cell_type": "code",
   "execution_count": null,
   "id": "66cacce8",
   "metadata": {},
   "outputs": [],
   "source": [
    "# 사용자 특성 행렬 생성\n",
    "# 각 사용자가 본 영화의 평점과 영화의 장르 특성을 행렬곱하여 사용자의 특성을 계산합니다.\n",
    "# 즉, 사용자가 본 영화의 장르 가중치를 합산하여 사용자의 장르 선호도를 나타내는 벡터를 생성합니다.\n",
    "# users_seen_movies: 사용자별로 본 영화와 그 평점이 포함된 행렬\n",
    "# movies_features: 각 영화의 장르 특성이 포함된 행렬\n",
    "# 계산된 사용자 특성 행렬 "
   ]
  },
  {
   "cell_type": "code",
   "execution_count": null,
   "id": "a5844210",
   "metadata": {},
   "outputs": [],
   "source": [
    "# 사용자의 장르 선호도를 나타내는 사용자 특성 행렬을 데이터프레임으로 변환"
   ]
  },
  {
   "cell_type": "markdown",
   "id": "9b673861",
   "metadata": {},
   "source": [
    "## step2) 사용자 특성 매트릭스(Weighted genre matrix)로 부터 User Profile 작성\n",
    "\n",
    "가중 장르 행렬로부터 사용자 프로파일 작성 - 각 사용자의 장르 선호도를 나타내는 사용자 프로파일 작성"
   ]
  },
  {
   "cell_type": "code",
   "execution_count": null,
   "id": "dd3bebc1",
   "metadata": {},
   "outputs": [],
   "source": [
    "# 사용자 프로파일\n",
    "# 각 사용자의 특성 벡터를 해당 벡터의 합으로 나누어 정규화합니다.\n",
    "# 즉, 각 사용자가 선호하는 장르의 가중치를 전체 가중치 합으로 나누어 비율로 나타냅니다.\n",
    "# 정규화된 사용자 특성 행렬 "
   ]
  },
  {
   "cell_type": "markdown",
   "id": "604503cf",
   "metadata": {},
   "source": [
    "## step3) 사용자가 보지 않은 영화에 사용자 프로파일을 적용하여 추천 영화 list 작성\n",
    "- 사용자가 보지 않은 영화의 장르 행렬을 작성합니다.  \n",
    "- 사용자 프로파일과 영화의 장르 행렬을 기반으로 각 영화에 대한 예측 평점을 계산합니다."
   ]
  },
  {
   "cell_type": "markdown",
   "id": "4e4b255f",
   "metadata": {},
   "source": [
    "각 사용자별로 선호 장르를 순서대로 나열"
   ]
  },
  {
   "cell_type": "code",
   "execution_count": null,
   "id": "b89721fb",
   "metadata": {},
   "outputs": [],
   "source": [
    "# 특징 벡터의 길이 계산 - 사용자가 선호하는 장르의 수 의미\n",
    "# 각 사용자에 대해 상위 k개의 특징 인덱스를 추출\n",
    "# tf.nn.top_k 함수는 주어진 배열에서 가장 큰 값의 인덱스를 반환\n",
    "# users_features: 사용자의 장르 선호도를 나타내는 정규화된 특성 벡터\n",
    "# k=num_features: 각 사용자의 모든 장르에 대한 인덱스를 반환합니다.\n",
    "# 텐서플로우 텐서를 넘파이 배열로 변환하여 출력"
   ]
  },
  {
   "cell_type": "markdown",
   "id": "08eba37b",
   "metadata": {},
   "source": [
    "장르 index 를 장르명으로 표시"
   ]
  },
  {
   "cell_type": "code",
   "execution_count": null,
   "id": "44810404",
   "metadata": {},
   "outputs": [],
   "source": [
    "# 상위 5명의 사용자를 처리\n",
    "    # 각 사용자의 상위 특징 인덱스를 사용하여 해당 특징(장르) 이름을 가져옴\n",
    "    # 사용자 번호와 해당 사용자가 선호하는 상위 장르 목록을 출력"
   ]
  },
  {
   "cell_type": "markdown",
   "id": "6f2f31f2",
   "metadata": {},
   "source": [
    "### 추천할 영화 결정\n",
    "\n",
    "- 이제 위에서 계산 한 `users_features` 를 사용하여 각 사용자에 대한 영화 등급 및 추천을 결정합니다.  \n",
    "- 각 영화의 예상 등급을 계산하기 위해 사용자의 특성 벡터와 해당 영화 특성 벡터간의 유사성 측정값을 계산합니다. "
   ]
  },
  {
   "cell_type": "markdown",
   "id": "c5e6ff86",
   "metadata": {},
   "source": [
    "### 모든 영화 특성과 모든 사용자 특성간의 유사도 측정"
   ]
  },
  {
   "cell_type": "code",
   "execution_count": null,
   "id": "1b3a294c",
   "metadata": {},
   "outputs": [],
   "source": [
    "# 모든 사용자의 예상 평점을 코사인 유사도로 계산\n",
    "# users_features: 사용자의 장르 선호도를 나타내는 정규화된 특성 벡터\n",
    "# movies_features: 각 영화의 장르 특성을 나타내는 벡터\n",
    "# cosine_similarity: 두 벡터 간의 코사인 유사도를 계산하여 사용자가 각 영화를 얼마나 선호할지를 예측"
   ]
  },
  {
   "cell_type": "code",
   "execution_count": null,
   "id": "d5ce296d",
   "metadata": {},
   "outputs": [],
   "source": [
    "# 모든 사용자의 예상 평점을 데이터프레임으로 변환\n",
    "# columns에는 영화 이름 목록을 지정하여 각 열이 특정 영화를 나타내도록 함"
   ]
  },
  {
   "cell_type": "code",
   "execution_count": null,
   "id": "528d670f",
   "metadata": {},
   "outputs": [],
   "source": [
    "# 모든 사용자의 예상 평점 DF의 열 이름을 영화 제목 리스트로 변환\n",
    "# 영화 제목 리스트의 길이(영화의 총 수) 출력"
   ]
  },
  {
   "cell_type": "markdown",
   "id": "5d1b96f7",
   "metadata": {},
   "source": [
    "- 위의 계산은 데이터베이스의 각 사용자와 각 영화 간의 유사성 측정값을 계산합니다.  \n",
    "- 새 영화의 등급에만 집중하기 위해 all_users_ratings 매트릭스에 마스크를 적용하여, 사용자가 이미 영화를 평가한 경우 해당 평가를 무시합니다. 이렇게 하면 이전에 본 적이 없거나 등급이 지정되지 않은 영화에 대한 등급에만 집중합니다."
   ]
  },
  {
   "cell_type": "code",
   "execution_count": null,
   "id": "461972fe",
   "metadata": {},
   "outputs": [],
   "source": [
    "# 사용자가 보지 않은 영화를 찾기 위해 이진 행렬을 생성\n",
    "# users_seen_movies와 같은 형태의 0으로 된 배열을 생성하여 사용자가 보지 않은 영화를 찾습니다.\n",
    "# np.equal 함수는 두 배열의 요소를 비교하여 같은 위치에 같은 값이 있는 경우 True를 반환합니다.\n",
    "# 사용자가 보지 않은 영화에 대한 이진 행렬 "
   ]
  },
  {
   "cell_type": "code",
   "execution_count": null,
   "id": "8903b67e",
   "metadata": {},
   "outputs": [],
   "source": []
  },
  {
   "cell_type": "markdown",
   "id": "4cad8371",
   "metadata": {},
   "source": [
    "- 각 사용자에 대해 보지 않은 영화의 상위 2 개 등급의 영화를 가져와 인쇄해 봅니다."
   ]
  },
  {
   "cell_type": "code",
   "execution_count": null,
   "id": "2839a24a",
   "metadata": {},
   "outputs": [],
   "source": [
    "# 각 사용자별로 예상 평점이 가장 높은 상위 2개의 영화 인덱스를 추출\n",
    "# tf.nn.top_k 함수는 주어진 배열에서 가장 큰 값의 상위 k개의 인덱스를 반환합니다.\n",
    "# users_ratings_expected: 사용자의 예상 평점 행렬\n",
    "# k=2: 상위 2개의 예상 평점을 가진 영화의 인덱스를 반환하도록 설정합니다.\n",
    "# 상위 2개의 영화 인덱스 출력"
   ]
  },
  {
   "cell_type": "code",
   "execution_count": null,
   "id": "1a3c7524",
   "metadata": {},
   "outputs": [],
   "source": [
    "#df_all_users_ratings"
   ]
  },
  {
   "cell_type": "code",
   "execution_count": null,
   "id": "997a493e",
   "metadata": {},
   "outputs": [],
   "source": [
    "# 추천할 영화 목록 생성 및 출력\n",
    "    # 각 사용자의 상위 영화 인덱스를 사용하여 해당 영화 제목을 가져옴\n",
    "    # 사용자 번호와 해당 사용자에게 추천할 상위 영화 목록을 출력"
   ]
  },
  {
   "cell_type": "code",
   "execution_count": null,
   "id": "0ddcaecb",
   "metadata": {},
   "outputs": [],
   "source": []
  }
 ],
 "metadata": {
  "colab": {
   "name": "content_based_by_hand.ipynb",
   "provenance": [],
   "version": "0.3.2"
  },
  "kernelspec": {
   "display_name": "Python 3 (ipykernel)",
   "language": "python",
   "name": "python3"
  },
  "language_info": {
   "codemirror_mode": {
    "name": "ipython",
    "version": 3
   },
   "file_extension": ".py",
   "mimetype": "text/x-python",
   "name": "python",
   "nbconvert_exporter": "python",
   "pygments_lexer": "ipython3",
   "version": "3.9.16"
  }
 },
 "nbformat": 4,
 "nbformat_minor": 5
}
