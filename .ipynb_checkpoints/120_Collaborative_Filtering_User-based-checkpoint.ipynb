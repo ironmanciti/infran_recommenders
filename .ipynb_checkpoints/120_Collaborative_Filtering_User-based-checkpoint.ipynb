{
 "cells": [
  {
   "cell_type": "markdown",
   "id": "0e1d1ef9",
   "metadata": {},
   "source": [
    "# 120. User-Based Collaborative Filtering (협업 필터링)\n",
    "\n",
    "### User-Based CF 의 알고리즘\n",
    "\n",
    "| USER | M1 | M2 | M3 | M4 | M5 | U1과의 유사도 |\n",
    "| --- | --- |--- |--- | ---|--- | --- |\n",
    "| U1 | 2 | 5 | 3 |   |   |\n",
    "|U2|4|4|3|5|1|0.19|\n",
    "|U3|1|5|4| | 5| 0.89|\n",
    "|U4|3|5|3|2|5  |0.94|\n",
    "|U5|4|5|3|4| |0.65|\n",
    "|U3, U4 평균|2|5|3.5|2|5|\n",
    "\n",
    "1) U1과 취향이 비슷한 사용자를 찾는다. 취향은 각 사용자의 영화에 대한 평가의 유사성을 계산하여 찾는다. --> U3와 U4가 U1과 가장 높은 상관 관계를 보임.  \n",
    "\n",
    "2) U1 과 가장 유사한 U3와 U4가 가장 좋게 평가한 영화를 찾는다. U1 이 아직 보지 않은 영화 M4, M5 에 대해 U3, U4 의 평점 평균을 내면 각각 2 와 5 이다. 따라서 평점 평균이 높은 M5를 U1도 좋아할 것으로 예상.\n",
    "\n",
    "### MovieLens dataset\n",
    "- MovieLens 라는 테스트 추천 시스템으로부터 수집된 데이터  \n",
    "- 사용자들이 영화에 대해서 평가한 데이터  \n",
    "- MovieLens에서는 사용자가 각 영화를 1점(최악)에서 5점(최고) 사이의 점수로 평가  "
   ]
  },
  {
   "cell_type": "code",
   "execution_count": 1,
   "id": "a655695f-d676-453c-ab06-c5545fc2417d",
   "metadata": {},
   "outputs": [
    {
     "data": {
      "text/plain": [
       "'1.2.2'"
      ]
     },
     "execution_count": 1,
     "metadata": {},
     "output_type": "execute_result"
    }
   ],
   "source": [
    "import sklearn\n",
    "sklearn.__version__"
   ]
  },
  {
   "cell_type": "code",
   "execution_count": 2,
   "id": "129d9ad8",
   "metadata": {},
   "outputs": [
    {
     "data": {
      "text/html": [
       "<div>\n",
       "<style scoped>\n",
       "    .dataframe tbody tr th:only-of-type {\n",
       "        vertical-align: middle;\n",
       "    }\n",
       "\n",
       "    .dataframe tbody tr th {\n",
       "        vertical-align: top;\n",
       "    }\n",
       "\n",
       "    .dataframe thead th {\n",
       "        text-align: right;\n",
       "    }\n",
       "</style>\n",
       "<table border=\"1\" class=\"dataframe\">\n",
       "  <thead>\n",
       "    <tr style=\"text-align: right;\">\n",
       "      <th></th>\n",
       "      <th>movie_id</th>\n",
       "      <th>title</th>\n",
       "      <th>release date</th>\n",
       "      <th>video release date</th>\n",
       "      <th>IMDB URL</th>\n",
       "      <th>unknown</th>\n",
       "      <th>Action</th>\n",
       "      <th>Adventure</th>\n",
       "      <th>Animation</th>\n",
       "      <th>Children's</th>\n",
       "      <th>...</th>\n",
       "      <th>Fantasy</th>\n",
       "      <th>Film-Noir</th>\n",
       "      <th>Horror</th>\n",
       "      <th>Musical</th>\n",
       "      <th>Mystery</th>\n",
       "      <th>Romance</th>\n",
       "      <th>Sci-Fi</th>\n",
       "      <th>Thriller</th>\n",
       "      <th>War</th>\n",
       "      <th>Western</th>\n",
       "    </tr>\n",
       "  </thead>\n",
       "  <tbody>\n",
       "    <tr>\n",
       "      <th>0</th>\n",
       "      <td>1</td>\n",
       "      <td>Toy Story (1995)</td>\n",
       "      <td>01-Jan-1995</td>\n",
       "      <td>NaN</td>\n",
       "      <td>http://us.imdb.com/M/title-exact?Toy%20Story%2...</td>\n",
       "      <td>0</td>\n",
       "      <td>0</td>\n",
       "      <td>0</td>\n",
       "      <td>1</td>\n",
       "      <td>1</td>\n",
       "      <td>...</td>\n",
       "      <td>0</td>\n",
       "      <td>0</td>\n",
       "      <td>0</td>\n",
       "      <td>0</td>\n",
       "      <td>0</td>\n",
       "      <td>0</td>\n",
       "      <td>0</td>\n",
       "      <td>0</td>\n",
       "      <td>0</td>\n",
       "      <td>0</td>\n",
       "    </tr>\n",
       "    <tr>\n",
       "      <th>1</th>\n",
       "      <td>2</td>\n",
       "      <td>GoldenEye (1995)</td>\n",
       "      <td>01-Jan-1995</td>\n",
       "      <td>NaN</td>\n",
       "      <td>http://us.imdb.com/M/title-exact?GoldenEye%20(...</td>\n",
       "      <td>0</td>\n",
       "      <td>1</td>\n",
       "      <td>1</td>\n",
       "      <td>0</td>\n",
       "      <td>0</td>\n",
       "      <td>...</td>\n",
       "      <td>0</td>\n",
       "      <td>0</td>\n",
       "      <td>0</td>\n",
       "      <td>0</td>\n",
       "      <td>0</td>\n",
       "      <td>0</td>\n",
       "      <td>0</td>\n",
       "      <td>1</td>\n",
       "      <td>0</td>\n",
       "      <td>0</td>\n",
       "    </tr>\n",
       "    <tr>\n",
       "      <th>2</th>\n",
       "      <td>3</td>\n",
       "      <td>Four Rooms (1995)</td>\n",
       "      <td>01-Jan-1995</td>\n",
       "      <td>NaN</td>\n",
       "      <td>http://us.imdb.com/M/title-exact?Four%20Rooms%...</td>\n",
       "      <td>0</td>\n",
       "      <td>0</td>\n",
       "      <td>0</td>\n",
       "      <td>0</td>\n",
       "      <td>0</td>\n",
       "      <td>...</td>\n",
       "      <td>0</td>\n",
       "      <td>0</td>\n",
       "      <td>0</td>\n",
       "      <td>0</td>\n",
       "      <td>0</td>\n",
       "      <td>0</td>\n",
       "      <td>0</td>\n",
       "      <td>1</td>\n",
       "      <td>0</td>\n",
       "      <td>0</td>\n",
       "    </tr>\n",
       "  </tbody>\n",
       "</table>\n",
       "<p>3 rows × 24 columns</p>\n",
       "</div>"
      ],
      "text/plain": [
       "   movie_id              title release date  video release date  \\\n",
       "0         1   Toy Story (1995)  01-Jan-1995                 NaN   \n",
       "1         2   GoldenEye (1995)  01-Jan-1995                 NaN   \n",
       "2         3  Four Rooms (1995)  01-Jan-1995                 NaN   \n",
       "\n",
       "                                            IMDB URL  unknown  Action  \\\n",
       "0  http://us.imdb.com/M/title-exact?Toy%20Story%2...        0       0   \n",
       "1  http://us.imdb.com/M/title-exact?GoldenEye%20(...        0       1   \n",
       "2  http://us.imdb.com/M/title-exact?Four%20Rooms%...        0       0   \n",
       "\n",
       "   Adventure  Animation  Children's  ...  Fantasy  Film-Noir  Horror  Musical  \\\n",
       "0          0          1           1  ...        0          0       0        0   \n",
       "1          1          0           0  ...        0          0       0        0   \n",
       "2          0          0           0  ...        0          0       0        0   \n",
       "\n",
       "   Mystery  Romance  Sci-Fi  Thriller  War  Western  \n",
       "0        0        0       0         0    0        0  \n",
       "1        0        0       0         1    0        0  \n",
       "2        0        0       0         1    0        0  \n",
       "\n",
       "[3 rows x 24 columns]"
      ]
     },
     "execution_count": 2,
     "metadata": {},
     "output_type": "execute_result"
    }
   ],
   "source": [
    "# 필요한 라이브러리 임포트\n",
    "import numpy as np \n",
    "import pandas as pd  \n",
    "from sklearn.model_selection import train_test_split  \n",
    "\n",
    "# from sklearn.metrics import root_mean_squared_error   # sklearn 최신 버전\n",
    "from sklearn.metrics import mean_squared_error  # sklearn 구 버전\n",
    "\n",
    "# 두 벡터 간의 코사인 유사도를 계산하기 위한 함수\n",
    "from sklearn.metrics.pairwise import cosine_similarity\n",
    "\n",
    "# 영화 데이터의 열 이름을 정의\n",
    "i_cols = ['movie_id', 'title', 'release date', 'video release date', 'IMDB URL', 'unknown', \n",
    "          'Action', 'Adventure', 'Animation', 'Children\\'s', 'Comedy', 'Crime', 'Documentary', \n",
    "          'Drama', 'Fantasy', 'Film-Noir', 'Horror', 'Musical', 'Mystery', 'Romance', 'Sci-Fi', \n",
    "          'Thriller', 'War', 'Western']\n",
    "\n",
    "# 영화 (특성) 정보 로드\n",
    "movies = pd.read_csv('data/u.item', sep='|', names=i_cols, encoding='latin-1')\n",
    "\n",
    "movies.head(3)"
   ]
  },
  {
   "cell_type": "markdown",
   "id": "402ef56c-bfe9-4ce3-ab9e-0ea2a469e8e7",
   "metadata": {},
   "source": [
    "- content-based filtering 과 달리 CF 는 similarity 를 이용하므로 **item의 feature 정보가 필요하지 않기 때문**에 movies dataframe에서 title 을 제외한 모든 다른 열을 drop 한다.  "
   ]
  },
  {
   "cell_type": "code",
   "execution_count": 3,
   "id": "4e28b8ea-cf4c-42ae-b39e-ba4b306478b4",
   "metadata": {},
   "outputs": [
    {
     "data": {
      "text/html": [
       "<div>\n",
       "<style scoped>\n",
       "    .dataframe tbody tr th:only-of-type {\n",
       "        vertical-align: middle;\n",
       "    }\n",
       "\n",
       "    .dataframe tbody tr th {\n",
       "        vertical-align: top;\n",
       "    }\n",
       "\n",
       "    .dataframe thead th {\n",
       "        text-align: right;\n",
       "    }\n",
       "</style>\n",
       "<table border=\"1\" class=\"dataframe\">\n",
       "  <thead>\n",
       "    <tr style=\"text-align: right;\">\n",
       "      <th></th>\n",
       "      <th>movie_id</th>\n",
       "      <th>title</th>\n",
       "    </tr>\n",
       "  </thead>\n",
       "  <tbody>\n",
       "    <tr>\n",
       "      <th>0</th>\n",
       "      <td>1</td>\n",
       "      <td>Toy Story (1995)</td>\n",
       "    </tr>\n",
       "    <tr>\n",
       "      <th>1</th>\n",
       "      <td>2</td>\n",
       "      <td>GoldenEye (1995)</td>\n",
       "    </tr>\n",
       "    <tr>\n",
       "      <th>2</th>\n",
       "      <td>3</td>\n",
       "      <td>Four Rooms (1995)</td>\n",
       "    </tr>\n",
       "    <tr>\n",
       "      <th>3</th>\n",
       "      <td>4</td>\n",
       "      <td>Get Shorty (1995)</td>\n",
       "    </tr>\n",
       "    <tr>\n",
       "      <th>4</th>\n",
       "      <td>5</td>\n",
       "      <td>Copycat (1995)</td>\n",
       "    </tr>\n",
       "  </tbody>\n",
       "</table>\n",
       "</div>"
      ],
      "text/plain": [
       "   movie_id              title\n",
       "0         1   Toy Story (1995)\n",
       "1         2   GoldenEye (1995)\n",
       "2         3  Four Rooms (1995)\n",
       "3         4  Get Shorty (1995)\n",
       "4         5     Copycat (1995)"
      ]
     },
     "execution_count": 3,
     "metadata": {},
     "output_type": "execute_result"
    }
   ],
   "source": [
    "# item의 특성 정보가 필요하지 않으므로 movie ID와 title 빼고 다른 데이터 제거\n",
    "movies = movies[['movie_id', 'title']]\n",
    "movies.head()"
   ]
  },
  {
   "cell_type": "code",
   "execution_count": 4,
   "id": "b5689ccb-315f-4940-bca0-c7b6ef447e73",
   "metadata": {},
   "outputs": [
    {
     "data": {
      "text/html": [
       "<div>\n",
       "<style scoped>\n",
       "    .dataframe tbody tr th:only-of-type {\n",
       "        vertical-align: middle;\n",
       "    }\n",
       "\n",
       "    .dataframe tbody tr th {\n",
       "        vertical-align: top;\n",
       "    }\n",
       "\n",
       "    .dataframe thead th {\n",
       "        text-align: right;\n",
       "    }\n",
       "</style>\n",
       "<table border=\"1\" class=\"dataframe\">\n",
       "  <thead>\n",
       "    <tr style=\"text-align: right;\">\n",
       "      <th></th>\n",
       "      <th>user_id</th>\n",
       "      <th>movie_id</th>\n",
       "      <th>rating</th>\n",
       "      <th>timestamp</th>\n",
       "    </tr>\n",
       "  </thead>\n",
       "  <tbody>\n",
       "    <tr>\n",
       "      <th>0</th>\n",
       "      <td>196</td>\n",
       "      <td>242</td>\n",
       "      <td>3</td>\n",
       "      <td>881250949</td>\n",
       "    </tr>\n",
       "    <tr>\n",
       "      <th>1</th>\n",
       "      <td>186</td>\n",
       "      <td>302</td>\n",
       "      <td>3</td>\n",
       "      <td>891717742</td>\n",
       "    </tr>\n",
       "    <tr>\n",
       "      <th>2</th>\n",
       "      <td>22</td>\n",
       "      <td>377</td>\n",
       "      <td>1</td>\n",
       "      <td>878887116</td>\n",
       "    </tr>\n",
       "    <tr>\n",
       "      <th>3</th>\n",
       "      <td>244</td>\n",
       "      <td>51</td>\n",
       "      <td>2</td>\n",
       "      <td>880606923</td>\n",
       "    </tr>\n",
       "    <tr>\n",
       "      <th>4</th>\n",
       "      <td>166</td>\n",
       "      <td>346</td>\n",
       "      <td>1</td>\n",
       "      <td>886397596</td>\n",
       "    </tr>\n",
       "  </tbody>\n",
       "</table>\n",
       "</div>"
      ],
      "text/plain": [
       "   user_id  movie_id  rating  timestamp\n",
       "0      196       242       3  881250949\n",
       "1      186       302       3  891717742\n",
       "2       22       377       1  878887116\n",
       "3      244        51       2  880606923\n",
       "4      166       346       1  886397596"
      ]
     },
     "execution_count": 4,
     "metadata": {},
     "output_type": "execute_result"
    }
   ],
   "source": [
    "# 사용자의 영화 평점(rating) 정보 로드\n",
    "# 평점 데이터의 열 이름을 정의\n",
    "r_cols = ['user_id', 'movie_id', 'rating', 'timestamp']\n",
    "# 평점 데이터를 파일에서 읽어옴\n",
    "ratings = pd.read_csv('data/u.rating', sep='\\t', names=r_cols, encoding='latin-1')  \n",
    "\n",
    "# 로드된 평점 데이터의 첫 5개 행을 출력하여 데이터 확인\n",
    "ratings.head()"
   ]
  },
  {
   "cell_type": "markdown",
   "id": "4d27c821",
   "metadata": {},
   "source": [
    "- ratings 만을 입력으로 사용"
   ]
  },
  {
   "cell_type": "code",
   "execution_count": 5,
   "id": "c644e409",
   "metadata": {},
   "outputs": [
    {
     "data": {
      "text/html": [
       "<div>\n",
       "<style scoped>\n",
       "    .dataframe tbody tr th:only-of-type {\n",
       "        vertical-align: middle;\n",
       "    }\n",
       "\n",
       "    .dataframe tbody tr th {\n",
       "        vertical-align: top;\n",
       "    }\n",
       "\n",
       "    .dataframe thead th {\n",
       "        text-align: right;\n",
       "    }\n",
       "</style>\n",
       "<table border=\"1\" class=\"dataframe\">\n",
       "  <thead>\n",
       "    <tr style=\"text-align: right;\">\n",
       "      <th></th>\n",
       "      <th>user_id</th>\n",
       "      <th>movie_id</th>\n",
       "      <th>rating</th>\n",
       "    </tr>\n",
       "  </thead>\n",
       "  <tbody>\n",
       "    <tr>\n",
       "      <th>0</th>\n",
       "      <td>196</td>\n",
       "      <td>242</td>\n",
       "      <td>3</td>\n",
       "    </tr>\n",
       "    <tr>\n",
       "      <th>1</th>\n",
       "      <td>186</td>\n",
       "      <td>302</td>\n",
       "      <td>3</td>\n",
       "    </tr>\n",
       "    <tr>\n",
       "      <th>2</th>\n",
       "      <td>22</td>\n",
       "      <td>377</td>\n",
       "      <td>1</td>\n",
       "    </tr>\n",
       "    <tr>\n",
       "      <th>3</th>\n",
       "      <td>244</td>\n",
       "      <td>51</td>\n",
       "      <td>2</td>\n",
       "    </tr>\n",
       "    <tr>\n",
       "      <th>4</th>\n",
       "      <td>166</td>\n",
       "      <td>346</td>\n",
       "      <td>1</td>\n",
       "    </tr>\n",
       "  </tbody>\n",
       "</table>\n",
       "</div>"
      ],
      "text/plain": [
       "   user_id  movie_id  rating\n",
       "0      196       242       3\n",
       "1      186       302       3\n",
       "2       22       377       1\n",
       "3      244        51       2\n",
       "4      166       346       1"
      ]
     },
     "execution_count": 5,
     "metadata": {},
     "output_type": "execute_result"
    }
   ],
   "source": [
    "# timestamp 제거 \n",
    "ratings = ratings.drop('timestamp', axis=1)\n",
    "ratings.head()"
   ]
  },
  {
   "cell_type": "code",
   "execution_count": 6,
   "id": "37fbfba4",
   "metadata": {},
   "outputs": [
    {
     "data": {
      "text/plain": [
       "((75000, 3), (25000, 3))"
      ]
     },
     "execution_count": 6,
     "metadata": {},
     "output_type": "execute_result"
    }
   ],
   "source": [
    "# ratings를 train, test set 으로 분리\n",
    "# train set으로 평점 matrix 생성\n",
    "# test set으로 모델 성능 평가   \n",
    "X = ratings.copy()\n",
    "\n",
    "X_train, X_test = train_test_split(X, test_size=0.25, random_state=0)\n",
    "X_train.shape, X_test.shape"
   ]
  },
  {
   "cell_type": "markdown",
   "id": "fbaab7f5",
   "metadata": {},
   "source": [
    "### train 데이터로 평점 matrix 생성"
   ]
  },
  {
   "cell_type": "code",
   "execution_count": 7,
   "id": "6509c264",
   "metadata": {},
   "outputs": [
    {
     "name": "stdout",
     "output_type": "stream",
     "text": [
      "(943, 1628)\n"
     ]
    },
    {
     "data": {
      "text/html": [
       "<div>\n",
       "<style scoped>\n",
       "    .dataframe tbody tr th:only-of-type {\n",
       "        vertical-align: middle;\n",
       "    }\n",
       "\n",
       "    .dataframe tbody tr th {\n",
       "        vertical-align: top;\n",
       "    }\n",
       "\n",
       "    .dataframe thead th {\n",
       "        text-align: right;\n",
       "    }\n",
       "</style>\n",
       "<table border=\"1\" class=\"dataframe\">\n",
       "  <thead>\n",
       "    <tr style=\"text-align: right;\">\n",
       "      <th>movie_id</th>\n",
       "      <th>1</th>\n",
       "      <th>2</th>\n",
       "      <th>3</th>\n",
       "      <th>4</th>\n",
       "      <th>5</th>\n",
       "      <th>6</th>\n",
       "      <th>7</th>\n",
       "      <th>8</th>\n",
       "      <th>9</th>\n",
       "      <th>10</th>\n",
       "      <th>...</th>\n",
       "      <th>1668</th>\n",
       "      <th>1669</th>\n",
       "      <th>1672</th>\n",
       "      <th>1673</th>\n",
       "      <th>1674</th>\n",
       "      <th>1676</th>\n",
       "      <th>1677</th>\n",
       "      <th>1678</th>\n",
       "      <th>1681</th>\n",
       "      <th>1682</th>\n",
       "    </tr>\n",
       "    <tr>\n",
       "      <th>user_id</th>\n",
       "      <th></th>\n",
       "      <th></th>\n",
       "      <th></th>\n",
       "      <th></th>\n",
       "      <th></th>\n",
       "      <th></th>\n",
       "      <th></th>\n",
       "      <th></th>\n",
       "      <th></th>\n",
       "      <th></th>\n",
       "      <th></th>\n",
       "      <th></th>\n",
       "      <th></th>\n",
       "      <th></th>\n",
       "      <th></th>\n",
       "      <th></th>\n",
       "      <th></th>\n",
       "      <th></th>\n",
       "      <th></th>\n",
       "      <th></th>\n",
       "      <th></th>\n",
       "    </tr>\n",
       "  </thead>\n",
       "  <tbody>\n",
       "    <tr>\n",
       "      <th>1</th>\n",
       "      <td>5.0</td>\n",
       "      <td>3.0</td>\n",
       "      <td>4.0</td>\n",
       "      <td>3.0</td>\n",
       "      <td>NaN</td>\n",
       "      <td>5.0</td>\n",
       "      <td>NaN</td>\n",
       "      <td>1.0</td>\n",
       "      <td>NaN</td>\n",
       "      <td>3.0</td>\n",
       "      <td>...</td>\n",
       "      <td>NaN</td>\n",
       "      <td>NaN</td>\n",
       "      <td>NaN</td>\n",
       "      <td>NaN</td>\n",
       "      <td>NaN</td>\n",
       "      <td>NaN</td>\n",
       "      <td>NaN</td>\n",
       "      <td>NaN</td>\n",
       "      <td>NaN</td>\n",
       "      <td>NaN</td>\n",
       "    </tr>\n",
       "    <tr>\n",
       "      <th>2</th>\n",
       "      <td>NaN</td>\n",
       "      <td>NaN</td>\n",
       "      <td>NaN</td>\n",
       "      <td>NaN</td>\n",
       "      <td>NaN</td>\n",
       "      <td>NaN</td>\n",
       "      <td>NaN</td>\n",
       "      <td>NaN</td>\n",
       "      <td>NaN</td>\n",
       "      <td>2.0</td>\n",
       "      <td>...</td>\n",
       "      <td>NaN</td>\n",
       "      <td>NaN</td>\n",
       "      <td>NaN</td>\n",
       "      <td>NaN</td>\n",
       "      <td>NaN</td>\n",
       "      <td>NaN</td>\n",
       "      <td>NaN</td>\n",
       "      <td>NaN</td>\n",
       "      <td>NaN</td>\n",
       "      <td>NaN</td>\n",
       "    </tr>\n",
       "    <tr>\n",
       "      <th>3</th>\n",
       "      <td>NaN</td>\n",
       "      <td>NaN</td>\n",
       "      <td>NaN</td>\n",
       "      <td>NaN</td>\n",
       "      <td>NaN</td>\n",
       "      <td>NaN</td>\n",
       "      <td>NaN</td>\n",
       "      <td>NaN</td>\n",
       "      <td>NaN</td>\n",
       "      <td>NaN</td>\n",
       "      <td>...</td>\n",
       "      <td>NaN</td>\n",
       "      <td>NaN</td>\n",
       "      <td>NaN</td>\n",
       "      <td>NaN</td>\n",
       "      <td>NaN</td>\n",
       "      <td>NaN</td>\n",
       "      <td>NaN</td>\n",
       "      <td>NaN</td>\n",
       "      <td>NaN</td>\n",
       "      <td>NaN</td>\n",
       "    </tr>\n",
       "  </tbody>\n",
       "</table>\n",
       "<p>3 rows × 1628 columns</p>\n",
       "</div>"
      ],
      "text/plain": [
       "movie_id  1     2     3     4     5     6     7     8     9     10    ...  \\\n",
       "user_id                                                               ...   \n",
       "1          5.0   3.0   4.0   3.0   NaN   5.0   NaN   1.0   NaN   3.0  ...   \n",
       "2          NaN   NaN   NaN   NaN   NaN   NaN   NaN   NaN   NaN   2.0  ...   \n",
       "3          NaN   NaN   NaN   NaN   NaN   NaN   NaN   NaN   NaN   NaN  ...   \n",
       "\n",
       "movie_id  1668  1669  1672  1673  1674  1676  1677  1678  1681  1682  \n",
       "user_id                                                               \n",
       "1          NaN   NaN   NaN   NaN   NaN   NaN   NaN   NaN   NaN   NaN  \n",
       "2          NaN   NaN   NaN   NaN   NaN   NaN   NaN   NaN   NaN   NaN  \n",
       "3          NaN   NaN   NaN   NaN   NaN   NaN   NaN   NaN   NaN   NaN  \n",
       "\n",
       "[3 rows x 1628 columns]"
      ]
     },
     "execution_count": 7,
     "metadata": {},
     "output_type": "execute_result"
    }
   ],
   "source": [
    "# 평점 매트릭스를 생성 - 사용자별로 각 영화에 대한 평점을 나타내는 2차원 테이블.\n",
    "# 사용자 ID가 행 인덱스로, 영화 ID가 열 인덱스로 설정됩니다. 각 셀에는 해당 사용자가 해당 영화에 부여한 평점이 저장됩니다.\n",
    "rating_matrix = X_train.pivot(index=\"user_id\", columns=\"movie_id\", values=\"rating\")\n",
    "\n",
    "print(rating_matrix.shape)  # 차원 (사용자수, 영화수)\n",
    "rating_matrix.head(3)"
   ]
  },
  {
   "cell_type": "markdown",
   "id": "bf7e6cc2",
   "metadata": {},
   "source": [
    "### User-Based CF 알고리즘\n",
    "\n",
    "step 1) 모든 사용자간의 평가의 유사도를 계산  \n",
    "step 2) 현재 추천 대상이 되는 사용자와 다른 사용자간의 유사도를 추출  \n",
    "step 3) 현재 사용자가 평가하지 않은 모든 아이템에 대해서 현재 사용자의 예상 평가값 계산. 예상 평가값은 다른 사용자의 해당 아이템에 대한 평가(평점)를 현재 사용자와 그 사용자의 유사도로 가중 평균  \n",
    "step 4) 아이템 중에서 예상 평가값이 가장 높은 N 개의 아이템을 추천  \n",
    "\n",
    "이 알고리즘이 작동하기 위해서는 추천 대상 사용자가 평가한 아이템과 다른 사용자들이 평가한 동일한 아이템이 유사하게 계산되면 신뢰할 수 있는 모델이 만들어진 것이고, 이 모델을 이용하여 추천 대상 사용자가 보지 않은 아이템(영화)의 평점을 계산하고 가장 예상 평점이 높은 N 개 아이템을 추천하면 된다.    \n",
    "\n",
    "이때, 추천 대상 사용자와 가장 유사도가 높은 K 개의 다른 사용자의 평가만 반영하여 예측 평가의 품질을 높인다.\n",
    "\n",
    "이를 위해 추천 사용자, 영화 id 를 parameter 로 받아 예상 평점을 반환하는 함수를 작성"
   ]
  },
  {
   "cell_type": "markdown",
   "id": "d88ac9fa-26d7-45c7-b74e-9903261b953a",
   "metadata": {},
   "source": [
    "### step 1) 모든 사용자간의 평가의 유사도를 계산"
   ]
  },
  {
   "cell_type": "code",
   "execution_count": 8,
   "id": "a0ba0a5a",
   "metadata": {},
   "outputs": [
    {
     "name": "stdout",
     "output_type": "stream",
     "text": [
      "(943, 1628)\n",
      "(943, 943)\n"
     ]
    },
    {
     "data": {
      "text/html": [
       "<div>\n",
       "<style scoped>\n",
       "    .dataframe tbody tr th:only-of-type {\n",
       "        vertical-align: middle;\n",
       "    }\n",
       "\n",
       "    .dataframe tbody tr th {\n",
       "        vertical-align: top;\n",
       "    }\n",
       "\n",
       "    .dataframe thead th {\n",
       "        text-align: right;\n",
       "    }\n",
       "</style>\n",
       "<table border=\"1\" class=\"dataframe\">\n",
       "  <thead>\n",
       "    <tr style=\"text-align: right;\">\n",
       "      <th>user_id</th>\n",
       "      <th>1</th>\n",
       "      <th>2</th>\n",
       "      <th>3</th>\n",
       "      <th>4</th>\n",
       "      <th>5</th>\n",
       "      <th>6</th>\n",
       "      <th>7</th>\n",
       "      <th>8</th>\n",
       "      <th>9</th>\n",
       "      <th>10</th>\n",
       "      <th>...</th>\n",
       "      <th>934</th>\n",
       "      <th>935</th>\n",
       "      <th>936</th>\n",
       "      <th>937</th>\n",
       "      <th>938</th>\n",
       "      <th>939</th>\n",
       "      <th>940</th>\n",
       "      <th>941</th>\n",
       "      <th>942</th>\n",
       "      <th>943</th>\n",
       "    </tr>\n",
       "    <tr>\n",
       "      <th>user_id</th>\n",
       "      <th></th>\n",
       "      <th></th>\n",
       "      <th></th>\n",
       "      <th></th>\n",
       "      <th></th>\n",
       "      <th></th>\n",
       "      <th></th>\n",
       "      <th></th>\n",
       "      <th></th>\n",
       "      <th></th>\n",
       "      <th></th>\n",
       "      <th></th>\n",
       "      <th></th>\n",
       "      <th></th>\n",
       "      <th></th>\n",
       "      <th></th>\n",
       "      <th></th>\n",
       "      <th></th>\n",
       "      <th></th>\n",
       "      <th></th>\n",
       "      <th></th>\n",
       "    </tr>\n",
       "  </thead>\n",
       "  <tbody>\n",
       "    <tr>\n",
       "      <th>1</th>\n",
       "      <td>1.000000</td>\n",
       "      <td>0.140887</td>\n",
       "      <td>0.036981</td>\n",
       "      <td>0.069143</td>\n",
       "      <td>0.306388</td>\n",
       "      <td>0.302852</td>\n",
       "      <td>0.339506</td>\n",
       "      <td>0.241018</td>\n",
       "      <td>0.083494</td>\n",
       "      <td>0.296784</td>\n",
       "      <td>...</td>\n",
       "      <td>0.295321</td>\n",
       "      <td>0.104003</td>\n",
       "      <td>0.197249</td>\n",
       "      <td>0.155246</td>\n",
       "      <td>0.152691</td>\n",
       "      <td>0.080099</td>\n",
       "      <td>0.263132</td>\n",
       "      <td>0.089671</td>\n",
       "      <td>0.141146</td>\n",
       "      <td>0.331283</td>\n",
       "    </tr>\n",
       "    <tr>\n",
       "      <th>2</th>\n",
       "      <td>0.140887</td>\n",
       "      <td>1.000000</td>\n",
       "      <td>0.097246</td>\n",
       "      <td>0.181611</td>\n",
       "      <td>0.048586</td>\n",
       "      <td>0.160920</td>\n",
       "      <td>0.092840</td>\n",
       "      <td>0.080473</td>\n",
       "      <td>0.129376</td>\n",
       "      <td>0.133846</td>\n",
       "      <td>...</td>\n",
       "      <td>0.084098</td>\n",
       "      <td>0.162309</td>\n",
       "      <td>0.274986</td>\n",
       "      <td>0.288405</td>\n",
       "      <td>0.161569</td>\n",
       "      <td>0.114472</td>\n",
       "      <td>0.208187</td>\n",
       "      <td>0.079739</td>\n",
       "      <td>0.149775</td>\n",
       "      <td>0.118609</td>\n",
       "    </tr>\n",
       "    <tr>\n",
       "      <th>3</th>\n",
       "      <td>0.036981</td>\n",
       "      <td>0.097246</td>\n",
       "      <td>1.000000</td>\n",
       "      <td>0.211377</td>\n",
       "      <td>0.030859</td>\n",
       "      <td>0.038523</td>\n",
       "      <td>0.055345</td>\n",
       "      <td>0.006273</td>\n",
       "      <td>0.057778</td>\n",
       "      <td>0.037376</td>\n",
       "      <td>...</td>\n",
       "      <td>0.044604</td>\n",
       "      <td>0.061175</td>\n",
       "      <td>0.113719</td>\n",
       "      <td>0.054296</td>\n",
       "      <td>0.078177</td>\n",
       "      <td>0.021812</td>\n",
       "      <td>0.120308</td>\n",
       "      <td>0.091164</td>\n",
       "      <td>0.126480</td>\n",
       "      <td>0.037371</td>\n",
       "    </tr>\n",
       "    <tr>\n",
       "      <th>4</th>\n",
       "      <td>0.069143</td>\n",
       "      <td>0.181611</td>\n",
       "      <td>0.211377</td>\n",
       "      <td>1.000000</td>\n",
       "      <td>0.039629</td>\n",
       "      <td>0.056862</td>\n",
       "      <td>0.077217</td>\n",
       "      <td>0.125925</td>\n",
       "      <td>0.115134</td>\n",
       "      <td>0.038943</td>\n",
       "      <td>...</td>\n",
       "      <td>0.062547</td>\n",
       "      <td>0.045149</td>\n",
       "      <td>0.124937</td>\n",
       "      <td>0.163932</td>\n",
       "      <td>0.127203</td>\n",
       "      <td>0.000000</td>\n",
       "      <td>0.194381</td>\n",
       "      <td>0.115340</td>\n",
       "      <td>0.145046</td>\n",
       "      <td>0.056738</td>\n",
       "    </tr>\n",
       "    <tr>\n",
       "      <th>5</th>\n",
       "      <td>0.306388</td>\n",
       "      <td>0.048586</td>\n",
       "      <td>0.030859</td>\n",
       "      <td>0.039629</td>\n",
       "      <td>1.000000</td>\n",
       "      <td>0.187204</td>\n",
       "      <td>0.304344</td>\n",
       "      <td>0.163389</td>\n",
       "      <td>0.066394</td>\n",
       "      <td>0.172922</td>\n",
       "      <td>...</td>\n",
       "      <td>0.296144</td>\n",
       "      <td>0.097635</td>\n",
       "      <td>0.094838</td>\n",
       "      <td>0.095795</td>\n",
       "      <td>0.115138</td>\n",
       "      <td>0.040104</td>\n",
       "      <td>0.233320</td>\n",
       "      <td>0.083141</td>\n",
       "      <td>0.098550</td>\n",
       "      <td>0.284926</td>\n",
       "    </tr>\n",
       "    <tr>\n",
       "      <th>6</th>\n",
       "      <td>0.302852</td>\n",
       "      <td>0.160920</td>\n",
       "      <td>0.038523</td>\n",
       "      <td>0.056862</td>\n",
       "      <td>0.187204</td>\n",
       "      <td>1.000000</td>\n",
       "      <td>0.342748</td>\n",
       "      <td>0.119575</td>\n",
       "      <td>0.158508</td>\n",
       "      <td>0.456196</td>\n",
       "      <td>...</td>\n",
       "      <td>0.254693</td>\n",
       "      <td>0.092580</td>\n",
       "      <td>0.128484</td>\n",
       "      <td>0.193585</td>\n",
       "      <td>0.086407</td>\n",
       "      <td>0.106194</td>\n",
       "      <td>0.224265</td>\n",
       "      <td>0.085547</td>\n",
       "      <td>0.186713</td>\n",
       "      <td>0.199063</td>\n",
       "    </tr>\n",
       "    <tr>\n",
       "      <th>7</th>\n",
       "      <td>0.339506</td>\n",
       "      <td>0.092840</td>\n",
       "      <td>0.055345</td>\n",
       "      <td>0.077217</td>\n",
       "      <td>0.304344</td>\n",
       "      <td>0.342748</td>\n",
       "      <td>1.000000</td>\n",
       "      <td>0.250819</td>\n",
       "      <td>0.123244</td>\n",
       "      <td>0.390354</td>\n",
       "      <td>...</td>\n",
       "      <td>0.370937</td>\n",
       "      <td>0.089552</td>\n",
       "      <td>0.118486</td>\n",
       "      <td>0.092902</td>\n",
       "      <td>0.125924</td>\n",
       "      <td>0.074990</td>\n",
       "      <td>0.299872</td>\n",
       "      <td>0.044938</td>\n",
       "      <td>0.179860</td>\n",
       "      <td>0.293402</td>\n",
       "    </tr>\n",
       "    <tr>\n",
       "      <th>8</th>\n",
       "      <td>0.241018</td>\n",
       "      <td>0.080473</td>\n",
       "      <td>0.006273</td>\n",
       "      <td>0.125925</td>\n",
       "      <td>0.163389</td>\n",
       "      <td>0.119575</td>\n",
       "      <td>0.250819</td>\n",
       "      <td>1.000000</td>\n",
       "      <td>0.033990</td>\n",
       "      <td>0.195535</td>\n",
       "      <td>...</td>\n",
       "      <td>0.206664</td>\n",
       "      <td>0.028226</td>\n",
       "      <td>0.059777</td>\n",
       "      <td>0.030746</td>\n",
       "      <td>0.078015</td>\n",
       "      <td>0.037741</td>\n",
       "      <td>0.203665</td>\n",
       "      <td>0.027041</td>\n",
       "      <td>0.109983</td>\n",
       "      <td>0.203222</td>\n",
       "    </tr>\n",
       "    <tr>\n",
       "      <th>9</th>\n",
       "      <td>0.083494</td>\n",
       "      <td>0.129376</td>\n",
       "      <td>0.057778</td>\n",
       "      <td>0.115134</td>\n",
       "      <td>0.066394</td>\n",
       "      <td>0.158508</td>\n",
       "      <td>0.123244</td>\n",
       "      <td>0.033990</td>\n",
       "      <td>1.000000</td>\n",
       "      <td>0.191314</td>\n",
       "      <td>...</td>\n",
       "      <td>0.058054</td>\n",
       "      <td>0.000000</td>\n",
       "      <td>0.105988</td>\n",
       "      <td>0.096758</td>\n",
       "      <td>0.092140</td>\n",
       "      <td>0.052143</td>\n",
       "      <td>0.119705</td>\n",
       "      <td>0.177459</td>\n",
       "      <td>0.043415</td>\n",
       "      <td>0.025525</td>\n",
       "    </tr>\n",
       "    <tr>\n",
       "      <th>10</th>\n",
       "      <td>0.296784</td>\n",
       "      <td>0.133846</td>\n",
       "      <td>0.037376</td>\n",
       "      <td>0.038943</td>\n",
       "      <td>0.172922</td>\n",
       "      <td>0.456196</td>\n",
       "      <td>0.390354</td>\n",
       "      <td>0.195535</td>\n",
       "      <td>0.191314</td>\n",
       "      <td>1.000000</td>\n",
       "      <td>...</td>\n",
       "      <td>0.258328</td>\n",
       "      <td>0.047301</td>\n",
       "      <td>0.172325</td>\n",
       "      <td>0.160747</td>\n",
       "      <td>0.077400</td>\n",
       "      <td>0.064288</td>\n",
       "      <td>0.265615</td>\n",
       "      <td>0.081744</td>\n",
       "      <td>0.139246</td>\n",
       "      <td>0.158320</td>\n",
       "    </tr>\n",
       "  </tbody>\n",
       "</table>\n",
       "<p>10 rows × 943 columns</p>\n",
       "</div>"
      ],
      "text/plain": [
       "user_id       1         2         3         4         5         6         7    \\\n",
       "user_id                                                                         \n",
       "1        1.000000  0.140887  0.036981  0.069143  0.306388  0.302852  0.339506   \n",
       "2        0.140887  1.000000  0.097246  0.181611  0.048586  0.160920  0.092840   \n",
       "3        0.036981  0.097246  1.000000  0.211377  0.030859  0.038523  0.055345   \n",
       "4        0.069143  0.181611  0.211377  1.000000  0.039629  0.056862  0.077217   \n",
       "5        0.306388  0.048586  0.030859  0.039629  1.000000  0.187204  0.304344   \n",
       "6        0.302852  0.160920  0.038523  0.056862  0.187204  1.000000  0.342748   \n",
       "7        0.339506  0.092840  0.055345  0.077217  0.304344  0.342748  1.000000   \n",
       "8        0.241018  0.080473  0.006273  0.125925  0.163389  0.119575  0.250819   \n",
       "9        0.083494  0.129376  0.057778  0.115134  0.066394  0.158508  0.123244   \n",
       "10       0.296784  0.133846  0.037376  0.038943  0.172922  0.456196  0.390354   \n",
       "\n",
       "user_id       8         9         10   ...       934       935       936  \\\n",
       "user_id                                ...                                 \n",
       "1        0.241018  0.083494  0.296784  ...  0.295321  0.104003  0.197249   \n",
       "2        0.080473  0.129376  0.133846  ...  0.084098  0.162309  0.274986   \n",
       "3        0.006273  0.057778  0.037376  ...  0.044604  0.061175  0.113719   \n",
       "4        0.125925  0.115134  0.038943  ...  0.062547  0.045149  0.124937   \n",
       "5        0.163389  0.066394  0.172922  ...  0.296144  0.097635  0.094838   \n",
       "6        0.119575  0.158508  0.456196  ...  0.254693  0.092580  0.128484   \n",
       "7        0.250819  0.123244  0.390354  ...  0.370937  0.089552  0.118486   \n",
       "8        1.000000  0.033990  0.195535  ...  0.206664  0.028226  0.059777   \n",
       "9        0.033990  1.000000  0.191314  ...  0.058054  0.000000  0.105988   \n",
       "10       0.195535  0.191314  1.000000  ...  0.258328  0.047301  0.172325   \n",
       "\n",
       "user_id       937       938       939       940       941       942       943  \n",
       "user_id                                                                        \n",
       "1        0.155246  0.152691  0.080099  0.263132  0.089671  0.141146  0.331283  \n",
       "2        0.288405  0.161569  0.114472  0.208187  0.079739  0.149775  0.118609  \n",
       "3        0.054296  0.078177  0.021812  0.120308  0.091164  0.126480  0.037371  \n",
       "4        0.163932  0.127203  0.000000  0.194381  0.115340  0.145046  0.056738  \n",
       "5        0.095795  0.115138  0.040104  0.233320  0.083141  0.098550  0.284926  \n",
       "6        0.193585  0.086407  0.106194  0.224265  0.085547  0.186713  0.199063  \n",
       "7        0.092902  0.125924  0.074990  0.299872  0.044938  0.179860  0.293402  \n",
       "8        0.030746  0.078015  0.037741  0.203665  0.027041  0.109983  0.203222  \n",
       "9        0.096758  0.092140  0.052143  0.119705  0.177459  0.043415  0.025525  \n",
       "10       0.160747  0.077400  0.064288  0.265615  0.081744  0.139246  0.158320  \n",
       "\n",
       "[10 rows x 943 columns]"
      ]
     },
     "execution_count": 8,
     "metadata": {},
     "output_type": "execute_result"
    }
   ],
   "source": [
    "# 평점 매트릭스의 복사본을 생성하고, NaN 값을 0으로 채웁니다. (평점을 부여하지 않은 영화는 평점이 0인 것으로 처리)\n",
    "matrix_dummy = rating_matrix.copy().fillna(0)\n",
    "print(matrix_dummy.shape)\n",
    "\n",
    "# 사용자 간의 코사인 유사도를 계산합니다.\n",
    "# 여기서 matrix_dummy의 각 행은 사용자를 나타내며, 열은 영화에 대한 사용자의 평점을 나타냅니다.\n",
    "# cosine_similarity 함수는 이 행렬을 입력으로 받아, 모든 가능한 사용자 쌍 간의 코사인 유사도를 계산합니다.\n",
    "user_similarity = cosine_similarity(matrix_dummy, matrix_dummy)\n",
    "print(user_similarity.shape)\n",
    "\n",
    "# 코사인 유사도 매트릭스를 DataFrame으로 변환하고, 인덱스와 컬럼 이름을 rating_matrix의 인덱스(사용자 ID)로 설정합니다.\n",
    "# 따라서, 이 DataFrame의 각 셀은 특정 사용자 쌍 사이의 코사인 유사도를 나타냅니다.\n",
    "user_similarity = pd.DataFrame(user_similarity, index=rating_matrix.index, columns=rating_matrix.index)\n",
    "user_similarity.head(10)"
   ]
  },
  {
   "cell_type": "markdown",
   "id": "bc8168b3-b361-4ca3-b68d-b4edf1910131",
   "metadata": {},
   "source": [
    "### 추천 대상이 되는 사용자에게 보지 않은 영화를 추천할 때 사용자가 부여할 rating 예측\n",
    "\n",
    "1. 추천 대상 영화에 대해 이미 평가를 내린 모든 사용자의 rating값 가져오기 --> 영화 ID를 기준으로 모든 사용자의 평점 값을 필터링  \n",
    "3. 추천 대상 영화를 평가하지 않은 사용자의 index 가져오기\n",
    "4. 대상 영화를 평가하지 않은 사용자의 rating (null) 제거 --> 추천 대상 영화를 평가한 사용자만 남김"
   ]
  },
  {
   "cell_type": "markdown",
   "id": "446331a2",
   "metadata": {},
   "source": [
    "### step2) 현재 추천 대상이 되는 사용자와 다른 사용자들의 유사도를 추출"
   ]
  },
  {
   "cell_type": "code",
   "execution_count": 9,
   "id": "ce9e4da4-814d-41ab-9e24-1c102a65d118",
   "metadata": {},
   "outputs": [
    {
     "data": {
      "text/html": [
       "<div>\n",
       "<style scoped>\n",
       "    .dataframe tbody tr th:only-of-type {\n",
       "        vertical-align: middle;\n",
       "    }\n",
       "\n",
       "    .dataframe tbody tr th {\n",
       "        vertical-align: top;\n",
       "    }\n",
       "\n",
       "    .dataframe thead th {\n",
       "        text-align: right;\n",
       "    }\n",
       "</style>\n",
       "<table border=\"1\" class=\"dataframe\">\n",
       "  <thead>\n",
       "    <tr style=\"text-align: right;\">\n",
       "      <th>movie_id</th>\n",
       "      <th>1</th>\n",
       "      <th>2</th>\n",
       "      <th>3</th>\n",
       "      <th>4</th>\n",
       "      <th>5</th>\n",
       "      <th>6</th>\n",
       "      <th>7</th>\n",
       "      <th>8</th>\n",
       "      <th>9</th>\n",
       "      <th>10</th>\n",
       "      <th>...</th>\n",
       "      <th>1668</th>\n",
       "      <th>1669</th>\n",
       "      <th>1672</th>\n",
       "      <th>1673</th>\n",
       "      <th>1674</th>\n",
       "      <th>1676</th>\n",
       "      <th>1677</th>\n",
       "      <th>1678</th>\n",
       "      <th>1681</th>\n",
       "      <th>1682</th>\n",
       "    </tr>\n",
       "    <tr>\n",
       "      <th>user_id</th>\n",
       "      <th></th>\n",
       "      <th></th>\n",
       "      <th></th>\n",
       "      <th></th>\n",
       "      <th></th>\n",
       "      <th></th>\n",
       "      <th></th>\n",
       "      <th></th>\n",
       "      <th></th>\n",
       "      <th></th>\n",
       "      <th></th>\n",
       "      <th></th>\n",
       "      <th></th>\n",
       "      <th></th>\n",
       "      <th></th>\n",
       "      <th></th>\n",
       "      <th></th>\n",
       "      <th></th>\n",
       "      <th></th>\n",
       "      <th></th>\n",
       "      <th></th>\n",
       "    </tr>\n",
       "  </thead>\n",
       "  <tbody>\n",
       "    <tr>\n",
       "      <th>1</th>\n",
       "      <td>5.0</td>\n",
       "      <td>3.0</td>\n",
       "      <td>4.0</td>\n",
       "      <td>3.0</td>\n",
       "      <td>NaN</td>\n",
       "      <td>5.0</td>\n",
       "      <td>NaN</td>\n",
       "      <td>1.0</td>\n",
       "      <td>NaN</td>\n",
       "      <td>3.0</td>\n",
       "      <td>...</td>\n",
       "      <td>NaN</td>\n",
       "      <td>NaN</td>\n",
       "      <td>NaN</td>\n",
       "      <td>NaN</td>\n",
       "      <td>NaN</td>\n",
       "      <td>NaN</td>\n",
       "      <td>NaN</td>\n",
       "      <td>NaN</td>\n",
       "      <td>NaN</td>\n",
       "      <td>NaN</td>\n",
       "    </tr>\n",
       "    <tr>\n",
       "      <th>2</th>\n",
       "      <td>NaN</td>\n",
       "      <td>NaN</td>\n",
       "      <td>NaN</td>\n",
       "      <td>NaN</td>\n",
       "      <td>NaN</td>\n",
       "      <td>NaN</td>\n",
       "      <td>NaN</td>\n",
       "      <td>NaN</td>\n",
       "      <td>NaN</td>\n",
       "      <td>2.0</td>\n",
       "      <td>...</td>\n",
       "      <td>NaN</td>\n",
       "      <td>NaN</td>\n",
       "      <td>NaN</td>\n",
       "      <td>NaN</td>\n",
       "      <td>NaN</td>\n",
       "      <td>NaN</td>\n",
       "      <td>NaN</td>\n",
       "      <td>NaN</td>\n",
       "      <td>NaN</td>\n",
       "      <td>NaN</td>\n",
       "    </tr>\n",
       "    <tr>\n",
       "      <th>3</th>\n",
       "      <td>NaN</td>\n",
       "      <td>NaN</td>\n",
       "      <td>NaN</td>\n",
       "      <td>NaN</td>\n",
       "      <td>NaN</td>\n",
       "      <td>NaN</td>\n",
       "      <td>NaN</td>\n",
       "      <td>NaN</td>\n",
       "      <td>NaN</td>\n",
       "      <td>NaN</td>\n",
       "      <td>...</td>\n",
       "      <td>NaN</td>\n",
       "      <td>NaN</td>\n",
       "      <td>NaN</td>\n",
       "      <td>NaN</td>\n",
       "      <td>NaN</td>\n",
       "      <td>NaN</td>\n",
       "      <td>NaN</td>\n",
       "      <td>NaN</td>\n",
       "      <td>NaN</td>\n",
       "      <td>NaN</td>\n",
       "    </tr>\n",
       "  </tbody>\n",
       "</table>\n",
       "<p>3 rows × 1628 columns</p>\n",
       "</div>"
      ],
      "text/plain": [
       "movie_id  1     2     3     4     5     6     7     8     9     10    ...  \\\n",
       "user_id                                                               ...   \n",
       "1          5.0   3.0   4.0   3.0   NaN   5.0   NaN   1.0   NaN   3.0  ...   \n",
       "2          NaN   NaN   NaN   NaN   NaN   NaN   NaN   NaN   NaN   2.0  ...   \n",
       "3          NaN   NaN   NaN   NaN   NaN   NaN   NaN   NaN   NaN   NaN  ...   \n",
       "\n",
       "movie_id  1668  1669  1672  1673  1674  1676  1677  1678  1681  1682  \n",
       "user_id                                                               \n",
       "1          NaN   NaN   NaN   NaN   NaN   NaN   NaN   NaN   NaN   NaN  \n",
       "2          NaN   NaN   NaN   NaN   NaN   NaN   NaN   NaN   NaN   NaN  \n",
       "3          NaN   NaN   NaN   NaN   NaN   NaN   NaN   NaN   NaN   NaN  \n",
       "\n",
       "[3 rows x 1628 columns]"
      ]
     },
     "execution_count": 9,
     "metadata": {},
     "output_type": "execute_result"
    }
   ],
   "source": [
    "# 사용자별 영화 평점 테이블\n",
    "rating_matrix[:3]"
   ]
  },
  {
   "cell_type": "markdown",
   "id": "fcb524d9-d37d-4008-9660-642e2213e939",
   "metadata": {},
   "source": [
    "- `ratings_matrix(사용자별로 각 영화에 대한 평점을 나타내는 테이블)`에서 user_id 1 이 movie_id 5를 평가하지 않았으므로 user_id 1 에게 movie_id 5을 추천할 때의 예상 rating을 예측해 봅니다."
   ]
  },
  {
   "cell_type": "code",
   "execution_count": 10,
   "id": "0af4acf0",
   "metadata": {},
   "outputs": [
    {
     "name": "stdout",
     "output_type": "stream",
     "text": [
      "(943,)\n"
     ]
    },
    {
     "data": {
      "text/plain": [
       "user_id\n",
       "1    1.000000\n",
       "2    0.140887\n",
       "3    0.036981\n",
       "4    0.069143\n",
       "5    0.306388\n",
       "Name: 1, dtype: float64"
      ]
     },
     "execution_count": 10,
     "metadata": {},
     "output_type": "execute_result"
    }
   ],
   "source": [
    " # 현재 추천 대상이 되는 사용자\n",
    "user_id = 1    \n",
    "# 추천대상 영화\n",
    "movie_id = 5 \n",
    "\n",
    "#step2)현재 추천 대상이 되는 사용자와 다른 사용자들 간의 similarity 가져오기\n",
    "sim_scores = user_similarity[user_id]\n",
    "print(sim_scores.shape)\n",
    "sim_scores.head()"
   ]
  },
  {
   "cell_type": "code",
   "execution_count": 11,
   "id": "da5cf5bf",
   "metadata": {},
   "outputs": [
    {
     "data": {
      "text/plain": [
       "user_id\n",
       "1   NaN\n",
       "2   NaN\n",
       "3   NaN\n",
       "4   NaN\n",
       "5   NaN\n",
       "Name: 5, dtype: float64"
      ]
     },
     "execution_count": 11,
     "metadata": {},
     "output_type": "execute_result"
    }
   ],
   "source": [
    "# step 3) 현재 사용자가 평가하지 않은 모든 아이템에 대해서 현재 사용자의 예상 평가값 계산. \n",
    "# 1.추천대상 영화(movie_id)에 대한 모든 사용자의 평점을 구함\n",
    "# rating_matrix에서 영화 ID가 movie_id인 열을 선택\n",
    "movie_ratings = rating_matrix[movie_id]\n",
    "\n",
    "movie_ratings.head()"
   ]
  },
  {
   "cell_type": "code",
   "execution_count": 12,
   "id": "60d8971d",
   "metadata": {},
   "outputs": [
    {
     "name": "stdout",
     "output_type": "stream",
     "text": [
      "(883,)\n"
     ]
    },
    {
     "data": {
      "text/plain": [
       "Index([  1,   2,   3,   4,   5,   6,   7,   8,   9,  10,\n",
       "       ...\n",
       "       934, 935, 936, 937, 938, 939, 940, 941, 942, 943],\n",
       "      dtype='int64', name='user_id', length=883)"
      ]
     },
     "execution_count": 12,
     "metadata": {},
     "output_type": "execute_result"
    }
   ],
   "source": [
    "# 2.추천대상 영화를 평가하지 않은 사용자(movie_ratings에서 평점이 NaN)의 index 가져오기\n",
    "non_rating_idx = movie_ratings[movie_ratings.isnull()].index\n",
    "\n",
    "# 추천대상 영화에 대해 평점을 부여하지 않은 사용자의 수\n",
    "print(non_rating_idx.shape)\n",
    "\n",
    "# 평점을 부여하지 않은 사용자의 인덱스 목록 출력\n",
    "non_rating_idx"
   ]
  },
  {
   "cell_type": "code",
   "execution_count": 13,
   "id": "11609e8f",
   "metadata": {},
   "outputs": [
    {
     "name": "stdout",
     "output_type": "stream",
     "text": [
      "(60,)\n"
     ]
    },
    {
     "data": {
      "text/plain": [
       "user_id\n",
       "13    1.0\n",
       "21    2.0\n",
       "28    3.0\n",
       "43    4.0\n",
       "44    4.0\n",
       "Name: 5, dtype: float64"
      ]
     },
     "execution_count": 13,
     "metadata": {},
     "output_type": "execute_result"
    }
   ],
   "source": [
    "# 3. 추천대상 영화를 평가하지 않은 사용자의 rating (null) 제거 --> 추천 대상 영화를 평가한 사용자만 남김\n",
    "movie_ratings = movie_ratings.drop(non_rating_idx)\n",
    "\n",
    "# 추천대상 영화에 평점을 부여한 사용자의 수\n",
    "print(movie_ratings.shape)\n",
    "\n",
    "movie_ratings.head()"
   ]
  },
  {
   "cell_type": "code",
   "execution_count": 14,
   "id": "d759b157",
   "metadata": {},
   "outputs": [
    {
     "name": "stdout",
     "output_type": "stream",
     "text": [
      "(60,)\n"
     ]
    },
    {
     "data": {
      "text/plain": [
       "user_id\n",
       "13    0.345234\n",
       "21    0.135169\n",
       "28    0.233203\n",
       "43    0.284757\n",
       "44    0.335388\n",
       "Name: 1, dtype: float64"
      ]
     },
     "execution_count": 14,
     "metadata": {},
     "output_type": "execute_result"
    }
   ],
   "source": [
    "# 4. 현재 영화를 평가하지 않은 사용자의 similarity값 제거\n",
    "sim_scores = sim_scores.drop(non_rating_idx)\n",
    "\n",
    "#추천대상 영화에 실제로 평점을 부여한 사용자들 간의 유사도 값의 수\n",
    "print(sim_scores.shape)\n",
    "\n",
    "sim_scores.head()"
   ]
  },
  {
   "cell_type": "code",
   "execution_count": 15,
   "id": "9735446c-c3d7-45b4-abf1-744080c21d66",
   "metadata": {},
   "outputs": [],
   "source": [
    "# 정규화: 유사도 점수의 합이 1이 되도록 조정\n",
    "sim_scores /= sim_scores.sum()  "
   ]
  },
  {
   "cell_type": "markdown",
   "id": "c6d654b4-babe-45d8-b087-ec0249a272dd",
   "metadata": {},
   "source": [
    "### 가장 유사도가 높은 상위 K명의 사용자 찾기"
   ]
  },
  {
   "cell_type": "code",
   "execution_count": 17,
   "id": "8de8e858",
   "metadata": {},
   "outputs": [
    {
     "data": {
      "text/plain": [
       "user_id\n",
       "864    0.025806\n",
       "916    0.025691\n",
       "417    0.024804\n",
       "308    0.024639\n",
       "886    0.023720\n",
       "682    0.022850\n",
       "303    0.022844\n",
       "378    0.022776\n",
       "293    0.022590\n",
       "109    0.022506\n",
       "Name: 1, dtype: float64"
      ]
     },
     "execution_count": 17,
     "metadata": {},
     "output_type": "execute_result"
    }
   ],
   "source": [
    "# step 4) 아이템 중에서 예상 평가값이 가장 높은 N 개의 아이템을 추천\n",
    "n_neighbors = 10\n",
    "\n",
    "# 5.유사도가 높은 사용자 순으로 정렬\n",
    "top_users = sim_scores.sort_values(ascending=False).head(n_neighbors)\n",
    "top_users"
   ]
  },
  {
   "cell_type": "code",
   "execution_count": 18,
   "id": "6103e924-7ec6-4669-b421-a1147a8bb4c5",
   "metadata": {},
   "outputs": [
    {
     "data": {
      "text/plain": [
       "user_id\n",
       "864    4.0\n",
       "916    3.0\n",
       "417    4.0\n",
       "308    4.0\n",
       "886    3.0\n",
       "682    3.0\n",
       "303    2.0\n",
       "378    3.0\n",
       "293    3.0\n",
       "109    3.0\n",
       "Name: 5, dtype: float64"
      ]
     },
     "execution_count": 18,
     "metadata": {},
     "output_type": "execute_result"
    }
   ],
   "source": [
    "# 6.상위 n_neighbors에 해당하는 평점만 추출\n",
    "top_ratings = movie_ratings.loc[top_users.index]\n",
    "top_ratings"
   ]
  },
  {
   "cell_type": "markdown",
   "id": "7d8dfa05-9160-43ac-9b1f-12242759ad23",
   "metadata": {},
   "source": [
    "### Implicit Rating을 이용한 추천 공식\n",
    "\n",
    "$$\\tilde{r}_{ui} = \\frac{\\sum_{v \\in KNN(u)}r_{vi} \\cdot S_{vu}}{\\sum_{v \\in KNN(u)}S_{vu}}$$"
   ]
  },
  {
   "cell_type": "code",
   "execution_count": 19,
   "id": "efccbb33",
   "metadata": {},
   "outputs": [
    {
     "data": {
      "text/plain": [
       "3.219983653460719"
      ]
     },
     "execution_count": 19,
     "metadata": {},
     "output_type": "execute_result"
    }
   ],
   "source": [
    "# 7. 가중평균 계산\n",
    "# top_users: 상위 유사도를 가진 사용자들의 유사도 점수 배열\n",
    "# top_ratings: 상위 유사도를 가진 사용자들이 해당 영화에 매긴 평점 배열\n",
    "# np.dot(top_users, top_ratings): 유사도 점수와 평점의 가중합을 계산\n",
    "# top_users.sum(): 유사도 점수의 합으로 가중합을 나누어 가중평균을 계산\n",
    "predicted_rating = np.dot(top_users, top_ratings) / top_users.sum()\n",
    "\n",
    "# 계산된 가중평균 평점 출력\n",
    "predicted_rating"
   ]
  },
  {
   "cell_type": "markdown",
   "id": "44e0845b",
   "metadata": {},
   "source": [
    "###  특정 사용자에게 추천하는 영화(movie_id)의  가중평균 rating을 계산하는 함수\n",
    "- 위의 과정을 model 함수로 작성\n",
    "- 위에서 개별 사용자와 아이템에 대해 구하던 predicted_rating을 함수로 작성\n",
    "- 가중치는 주어진 사용자와 다른 사용자 간의 유사도(user_similarity)"
   ]
  },
  {
   "cell_type": "code",
   "execution_count": 20,
   "id": "fab9c694-faf2-4612-ac37-4bd16f0a0861",
   "metadata": {},
   "outputs": [],
   "source": [
    "def UBCF_knn_model(user_id, movie_id, rating_matrix, user_similarity, n_neighbors=0):\n",
    "    \"\"\"\n",
    "    사용자 기반 협업 필터링 모델 (k-최근접 이웃 알고리즘 사용)\n",
    "    \n",
    "    Parameters:\n",
    "    user_id (int): 평점을 예측할 대상 사용자의 ID.\n",
    "    movie_id (int): 평점을 예측할 대상 영화의 ID.\n",
    "    rating_matrix (pd.DataFrame): 사용자-영화 평점 행렬. 행은 사용자, 열은 영화를 나타냄.\n",
    "    user_similarity (pd.DataFrame): 사용자 간의 유사도 행렬. 행과 열은 각각 사용자 ID를 나타냄.\n",
    "    n_neighbors (int, optional): 고려할 이웃의 수. 기본값은 0이며, 이 경우 모든 사용자를 고려함.\n",
    "    \n",
    "    Returns:\n",
    "    float: 예측된 평점.\n",
    "    \"\"\"\n",
    "    # 현재 영화가 rating_matrix의 컬럼에 있는지 확인\n",
    "    if movie_id in rating_matrix.columns:  \n",
    "        # 추천 대상 사용자와 다른 사용자 간의 유사도 가져오기\n",
    "        sim_scores = user_similarity[user_id]\n",
    "        # 1. 추천 대상이 되는 영화에 대한 모든 사용자 평가\n",
    "        movie_ratings = rating_matrix[movie_id]\n",
    "        # 2. 추천 대상 영화를 평가하지 않은 사용자의 index 가져오기\n",
    "        non_rating_idx = movie_ratings[movie_ratings.isnull()].index\n",
    "        # 3. 추천 대상 영화를 평가하지 않은 사용자의 rating (null) 제거\n",
    "        movie_ratings = movie_ratings.drop(non_rating_idx)\n",
    "        # 4. 추천 대상 영화를 평가하지 않은 사용자의 similarity값 제거\n",
    "        sim_scores = sim_scores.drop(non_rating_idx)\n",
    "        \n",
    "        # 유사도의 합으로 나누기 전에 유사도가 0인지 확인\n",
    "        if sim_scores.sum() > 0:\n",
    "            sim_scores /= sim_scores.sum()\n",
    "        else:\n",
    "            return 3.0  # 유사도의 합이 0이라면 평균 평점을 반환\n",
    "            \n",
    "        # k가 지정되지 않은 경우 모든 유사도를 사용\n",
    "        if n_neighbors == 0:  \n",
    "            n_neighbors = len(sim_scores)\n",
    "        \n",
    "        # n_neighbors가 1 이상이면, 유사도가 높은 순으로 정렬하고 상위 n_neighbors만 사용\n",
    "        if n_neighbors > 1:\n",
    "            # 5.유사도가 높은 사용자 순으로 정렬\n",
    "            top_users = sim_scores.sort_values(ascending=False).head(n_neighbors)\n",
    "            # 6.상위 n_neighbors에 해당하는 평점만 추출\n",
    "            top_ratings = movie_ratings.loc[top_users.index]\n",
    "            # 7.가중평균 계산\n",
    "            predicted_rating = np.dot(top_users, top_ratings) / top_users.sum()\n",
    "        else:\n",
    "            # 유사한 사용자가 없거나 한 명뿐인 경우 기본 평점을 할당\n",
    "            predicted_rating = 3.0\n",
    "    else:\n",
    "        predicted_rating = 3.0  # 영화 ID가 rating_matrix에 없으면 기본 평점을 반환\n",
    "    return predicted_rating"
   ]
  },
  {
   "cell_type": "code",
   "execution_count": 21,
   "id": "69fd5065-689f-4c16-9ac8-1db86bdd042b",
   "metadata": {},
   "outputs": [
    {
     "data": {
      "text/plain": [
       "3.7939035147860083"
      ]
     },
     "execution_count": 21,
     "metadata": {},
     "output_type": "execute_result"
    }
   ],
   "source": [
    "UBCF_knn_model(12, 203, rating_matrix, user_similarity, n_neighbors=30)"
   ]
  },
  {
   "cell_type": "code",
   "execution_count": 22,
   "id": "8ff86ce4-e0ed-4a8e-ac9c-dfeda2f8c92a",
   "metadata": {},
   "outputs": [
    {
     "data": {
      "text/plain": [
       "2.950531782191326"
      ]
     },
     "execution_count": 22,
     "metadata": {},
     "output_type": "execute_result"
    }
   ],
   "source": [
    "UBCF_knn_model(166, 346, rating_matrix, user_similarity, n_neighbors=30)"
   ]
  },
  {
   "cell_type": "code",
   "execution_count": 23,
   "id": "68a13284-3a16-4c82-bdcc-48a8f0536763",
   "metadata": {},
   "outputs": [
    {
     "data": {
      "text/plain": [
       "3.5419635457654626"
      ]
     },
     "execution_count": 23,
     "metadata": {},
     "output_type": "execute_result"
    }
   ],
   "source": [
    "UBCF_knn_model(244, 51, rating_matrix, user_similarity, n_neighbors=30)"
   ]
  },
  {
   "cell_type": "markdown",
   "id": "722fff38-fdf5-4ac3-bffd-da4630a7d560",
   "metadata": {},
   "source": [
    "### 모델 성능 평가 - 모델별 RMSE를 계산하는 함수 \n",
    "- Test set을 이용하여 모델 성능 측정  "
   ]
  },
  {
   "cell_type": "code",
   "execution_count": 24,
   "id": "c2a6832b-b91c-41f1-91be-4daeb84c1a1e",
   "metadata": {},
   "outputs": [],
   "source": [
    "def score(model, n_neighbors=0):\n",
    "    # X_test 데이터셋에서 사용자 ID와 영화 ID의 쌍을 생성합니다.\n",
    "    id_pairs = zip(X_test['user_id'], X_test['movie_id'])\n",
    "\n",
    "    # 생성된 각 ID 쌍에 대해 모델을 사용하여 예상 평점을 계산합니다.\n",
    "    y_pred = np.array([model(user, movie, rating_matrix, user_similarity, n_neighbors) \n",
    "                       for (user, movie) in id_pairs])\n",
    "    \n",
    "    # X_test 데이터셋에서 실제 평점을 가져옵니다.\n",
    "    y_true = np.array(X_test['rating'])\n",
    "    \n",
    "    # 실제 평점과 예측 평점 사이의 RMSE를 계산하여 반환합니다.\n",
    "    #return root_mean_squared_error(y_true, y_pred)  # sklearn latest version\n",
    "    return mean_squared_error(y_true, y_pred, squared=False)  # sklearn old version"
   ]
  },
  {
   "cell_type": "code",
   "execution_count": 25,
   "id": "c5314c4f",
   "metadata": {},
   "outputs": [
    {
     "name": "stdout",
     "output_type": "stream",
     "text": [
      "knn 감안하지 않은 simple CF - 모든 다른 사용자를 포함\n",
      "1.023699962224089\n",
      "knn 감안한 CF - 30 개의 가장 유사한 사용자만 포함\n",
      "1.0200919120771834\n"
     ]
    }
   ],
   "source": [
    "# 정확도 계산\n",
    "print(\"knn 감안하지 않은 simple CF - 모든 다른 사용자를 포함\")\n",
    "print(score(UBCF_knn_model, n_neighbors=0))\n",
    "\n",
    "K = 30\n",
    "print(f\"knn 감안한 CF - {K} 개의 가장 유사한 사용자만 포함\")\n",
    "print(score(UBCF_knn_model, n_neighbors=K))"
   ]
  },
  {
   "cell_type": "markdown",
   "id": "e871b5b1-c76c-42fc-8353-fc5568f1cb6e",
   "metadata": {},
   "source": [
    "### 특정 사용자에 대하여 영화 추천\n",
    "- 이미 본 영화는 제외하고 보지 않은 영화 중에서 예상 평점이 높은 영화 추천"
   ]
  },
  {
   "cell_type": "code",
   "execution_count": 26,
   "id": "69a03c6b",
   "metadata": {},
   "outputs": [
    {
     "data": {
      "text/plain": [
       "movie_id\n",
       "1       5.0\n",
       "2       3.0\n",
       "3       4.0\n",
       "4       3.0\n",
       "5       NaN\n",
       "       ... \n",
       "1676    NaN\n",
       "1677    NaN\n",
       "1678    NaN\n",
       "1681    NaN\n",
       "1682    NaN\n",
       "Name: 1, Length: 1628, dtype: float64"
      ]
     },
     "execution_count": 26,
     "metadata": {},
     "output_type": "execute_result"
    }
   ],
   "source": [
    "# rating matrix에서 추천 대상 사용자의 해당 row 가져오기\n",
    "user_movie_ratings = rating_matrix.loc[user_id].copy()\n",
    "user_movie_ratings"
   ]
  },
  {
   "cell_type": "code",
   "execution_count": 27,
   "id": "5a16b161-d56b-4829-8668-f4938732590d",
   "metadata": {},
   "outputs": [],
   "source": [
    "# 가져온 row에서 추천 대상 사용자의 평점이 없는(보지 않은) 영화를 식별합니다.\n",
    "unrated_movies = user_movie_ratings[user_movie_ratings.isnull()]"
   ]
  },
  {
   "cell_type": "code",
   "execution_count": 28,
   "id": "8f7242b0",
   "metadata": {},
   "outputs": [
    {
     "name": "stdout",
     "output_type": "stream",
     "text": [
      "(5,)\n"
     ]
    },
    {
     "data": {
      "text/plain": [
       "1306    5.0\n",
       "1450    5.0\n",
       "1629    5.0\n",
       "1617    5.0\n",
       "814     5.0\n",
       "dtype: float64"
      ]
     },
     "execution_count": 28,
     "metadata": {},
     "output_type": "execute_result"
    }
   ],
   "source": [
    "# 평가되지 않은 각 영화에 대해 예상 평점을 계산합니다.\n",
    "predicted_ratings = {movie: UBCF_knn_model(user_id, movie, rating_matrix, user_similarity, n_neighbors=30)\n",
    "                         for movie in unrated_movies.index}\n",
    "\n",
    "# 예상 평점순으로 정렬된 Series를 생성합니다.\n",
    "predicted_ratings_df = pd.Series(predicted_ratings).sort_values(ascending=False)[:5]\n",
    "print(predicted_ratings_df.shape)\n",
    "\n",
    "predicted_ratings_df"
   ]
  },
  {
   "cell_type": "markdown",
   "id": "929cd054",
   "metadata": {},
   "source": [
    "영화를 높은 예상 평점에 따라 제목을 뽑아 줌"
   ]
  },
  {
   "cell_type": "code",
   "execution_count": 29,
   "id": "03f96d7e",
   "metadata": {},
   "outputs": [
    {
     "data": {
      "text/plain": [
       "1306        Carmen Miranda: Bananas Is My Business (1994)\n",
       "1450                         Foreign Correspondent (1940)\n",
       "1629    Silence of the Palace, The (Saimt el Qusur) (1...\n",
       "1617                              King of New York (1990)\n",
       "814                                   One Fine Day (1996)\n",
       "Name: title, dtype: object"
      ]
     },
     "execution_count": 29,
     "metadata": {},
     "output_type": "execute_result"
    }
   ],
   "source": [
    "recom_movies = movies.loc[predicted_ratings_df.index]\n",
    "recommendations = recom_movies['title']\n",
    "recommendations"
   ]
  },
  {
   "cell_type": "markdown",
   "id": "2ec108b7",
   "metadata": {},
   "source": [
    "### 주어진 사용자에 대하여 추천 받는 함수\n",
    "위 코드들을 하나의 함수로 작성 "
   ]
  },
  {
   "cell_type": "code",
   "execution_count": 30,
   "id": "938a13a4-6200-43eb-bae7-9b8574ca8208",
   "metadata": {},
   "outputs": [],
   "source": [
    "def recom_movie(user_id, n_items, n_neighbors=30):\n",
    "    \"\"\"\n",
    "    user_id: 추천을 받을 사용자의 ID. 이 ID는 rating_matrix에서 해당 사용자의 데이터에 접근하는 데 사용.\n",
    "    n_items: 추천할 영화의 개수.\n",
    "    n_neighbors: 이웃의 수\n",
    "    \"\"\"\n",
    "    # rating matrix에서 추천 대상 사용자의 해당 row 가져오기\n",
    "    user_movie_ratings = rating_matrix.loc[user_id].copy()\n",
    "\n",
    "    # 가져온 row에서 추천 대상 사용자의 평점이 없는(보지 않은) 영화를 식별합니다.\n",
    "    unrated_movies = user_movie_ratings[user_movie_ratings.isnull()]\n",
    "\n",
    "    # 평가되지 않은 각 영화에 대해 예상 평점을 계산합니다.\n",
    "    predicted_ratings = {movie: UBCF_knn_model(user_id, movie, rating_matrix, user_similarity, n_neighbors)\n",
    "                         for movie in unrated_movies.index}\n",
    "\n",
    "    # 예상 평점순으로 정렬된 Series를 생성합니다.\n",
    "    predicted_ratings_df = pd.Series(predicted_ratings).sort_values(ascending=False)[:n_items]\n",
    "\n",
    "    # 추천 영화의 제목을 가져옵니다.\n",
    "    recom_movies = movies.loc[predicted_ratings_df.index]['title']\n",
    "\n",
    "    return recom_movies"
   ]
  },
  {
   "cell_type": "code",
   "execution_count": 31,
   "id": "4dac5de4-2ab0-4c80-8ef3-b063cf3d3df1",
   "metadata": {},
   "outputs": [
    {
     "data": {
      "text/plain": [
       "1656                                        Target (1995)\n",
       "1629    Silence of the Palace, The (Saimt el Qusur) (1...\n",
       "1306        Carmen Miranda: Bananas Is My Business (1994)\n",
       "1617                              King of New York (1990)\n",
       "1536                                          Cosi (1996)\n",
       "Name: title, dtype: object"
      ]
     },
     "execution_count": 31,
     "metadata": {},
     "output_type": "execute_result"
    }
   ],
   "source": [
    "# 특정 사용자에 대해 n_items 개의 영화 추천\n",
    "user_id = 2\n",
    "n_items = 5\n",
    "recom_movie(user_id, n_items, n_neighbors=30)"
   ]
  },
  {
   "cell_type": "markdown",
   "id": "5ab1e277",
   "metadata": {},
   "source": [
    "### 최적의 neighbor size 구하기"
   ]
  },
  {
   "cell_type": "code",
   "execution_count": 32,
   "id": "04163345",
   "metadata": {},
   "outputs": [
    {
     "name": "stdout",
     "output_type": "stream",
     "text": [
      "Neighbor size = 10 : RMSE = 1.0367\n",
      "Neighbor size = 20 : RMSE = 1.0233\n",
      "Neighbor size = 30 : RMSE = 1.0201\n",
      "Neighbor size = 40 : RMSE = 1.0197\n",
      "Neighbor size = 50 : RMSE = 1.0203\n",
      "Neighbor size = 60 : RMSE = 1.0210\n"
     ]
    }
   ],
   "source": [
    "# 다양한 이웃 크기(neighbor size)에 대해 RMSE 계산 및 출력\n",
    "for neighbor_size in [10, 20, 30, 40, 50, 60]:  \n",
    "    print(f\"Neighbor size = {neighbor_size} : RMSE = {score(UBCF_knn_model, neighbor_size):.4f}\")"
   ]
  },
  {
   "cell_type": "code",
   "execution_count": null,
   "id": "db3dc4b9",
   "metadata": {},
   "outputs": [],
   "source": []
  }
 ],
 "metadata": {
  "kernelspec": {
   "display_name": "Python 3 (ipykernel)",
   "language": "python",
   "name": "python3"
  },
  "language_info": {
   "codemirror_mode": {
    "name": "ipython",
    "version": 3
   },
   "file_extension": ".py",
   "mimetype": "text/x-python",
   "name": "python",
   "nbconvert_exporter": "python",
   "pygments_lexer": "ipython3",
   "version": "3.9.16"
  }
 },
 "nbformat": 4,
 "nbformat_minor": 5
}
