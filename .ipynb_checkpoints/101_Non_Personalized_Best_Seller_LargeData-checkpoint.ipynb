{
 "cells": [
  {
   "cell_type": "markdown",
   "id": "83eb5da5-7be4-4710-b9ec-289223d588b8",
   "metadata": {},
   "source": [
    "# 실습 - Non-Personalized Recommendation - Best Seller 추천"
   ]
  },
  {
   "cell_type": "code",
   "execution_count": 1,
   "id": "3e41a571-384c-4187-b7e8-656c1499f85e",
   "metadata": {},
   "outputs": [
    {
     "data": {
      "text/plain": [
       "'1.2.2'"
      ]
     },
     "execution_count": 1,
     "metadata": {},
     "output_type": "execute_result"
    }
   ],
   "source": [
    "import pandas as pd\n",
    "import numpy as np\n",
    "\n",
    "#from sklearn.metrics import root_mean_squared_error   # sklearn latest version\n",
    "from sklearn.metrics import mean_squared_error  # sklearn old version\n",
    "\n",
    "import warnings\n",
    "warnings.filterwarnings('ignore')\n",
    "import sklearn\n",
    "sklearn.__version__"
   ]
  },
  {
   "cell_type": "markdown",
   "id": "b18c6241-ae67-4bea-8988-503cb1c50b68",
   "metadata": {},
   "source": [
    "## 영화 데이터(movies.csv) 파일을 DataFrame으로 읽기"
   ]
  },
  {
   "cell_type": "code",
   "execution_count": 3,
   "id": "4c55c199-dc55-4e9c-ab95-7ce1f667f8a4",
   "metadata": {},
   "outputs": [
    {
     "name": "stdout",
     "output_type": "stream",
     "text": [
      "(9742, 2)\n"
     ]
    },
    {
     "data": {
      "text/html": [
       "<div>\n",
       "<style scoped>\n",
       "    .dataframe tbody tr th:only-of-type {\n",
       "        vertical-align: middle;\n",
       "    }\n",
       "\n",
       "    .dataframe tbody tr th {\n",
       "        vertical-align: top;\n",
       "    }\n",
       "\n",
       "    .dataframe thead th {\n",
       "        text-align: right;\n",
       "    }\n",
       "</style>\n",
       "<table border=\"1\" class=\"dataframe\">\n",
       "  <thead>\n",
       "    <tr style=\"text-align: right;\">\n",
       "      <th></th>\n",
       "      <th>title</th>\n",
       "      <th>genres</th>\n",
       "    </tr>\n",
       "    <tr>\n",
       "      <th>movieId</th>\n",
       "      <th></th>\n",
       "      <th></th>\n",
       "    </tr>\n",
       "  </thead>\n",
       "  <tbody>\n",
       "    <tr>\n",
       "      <th>1</th>\n",
       "      <td>Toy Story (1995)</td>\n",
       "      <td>Adventure|Animation|Children|Comedy|Fantasy</td>\n",
       "    </tr>\n",
       "    <tr>\n",
       "      <th>2</th>\n",
       "      <td>Jumanji (1995)</td>\n",
       "      <td>Adventure|Children|Fantasy</td>\n",
       "    </tr>\n",
       "    <tr>\n",
       "      <th>3</th>\n",
       "      <td>Grumpier Old Men (1995)</td>\n",
       "      <td>Comedy|Romance</td>\n",
       "    </tr>\n",
       "    <tr>\n",
       "      <th>4</th>\n",
       "      <td>Waiting to Exhale (1995)</td>\n",
       "      <td>Comedy|Drama|Romance</td>\n",
       "    </tr>\n",
       "    <tr>\n",
       "      <th>5</th>\n",
       "      <td>Father of the Bride Part II (1995)</td>\n",
       "      <td>Comedy</td>\n",
       "    </tr>\n",
       "  </tbody>\n",
       "</table>\n",
       "</div>"
      ],
      "text/plain": [
       "                                      title  \\\n",
       "movieId                                       \n",
       "1                          Toy Story (1995)   \n",
       "2                            Jumanji (1995)   \n",
       "3                   Grumpier Old Men (1995)   \n",
       "4                  Waiting to Exhale (1995)   \n",
       "5        Father of the Bride Part II (1995)   \n",
       "\n",
       "                                              genres  \n",
       "movieId                                               \n",
       "1        Adventure|Animation|Children|Comedy|Fantasy  \n",
       "2                         Adventure|Children|Fantasy  \n",
       "3                                     Comedy|Romance  \n",
       "4                               Comedy|Drama|Romance  \n",
       "5                                             Comedy  "
      ]
     },
     "execution_count": 3,
     "metadata": {},
     "output_type": "execute_result"
    }
   ],
   "source": [
    "# movies.csv 파일 읽기\n",
    "movies = pd.read_csv('data/ml-latest-small/movies.csv', index_col=0)\n",
    "print(movies.shape)\n",
    "movies.head()"
   ]
  },
  {
   "cell_type": "markdown",
   "id": "d3a54251-5f62-4041-ae04-e4f4dea7ec17",
   "metadata": {},
   "source": [
    "## 사용자 평점 (ratings.csv) 파일을 DataFrame으로 읽기 "
   ]
  },
  {
   "cell_type": "code",
   "execution_count": 4,
   "id": "7597d2a8-1938-472a-96f9-be1677375a77",
   "metadata": {},
   "outputs": [
    {
     "data": {
      "text/html": [
       "<div>\n",
       "<style scoped>\n",
       "    .dataframe tbody tr th:only-of-type {\n",
       "        vertical-align: middle;\n",
       "    }\n",
       "\n",
       "    .dataframe tbody tr th {\n",
       "        vertical-align: top;\n",
       "    }\n",
       "\n",
       "    .dataframe thead th {\n",
       "        text-align: right;\n",
       "    }\n",
       "</style>\n",
       "<table border=\"1\" class=\"dataframe\">\n",
       "  <thead>\n",
       "    <tr style=\"text-align: right;\">\n",
       "      <th></th>\n",
       "      <th>movieId</th>\n",
       "      <th>rating</th>\n",
       "      <th>timestamp</th>\n",
       "    </tr>\n",
       "    <tr>\n",
       "      <th>userId</th>\n",
       "      <th></th>\n",
       "      <th></th>\n",
       "      <th></th>\n",
       "    </tr>\n",
       "  </thead>\n",
       "  <tbody>\n",
       "    <tr>\n",
       "      <th>1</th>\n",
       "      <td>1</td>\n",
       "      <td>4.0</td>\n",
       "      <td>964982703</td>\n",
       "    </tr>\n",
       "    <tr>\n",
       "      <th>1</th>\n",
       "      <td>3</td>\n",
       "      <td>4.0</td>\n",
       "      <td>964981247</td>\n",
       "    </tr>\n",
       "    <tr>\n",
       "      <th>1</th>\n",
       "      <td>6</td>\n",
       "      <td>4.0</td>\n",
       "      <td>964982224</td>\n",
       "    </tr>\n",
       "    <tr>\n",
       "      <th>1</th>\n",
       "      <td>47</td>\n",
       "      <td>5.0</td>\n",
       "      <td>964983815</td>\n",
       "    </tr>\n",
       "    <tr>\n",
       "      <th>1</th>\n",
       "      <td>50</td>\n",
       "      <td>5.0</td>\n",
       "      <td>964982931</td>\n",
       "    </tr>\n",
       "  </tbody>\n",
       "</table>\n",
       "</div>"
      ],
      "text/plain": [
       "        movieId  rating  timestamp\n",
       "userId                            \n",
       "1             1     4.0  964982703\n",
       "1             3     4.0  964981247\n",
       "1             6     4.0  964982224\n",
       "1            47     5.0  964983815\n",
       "1            50     5.0  964982931"
      ]
     },
     "execution_count": 4,
     "metadata": {},
     "output_type": "execute_result"
    }
   ],
   "source": [
    "# ratings.csv 파일 읽기\n",
    "ratings = pd.read_csv('data/ml-latest-small/ratings.csv', index_col=0)\n",
    "ratings.shape\n",
    "ratings.head()"
   ]
  },
  {
   "cell_type": "markdown",
   "id": "c2c4377f-f634-4944-9fec-9260bcba3457",
   "metadata": {},
   "source": [
    "# 베스트셀러 추천 방식\n",
    "\n",
    "- 이 방식은 모든 사용자에게 가장 인기 있는 동일한 영화를 추천합니다.\n",
    "- 상품에 대한 모든 평가의 평균을 계산하고, 이 평균 점수가 높은 순서대로 상품을 추천합니다."
   ]
  },
  {
   "cell_type": "code",
   "execution_count": 5,
   "id": "95715c91-efc2-474e-910d-170bb8981d1d",
   "metadata": {},
   "outputs": [
    {
     "data": {
      "text/plain": [
       "movieId\n",
       "1    3.920930\n",
       "2    3.431818\n",
       "3    3.259615\n",
       "4    2.357143\n",
       "5    3.071429\n",
       "Name: rating, dtype: float64"
      ]
     },
     "execution_count": 5,
     "metadata": {},
     "output_type": "execute_result"
    }
   ],
   "source": [
    "# 각 영화별 평균 평점 계산\n",
    "movie_mean_rating = ratings.groupby('movieId')['rating'].mean()\n",
    "movie_mean_rating.head()"
   ]
  },
  {
   "cell_type": "code",
   "execution_count": 7,
   "id": "bdde3556-9181-45ec-a16b-2561e919b560",
   "metadata": {},
   "outputs": [
    {
     "data": {
      "text/plain": [
       "movieId\n",
       "88448     Paper Birds (Pájaros de papel) (2010)\n",
       "100556               Act of Killing, The (2012)\n",
       "143031                          Jump In! (2007)\n",
       "143511                             Human (2015)\n",
       "143559                      L.A. Slasher (2015)\n",
       "Name: title, dtype: object"
      ]
     },
     "execution_count": 7,
     "metadata": {},
     "output_type": "execute_result"
    }
   ],
   "source": [
    "# 평균 평점이 가장 높은 상위 5개 영화 찾기\n",
    "top_movies = movie_mean_rating.sort_values(ascending=False)[:5]\n",
    "top_movies_titles = movies.loc[top_movies.index, 'title']\n",
    "top_movies_titles"
   ]
  },
  {
   "cell_type": "markdown",
   "id": "7467b03f-e365-4ce2-9d95-06da6292a751",
   "metadata": {},
   "source": [
    "## 추천 시스템의 정확도 측정"
   ]
  },
  {
   "cell_type": "code",
   "execution_count": 9,
   "id": "cd8c2c0a-bc78-474c-8035-1f48737335fd",
   "metadata": {},
   "outputs": [
    {
     "name": "stdout",
     "output_type": "stream",
     "text": [
      "Best Seller 추천 방식의 RMSE =  0.9008684066524535\n"
     ]
    }
   ],
   "source": [
    "# RMSE 계산을 위한 빈 리스트 초기화\n",
    "rmse = []\n",
    "\n",
    "# 평가 데이터프레임의 인덱스에서 고유한 사용자 ID를 추출하여 각 사용자별로 반복\n",
    "for user in set(ratings.index):\n",
    "    # 해당 사용자의 실제 평점 데이터\n",
    "    y_true = ratings.loc[user, 'rating']\n",
    "    # 예측 평점 데이터: 해당 사용자가 평가한 각 영화의 평균 평점\n",
    "    y_pred = movie_mean_rating.loc[ratings.loc[user, 'movieId']]\n",
    "    \n",
    "    # 실제값과 예측값의 길이가 동일한지 확인\n",
    "    assert len(y_true) == len(y_pred), \"length different\"\n",
    "    \n",
    "    # 실제 평점과 예측 평점 사이의 RMSE를 계산\n",
    "    #loss = root_mean_squared_error(y_true, y_pred)    # sklearn latest version\n",
    "    loss = mean_squared_error(y_true, y_pred, squared=True)\n",
    "    \n",
    "    # 계산된 오류를 리스트에 추가\n",
    "    rmse.append(loss)\n",
    "\n",
    "# 모든 사용자에 대한 RMSE의 평균을 계산하여 출력\n",
    "print(\"Best Seller 추천 방식의 RMSE = \", np.mean(rmse))"
   ]
  },
  {
   "cell_type": "code",
   "execution_count": null,
   "id": "3514bb09-42f4-4460-86a1-38bc8c71ef13",
   "metadata": {},
   "outputs": [],
   "source": []
  }
 ],
 "metadata": {
  "kernelspec": {
   "display_name": "Python 3 (ipykernel)",
   "language": "python",
   "name": "python3"
  },
  "language_info": {
   "codemirror_mode": {
    "name": "ipython",
    "version": 3
   },
   "file_extension": ".py",
   "mimetype": "text/x-python",
   "name": "python",
   "nbconvert_exporter": "python",
   "pygments_lexer": "ipython3",
   "version": "3.9.16"
  }
 },
 "nbformat": 4,
 "nbformat_minor": 5
}
