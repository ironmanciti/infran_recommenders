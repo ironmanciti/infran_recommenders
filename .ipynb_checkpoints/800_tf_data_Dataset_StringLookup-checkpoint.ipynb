{
 "cells": [
  {
   "cell_type": "markdown",
   "id": "annoying-withdrawal",
   "metadata": {},
   "source": [
    "# tf.Dataset, batch를 활용한 loader 만들기"
   ]
  },
  {
   "cell_type": "code",
   "execution_count": 1,
   "id": "earned-equipment",
   "metadata": {},
   "outputs": [
    {
     "data": {
      "text/plain": [
       "<_TensorSliceDataset element_spec=TensorSpec(shape=(), dtype=tf.int32, name=None)>"
      ]
     },
     "execution_count": 1,
     "metadata": {},
     "output_type": "execute_result"
    }
   ],
   "source": [
    "import tensorflow as tf\n",
    "\n",
    "# 일일 판매 데이터를 리스트로 정의합니다.\n",
    "daily_sales_numbers = [21, 22, -100, 31, -1, 32, 34, 31]\n",
    "\n",
    "# from_tensor_slices 메서드는 리스트나 배열 같은 데이터를 받아 Dataset 객체를 생성합니다.\n",
    "tf_dataset = tf.data.Dataset.from_tensor_slices(daily_sales_numbers)\n",
    "tf_dataset"
   ]
  },
  {
   "cell_type": "code",
   "execution_count": 2,
   "id": "aware-farmer",
   "metadata": {},
   "outputs": [
    {
     "name": "stdout",
     "output_type": "stream",
     "text": [
      "tf.Tensor(21, shape=(), dtype=int32)\n",
      "tf.Tensor(22, shape=(), dtype=int32)\n",
      "tf.Tensor(-100, shape=(), dtype=int32)\n",
      "tf.Tensor(31, shape=(), dtype=int32)\n",
      "tf.Tensor(-1, shape=(), dtype=int32)\n",
      "tf.Tensor(32, shape=(), dtype=int32)\n",
      "tf.Tensor(34, shape=(), dtype=int32)\n",
      "tf.Tensor(31, shape=(), dtype=int32)\n"
     ]
    }
   ],
   "source": [
    "# Dataset 객체의 각 요소를 순회하며 출력합니다.\n",
    "for sales in tf_dataset:\n",
    "    print(sales)"
   ]
  },
  {
   "cell_type": "markdown",
   "id": "single-project",
   "metadata": {},
   "source": [
    "### as_numpy_iterator"
   ]
  },
  {
   "cell_type": "code",
   "execution_count": 3,
   "id": "manual-calculator",
   "metadata": {},
   "outputs": [
    {
     "name": "stdout",
     "output_type": "stream",
     "text": [
      "21\n",
      "22\n",
      "-100\n",
      "31\n",
      "-1\n",
      "32\n",
      "34\n",
      "31\n"
     ]
    }
   ],
   "source": [
    "# as_numpy_iterator() 메서드를 사용하여 Dataset의 요소를 numpy 배열 형태로 변환하여 순회합니다.\n",
    "for sales in tf_dataset.as_numpy_iterator():\n",
    "    print(sales)"
   ]
  },
  {
   "cell_type": "markdown",
   "id": "supreme-alloy",
   "metadata": {},
   "source": [
    "### take"
   ]
  },
  {
   "cell_type": "code",
   "execution_count": 4,
   "id": "together-fashion",
   "metadata": {},
   "outputs": [
    {
     "name": "stdout",
     "output_type": "stream",
     "text": [
      "21\n",
      "22\n",
      "-100\n"
     ]
    }
   ],
   "source": [
    "# take() 메서드를 사용하여 Dataset에서 지정된 개수의 element를 가져옵니다.\n",
    "for sales in tf_dataset.take(3):\n",
    "    print(sales.numpy())"
   ]
  },
  {
   "cell_type": "markdown",
   "id": "based-motion",
   "metadata": {},
   "source": [
    "### filter"
   ]
  },
  {
   "cell_type": "code",
   "execution_count": 5,
   "id": "conservative-roberts",
   "metadata": {},
   "outputs": [
    {
     "name": "stdout",
     "output_type": "stream",
     "text": [
      "21\n",
      "22\n",
      "31\n",
      "32\n",
      "34\n",
      "31\n"
     ]
    }
   ],
   "source": [
    "# TensorFlow Dataset 객체를 필터링합니다.\n",
    "# filter() 메서드를 사용하여 데이터셋에서 0보다 큰 요소만을 선택합니다.\n",
    "tf_dataset = tf_dataset.filter(lambda x: x > 0)\n",
    "\n",
    "for sales in tf_dataset.as_numpy_iterator():\n",
    "    print(sales)"
   ]
  },
  {
   "cell_type": "markdown",
   "id": "considerable-gardening",
   "metadata": {},
   "source": [
    "### map\n",
    "\n",
    "- Dataset 전체에 함수를 맵핑합니다."
   ]
  },
  {
   "cell_type": "code",
   "execution_count": 6,
   "id": "boxed-reality",
   "metadata": {},
   "outputs": [
    {
     "name": "stdout",
     "output_type": "stream",
     "text": [
      "42\n",
      "44\n",
      "62\n",
      "64\n",
      "68\n",
      "62\n"
     ]
    }
   ],
   "source": [
    "# map() 메서드를 사용하여 데이터셋의 각 요소를 2배로 증가시킵니다.\n",
    "tf_dataset = tf_dataset.map(lambda x: x * 2)\n",
    "\n",
    "for sales in tf_dataset.as_numpy_iterator():\n",
    "    print(sales)"
   ]
  },
  {
   "cell_type": "markdown",
   "id": "distinguished-nirvana",
   "metadata": {},
   "source": [
    "### shuffle\n",
    "- 데이터세트는 buffer_size 요소로 버퍼를 채운 다음이 버퍼에서 요소를 무작위로 샘플링하여 선택한 요소를 새 요소로 바꿉니다.\n",
    "\n",
    "- 완벽한 셔플 링을 위해서는 데이터 세트의 전체 크기보다 크거나 같은 버퍼 크기가 필요합니다.\n",
    "\n",
    "- 예를 들어, 데이터 집합에 10,000 개의 element가 있지만 buffer_size가 1,000으로 설정된 경우 셔플은 처음에 버퍼의 처음 1,000 개 element 중 임의의 element 만 선택합니다.\n",
    "\n",
    "- element가 선택되면 버퍼의 공간이 다음 element (즉, 1,001-st)로 대체되어 1,000 element 버퍼를 유지합니다."
   ]
  },
  {
   "cell_type": "code",
   "execution_count": 7,
   "id": "julian-apollo",
   "metadata": {},
   "outputs": [
    {
     "name": "stdout",
     "output_type": "stream",
     "text": [
      "68\n",
      "62\n",
      "64\n",
      "62\n",
      "44\n",
      "42\n"
     ]
    }
   ],
   "source": [
    "# shuffle() 메서드를 사용하여 데이터셋의 순서를 무작위로 섞어 데이터의 순서에 의한 편향을 방지합니다.\n",
    "tf_dataset = tf_dataset.shuffle(10)\n",
    "\n",
    "for sales in tf_dataset.as_numpy_iterator():\n",
    "    print(sales)"
   ]
  },
  {
   "cell_type": "code",
   "execution_count": 8,
   "id": "expired-programming",
   "metadata": {},
   "outputs": [
    {
     "name": "stdout",
     "output_type": "stream",
     "text": [
      "[64 62]\n",
      "[68 42]\n",
      "[62 44]\n"
     ]
    }
   ],
   "source": [
    "# batch() 메서드를 사용하여 각 배치의 크기를 2로 설정합니다. \n",
    "for sales_batch in tf_dataset.batch(2):\n",
    "    print(sales_batch.numpy())"
   ]
  },
  {
   "cell_type": "code",
   "execution_count": 9,
   "id": "liberal-proportion",
   "metadata": {},
   "outputs": [
    {
     "name": "stdout",
     "output_type": "stream",
     "text": [
      "[62 64 62]\n",
      "[44 68 42]\n"
     ]
    }
   ],
   "source": [
    "# tf_dataset의 데이터를 배치 크기 3으로 묶어서 출력\n",
    "for sales_batch in tf_dataset.batch(3):\n",
    "    print(sales_batch.numpy())"
   ]
  },
  {
   "cell_type": "code",
   "execution_count": 10,
   "id": "coordinated-encounter",
   "metadata": {},
   "outputs": [
    {
     "name": "stdout",
     "output_type": "stream",
     "text": [
      "[62 68 44 62]\n",
      "[64 42]\n"
     ]
    }
   ],
   "source": [
    "# tf_dataset의 데이터를 배치 크기 4으로 묶어서 출력\n",
    "for sales in tf_dataset.batch(4):\n",
    "    print(sales.numpy())"
   ]
  },
  {
   "cell_type": "code",
   "execution_count": 11,
   "id": "sitting-premium",
   "metadata": {},
   "outputs": [
    {
     "name": "stdout",
     "output_type": "stream",
     "text": [
      "[62 44 64 62]\n"
     ]
    }
   ],
   "source": [
    "# tf_dataset의 데이터를 배치 크기 4로 묶어서 출력\n",
    "# drop_remainder=True로 설정하여 마지막 배치가 배치 크기보다 작으면 해당 배치를 버림\n",
    "for sales in tf_dataset.batch(4, drop_remainder=True):\n",
    "    print(sales.numpy())"
   ]
  },
  {
   "cell_type": "markdown",
   "id": "prime-mailman",
   "metadata": {},
   "source": [
    "- 위 모든 것을 한 줄로 결합"
   ]
  },
  {
   "cell_type": "code",
   "execution_count": 12,
   "id": "370193ae-7a1f-411e-a87d-a036f9f187f4",
   "metadata": {},
   "outputs": [
    {
     "name": "stdout",
     "output_type": "stream",
     "text": [
      "[42 44 64 62]\n"
     ]
    }
   ],
   "source": [
    "# 일일 판매 데이터를 리스트로 정의합니다.\n",
    "daily_sales_numbers = [21, 22, -100, 31, -1, 32, 34, 31]\n",
    "\n",
    "# TensorFlow의 Dataset 객체를 생성합니다. \n",
    "tf_dataset = tf.data.Dataset.from_tensor_slices(daily_sales_numbers)\n",
    "\n",
    "# 데이터셋을 필터링하여 0보다 큰 값만 유지합니다.\n",
    "# 필터링된 데이터의 각 요소에 함수를 적용하여 값을 2배로 합니다.\n",
    "# 데이터셋의 순서를 무작위로 섞습니다. 여기서는 버퍼 크기를 3으로 설정합니다.\n",
    "# 데이터셋을 배치로 나눕니다. 각 배치는 4개의 요소를 포함하며, 마지막에 남는 요소는 버립니다.\n",
    "tf_dataset = tf_dataset.filter(lambda x: x > 0).map(lambda y: y * 2).shuffle(3).batch(4, drop_remainder=True)\n",
    "\n",
    "for sales_batch in tf_dataset.as_numpy_iterator():\n",
    "    print(sales_batch)"
   ]
  },
  {
   "cell_type": "markdown",
   "id": "stuck-stanley",
   "metadata": {},
   "source": [
    "### train, test dataset 생성\n",
    "- train : test = 8 : 2"
   ]
  },
  {
   "cell_type": "code",
   "execution_count": 13,
   "id": "tender-handling",
   "metadata": {},
   "outputs": [
    {
     "data": {
      "text/plain": [
       "(80, 20)"
      ]
     },
     "execution_count": 13,
     "metadata": {},
     "output_type": "execute_result"
    }
   ],
   "source": [
    "# 연속된 숫자(0부터 99까지)로 이루어진 리스트를 생성합니다.\n",
    "daily_sales_numbers = list(range(100))\n",
    "\n",
    "# from_tensor_slices 메서드를 사용하여 Dataset 객체를 생성합니다.\n",
    "tf_dataset = tf.data.Dataset.from_tensor_slices(daily_sales_numbers)\n",
    "\n",
    "# 생성된 Dataset의 전체 크기를 계산합니다.\n",
    "ds_count = len(tf_dataset)\n",
    "\n",
    "# 전체 데이터셋의 80%를 훈련 데이터셋 크기로 설정합니다.\n",
    "train_size = int(ds_count * 0.8)\n",
    "\n",
    "# 처음부터 train_size 만큼의 데이터를 훈련 데이터셋으로 가져옵니다.\n",
    "train_ds = tf_dataset.take(train_size)\n",
    "\n",
    "# train_size 이후의 데이터를 테스트 데이터셋으로 설정합니다.\n",
    "test_ds = tf_dataset.skip(train_size)\n",
    "\n",
    "# 훈련 데이터셋과 테스트 데이터셋의 길이를 출력하여 확인합니다.\n",
    "len(train_ds), len(test_ds)"
   ]
  },
  {
   "cell_type": "markdown",
   "id": "848a4f26-f6a9-4a9a-ab89-4e0caf7da992",
   "metadata": {},
   "source": [
    "## StringLookup \n",
    "- 문자열을 정수 index로 mapping 하여 vocabulary 사전 작성"
   ]
  },
  {
   "cell_type": "code",
   "execution_count": 14,
   "id": "56ed407c-2f77-4668-91a4-06d7002acd76",
   "metadata": {},
   "outputs": [
    {
     "data": {
      "text/plain": [
       "<keras.src.layers.preprocessing.string_lookup.StringLookup at 0x1c1e05ac8e0>"
      ]
     },
     "execution_count": 14,
     "metadata": {},
     "output_type": "execute_result"
    }
   ],
   "source": [
    "import tensorflow as tf\n",
    "from tensorflow.keras.layers import StringLookup\n",
    "\n",
    " # 어휘 사전으로 사용될 리스트\n",
    "vocab = [\"apple\", \"banana\", \"orange\", \"grape\"] \n",
    "\n",
    "# 어휘 사전을 이용해 정수로 변환할 예제 데이터\n",
    "data = [[\"apple\", \"orange\", \"banana\"], \n",
    "        [\"banana\", \"grape\", \"apple\"]]  \n",
    "\n",
    "# StringLookup 레이어를 생성하고 어휘(vocabulary)를 설정합니다. mask_token=None은 마스킹을 사용하지 않겠다는 의미입니다.\n",
    "string_lookup = StringLookup(vocabulary=vocab, mask_token=None)\n",
    "string_lookup"
   ]
  },
  {
   "cell_type": "code",
   "execution_count": 15,
   "id": "bc1d769e-fa55-44c9-a733-971dbd00e0fc",
   "metadata": {},
   "outputs": [
    {
     "name": "stdout",
     "output_type": "stream",
     "text": [
      "tf.Tensor(\n",
      "[[1 3 2]\n",
      " [2 4 1]], shape=(2, 3), dtype=int64)\n",
      "Vocabulary: ['[UNK]', 'apple', 'banana', 'orange', 'grape']\n"
     ]
    }
   ],
   "source": [
    "# StringLookup 레이어를 사용하여 데이터 리스트에서 각 문자열을 해당하는 정수 인덱스로 변환합니다.\n",
    "indices = string_lookup(data)\n",
    "\n",
    "# 변환된 정수 인덱스를 출력합니다.\n",
    "print(indices)\n",
    "\n",
    "# StringLookup 레이어에 설정된 어휘 사전을 조회합니다.\n",
    "vocab_list = string_lookup.get_vocabulary()\n",
    "\n",
    "# 조회한 어휘 사전을 출력합니다.\n",
    "print(\"Vocabulary:\", vocab_list)"
   ]
  },
  {
   "cell_type": "markdown",
   "id": "3b6b76c1-60e1-4e34-af28-cd872bbffc75",
   "metadata": {},
   "source": [
    "## Embedding Layer"
   ]
  },
  {
   "cell_type": "code",
   "execution_count": 16,
   "id": "7686831c-21ad-42b9-bfc9-158a8045f498",
   "metadata": {},
   "outputs": [
    {
     "name": "stdout",
     "output_type": "stream",
     "text": [
      "Model: \"sequential\"\n",
      "_________________________________________________________________\n",
      " Layer (type)                Output Shape              Param #   \n",
      "=================================================================\n",
      " embedding (Embedding)       (None, None, 32)          320000    \n",
      "                                                                 \n",
      "=================================================================\n",
      "Total params: 320000 (1.22 MB)\n",
      "Trainable params: 320000 (1.22 MB)\n",
      "Non-trainable params: 0 (0.00 Byte)\n",
      "_________________________________________________________________\n"
     ]
    }
   ],
   "source": [
    "from tensorflow.keras.layers import Embedding\n",
    "\n",
    "# Embedding 레이어 설정\n",
    "# 여기서는 최대 어휘 크기를 10000으로, 임베딩 벡터의 차원을 32로 설정합니다.\n",
    "embedding_layer = Embedding(input_dim=10000, output_dim=32)\n",
    "\n",
    "# 간단한 모델 생성 및 Embedding 레이어 추가\n",
    "model = tf.keras.Sequential([\n",
    "    embedding_layer\n",
    "])\n",
    "model.summary()"
   ]
  },
  {
   "cell_type": "code",
   "execution_count": 17,
   "id": "460a57b8-1e9b-4a20-81e6-0943f865124a",
   "metadata": {},
   "outputs": [
    {
     "name": "stdout",
     "output_type": "stream",
     "text": [
      "1/1 [==============================] - 0s 85ms/step\n",
      "(2, 5, 32)\n"
     ]
    }
   ],
   "source": [
    "# 예제 데이터 - 일반적으로 여기서는 각 정수가 어휘 사전의 단어를 나타냅니다.\n",
    "# 예를 들어, 5는 어휘 사전의 6번째 단어를 의미합니다(인덱싱은 0부터 시작).\n",
    "input_data = [[1, 2, 3, 4, 5], \n",
    "              [5, 4, 3, 2, 1]]\n",
    "\n",
    "# 모델을 통해 입력 데이터를 임베딩 벡터로 변환\n",
    "output_data = model.predict(input_data)\n",
    "\n",
    "# 임베딩 결과 출력\n",
    "print(output_data.shape)\n",
    "#print(output_data)"
   ]
  },
  {
   "cell_type": "code",
   "execution_count": 18,
   "id": "2542597d-56c3-4cc2-97cd-e7ae0e67f68c",
   "metadata": {},
   "outputs": [
    {
     "name": "stdout",
     "output_type": "stream",
     "text": [
      "Model: \"sequential_1\"\n",
      "_________________________________________________________________\n",
      " Layer (type)                Output Shape              Param #   \n",
      "=================================================================\n",
      " string_lookup_1 (StringLoo  (4,)                      0         \n",
      " kup)                                                            \n",
      "                                                                 \n",
      " embedding_1 (Embedding)     (4, 8)                    40        \n",
      "                                                                 \n",
      "=================================================================\n",
      "Total params: 40 (160.00 Byte)\n",
      "Trainable params: 40 (160.00 Byte)\n",
      "Non-trainable params: 0 (0.00 Byte)\n",
      "_________________________________________________________________\n"
     ]
    }
   ],
   "source": [
    "# 어휘 사전을 생성합니다. 이는 나중에 텍스트 데이터를 숫자로 매핑하는 데 사용됩니다.\n",
    "vocab = ['apple', 'banana', 'orange', 'grape']\n",
    "vocab_size = len(vocab)  # 어휘 사전의 크기를 계산합니다.\n",
    "\n",
    "# 예제 텍스트 데이터를 정의합니다.\n",
    "texts = ['apple', 'banana', 'orange', 'grape']\n",
    "\n",
    "# StringLookup 레이어를 생성합니다. 이 레이어는 텍스트를 정수 인덱스로 변환합니다.\n",
    "# mask_token=None은 마스크 토큰을 사용하지 않겠다는 의미이고, output_mode='int'는 출력을 정수 인덱스로 설정합니다.\n",
    "string_lookup = StringLookup(vocabulary=vocab, mask_token=None, output_mode='int')\n",
    "\n",
    "# Embedding 레이어를 설정합니다.\n",
    "# input_dim은 입력 차원으로 어휘 사전의 크기에 1을 더한 값입니다. 이 1은 StringLookup 레이어가 사용하는 패딩 인덱스 0을 위한 것입니다.\n",
    "# output_dim은 출력 차원으로, 여기서는 임베딩 벡터의 크기를 8로 설정했습니다.\n",
    "embedding_layer = Embedding(input_dim=vocab_size + 1, output_dim=8)\n",
    "\n",
    "# Sequential 모델을 생성하고, 위에서 정의한 StringLookup 레이어와 Embedding 레이어를 추가합니다.\n",
    "model = tf.keras.Sequential([\n",
    "    string_lookup,\n",
    "    embedding_layer\n",
    "])\n",
    "\n",
    "# 텍스트 데이터를 상수 텐서로 변환합니다.\n",
    "input_data = tf.constant(texts)\n",
    "# 모델을 사용하여 텍스트 데이터를 정수 인덱스로 변환한 후 해당 인덱스에 대응하는 임베딩 벡터를 얻습니다.\n",
    "embedded_data = model(input_data)\n",
    "\n",
    "# 모델 구조를 요약하여 출력합니다.\n",
    "model.summary()"
   ]
  },
  {
   "cell_type": "code",
   "execution_count": 20,
   "id": "8712db4b-3f76-4a54-a24e-6b39402aa31f",
   "metadata": {},
   "outputs": [
    {
     "name": "stdout",
     "output_type": "stream",
     "text": [
      "Embedded data: (4, 8)\n"
     ]
    },
    {
     "data": {
      "text/plain": [
       "array([[-9.5819011e-03,  2.3990367e-02, -3.5940409e-02,  3.0868974e-02,\n",
       "        -3.8483024e-02, -2.3339642e-02,  4.7889352e-03,  1.7061830e-06],\n",
       "       [ 4.2932857e-02,  3.6080480e-03,  4.6825353e-02,  3.7311912e-03,\n",
       "        -6.9641955e-03, -1.2433957e-02, -1.0310255e-02,  4.6902087e-02],\n",
       "       [-3.1307958e-02, -3.6707234e-02,  4.4541214e-02, -2.0844830e-02,\n",
       "         3.3244122e-02, -2.6726497e-02, -4.2307820e-02,  3.5320666e-02],\n",
       "       [ 4.2094480e-02, -8.1061237e-03,  8.6336732e-03, -3.5210300e-02,\n",
       "         4.1482020e-02, -3.7999224e-02,  3.2222714e-02, -2.6781572e-02]],\n",
       "      dtype=float32)"
      ]
     },
     "execution_count": 20,
     "metadata": {},
     "output_type": "execute_result"
    }
   ],
   "source": [
    "# 임베딩된 데이터의 형태를 출력\n",
    "print(\"Embedded data:\", embedded_data.numpy().shape)\n",
    "# 임베딩된 데이터를 넘파이 배열로 변환하여 출력\n",
    "embedded_data.numpy()"
   ]
  },
  {
   "cell_type": "code",
   "execution_count": null,
   "id": "e5611586-2632-4702-80f5-d07ea66538c5",
   "metadata": {},
   "outputs": [],
   "source": []
  }
 ],
 "metadata": {
  "kernelspec": {
   "display_name": "Python 3 (ipykernel)",
   "language": "python",
   "name": "python3"
  },
  "language_info": {
   "codemirror_mode": {
    "name": "ipython",
    "version": 3
   },
   "file_extension": ".py",
   "mimetype": "text/x-python",
   "name": "python",
   "nbconvert_exporter": "python",
   "pygments_lexer": "ipython3",
   "version": "3.9.16"
  }
 },
 "nbformat": 4,
 "nbformat_minor": 5
}
