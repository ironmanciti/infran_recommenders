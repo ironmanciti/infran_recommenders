{
 "cells": [
  {
   "cell_type": "markdown",
   "metadata": {},
   "source": [
    "# 111 - Content Based Filtering - manual feature engineering\n",
    "\n",
    "MovieLens 데이터셋을 사용하여 사용자에게 새로운 영화를 추천하는 Content-Based Filtering 추천 시스템입니다. 영화의 장르를 기반으로 사용자 프로필을 생성하고, 사용자가 아직 평가하지 않은 영화 중에서 개인화된 추천을 수행합니다.\n",
    "\n",
    "## Content-Based Recommender System algorithm\n",
    "\n",
    "Step 1: 사용자의 영화 평가를 근거로 가중 장르 행렬 작성 - 사용자가 선호하는 장르의 가중치 계산  \n",
    "    - 각 사용자가 본 영화에 대한 평점을 영화의 장르별로 합산합니다.   \n",
    "    - 합산된 평점을 각 장르별로 정규화하여 가중치를 계산합니다.  \n",
    "    \n",
    "Step 2: 가중 장르 행렬로부터 사용자 프로파일 작성 - 각 사용자의 장르 선호도를 나타내는 사용자 프로파일 작성  \n",
    "    - 각 사용자의 가중 장르 행렬을 기반으로 사용자 프로파일을 생성합니다.  \n",
    "    - 사용자 프로파일은 사용자가 선호하는 각 장르의 가중치를 포함합니다.  \n",
    "    \n",
    "Step 3: 사용자가 보지 않은 영화에 사용자 프로파일 적용하여 추천 영화 리스트 작성\n",
    "    -사용자가 보지 않은 영화의 장르 행렬을 작성합니다.  \n",
    "    -사용자 프로파일과 영화의 장르 행렬을 기반으로 각 영화에 대한 예측 평점을 계산합니다.  \n",
    "    \n",
    "예측 평점이 높은 영화를 사용자에게 추천합니다.     \n",
    "사용자의 영화 평가 데이터를 기반으로 하여 사용자가 선호하는 장르를 파악하고, 이를 바탕으로 새로운 영화를 추천하는 방식입니다."
   ]
  },
  {
   "cell_type": "code",
   "execution_count": 2,
   "metadata": {
    "colab": {
     "base_uri": "https://localhost:8080/",
     "height": 34
    },
    "colab_type": "code",
    "id": "IzbZLmz1dJmL",
    "outputId": "f4f882d9-6752-4b8d-8d7d-83eb61690d89"
   },
   "outputs": [],
   "source": [
    "# 필요한 Library import\n",
    "import numpy as np\n",
    "import pandas as pd\n",
    "import tensorflow as tf\n",
    "from sklearn.metrics.pairwise import cosine_similarity\n",
    "import warnings\n",
    "\n",
    "# 경고 메시지를 무시하도록 설정\n",
    "warnings.filterwarnings('ignore')"
   ]
  },
  {
   "cell_type": "markdown",
   "metadata": {},
   "source": [
    "- `ratings.csv` 데이터셋은 사용자들이 다양한 영화에 대해 매긴 평점 정보를 포함\n",
    "    - userId: 사용자의 고유 ID\n",
    "    - movieId: 영화의 고유 ID\n",
    "    - rating: 사용자가 영화에 매긴 평점\n",
    "    - timestamp: 사용자가 평점을 매긴 시간 정보. Unix 타임스탬프 형식.\n",
    " <br><br>\n",
    "- `movies.csv` 데이터셋은 각 영화의 고유 정보와 장르를 포함  \n",
    "    - movieId: 영화의 고유 ID  \n",
    "    - title: 영화의 제목  \n",
    "    - genres: 영화의 장르. 여러 장르가 쉼표로 구분되어 있습니다."
   ]
  },
  {
   "cell_type": "code",
   "execution_count": 3,
   "metadata": {},
   "outputs": [
    {
     "name": "stdout",
     "output_type": "stream",
     "text": [
      "(100836, 3)\n"
     ]
    },
    {
     "data": {
      "text/html": [
       "<div>\n",
       "<style scoped>\n",
       "    .dataframe tbody tr th:only-of-type {\n",
       "        vertical-align: middle;\n",
       "    }\n",
       "\n",
       "    .dataframe tbody tr th {\n",
       "        vertical-align: top;\n",
       "    }\n",
       "\n",
       "    .dataframe thead th {\n",
       "        text-align: right;\n",
       "    }\n",
       "</style>\n",
       "<table border=\"1\" class=\"dataframe\">\n",
       "  <thead>\n",
       "    <tr style=\"text-align: right;\">\n",
       "      <th></th>\n",
       "      <th>movieId</th>\n",
       "      <th>rating</th>\n",
       "      <th>timestamp</th>\n",
       "    </tr>\n",
       "    <tr>\n",
       "      <th>userId</th>\n",
       "      <th></th>\n",
       "      <th></th>\n",
       "      <th></th>\n",
       "    </tr>\n",
       "  </thead>\n",
       "  <tbody>\n",
       "    <tr>\n",
       "      <th>1</th>\n",
       "      <td>1</td>\n",
       "      <td>4.0</td>\n",
       "      <td>964982703</td>\n",
       "    </tr>\n",
       "    <tr>\n",
       "      <th>1</th>\n",
       "      <td>3</td>\n",
       "      <td>4.0</td>\n",
       "      <td>964981247</td>\n",
       "    </tr>\n",
       "    <tr>\n",
       "      <th>1</th>\n",
       "      <td>6</td>\n",
       "      <td>4.0</td>\n",
       "      <td>964982224</td>\n",
       "    </tr>\n",
       "  </tbody>\n",
       "</table>\n",
       "</div>"
      ],
      "text/plain": [
       "        movieId  rating  timestamp\n",
       "userId                            \n",
       "1             1     4.0  964982703\n",
       "1             3     4.0  964981247\n",
       "1             6     4.0  964982224"
      ]
     },
     "execution_count": 3,
     "metadata": {},
     "output_type": "execute_result"
    }
   ],
   "source": [
    "# 사용자 영화 평점 데이터 로드\n",
    "ratings = pd.read_csv('data/ml-latest-small/ratings.csv', index_col=0)\n",
    "print(ratings.shape)\n",
    "ratings.head(3)"
   ]
  },
  {
   "cell_type": "code",
   "execution_count": 4,
   "metadata": {
    "colab": {},
    "colab_type": "code",
    "id": "ElQV43fxdJmS"
   },
   "outputs": [
    {
     "name": "stdout",
     "output_type": "stream",
     "text": [
      "(9742, 2)\n"
     ]
    },
    {
     "data": {
      "text/html": [
       "<div>\n",
       "<style scoped>\n",
       "    .dataframe tbody tr th:only-of-type {\n",
       "        vertical-align: middle;\n",
       "    }\n",
       "\n",
       "    .dataframe tbody tr th {\n",
       "        vertical-align: top;\n",
       "    }\n",
       "\n",
       "    .dataframe thead th {\n",
       "        text-align: right;\n",
       "    }\n",
       "</style>\n",
       "<table border=\"1\" class=\"dataframe\">\n",
       "  <thead>\n",
       "    <tr style=\"text-align: right;\">\n",
       "      <th></th>\n",
       "      <th>title</th>\n",
       "      <th>genres</th>\n",
       "    </tr>\n",
       "    <tr>\n",
       "      <th>movieId</th>\n",
       "      <th></th>\n",
       "      <th></th>\n",
       "    </tr>\n",
       "  </thead>\n",
       "  <tbody>\n",
       "    <tr>\n",
       "      <th>1</th>\n",
       "      <td>Toy Story (1995)</td>\n",
       "      <td>Adventure|Animation|Children|Comedy|Fantasy</td>\n",
       "    </tr>\n",
       "    <tr>\n",
       "      <th>2</th>\n",
       "      <td>Jumanji (1995)</td>\n",
       "      <td>Adventure|Children|Fantasy</td>\n",
       "    </tr>\n",
       "    <tr>\n",
       "      <th>3</th>\n",
       "      <td>Grumpier Old Men (1995)</td>\n",
       "      <td>Comedy|Romance</td>\n",
       "    </tr>\n",
       "  </tbody>\n",
       "</table>\n",
       "</div>"
      ],
      "text/plain": [
       "                           title                                       genres\n",
       "movieId                                                                      \n",
       "1               Toy Story (1995)  Adventure|Animation|Children|Comedy|Fantasy\n",
       "2                 Jumanji (1995)                   Adventure|Children|Fantasy\n",
       "3        Grumpier Old Men (1995)                               Comedy|Romance"
      ]
     },
     "execution_count": 4,
     "metadata": {},
     "output_type": "execute_result"
    }
   ],
   "source": [
    "# 영화 특성 데이터 로드\n",
    "df_movies = pd.read_csv('data/ml-latest-small/movies.csv', index_col=0)\n",
    "print(df_movies.shape)\n",
    "df_movies.head(3)"
   ]
  },
  {
   "cell_type": "code",
   "execution_count": 9,
   "metadata": {},
   "outputs": [
    {
     "name": "stdout",
     "output_type": "stream",
     "text": [
      "(9724, 2)\n"
     ]
    },
    {
     "data": {
      "text/html": [
       "<div>\n",
       "<style scoped>\n",
       "    .dataframe tbody tr th:only-of-type {\n",
       "        vertical-align: middle;\n",
       "    }\n",
       "\n",
       "    .dataframe tbody tr th {\n",
       "        vertical-align: top;\n",
       "    }\n",
       "\n",
       "    .dataframe thead th {\n",
       "        text-align: right;\n",
       "    }\n",
       "</style>\n",
       "<table border=\"1\" class=\"dataframe\">\n",
       "  <thead>\n",
       "    <tr style=\"text-align: right;\">\n",
       "      <th></th>\n",
       "      <th>title</th>\n",
       "      <th>genres</th>\n",
       "    </tr>\n",
       "    <tr>\n",
       "      <th>movieId</th>\n",
       "      <th></th>\n",
       "      <th></th>\n",
       "    </tr>\n",
       "  </thead>\n",
       "  <tbody>\n",
       "    <tr>\n",
       "      <th>1</th>\n",
       "      <td>Toy Story (1995)</td>\n",
       "      <td>Adventure|Animation|Children|Comedy|Fantasy</td>\n",
       "    </tr>\n",
       "    <tr>\n",
       "      <th>2</th>\n",
       "      <td>Jumanji (1995)</td>\n",
       "      <td>Adventure|Children|Fantasy</td>\n",
       "    </tr>\n",
       "    <tr>\n",
       "      <th>3</th>\n",
       "      <td>Grumpier Old Men (1995)</td>\n",
       "      <td>Comedy|Romance</td>\n",
       "    </tr>\n",
       "  </tbody>\n",
       "</table>\n",
       "</div>"
      ],
      "text/plain": [
       "                           title                                       genres\n",
       "movieId                                                                      \n",
       "1               Toy Story (1995)  Adventure|Animation|Children|Comedy|Fantasy\n",
       "2                 Jumanji (1995)                   Adventure|Children|Fantasy\n",
       "3        Grumpier Old Men (1995)                               Comedy|Romance"
      ]
     },
     "execution_count": 9,
     "metadata": {},
     "output_type": "execute_result"
    }
   ],
   "source": [
    "# ratings에서 중복 movieId를 제거합니다.\n",
    "unique_movie_ids_in_ratings = ratings['movieId'].unique()\n",
    "\n",
    "# movies dataframe에서 사용자 rating이 있는 movie만 골라냅니다.\n",
    "df_rated_movies = df_movies[df_movies.index.isin(unique_movie_ids_in_ratings)]\n",
    "\n",
    "print(df_rated_movies.shape)\n",
    "df_rated_movies.head(3)"
   ]
  },
  {
   "cell_type": "code",
   "execution_count": 10,
   "metadata": {},
   "outputs": [
    {
     "name": "stdout",
     "output_type": "stream",
     "text": [
      "9724\n",
      "['Toy Story (1995)' 'Jumanji (1995)' 'Grumpier Old Men (1995)' ...\n",
      " 'Flint (2017)' 'Bungo Stray Dogs: Dead Apple (2018)'\n",
      " 'Andrew Dice Clay: Dice Rules (1991)']\n"
     ]
    }
   ],
   "source": [
    "# 평가된 영화 데이터프레임에서 영화 제목을 가져옴\n",
    "movie_names_list = df_rated_movies['title'].values\n",
    "\n",
    "# 영화 제목 목록의 길이를 출력\n",
    "print(len(movie_names_list))\n",
    "\n",
    "# 영화 제목 목록을 출력\n",
    "print(movie_names_list)"
   ]
  },
  {
   "cell_type": "markdown",
   "metadata": {},
   "source": [
    "### 사용자별 영화 평가 Matrix 생성 \n",
    "\n",
    "사용자가 선호하는 장르의 가중치 계산"
   ]
  },
  {
   "cell_type": "code",
   "execution_count": 8,
   "metadata": {},
   "outputs": [
    {
     "name": "stdout",
     "output_type": "stream",
     "text": [
      "(610, 9724)\n"
     ]
    }
   ],
   "source": [
    "# ratings 데이터프레임을 변환하여 movieId를 열로, rating을 값으로 하는 데이터프레임으로 변환\n",
    "df_users_seen_movies = ratings.pivot(columns='movieId', values='rating')\n",
    "\n",
    "# 변환된 데이터프레임의 shape을 출력\n",
    "print(df_users_seen_movies.shape)\n",
    "\n",
    "# 결측값(NaN)을 0으로 채움\n",
    "df_users_seen_movies.fillna(0, inplace=True)"
   ]
  },
  {
   "cell_type": "code",
   "execution_count": 13,
   "metadata": {},
   "outputs": [
    {
     "data": {
      "text/html": [
       "<div>\n",
       "<style scoped>\n",
       "    .dataframe tbody tr th:only-of-type {\n",
       "        vertical-align: middle;\n",
       "    }\n",
       "\n",
       "    .dataframe tbody tr th {\n",
       "        vertical-align: top;\n",
       "    }\n",
       "\n",
       "    .dataframe thead th {\n",
       "        text-align: right;\n",
       "    }\n",
       "</style>\n",
       "<table border=\"1\" class=\"dataframe\">\n",
       "  <thead>\n",
       "    <tr style=\"text-align: right;\">\n",
       "      <th></th>\n",
       "      <th>Toy Story (1995)</th>\n",
       "      <th>Jumanji (1995)</th>\n",
       "      <th>Grumpier Old Men (1995)</th>\n",
       "      <th>Waiting to Exhale (1995)</th>\n",
       "      <th>Father of the Bride Part II (1995)</th>\n",
       "      <th>Heat (1995)</th>\n",
       "      <th>Sabrina (1995)</th>\n",
       "      <th>Tom and Huck (1995)</th>\n",
       "      <th>Sudden Death (1995)</th>\n",
       "      <th>GoldenEye (1995)</th>\n",
       "      <th>...</th>\n",
       "      <th>Gintama: The Movie (2010)</th>\n",
       "      <th>anohana: The Flower We Saw That Day - The Movie (2013)</th>\n",
       "      <th>Silver Spoon (2014)</th>\n",
       "      <th>Love Live! The School Idol Movie (2015)</th>\n",
       "      <th>Jon Stewart Has Left the Building (2015)</th>\n",
       "      <th>Black Butler: Book of the Atlantic (2017)</th>\n",
       "      <th>No Game No Life: Zero (2017)</th>\n",
       "      <th>Flint (2017)</th>\n",
       "      <th>Bungo Stray Dogs: Dead Apple (2018)</th>\n",
       "      <th>Andrew Dice Clay: Dice Rules (1991)</th>\n",
       "    </tr>\n",
       "    <tr>\n",
       "      <th>userId</th>\n",
       "      <th></th>\n",
       "      <th></th>\n",
       "      <th></th>\n",
       "      <th></th>\n",
       "      <th></th>\n",
       "      <th></th>\n",
       "      <th></th>\n",
       "      <th></th>\n",
       "      <th></th>\n",
       "      <th></th>\n",
       "      <th></th>\n",
       "      <th></th>\n",
       "      <th></th>\n",
       "      <th></th>\n",
       "      <th></th>\n",
       "      <th></th>\n",
       "      <th></th>\n",
       "      <th></th>\n",
       "      <th></th>\n",
       "      <th></th>\n",
       "      <th></th>\n",
       "    </tr>\n",
       "  </thead>\n",
       "  <tbody>\n",
       "    <tr>\n",
       "      <th>1</th>\n",
       "      <td>4.0</td>\n",
       "      <td>0.0</td>\n",
       "      <td>4.0</td>\n",
       "      <td>0.0</td>\n",
       "      <td>0.0</td>\n",
       "      <td>4.0</td>\n",
       "      <td>0.0</td>\n",
       "      <td>0.0</td>\n",
       "      <td>0.0</td>\n",
       "      <td>0.0</td>\n",
       "      <td>...</td>\n",
       "      <td>0.0</td>\n",
       "      <td>0.0</td>\n",
       "      <td>0.0</td>\n",
       "      <td>0.0</td>\n",
       "      <td>0.0</td>\n",
       "      <td>0.0</td>\n",
       "      <td>0.0</td>\n",
       "      <td>0.0</td>\n",
       "      <td>0.0</td>\n",
       "      <td>0.0</td>\n",
       "    </tr>\n",
       "    <tr>\n",
       "      <th>2</th>\n",
       "      <td>0.0</td>\n",
       "      <td>0.0</td>\n",
       "      <td>0.0</td>\n",
       "      <td>0.0</td>\n",
       "      <td>0.0</td>\n",
       "      <td>0.0</td>\n",
       "      <td>0.0</td>\n",
       "      <td>0.0</td>\n",
       "      <td>0.0</td>\n",
       "      <td>0.0</td>\n",
       "      <td>...</td>\n",
       "      <td>0.0</td>\n",
       "      <td>0.0</td>\n",
       "      <td>0.0</td>\n",
       "      <td>0.0</td>\n",
       "      <td>0.0</td>\n",
       "      <td>0.0</td>\n",
       "      <td>0.0</td>\n",
       "      <td>0.0</td>\n",
       "      <td>0.0</td>\n",
       "      <td>0.0</td>\n",
       "    </tr>\n",
       "    <tr>\n",
       "      <th>3</th>\n",
       "      <td>0.0</td>\n",
       "      <td>0.0</td>\n",
       "      <td>0.0</td>\n",
       "      <td>0.0</td>\n",
       "      <td>0.0</td>\n",
       "      <td>0.0</td>\n",
       "      <td>0.0</td>\n",
       "      <td>0.0</td>\n",
       "      <td>0.0</td>\n",
       "      <td>0.0</td>\n",
       "      <td>...</td>\n",
       "      <td>0.0</td>\n",
       "      <td>0.0</td>\n",
       "      <td>0.0</td>\n",
       "      <td>0.0</td>\n",
       "      <td>0.0</td>\n",
       "      <td>0.0</td>\n",
       "      <td>0.0</td>\n",
       "      <td>0.0</td>\n",
       "      <td>0.0</td>\n",
       "      <td>0.0</td>\n",
       "    </tr>\n",
       "  </tbody>\n",
       "</table>\n",
       "<p>3 rows × 9724 columns</p>\n",
       "</div>"
      ],
      "text/plain": [
       "        Toy Story (1995)  Jumanji (1995)  Grumpier Old Men (1995)  \\\n",
       "userId                                                              \n",
       "1                    4.0             0.0                      4.0   \n",
       "2                    0.0             0.0                      0.0   \n",
       "3                    0.0             0.0                      0.0   \n",
       "\n",
       "        Waiting to Exhale (1995)  Father of the Bride Part II (1995)  \\\n",
       "userId                                                                 \n",
       "1                            0.0                                 0.0   \n",
       "2                            0.0                                 0.0   \n",
       "3                            0.0                                 0.0   \n",
       "\n",
       "        Heat (1995)  Sabrina (1995)  Tom and Huck (1995)  Sudden Death (1995)  \\\n",
       "userId                                                                          \n",
       "1               4.0             0.0                  0.0                  0.0   \n",
       "2               0.0             0.0                  0.0                  0.0   \n",
       "3               0.0             0.0                  0.0                  0.0   \n",
       "\n",
       "        GoldenEye (1995)  ...  Gintama: The Movie (2010)  \\\n",
       "userId                    ...                              \n",
       "1                    0.0  ...                        0.0   \n",
       "2                    0.0  ...                        0.0   \n",
       "3                    0.0  ...                        0.0   \n",
       "\n",
       "        anohana: The Flower We Saw That Day - The Movie (2013)  \\\n",
       "userId                                                           \n",
       "1                                                     0.0        \n",
       "2                                                     0.0        \n",
       "3                                                     0.0        \n",
       "\n",
       "        Silver Spoon (2014)  Love Live! The School Idol Movie (2015)  \\\n",
       "userId                                                                 \n",
       "1                       0.0                                      0.0   \n",
       "2                       0.0                                      0.0   \n",
       "3                       0.0                                      0.0   \n",
       "\n",
       "        Jon Stewart Has Left the Building (2015)  \\\n",
       "userId                                             \n",
       "1                                            0.0   \n",
       "2                                            0.0   \n",
       "3                                            0.0   \n",
       "\n",
       "        Black Butler: Book of the Atlantic (2017)  \\\n",
       "userId                                              \n",
       "1                                             0.0   \n",
       "2                                             0.0   \n",
       "3                                             0.0   \n",
       "\n",
       "        No Game No Life: Zero (2017)  Flint (2017)  \\\n",
       "userId                                               \n",
       "1                                0.0           0.0   \n",
       "2                                0.0           0.0   \n",
       "3                                0.0           0.0   \n",
       "\n",
       "        Bungo Stray Dogs: Dead Apple (2018)  \\\n",
       "userId                                        \n",
       "1                                       0.0   \n",
       "2                                       0.0   \n",
       "3                                       0.0   \n",
       "\n",
       "        Andrew Dice Clay: Dice Rules (1991)  \n",
       "userId                                       \n",
       "1                                       0.0  \n",
       "2                                       0.0  \n",
       "3                                       0.0  \n",
       "\n",
       "[3 rows x 9724 columns]"
      ]
     },
     "execution_count": 13,
     "metadata": {},
     "output_type": "execute_result"
    }
   ],
   "source": [
    "# 컬럼명을 영화명으로 replace\n",
    "df_users_seen_movies.columns = movie_names_list\n",
    "df_users_seen_movies.head(3)"
   ]
  },
  {
   "cell_type": "code",
   "execution_count": 11,
   "metadata": {},
   "outputs": [
    {
     "name": "stdout",
     "output_type": "stream",
     "text": [
      "(610, 9724)\n"
     ]
    }
   ],
   "source": [
    "# 사용자 영화평 matrix 생성\n",
    "users_seen_movies = df_users_seen_movies.values\n",
    "print(users_seen_movies.shape)"
   ]
  },
  {
   "cell_type": "markdown",
   "metadata": {},
   "source": [
    "### 영화 특성 Matrix 작성"
   ]
  },
  {
   "cell_type": "code",
   "execution_count": 12,
   "metadata": {},
   "outputs": [
    {
     "name": "stdout",
     "output_type": "stream",
     "text": [
      "['(no genres listed)', 'Action', 'Adventure', 'Animation', 'Children', 'Comedy', 'Crime', 'Documentary', 'Drama', 'Fantasy', 'Film-Noir', 'Horror', 'IMAX', 'Musical', 'Mystery', 'Romance', 'Sci-Fi', 'Thriller', 'War', 'Western']\n"
     ]
    }
   ],
   "source": [
    "# 영화 데이터에서 모든 장르를 추출하여 중복을 제거한 후 정렬된 리스트를 생성합니다.\n",
    "features = sorted(list(set([genre for sublist in df_movies['genres'].str.split(\"|\") for genre in sublist])))\n",
    "print(features)"
   ]
  },
  {
   "cell_type": "code",
   "execution_count": 13,
   "metadata": {},
   "outputs": [
    {
     "name": "stdout",
     "output_type": "stream",
     "text": [
      "[False, False, True, True, True, True, False, False, False, True, False, False, False, False, False, False, False, False, False, False]\n"
     ]
    }
   ],
   "source": [
    "# features라는 리스트에 있는 각 genre 요소가 문자열 genres에 포함되어 있는지 여부를 확인하는 리스트 컴프리헨션\n",
    "genres = 'Adventure|Animation|Children|Comedy|Fantasy'\n",
    "print([genre in genres for genre in features])"
   ]
  },
  {
   "cell_type": "code",
   "execution_count": 14,
   "metadata": {},
   "outputs": [
    {
     "data": {
      "text/plain": [
       "array([0., 0., 1., 1., 1., 1., 0., 0., 0., 1., 0., 0., 0., 0., 0., 0., 0.,\n",
       "       0., 0., 0.], dtype=float32)"
      ]
     },
     "execution_count": 14,
     "metadata": {},
     "output_type": "execute_result"
    }
   ],
   "source": [
    "# 위의 list comprehesion 결과를 multi-hot encoding으로 표현\n",
    "np.array([genre in genres for genre in features], dtype=np.float32)"
   ]
  },
  {
   "cell_type": "code",
   "execution_count": 15,
   "metadata": {},
   "outputs": [
    {
     "data": {
      "text/html": [
       "<div>\n",
       "<style scoped>\n",
       "    .dataframe tbody tr th:only-of-type {\n",
       "        vertical-align: middle;\n",
       "    }\n",
       "\n",
       "    .dataframe tbody tr th {\n",
       "        vertical-align: top;\n",
       "    }\n",
       "\n",
       "    .dataframe thead th {\n",
       "        text-align: right;\n",
       "    }\n",
       "</style>\n",
       "<table border=\"1\" class=\"dataframe\">\n",
       "  <thead>\n",
       "    <tr style=\"text-align: right;\">\n",
       "      <th></th>\n",
       "      <th>title</th>\n",
       "      <th>genres</th>\n",
       "      <th>genre_vec</th>\n",
       "    </tr>\n",
       "    <tr>\n",
       "      <th>movieId</th>\n",
       "      <th></th>\n",
       "      <th></th>\n",
       "      <th></th>\n",
       "    </tr>\n",
       "  </thead>\n",
       "  <tbody>\n",
       "    <tr>\n",
       "      <th>1</th>\n",
       "      <td>Toy Story (1995)</td>\n",
       "      <td>Adventure|Animation|Children|Comedy|Fantasy</td>\n",
       "      <td>[0.0, 0.0, 1.0, 1.0, 1.0, 1.0, 0.0, 0.0, 0.0, ...</td>\n",
       "    </tr>\n",
       "    <tr>\n",
       "      <th>2</th>\n",
       "      <td>Jumanji (1995)</td>\n",
       "      <td>Adventure|Children|Fantasy</td>\n",
       "      <td>[0.0, 0.0, 1.0, 0.0, 1.0, 0.0, 0.0, 0.0, 0.0, ...</td>\n",
       "    </tr>\n",
       "    <tr>\n",
       "      <th>3</th>\n",
       "      <td>Grumpier Old Men (1995)</td>\n",
       "      <td>Comedy|Romance</td>\n",
       "      <td>[0.0, 0.0, 0.0, 0.0, 0.0, 1.0, 0.0, 0.0, 0.0, ...</td>\n",
       "    </tr>\n",
       "  </tbody>\n",
       "</table>\n",
       "</div>"
      ],
      "text/plain": [
       "                           title                                       genres  \\\n",
       "movieId                                                                         \n",
       "1               Toy Story (1995)  Adventure|Animation|Children|Comedy|Fantasy   \n",
       "2                 Jumanji (1995)                   Adventure|Children|Fantasy   \n",
       "3        Grumpier Old Men (1995)                               Comedy|Romance   \n",
       "\n",
       "                                                 genre_vec  \n",
       "movieId                                                     \n",
       "1        [0.0, 0.0, 1.0, 1.0, 1.0, 1.0, 0.0, 0.0, 0.0, ...  \n",
       "2        [0.0, 0.0, 1.0, 0.0, 1.0, 0.0, 0.0, 0.0, 0.0, ...  \n",
       "3        [0.0, 0.0, 0.0, 0.0, 0.0, 1.0, 0.0, 0.0, 0.0, ...  "
      ]
     },
     "execution_count": 15,
     "metadata": {},
     "output_type": "execute_result"
    }
   ],
   "source": [
    "# all_eatures 리스트에 있는 각 genre 요소가 문자열 genres에 포함되어 있는지 여부를 multi-hot encoding 변환하는 함수\n",
    "def genre_vector(genres, all_features):\n",
    "    return np.array([genre in genres for genre in all_features], dtype=np.float32)\n",
    "\n",
    "# 'genre_vec' multi-hot encoding 열을 추가합니다.\n",
    "df_rated_movies['genre_vec'] = [genre_vector(genres, features) for genres in df_rated_movies['genres']]\n",
    "\n",
    "# multi-hot encoding된 결과 출력\n",
    "df_rated_movies.head(3)"
   ]
  },
  {
   "cell_type": "code",
   "execution_count": 16,
   "metadata": {},
   "outputs": [
    {
     "name": "stdout",
     "output_type": "stream",
     "text": [
      "(9724, 20)\n"
     ]
    },
    {
     "data": {
      "text/html": [
       "<div>\n",
       "<style scoped>\n",
       "    .dataframe tbody tr th:only-of-type {\n",
       "        vertical-align: middle;\n",
       "    }\n",
       "\n",
       "    .dataframe tbody tr th {\n",
       "        vertical-align: top;\n",
       "    }\n",
       "\n",
       "    .dataframe thead th {\n",
       "        text-align: right;\n",
       "    }\n",
       "</style>\n",
       "<table border=\"1\" class=\"dataframe\">\n",
       "  <thead>\n",
       "    <tr style=\"text-align: right;\">\n",
       "      <th></th>\n",
       "      <th>(no genres listed)</th>\n",
       "      <th>Action</th>\n",
       "      <th>Adventure</th>\n",
       "      <th>Animation</th>\n",
       "      <th>Children</th>\n",
       "      <th>Comedy</th>\n",
       "      <th>Crime</th>\n",
       "      <th>Documentary</th>\n",
       "      <th>Drama</th>\n",
       "      <th>Fantasy</th>\n",
       "      <th>Film-Noir</th>\n",
       "      <th>Horror</th>\n",
       "      <th>IMAX</th>\n",
       "      <th>Musical</th>\n",
       "      <th>Mystery</th>\n",
       "      <th>Romance</th>\n",
       "      <th>Sci-Fi</th>\n",
       "      <th>Thriller</th>\n",
       "      <th>War</th>\n",
       "      <th>Western</th>\n",
       "    </tr>\n",
       "  </thead>\n",
       "  <tbody>\n",
       "    <tr>\n",
       "      <th>0</th>\n",
       "      <td>0.0</td>\n",
       "      <td>0.0</td>\n",
       "      <td>1.0</td>\n",
       "      <td>1.0</td>\n",
       "      <td>1.0</td>\n",
       "      <td>1.0</td>\n",
       "      <td>0.0</td>\n",
       "      <td>0.0</td>\n",
       "      <td>0.0</td>\n",
       "      <td>1.0</td>\n",
       "      <td>0.0</td>\n",
       "      <td>0.0</td>\n",
       "      <td>0.0</td>\n",
       "      <td>0.0</td>\n",
       "      <td>0.0</td>\n",
       "      <td>0.0</td>\n",
       "      <td>0.0</td>\n",
       "      <td>0.0</td>\n",
       "      <td>0.0</td>\n",
       "      <td>0.0</td>\n",
       "    </tr>\n",
       "    <tr>\n",
       "      <th>1</th>\n",
       "      <td>0.0</td>\n",
       "      <td>0.0</td>\n",
       "      <td>1.0</td>\n",
       "      <td>0.0</td>\n",
       "      <td>1.0</td>\n",
       "      <td>0.0</td>\n",
       "      <td>0.0</td>\n",
       "      <td>0.0</td>\n",
       "      <td>0.0</td>\n",
       "      <td>1.0</td>\n",
       "      <td>0.0</td>\n",
       "      <td>0.0</td>\n",
       "      <td>0.0</td>\n",
       "      <td>0.0</td>\n",
       "      <td>0.0</td>\n",
       "      <td>0.0</td>\n",
       "      <td>0.0</td>\n",
       "      <td>0.0</td>\n",
       "      <td>0.0</td>\n",
       "      <td>0.0</td>\n",
       "    </tr>\n",
       "    <tr>\n",
       "      <th>2</th>\n",
       "      <td>0.0</td>\n",
       "      <td>0.0</td>\n",
       "      <td>0.0</td>\n",
       "      <td>0.0</td>\n",
       "      <td>0.0</td>\n",
       "      <td>1.0</td>\n",
       "      <td>0.0</td>\n",
       "      <td>0.0</td>\n",
       "      <td>0.0</td>\n",
       "      <td>0.0</td>\n",
       "      <td>0.0</td>\n",
       "      <td>0.0</td>\n",
       "      <td>0.0</td>\n",
       "      <td>0.0</td>\n",
       "      <td>0.0</td>\n",
       "      <td>1.0</td>\n",
       "      <td>0.0</td>\n",
       "      <td>0.0</td>\n",
       "      <td>0.0</td>\n",
       "      <td>0.0</td>\n",
       "    </tr>\n",
       "    <tr>\n",
       "      <th>3</th>\n",
       "      <td>0.0</td>\n",
       "      <td>0.0</td>\n",
       "      <td>0.0</td>\n",
       "      <td>0.0</td>\n",
       "      <td>0.0</td>\n",
       "      <td>1.0</td>\n",
       "      <td>0.0</td>\n",
       "      <td>0.0</td>\n",
       "      <td>1.0</td>\n",
       "      <td>0.0</td>\n",
       "      <td>0.0</td>\n",
       "      <td>0.0</td>\n",
       "      <td>0.0</td>\n",
       "      <td>0.0</td>\n",
       "      <td>0.0</td>\n",
       "      <td>1.0</td>\n",
       "      <td>0.0</td>\n",
       "      <td>0.0</td>\n",
       "      <td>0.0</td>\n",
       "      <td>0.0</td>\n",
       "    </tr>\n",
       "    <tr>\n",
       "      <th>4</th>\n",
       "      <td>0.0</td>\n",
       "      <td>0.0</td>\n",
       "      <td>0.0</td>\n",
       "      <td>0.0</td>\n",
       "      <td>0.0</td>\n",
       "      <td>1.0</td>\n",
       "      <td>0.0</td>\n",
       "      <td>0.0</td>\n",
       "      <td>0.0</td>\n",
       "      <td>0.0</td>\n",
       "      <td>0.0</td>\n",
       "      <td>0.0</td>\n",
       "      <td>0.0</td>\n",
       "      <td>0.0</td>\n",
       "      <td>0.0</td>\n",
       "      <td>0.0</td>\n",
       "      <td>0.0</td>\n",
       "      <td>0.0</td>\n",
       "      <td>0.0</td>\n",
       "      <td>0.0</td>\n",
       "    </tr>\n",
       "  </tbody>\n",
       "</table>\n",
       "</div>"
      ],
      "text/plain": [
       "   (no genres listed)  Action  Adventure  Animation  Children  Comedy  Crime  \\\n",
       "0                 0.0     0.0        1.0        1.0       1.0     1.0    0.0   \n",
       "1                 0.0     0.0        1.0        0.0       1.0     0.0    0.0   \n",
       "2                 0.0     0.0        0.0        0.0       0.0     1.0    0.0   \n",
       "3                 0.0     0.0        0.0        0.0       0.0     1.0    0.0   \n",
       "4                 0.0     0.0        0.0        0.0       0.0     1.0    0.0   \n",
       "\n",
       "   Documentary  Drama  Fantasy  Film-Noir  Horror  IMAX  Musical  Mystery  \\\n",
       "0          0.0    0.0      1.0        0.0     0.0   0.0      0.0      0.0   \n",
       "1          0.0    0.0      1.0        0.0     0.0   0.0      0.0      0.0   \n",
       "2          0.0    0.0      0.0        0.0     0.0   0.0      0.0      0.0   \n",
       "3          0.0    1.0      0.0        0.0     0.0   0.0      0.0      0.0   \n",
       "4          0.0    0.0      0.0        0.0     0.0   0.0      0.0      0.0   \n",
       "\n",
       "   Romance  Sci-Fi  Thriller  War  Western  \n",
       "0      0.0     0.0       0.0  0.0      0.0  \n",
       "1      0.0     0.0       0.0  0.0      0.0  \n",
       "2      1.0     0.0       0.0  0.0      0.0  \n",
       "3      1.0     0.0       0.0  0.0      0.0  \n",
       "4      0.0     0.0       0.0  0.0      0.0  "
      ]
     },
     "execution_count": 16,
     "metadata": {},
     "output_type": "execute_result"
    }
   ],
   "source": [
    "# 각 영화의 장르 벡터를 수직으로 쌓아 새로운 데이터프레임 생성\n",
    "df_movies_features = pd.DataFrame(np.vstack(df_rated_movies['genre_vec']), columns=features)\n",
    "\n",
    "print(df_movies_features.shape)\n",
    "df_movies_features.head()"
   ]
  },
  {
   "cell_type": "code",
   "execution_count": 17,
   "metadata": {},
   "outputs": [
    {
     "name": "stdout",
     "output_type": "stream",
     "text": [
      "(9724, 20)\n"
     ]
    }
   ],
   "source": [
    "# 각 영화에 대한 장르 특성 maxtrix 생성\n",
    "movies_features = df_movies_features.values\n",
    "print(movies_features.shape)"
   ]
  },
  {
   "cell_type": "markdown",
   "metadata": {},
   "source": [
    "## step1) 사용자 특성 매트릭스 (weighted genre matrix) 계산\n",
    "\n",
    "사용자의 영화 평가를 근거로 가중 장르 행렬 작성 - 사용자가 선호하는 장르의 가중치 계산"
   ]
  },
  {
   "cell_type": "code",
   "execution_count": 18,
   "metadata": {},
   "outputs": [
    {
     "data": {
      "text/plain": [
       "((610, 9724), (9724, 20))"
      ]
     },
     "execution_count": 18,
     "metadata": {},
     "output_type": "execute_result"
    }
   ],
   "source": [
    "users_seen_movies.shape, movies_features.shape"
   ]
  },
  {
   "cell_type": "code",
   "execution_count": 19,
   "metadata": {},
   "outputs": [
    {
     "data": {
      "text/plain": [
       "array([[   0. ,  389. ,  373. , ...,  228. ,   99. ,   30. ],\n",
       "       [   0. ,   43.5,   12.5, ...,   37. ,    4.5,    3.5],\n",
       "       [   0. ,   50. ,   30. , ...,   29. ,    2.5,    0. ],\n",
       "       ...,\n",
       "       [   0. ,  922.5,  583. , ...,  916. ,   68. ,   29. ],\n",
       "       [   0. ,   34. ,   32. , ...,   46. ,   14. ,    4. ],\n",
       "       [   0. , 1861.5,  989.5, ..., 1822.5,  177.5,  123.5]])"
      ]
     },
     "execution_count": 19,
     "metadata": {},
     "output_type": "execute_result"
    }
   ],
   "source": [
    "# 사용자 특성 행렬 생성\n",
    "# 각 사용자가 본 영화의 평점과 영화의 장르 특성을 행렬곱하여 사용자의 특성을 계산합니다.\n",
    "# 즉, 사용자가 본 영화의 장르 가중치를 합산하여 사용자의 장르 선호도를 나타내는 벡터를 생성합니다.\n",
    "# users_seen_movies: 사용자별로 본 영화와 그 평점이 포함된 행렬\n",
    "# movies_features: 각 영화의 장르 특성이 포함된 행렬\n",
    "users_features = np.matmul(users_seen_movies, movies_features)\n",
    "\n",
    "# 계산된 사용자 특성 행렬 \n",
    "users_features"
   ]
  },
  {
   "cell_type": "code",
   "execution_count": 20,
   "metadata": {},
   "outputs": [
    {
     "data": {
      "text/html": [
       "<div>\n",
       "<style scoped>\n",
       "    .dataframe tbody tr th:only-of-type {\n",
       "        vertical-align: middle;\n",
       "    }\n",
       "\n",
       "    .dataframe tbody tr th {\n",
       "        vertical-align: top;\n",
       "    }\n",
       "\n",
       "    .dataframe thead th {\n",
       "        text-align: right;\n",
       "    }\n",
       "</style>\n",
       "<table border=\"1\" class=\"dataframe\">\n",
       "  <thead>\n",
       "    <tr style=\"text-align: right;\">\n",
       "      <th></th>\n",
       "      <th>(no genres listed)</th>\n",
       "      <th>Action</th>\n",
       "      <th>Adventure</th>\n",
       "      <th>Animation</th>\n",
       "      <th>Children</th>\n",
       "      <th>Comedy</th>\n",
       "      <th>Crime</th>\n",
       "      <th>Documentary</th>\n",
       "      <th>Drama</th>\n",
       "      <th>Fantasy</th>\n",
       "      <th>Film-Noir</th>\n",
       "      <th>Horror</th>\n",
       "      <th>IMAX</th>\n",
       "      <th>Musical</th>\n",
       "      <th>Mystery</th>\n",
       "      <th>Romance</th>\n",
       "      <th>Sci-Fi</th>\n",
       "      <th>Thriller</th>\n",
       "      <th>War</th>\n",
       "      <th>Western</th>\n",
       "    </tr>\n",
       "  </thead>\n",
       "  <tbody>\n",
       "    <tr>\n",
       "      <th>0</th>\n",
       "      <td>0.0</td>\n",
       "      <td>389.0</td>\n",
       "      <td>373.0</td>\n",
       "      <td>136.0</td>\n",
       "      <td>191.0</td>\n",
       "      <td>355.0</td>\n",
       "      <td>196.0</td>\n",
       "      <td>0.0</td>\n",
       "      <td>308.0</td>\n",
       "      <td>202.0</td>\n",
       "      <td>5.0</td>\n",
       "      <td>59.0</td>\n",
       "      <td>0.0</td>\n",
       "      <td>103.0</td>\n",
       "      <td>75.0</td>\n",
       "      <td>112.0</td>\n",
       "      <td>169.0</td>\n",
       "      <td>228.0</td>\n",
       "      <td>99.0</td>\n",
       "      <td>30.0</td>\n",
       "    </tr>\n",
       "    <tr>\n",
       "      <th>1</th>\n",
       "      <td>0.0</td>\n",
       "      <td>43.5</td>\n",
       "      <td>12.5</td>\n",
       "      <td>0.0</td>\n",
       "      <td>0.0</td>\n",
       "      <td>28.0</td>\n",
       "      <td>38.0</td>\n",
       "      <td>13.0</td>\n",
       "      <td>66.0</td>\n",
       "      <td>0.0</td>\n",
       "      <td>0.0</td>\n",
       "      <td>3.0</td>\n",
       "      <td>15.0</td>\n",
       "      <td>0.0</td>\n",
       "      <td>8.0</td>\n",
       "      <td>4.5</td>\n",
       "      <td>15.5</td>\n",
       "      <td>37.0</td>\n",
       "      <td>4.5</td>\n",
       "      <td>3.5</td>\n",
       "    </tr>\n",
       "    <tr>\n",
       "      <th>2</th>\n",
       "      <td>0.0</td>\n",
       "      <td>50.0</td>\n",
       "      <td>30.0</td>\n",
       "      <td>2.0</td>\n",
       "      <td>2.5</td>\n",
       "      <td>9.0</td>\n",
       "      <td>1.0</td>\n",
       "      <td>0.0</td>\n",
       "      <td>12.0</td>\n",
       "      <td>13.5</td>\n",
       "      <td>0.0</td>\n",
       "      <td>37.5</td>\n",
       "      <td>0.0</td>\n",
       "      <td>0.5</td>\n",
       "      <td>5.0</td>\n",
       "      <td>2.5</td>\n",
       "      <td>63.0</td>\n",
       "      <td>29.0</td>\n",
       "      <td>2.5</td>\n",
       "      <td>0.0</td>\n",
       "    </tr>\n",
       "  </tbody>\n",
       "</table>\n",
       "</div>"
      ],
      "text/plain": [
       "   (no genres listed)  Action  Adventure  Animation  Children  Comedy  Crime  \\\n",
       "0                 0.0   389.0      373.0      136.0     191.0   355.0  196.0   \n",
       "1                 0.0    43.5       12.5        0.0       0.0    28.0   38.0   \n",
       "2                 0.0    50.0       30.0        2.0       2.5     9.0    1.0   \n",
       "\n",
       "   Documentary  Drama  Fantasy  Film-Noir  Horror  IMAX  Musical  Mystery  \\\n",
       "0          0.0  308.0    202.0        5.0    59.0   0.0    103.0     75.0   \n",
       "1         13.0   66.0      0.0        0.0     3.0  15.0      0.0      8.0   \n",
       "2          0.0   12.0     13.5        0.0    37.5   0.0      0.5      5.0   \n",
       "\n",
       "   Romance  Sci-Fi  Thriller   War  Western  \n",
       "0    112.0   169.0     228.0  99.0     30.0  \n",
       "1      4.5    15.5      37.0   4.5      3.5  \n",
       "2      2.5    63.0      29.0   2.5      0.0  "
      ]
     },
     "execution_count": 20,
     "metadata": {},
     "output_type": "execute_result"
    }
   ],
   "source": [
    "# 사용자의 장르 선호도를 나타내는 사용자 특성 행렬을 데이터프레임으로 변환\n",
    "df_users_features = pd.DataFrame(users_features, columns=features)\n",
    "\n",
    "df_users_features.head(3)"
   ]
  },
  {
   "cell_type": "markdown",
   "metadata": {},
   "source": [
    "## step2) 사용자 특성 매트릭스(Weighted genre matrix)로 부터 User Profile 작성\n",
    "\n",
    "가중 장르 행렬로부터 사용자 프로파일 작성 - 각 사용자의 장르 선호도를 나타내는 사용자 프로파일 작성"
   ]
  },
  {
   "cell_type": "code",
   "execution_count": 21,
   "metadata": {},
   "outputs": [
    {
     "data": {
      "text/plain": [
       "array([[0.        , 0.12838284, 0.12310231, ..., 0.07524752, 0.03267327,\n",
       "        0.00990099],\n",
       "       [0.        , 0.1489726 , 0.04280822, ..., 0.12671233, 0.01541096,\n",
       "        0.0119863 ],\n",
       "       [0.        , 0.19230769, 0.11538462, ..., 0.11153846, 0.00961538,\n",
       "        0.        ],\n",
       "       ...,\n",
       "       [0.        , 0.12643048, 0.07990132, ..., 0.12553964, 0.00931954,\n",
       "        0.00397451],\n",
       "       [0.        , 0.11447811, 0.10774411, ..., 0.15488215, 0.04713805,\n",
       "        0.01346801],\n",
       "       [0.        , 0.13587591, 0.07222628, ..., 0.1330292 , 0.0129562 ,\n",
       "        0.0090146 ]])"
      ]
     },
     "execution_count": 21,
     "metadata": {},
     "output_type": "execute_result"
    }
   ],
   "source": [
    "# 사용자 프로파일\n",
    "# 각 사용자의 특성 벡터를 해당 벡터의 합으로 나누어 정규화합니다.\n",
    "# 즉, 각 사용자가 선호하는 장르의 가중치를 전체 가중치 합으로 나누어 비율로 나타냅니다.\n",
    "users_features = users_features / np.sum(users_features, axis=1, keepdims=True)\n",
    "\n",
    "# 정규화된 사용자 특성 행렬 \n",
    "users_features"
   ]
  },
  {
   "cell_type": "markdown",
   "metadata": {},
   "source": [
    "## step3) 사용자가 보지 않은 영화에 사용자 프로파일을 적용하여 추천 영화 list 작성\n",
    "- 사용자가 보지 않은 영화의 장르 행렬을 작성합니다.  \n",
    "- 사용자 프로파일과 영화의 장르 행렬을 기반으로 각 영화에 대한 예측 평점을 계산합니다."
   ]
  },
  {
   "cell_type": "markdown",
   "metadata": {},
   "source": [
    "각 사용자별로 선호 장르를 순서대로 나열"
   ]
  },
  {
   "cell_type": "code",
   "execution_count": 22,
   "metadata": {},
   "outputs": [
    {
     "data": {
      "text/plain": [
       "array([[ 1,  2,  5, ...,  0,  7, 12],\n",
       "       [ 8,  1,  6, ...,  9, 10, 13],\n",
       "       [16,  1, 11, ..., 10, 12, 19],\n",
       "       ...,\n",
       "       [ 5,  8,  1, ...,  7, 10,  0],\n",
       "       [ 8, 17,  1, ..., 10, 13, 14],\n",
       "       [ 1,  8, 17, ..., 10,  7,  0]])"
      ]
     },
     "execution_count": 22,
     "metadata": {},
     "output_type": "execute_result"
    }
   ],
   "source": [
    "# 특징 벡터의 길이 계산 - 사용자가 선호하는 장르의 수 의미\n",
    "num_features = len(features)\n",
    "\n",
    "# 각 사용자에 대해 상위 k개의 특징 인덱스를 추출\n",
    "# tf.nn.top_k 함수는 주어진 배열에서 가장 큰 값의 인덱스를 반환\n",
    "# users_features: 사용자의 장르 선호도를 나타내는 정규화된 특성 벡터\n",
    "# k=num_features: 각 사용자의 모든 장르에 대한 인덱스를 반환합니다.\n",
    "top_users_features = tf.nn.top_k(users_features, k=num_features)[1]\n",
    "\n",
    "# 텐서플로우 텐서를 넘파이 배열로 변환하여 출력\n",
    "top_users_features.numpy()"
   ]
  },
  {
   "cell_type": "markdown",
   "metadata": {},
   "source": [
    "장르 index 를 장르명으로 표시"
   ]
  },
  {
   "cell_type": "code",
   "execution_count": 23,
   "metadata": {},
   "outputs": [
    {
     "name": "stdout",
     "output_type": "stream",
     "text": [
      "사용자 0: ['Action', 'Adventure', 'Comedy', 'Drama', 'Thriller', 'Fantasy', 'Crime', 'Children', 'Sci-Fi', 'Animation', 'Romance', 'Musical', 'War', 'Mystery', 'Horror', 'Western', 'Film-Noir', '(no genres listed)', 'Documentary', 'IMAX']\n",
      "\n",
      "사용자 1: ['Drama', 'Action', 'Crime', 'Thriller', 'Comedy', 'Sci-Fi', 'IMAX', 'Documentary', 'Adventure', 'Mystery', 'Romance', 'War', 'Western', 'Horror', '(no genres listed)', 'Animation', 'Children', 'Fantasy', 'Film-Noir', 'Musical']\n",
      "\n",
      "사용자 2: ['Sci-Fi', 'Action', 'Horror', 'Adventure', 'Thriller', 'Fantasy', 'Drama', 'Comedy', 'Mystery', 'Children', 'Romance', 'War', 'Animation', 'Crime', 'Musical', '(no genres listed)', 'Documentary', 'Film-Noir', 'IMAX', 'Western']\n",
      "\n",
      "사용자 3: ['Drama', 'Comedy', 'Romance', 'Thriller', 'Adventure', 'Crime', 'Action', 'Mystery', 'Fantasy', 'Musical', 'Children', 'Western', 'Sci-Fi', 'War', 'Animation', 'Horror', 'Film-Noir', 'Documentary', 'IMAX', '(no genres listed)']\n",
      "\n",
      "사용자 4: ['Drama', 'Comedy', 'Crime', 'Children', 'Romance', 'Thriller', 'Fantasy', 'Action', 'Adventure', 'Animation', 'Musical', 'IMAX', 'War', 'Western', 'Sci-Fi', 'Mystery', 'Horror', '(no genres listed)', 'Documentary', 'Film-Noir']\n",
      "\n"
     ]
    }
   ],
   "source": [
    "# 상위 5명의 사용자를 처리\n",
    "for i in range(5):  \n",
    "    # 각 사용자의 상위 특징 인덱스를 사용하여 해당 특징(장르) 이름을 가져옴\n",
    "    feature_names = [features[idx] for idx in top_users_features[i]]\n",
    "    \n",
    "    # 사용자 번호와 해당 사용자가 선호하는 상위 장르 목록을 출력\n",
    "    print('사용자 {}: {}'.format(i, feature_names))\n",
    "    print()  # 한 줄 띄워서 출력"
   ]
  },
  {
   "cell_type": "markdown",
   "metadata": {},
   "source": [
    "### 추천할 영화 결정\n",
    "\n",
    "- 이제 위에서 계산 한 `users_features` 를 사용하여 각 사용자에 대한 영화 등급 및 추천을 결정합니다.  \n",
    "- 각 영화의 예상 등급을 계산하기 위해 사용자의 특성 벡터와 해당 영화 특성 벡터간의 유사성 측정값을 계산합니다. "
   ]
  },
  {
   "cell_type": "markdown",
   "metadata": {},
   "source": [
    "### 모든 영화 특성과 모든 사용자 특성간의 유사도 측정"
   ]
  },
  {
   "cell_type": "code",
   "execution_count": 24,
   "metadata": {},
   "outputs": [
    {
     "name": "stdout",
     "output_type": "stream",
     "text": [
      "(610, 9724)\n"
     ]
    }
   ],
   "source": [
    "# 모든 사용자의 예상 평점을 코사인 유사도로 계산\n",
    "# users_features: 사용자의 장르 선호도를 나타내는 정규화된 특성 벡터\n",
    "# movies_features: 각 영화의 장르 특성을 나타내는 벡터\n",
    "# cosine_similarity: 두 벡터 간의 코사인 유사도를 계산하여 사용자가 각 영화를 얼마나 선호할지를 예측\n",
    "all_users_ratings = cosine_similarity(users_features, movies_features)\n",
    "\n",
    "print(all_users_ratings.shape)"
   ]
  },
  {
   "cell_type": "code",
   "execution_count": 25,
   "metadata": {},
   "outputs": [
    {
     "data": {
      "text/html": [
       "<div>\n",
       "<style scoped>\n",
       "    .dataframe tbody tr th:only-of-type {\n",
       "        vertical-align: middle;\n",
       "    }\n",
       "\n",
       "    .dataframe tbody tr th {\n",
       "        vertical-align: top;\n",
       "    }\n",
       "\n",
       "    .dataframe thead th {\n",
       "        text-align: right;\n",
       "    }\n",
       "</style>\n",
       "<table border=\"1\" class=\"dataframe\">\n",
       "  <thead>\n",
       "    <tr style=\"text-align: right;\">\n",
       "      <th></th>\n",
       "      <th>Toy Story (1995)</th>\n",
       "      <th>Jumanji (1995)</th>\n",
       "      <th>Grumpier Old Men (1995)</th>\n",
       "      <th>Waiting to Exhale (1995)</th>\n",
       "      <th>Father of the Bride Part II (1995)</th>\n",
       "      <th>Heat (1995)</th>\n",
       "      <th>Sabrina (1995)</th>\n",
       "      <th>Tom and Huck (1995)</th>\n",
       "      <th>Sudden Death (1995)</th>\n",
       "      <th>GoldenEye (1995)</th>\n",
       "      <th>...</th>\n",
       "      <th>Gintama: The Movie (2010)</th>\n",
       "      <th>anohana: The Flower We Saw That Day - The Movie (2013)</th>\n",
       "      <th>Silver Spoon (2014)</th>\n",
       "      <th>Love Live! The School Idol Movie (2015)</th>\n",
       "      <th>Jon Stewart Has Left the Building (2015)</th>\n",
       "      <th>Black Butler: Book of the Atlantic (2017)</th>\n",
       "      <th>No Game No Life: Zero (2017)</th>\n",
       "      <th>Flint (2017)</th>\n",
       "      <th>Bungo Stray Dogs: Dead Apple (2018)</th>\n",
       "      <th>Andrew Dice Clay: Dice Rules (1991)</th>\n",
       "    </tr>\n",
       "  </thead>\n",
       "  <tbody>\n",
       "    <tr>\n",
       "      <th>0</th>\n",
       "      <td>0.641015</td>\n",
       "      <td>0.504297</td>\n",
       "      <td>0.376548</td>\n",
       "      <td>0.510222</td>\n",
       "      <td>0.404806</td>\n",
       "      <td>0.535239</td>\n",
       "      <td>0.376548</td>\n",
       "      <td>0.454760</td>\n",
       "      <td>0.443576</td>\n",
       "      <td>0.651768</td>\n",
       "      <td>...</td>\n",
       "      <td>0.598086</td>\n",
       "      <td>0.358003</td>\n",
       "      <td>0.534585</td>\n",
       "      <td>0.155080</td>\n",
       "      <td>0.000000</td>\n",
       "      <td>0.616901</td>\n",
       "      <td>0.456237</td>\n",
       "      <td>0.351212</td>\n",
       "      <td>0.423314</td>\n",
       "      <td>0.404806</td>\n",
       "    </tr>\n",
       "    <tr>\n",
       "      <th>1</th>\n",
       "      <td>0.174596</td>\n",
       "      <td>0.069569</td>\n",
       "      <td>0.221530</td>\n",
       "      <td>0.548200</td>\n",
       "      <td>0.269912</td>\n",
       "      <td>0.659510</td>\n",
       "      <td>0.221530</td>\n",
       "      <td>0.085204</td>\n",
       "      <td>0.419327</td>\n",
       "      <td>0.517590</td>\n",
       "      <td>...</td>\n",
       "      <td>0.419327</td>\n",
       "      <td>0.449876</td>\n",
       "      <td>0.640732</td>\n",
       "      <td>0.000000</td>\n",
       "      <td>0.125316</td>\n",
       "      <td>0.344619</td>\n",
       "      <td>0.155834</td>\n",
       "      <td>0.636220</td>\n",
       "      <td>0.296509</td>\n",
       "      <td>0.269912</td>\n",
       "    </tr>\n",
       "    <tr>\n",
       "      <th>2</th>\n",
       "      <td>0.253993</td>\n",
       "      <td>0.264624</td>\n",
       "      <td>0.081024</td>\n",
       "      <td>0.135188</td>\n",
       "      <td>0.089676</td>\n",
       "      <td>0.460215</td>\n",
       "      <td>0.081024</td>\n",
       "      <td>0.228981</td>\n",
       "      <td>0.498197</td>\n",
       "      <td>0.627043</td>\n",
       "      <td>...</td>\n",
       "      <td>0.617765</td>\n",
       "      <td>0.098638</td>\n",
       "      <td>0.147957</td>\n",
       "      <td>0.019928</td>\n",
       "      <td>0.000000</td>\n",
       "      <td>0.371157</td>\n",
       "      <td>0.140941</td>\n",
       "      <td>0.119567</td>\n",
       "      <td>0.366370</td>\n",
       "      <td>0.089676</td>\n",
       "    </tr>\n",
       "  </tbody>\n",
       "</table>\n",
       "<p>3 rows × 9724 columns</p>\n",
       "</div>"
      ],
      "text/plain": [
       "   Toy Story (1995)  Jumanji (1995)  Grumpier Old Men (1995)  \\\n",
       "0          0.641015        0.504297                 0.376548   \n",
       "1          0.174596        0.069569                 0.221530   \n",
       "2          0.253993        0.264624                 0.081024   \n",
       "\n",
       "   Waiting to Exhale (1995)  Father of the Bride Part II (1995)  Heat (1995)  \\\n",
       "0                  0.510222                            0.404806     0.535239   \n",
       "1                  0.548200                            0.269912     0.659510   \n",
       "2                  0.135188                            0.089676     0.460215   \n",
       "\n",
       "   Sabrina (1995)  Tom and Huck (1995)  Sudden Death (1995)  GoldenEye (1995)  \\\n",
       "0        0.376548             0.454760             0.443576          0.651768   \n",
       "1        0.221530             0.085204             0.419327          0.517590   \n",
       "2        0.081024             0.228981             0.498197          0.627043   \n",
       "\n",
       "   ...  Gintama: The Movie (2010)  \\\n",
       "0  ...                   0.598086   \n",
       "1  ...                   0.419327   \n",
       "2  ...                   0.617765   \n",
       "\n",
       "   anohana: The Flower We Saw That Day - The Movie (2013)  \\\n",
       "0                                           0.358003        \n",
       "1                                           0.449876        \n",
       "2                                           0.098638        \n",
       "\n",
       "   Silver Spoon (2014)  Love Live! The School Idol Movie (2015)  \\\n",
       "0             0.534585                                 0.155080   \n",
       "1             0.640732                                 0.000000   \n",
       "2             0.147957                                 0.019928   \n",
       "\n",
       "   Jon Stewart Has Left the Building (2015)  \\\n",
       "0                                  0.000000   \n",
       "1                                  0.125316   \n",
       "2                                  0.000000   \n",
       "\n",
       "   Black Butler: Book of the Atlantic (2017)  No Game No Life: Zero (2017)  \\\n",
       "0                                   0.616901                      0.456237   \n",
       "1                                   0.344619                      0.155834   \n",
       "2                                   0.371157                      0.140941   \n",
       "\n",
       "   Flint (2017)  Bungo Stray Dogs: Dead Apple (2018)  \\\n",
       "0      0.351212                             0.423314   \n",
       "1      0.636220                             0.296509   \n",
       "2      0.119567                             0.366370   \n",
       "\n",
       "   Andrew Dice Clay: Dice Rules (1991)  \n",
       "0                             0.404806  \n",
       "1                             0.269912  \n",
       "2                             0.089676  \n",
       "\n",
       "[3 rows x 9724 columns]"
      ]
     },
     "execution_count": 25,
     "metadata": {},
     "output_type": "execute_result"
    }
   ],
   "source": [
    "# 모든 사용자의 예상 평점을 데이터프레임으로 변환\n",
    "# columns에는 영화 이름 목록을 지정하여 각 열이 특정 영화를 나타내도록 함\n",
    "df_all_users_ratings = pd.DataFrame(all_users_ratings, columns=movie_names_list)\n",
    "\n",
    "df_all_users_ratings.head(3)"
   ]
  },
  {
   "cell_type": "code",
   "execution_count": 37,
   "metadata": {},
   "outputs": [
    {
     "name": "stdout",
     "output_type": "stream",
     "text": [
      "9724\n",
      "['Toy Story (1995)', 'Jumanji (1995)', 'Grumpier Old Men (1995)', 'Waiting to Exhale (1995)', 'Father of the Bride Part II (1995)']\n"
     ]
    }
   ],
   "source": [
    "# 모든 사용자의 예상 평점 DF의 열 이름을 영화 제목 리스트로 변환\n",
    "all_users_ratings_titles = df_all_users_ratings.columns.tolist()\n",
    "\n",
    "# 영화 제목 리스트의 길이(영화의 총 수) 출력\n",
    "print(len(all_users_ratings_titles))\n",
    "print(all_users_ratings_titles[:5])"
   ]
  },
  {
   "cell_type": "markdown",
   "metadata": {},
   "source": [
    "- 위의 계산은 데이터베이스의 각 사용자와 각 영화 간의 유사성 측정값을 계산합니다.  \n",
    "- 새 영화의 등급에만 집중하기 위해 all_users_ratings 매트릭스에 마스크를 적용하여, 사용자가 이미 영화를 평가한 경우 해당 평가를 무시합니다. 이렇게 하면 이전에 본 적이 없거나 등급이 지정되지 않은 영화에 대한 등급에만 집중합니다."
   ]
  },
  {
   "cell_type": "code",
   "execution_count": 32,
   "metadata": {},
   "outputs": [
    {
     "data": {
      "text/plain": [
       "array([[False,  True, False, ...,  True,  True,  True],\n",
       "       [ True,  True,  True, ...,  True,  True,  True],\n",
       "       [ True,  True,  True, ...,  True,  True,  True],\n",
       "       ...,\n",
       "       [False, False, False, ...,  True,  True,  True],\n",
       "       [False,  True,  True, ...,  True,  True,  True],\n",
       "       [False,  True,  True, ...,  True,  True,  True]])"
      ]
     },
     "execution_count": 32,
     "metadata": {},
     "output_type": "execute_result"
    }
   ],
   "source": [
    "# 사용자가 보지 않은 영화를 찾기 위해 이진 행렬을 생성\n",
    "# users_seen_movies와 같은 형태의 0으로 된 배열을 생성하여 사용자가 보지 않은 영화를 찾습니다.\n",
    "# np.equal 함수는 두 배열의 요소를 비교하여 같은 위치에 같은 값이 있는 경우 True를 반환합니다.\n",
    "users_unseen_movies = np.equal(users_seen_movies, np.zeros_like(users_seen_movies))\n",
    "\n",
    "# 사용자가 보지 않은 영화에 대한 이진 행렬 \n",
    "users_unseen_movies"
   ]
  },
  {
   "cell_type": "code",
   "execution_count": 33,
   "metadata": {},
   "outputs": [
    {
     "data": {
      "text/plain": [
       "array([[0.        , 0.50429694, 0.        , ..., 0.35121165, 0.42331387,\n",
       "        0.40480563],\n",
       "       [0.17459573, 0.06956855, 0.2215297 , ..., 0.63622031, 0.29650898,\n",
       "        0.26991165],\n",
       "       [0.25399269, 0.2646236 , 0.0810241 , ..., 0.11956735, 0.36636983,\n",
       "        0.08967551],\n",
       "       ...,\n",
       "       [0.        , 0.        , 0.        , ..., 0.43293558, 0.34795643,\n",
       "        0.43698381],\n",
       "       [0.        , 0.23434694, 0.27301447, ..., 0.63360126, 0.25901373,\n",
       "        0.22770045],\n",
       "       [0.        , 0.23927991, 0.3337287 , ..., 0.44296564, 0.35760866,\n",
       "        0.36599559]])"
      ]
     },
     "execution_count": 33,
     "metadata": {},
     "output_type": "execute_result"
    }
   ],
   "source": [
    "users_ratings_expected = np.where(\n",
    "    users_unseen_movies,   # 조건: 사용자가 영화를 보지 않았는지 여부 (True: 안 본 영화, False: 본 영화)\n",
    "    all_users_ratings,     # True일 때 적용할 값: 모든 사용자의 평점(사용자가 보지 않은 영화에 대한 평점)\n",
    "    0)         # False일 때 적용할 값: 무시할 값(이미 본 영화에 대해서는 변경하지 않음)\n",
    "users_ratings_expected"
   ]
  },
  {
   "cell_type": "markdown",
   "metadata": {},
   "source": [
    "- 각 사용자에 대해 보지 않은 영화의 상위 2 개 등급의 영화를 가져와 인쇄해 봅니다."
   ]
  },
  {
   "cell_type": "code",
   "execution_count": 34,
   "metadata": {},
   "outputs": [
    {
     "data": {
      "text/plain": [
       "<tf.Tensor: shape=(610, 2), dtype=int32, numpy=\n",
       "array([[8579, 6553],\n",
       "       [  19,  118],\n",
       "       [6772,  901],\n",
       "       ...,\n",
       "       [6553,   19],\n",
       "       [6553, 4170],\n",
       "       [6412,   19]])>"
      ]
     },
     "execution_count": 34,
     "metadata": {},
     "output_type": "execute_result"
    }
   ],
   "source": [
    "# 각 사용자별로 예상 평점이 가장 높은 상위 2개의 영화 인덱스를 추출\n",
    "# tf.nn.top_k 함수는 주어진 배열에서 가장 큰 값의 상위 k개의 인덱스를 반환합니다.\n",
    "# users_ratings_expected: 사용자의 예상 평점 행렬\n",
    "# k=2: 상위 2개의 예상 평점을 가진 영화의 인덱스를 반환하도록 설정합니다.\n",
    "top_movies = tf.nn.top_k(users_ratings_expected, 2)[1]\n",
    "\n",
    "# 상위 2개의 영화 인덱스 출력\n",
    "top_movies"
   ]
  },
  {
   "cell_type": "code",
   "execution_count": 35,
   "metadata": {},
   "outputs": [],
   "source": [
    "#df_all_users_ratings"
   ]
  },
  {
   "cell_type": "code",
   "execution_count": 36,
   "metadata": {},
   "outputs": [
    {
     "name": "stdout",
     "output_type": "stream",
     "text": [
      "사용자 0: ['Dragonheart 2: A New Beginning (2000)', 'Hunting Party, The (2007)']\n",
      "사용자 1: ['Money Train (1995)', 'Bad Boys (1995)']\n",
      "사용자 2: ['Rogue (2007)', 'Aliens (1986)']\n",
      "사용자 3: ['Waiting to Exhale (1995)', 'American President, The (1995)']\n",
      "사용자 4: ['Osmosis Jones (2001)', 'Out of Sight (1998)']\n"
     ]
    }
   ],
   "source": [
    "# 추천할 영화 목록 생성 및 출력\n",
    "for i in range(5):  # 상위 5명의 사용자에 대해서만 처리\n",
    "    # 각 사용자의 상위 영화 인덱스를 사용하여 해당 영화 제목을 가져옴\n",
    "    movie_names = [all_users_ratings_titles[idx] for idx in top_movies[i]]\n",
    "    \n",
    "    # 사용자 번호와 해당 사용자에게 추천할 상위 영화 목록을 출력\n",
    "    print('사용자 {}: {}'.format(i, movie_names))"
   ]
  },
  {
   "cell_type": "code",
   "execution_count": null,
   "metadata": {},
   "outputs": [],
   "source": []
  }
 ],
 "metadata": {
  "colab": {
   "name": "content_based_by_hand.ipynb",
   "provenance": [],
   "version": "0.3.2"
  },
  "kernelspec": {
   "display_name": "Python 3 (ipykernel)",
   "language": "python",
   "name": "python3"
  },
  "language_info": {
   "codemirror_mode": {
    "name": "ipython",
    "version": 3
   },
   "file_extension": ".py",
   "mimetype": "text/x-python",
   "name": "python",
   "nbconvert_exporter": "python",
   "pygments_lexer": "ipython3",
   "version": "3.9.16"
  }
 },
 "nbformat": 4,
 "nbformat_minor": 4
}
