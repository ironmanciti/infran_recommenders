{
 "cells": [
  {
   "cell_type": "markdown",
   "id": "0e1d1ef9",
   "metadata": {},
   "source": [
    "# 130. Item-Based Collaborative Filtering (아이템 기반 협업 필터링)\n",
    "\n",
    "### User-Based CF vs Item_Basef CF\n",
    "\n",
    "| 사용자 | 기생충 | 겨울왕국 | 부산행 | 백두산 | \n",
    "| --- | --- |--- |--- | ---|\n",
    "| 철수|4 | 3 | 5 |   |  \n",
    "|영희| |2|1|2|\n",
    "|길동|1|5| | 3| \n",
    "|정숙| | |4|5|\n",
    "\n",
    "<img src=\"https://img1.daumcdn.net/thumb/R1280x0/?scode=mtistory2&fname=https%3A%2F%2Fblog.kakaocdn.net%2Fdn%2FpxM35%2FbtrbAIgrefV%2FKPUOwAAuXRUw5DOaQshNi1%2Fimg.png\" width=\"500\" />\n",
    "\n",
    "### UBCF\n",
    "\n",
    "- 장점 : 각 사용자별로 맞춤형 추천을 하므로 정확한 추천이 가능\n",
    "- 단점 : \n",
    "    - 데이터가 풍부한 경우(구매나 평가 정보) 추천이 가능   \n",
    "    - 데이터가 조금만 바뀌어도 업데이트 필요\n",
    "    \n",
    "\n",
    "### IBCF\n",
    "\n",
    "- 장점 :\n",
    "    - 사용자별로 따로 계산 않으므로 계산 속도가 빠르다.\n",
    "    - 데이터가 조금 바뀌어도 추천 결과에 영향이 크지 않으므로 업데이트를 자주하지 않아도 된다.  \n",
    "    - 대규모 사이트에 적합\n",
    "- 단점 : 사용자의 최신 취향 반영에 시간이 걸릴 수 있음\n"
   ]
  },
  {
   "cell_type": "code",
   "execution_count": 1,
   "id": "8d613305-4d06-401a-933e-eb34ff6ccbff",
   "metadata": {},
   "outputs": [
    {
     "data": {
      "text/plain": [
       "'1.2.2'"
      ]
     },
     "execution_count": 1,
     "metadata": {},
     "output_type": "execute_result"
    }
   ],
   "source": [
    "import sklearn\n",
    "sklearn.__version__"
   ]
  },
  {
   "cell_type": "code",
   "execution_count": 3,
   "id": "1aa87fa2-26f7-464e-8184-d60c73cbfe06",
   "metadata": {},
   "outputs": [
    {
     "data": {
      "text/html": [
       "<div>\n",
       "<style scoped>\n",
       "    .dataframe tbody tr th:only-of-type {\n",
       "        vertical-align: middle;\n",
       "    }\n",
       "\n",
       "    .dataframe tbody tr th {\n",
       "        vertical-align: top;\n",
       "    }\n",
       "\n",
       "    .dataframe thead th {\n",
       "        text-align: right;\n",
       "    }\n",
       "</style>\n",
       "<table border=\"1\" class=\"dataframe\">\n",
       "  <thead>\n",
       "    <tr style=\"text-align: right;\">\n",
       "      <th></th>\n",
       "      <th>movie_id</th>\n",
       "      <th>title</th>\n",
       "      <th>release date</th>\n",
       "      <th>video release date</th>\n",
       "      <th>IMDB URL</th>\n",
       "      <th>unknown</th>\n",
       "      <th>Action</th>\n",
       "      <th>Adventure</th>\n",
       "      <th>Animation</th>\n",
       "      <th>Children's</th>\n",
       "      <th>...</th>\n",
       "      <th>Fantasy</th>\n",
       "      <th>Film-Noir</th>\n",
       "      <th>Horror</th>\n",
       "      <th>Musical</th>\n",
       "      <th>Mystery</th>\n",
       "      <th>Romance</th>\n",
       "      <th>Sci-Fi</th>\n",
       "      <th>Thriller</th>\n",
       "      <th>War</th>\n",
       "      <th>Western</th>\n",
       "    </tr>\n",
       "  </thead>\n",
       "  <tbody>\n",
       "    <tr>\n",
       "      <th>0</th>\n",
       "      <td>1</td>\n",
       "      <td>Toy Story (1995)</td>\n",
       "      <td>01-Jan-1995</td>\n",
       "      <td>NaN</td>\n",
       "      <td>http://us.imdb.com/M/title-exact?Toy%20Story%2...</td>\n",
       "      <td>0</td>\n",
       "      <td>0</td>\n",
       "      <td>0</td>\n",
       "      <td>1</td>\n",
       "      <td>1</td>\n",
       "      <td>...</td>\n",
       "      <td>0</td>\n",
       "      <td>0</td>\n",
       "      <td>0</td>\n",
       "      <td>0</td>\n",
       "      <td>0</td>\n",
       "      <td>0</td>\n",
       "      <td>0</td>\n",
       "      <td>0</td>\n",
       "      <td>0</td>\n",
       "      <td>0</td>\n",
       "    </tr>\n",
       "    <tr>\n",
       "      <th>1</th>\n",
       "      <td>2</td>\n",
       "      <td>GoldenEye (1995)</td>\n",
       "      <td>01-Jan-1995</td>\n",
       "      <td>NaN</td>\n",
       "      <td>http://us.imdb.com/M/title-exact?GoldenEye%20(...</td>\n",
       "      <td>0</td>\n",
       "      <td>1</td>\n",
       "      <td>1</td>\n",
       "      <td>0</td>\n",
       "      <td>0</td>\n",
       "      <td>...</td>\n",
       "      <td>0</td>\n",
       "      <td>0</td>\n",
       "      <td>0</td>\n",
       "      <td>0</td>\n",
       "      <td>0</td>\n",
       "      <td>0</td>\n",
       "      <td>0</td>\n",
       "      <td>1</td>\n",
       "      <td>0</td>\n",
       "      <td>0</td>\n",
       "    </tr>\n",
       "    <tr>\n",
       "      <th>2</th>\n",
       "      <td>3</td>\n",
       "      <td>Four Rooms (1995)</td>\n",
       "      <td>01-Jan-1995</td>\n",
       "      <td>NaN</td>\n",
       "      <td>http://us.imdb.com/M/title-exact?Four%20Rooms%...</td>\n",
       "      <td>0</td>\n",
       "      <td>0</td>\n",
       "      <td>0</td>\n",
       "      <td>0</td>\n",
       "      <td>0</td>\n",
       "      <td>...</td>\n",
       "      <td>0</td>\n",
       "      <td>0</td>\n",
       "      <td>0</td>\n",
       "      <td>0</td>\n",
       "      <td>0</td>\n",
       "      <td>0</td>\n",
       "      <td>0</td>\n",
       "      <td>1</td>\n",
       "      <td>0</td>\n",
       "      <td>0</td>\n",
       "    </tr>\n",
       "  </tbody>\n",
       "</table>\n",
       "<p>3 rows × 24 columns</p>\n",
       "</div>"
      ],
      "text/plain": [
       "   movie_id              title release date  video release date  \\\n",
       "0         1   Toy Story (1995)  01-Jan-1995                 NaN   \n",
       "1         2   GoldenEye (1995)  01-Jan-1995                 NaN   \n",
       "2         3  Four Rooms (1995)  01-Jan-1995                 NaN   \n",
       "\n",
       "                                            IMDB URL  unknown  Action  \\\n",
       "0  http://us.imdb.com/M/title-exact?Toy%20Story%2...        0       0   \n",
       "1  http://us.imdb.com/M/title-exact?GoldenEye%20(...        0       1   \n",
       "2  http://us.imdb.com/M/title-exact?Four%20Rooms%...        0       0   \n",
       "\n",
       "   Adventure  Animation  Children's  ...  Fantasy  Film-Noir  Horror  Musical  \\\n",
       "0          0          1           1  ...        0          0       0        0   \n",
       "1          1          0           0  ...        0          0       0        0   \n",
       "2          0          0           0  ...        0          0       0        0   \n",
       "\n",
       "   Mystery  Romance  Sci-Fi  Thriller  War  Western  \n",
       "0        0        0       0         0    0        0  \n",
       "1        0        0       0         1    0        0  \n",
       "2        0        0       0         1    0        0  \n",
       "\n",
       "[3 rows x 24 columns]"
      ]
     },
     "execution_count": 3,
     "metadata": {},
     "output_type": "execute_result"
    }
   ],
   "source": [
    "# 필요한 라이브러리 임포트\n",
    "import numpy as np  \n",
    "import pandas as pd  \n",
    "from sklearn.model_selection import train_test_split  \n",
    "\n",
    "# from sklearn.metrics import root_mean_squared_error   # sklearn 최신 버전\n",
    "from sklearn.metrics import mean_squared_error  # sklearn 구 버전\n",
    "\n",
    "# 두 벡터 간의 코사인 유사도를 계산하기 위한 함수\n",
    "from sklearn.metrics.pairwise import cosine_similarity\n",
    "\n",
    "# 영화 데이터의 열 이름을 정의\n",
    "i_cols = ['movie_id', 'title', 'release date', 'video release date', 'IMDB URL', 'unknown', \n",
    "          'Action', 'Adventure', 'Animation', 'Children\\'s', 'Comedy', 'Crime', 'Documentary', \n",
    "          'Drama', 'Fantasy', 'Film-Noir', 'Horror', 'Musical', 'Mystery', 'Romance', 'Sci-Fi', \n",
    "          'Thriller', 'War', 'Western']\n",
    "\n",
    "# 영화 (특성) 정보 로드\n",
    "movies = pd.read_csv('data/u.item', sep='|', names=i_cols, encoding='latin-1')\n",
    "movies.head(3)"
   ]
  },
  {
   "cell_type": "markdown",
   "id": "b6024d32-b0b0-4eb4-b4aa-fa331cfeaa86",
   "metadata": {},
   "source": [
    "- content-based filtering 과 달리 CF 는 similarity 를 이용하므로 **item 정보가 필요하지 않기 때문에** movies dataframe에서 title 을 제외한 모든 다른 열을 drop 한다.  "
   ]
  },
  {
   "cell_type": "code",
   "execution_count": 4,
   "id": "3fe00ad1-7330-4fb5-9ded-3d77a3b0aa37",
   "metadata": {},
   "outputs": [
    {
     "data": {
      "text/html": [
       "<div>\n",
       "<style scoped>\n",
       "    .dataframe tbody tr th:only-of-type {\n",
       "        vertical-align: middle;\n",
       "    }\n",
       "\n",
       "    .dataframe tbody tr th {\n",
       "        vertical-align: top;\n",
       "    }\n",
       "\n",
       "    .dataframe thead th {\n",
       "        text-align: right;\n",
       "    }\n",
       "</style>\n",
       "<table border=\"1\" class=\"dataframe\">\n",
       "  <thead>\n",
       "    <tr style=\"text-align: right;\">\n",
       "      <th></th>\n",
       "      <th>movie_id</th>\n",
       "      <th>title</th>\n",
       "    </tr>\n",
       "  </thead>\n",
       "  <tbody>\n",
       "    <tr>\n",
       "      <th>0</th>\n",
       "      <td>1</td>\n",
       "      <td>Toy Story (1995)</td>\n",
       "    </tr>\n",
       "    <tr>\n",
       "      <th>1</th>\n",
       "      <td>2</td>\n",
       "      <td>GoldenEye (1995)</td>\n",
       "    </tr>\n",
       "    <tr>\n",
       "      <th>2</th>\n",
       "      <td>3</td>\n",
       "      <td>Four Rooms (1995)</td>\n",
       "    </tr>\n",
       "  </tbody>\n",
       "</table>\n",
       "</div>"
      ],
      "text/plain": [
       "   movie_id              title\n",
       "0         1   Toy Story (1995)\n",
       "1         2   GoldenEye (1995)\n",
       "2         3  Four Rooms (1995)"
      ]
     },
     "execution_count": 4,
     "metadata": {},
     "output_type": "execute_result"
    }
   ],
   "source": [
    "# item 정보가 필요하지 않으므로 movie ID와 title 빼고 다른 데이터 제거\n",
    "movies = movies[['movie_id', 'title']]\n",
    "movies.head(3)"
   ]
  },
  {
   "cell_type": "code",
   "execution_count": 5,
   "id": "129d9ad8",
   "metadata": {},
   "outputs": [
    {
     "data": {
      "text/html": [
       "<div>\n",
       "<style scoped>\n",
       "    .dataframe tbody tr th:only-of-type {\n",
       "        vertical-align: middle;\n",
       "    }\n",
       "\n",
       "    .dataframe tbody tr th {\n",
       "        vertical-align: top;\n",
       "    }\n",
       "\n",
       "    .dataframe thead th {\n",
       "        text-align: right;\n",
       "    }\n",
       "</style>\n",
       "<table border=\"1\" class=\"dataframe\">\n",
       "  <thead>\n",
       "    <tr style=\"text-align: right;\">\n",
       "      <th></th>\n",
       "      <th>user_id</th>\n",
       "      <th>movie_id</th>\n",
       "      <th>rating</th>\n",
       "      <th>timestamp</th>\n",
       "    </tr>\n",
       "  </thead>\n",
       "  <tbody>\n",
       "    <tr>\n",
       "      <th>0</th>\n",
       "      <td>196</td>\n",
       "      <td>242</td>\n",
       "      <td>3</td>\n",
       "      <td>881250949</td>\n",
       "    </tr>\n",
       "    <tr>\n",
       "      <th>1</th>\n",
       "      <td>186</td>\n",
       "      <td>302</td>\n",
       "      <td>3</td>\n",
       "      <td>891717742</td>\n",
       "    </tr>\n",
       "    <tr>\n",
       "      <th>2</th>\n",
       "      <td>22</td>\n",
       "      <td>377</td>\n",
       "      <td>1</td>\n",
       "      <td>878887116</td>\n",
       "    </tr>\n",
       "    <tr>\n",
       "      <th>3</th>\n",
       "      <td>244</td>\n",
       "      <td>51</td>\n",
       "      <td>2</td>\n",
       "      <td>880606923</td>\n",
       "    </tr>\n",
       "    <tr>\n",
       "      <th>4</th>\n",
       "      <td>166</td>\n",
       "      <td>346</td>\n",
       "      <td>1</td>\n",
       "      <td>886397596</td>\n",
       "    </tr>\n",
       "    <tr>\n",
       "      <th>...</th>\n",
       "      <td>...</td>\n",
       "      <td>...</td>\n",
       "      <td>...</td>\n",
       "      <td>...</td>\n",
       "    </tr>\n",
       "    <tr>\n",
       "      <th>99995</th>\n",
       "      <td>880</td>\n",
       "      <td>476</td>\n",
       "      <td>3</td>\n",
       "      <td>880175444</td>\n",
       "    </tr>\n",
       "    <tr>\n",
       "      <th>99996</th>\n",
       "      <td>716</td>\n",
       "      <td>204</td>\n",
       "      <td>5</td>\n",
       "      <td>879795543</td>\n",
       "    </tr>\n",
       "    <tr>\n",
       "      <th>99997</th>\n",
       "      <td>276</td>\n",
       "      <td>1090</td>\n",
       "      <td>1</td>\n",
       "      <td>874795795</td>\n",
       "    </tr>\n",
       "    <tr>\n",
       "      <th>99998</th>\n",
       "      <td>13</td>\n",
       "      <td>225</td>\n",
       "      <td>2</td>\n",
       "      <td>882399156</td>\n",
       "    </tr>\n",
       "    <tr>\n",
       "      <th>99999</th>\n",
       "      <td>12</td>\n",
       "      <td>203</td>\n",
       "      <td>3</td>\n",
       "      <td>879959583</td>\n",
       "    </tr>\n",
       "  </tbody>\n",
       "</table>\n",
       "<p>100000 rows × 4 columns</p>\n",
       "</div>"
      ],
      "text/plain": [
       "       user_id  movie_id  rating  timestamp\n",
       "0          196       242       3  881250949\n",
       "1          186       302       3  891717742\n",
       "2           22       377       1  878887116\n",
       "3          244        51       2  880606923\n",
       "4          166       346       1  886397596\n",
       "...        ...       ...     ...        ...\n",
       "99995      880       476       3  880175444\n",
       "99996      716       204       5  879795543\n",
       "99997      276      1090       1  874795795\n",
       "99998       13       225       2  882399156\n",
       "99999       12       203       3  879959583\n",
       "\n",
       "[100000 rows x 4 columns]"
      ]
     },
     "execution_count": 5,
     "metadata": {},
     "output_type": "execute_result"
    }
   ],
   "source": [
    "# 평점 데이터의 열 이름을 정의\n",
    "r_cols = ['user_id', 'movie_id', 'rating', 'timestamp']\n",
    "\n",
    "# 평점 데이터를 파일에서 읽어옴\n",
    "# 'data/u.rating' 파일을 탭('\\t')으로 구분된 데이터로 읽고, 열 이름을 r_cols로 지정\n",
    "ratings = pd.read_csv('data/u.rating', sep='\\t', names=r_cols, encoding='latin-1')\n",
    "ratings"
   ]
  },
  {
   "cell_type": "markdown",
   "id": "8078ca92",
   "metadata": {},
   "source": [
    "- ratings 만을 입력으로 사용"
   ]
  },
  {
   "cell_type": "code",
   "execution_count": 6,
   "id": "27698d42",
   "metadata": {},
   "outputs": [
    {
     "data": {
      "text/html": [
       "<div>\n",
       "<style scoped>\n",
       "    .dataframe tbody tr th:only-of-type {\n",
       "        vertical-align: middle;\n",
       "    }\n",
       "\n",
       "    .dataframe tbody tr th {\n",
       "        vertical-align: top;\n",
       "    }\n",
       "\n",
       "    .dataframe thead th {\n",
       "        text-align: right;\n",
       "    }\n",
       "</style>\n",
       "<table border=\"1\" class=\"dataframe\">\n",
       "  <thead>\n",
       "    <tr style=\"text-align: right;\">\n",
       "      <th></th>\n",
       "      <th>user_id</th>\n",
       "      <th>movie_id</th>\n",
       "      <th>rating</th>\n",
       "    </tr>\n",
       "  </thead>\n",
       "  <tbody>\n",
       "    <tr>\n",
       "      <th>0</th>\n",
       "      <td>196</td>\n",
       "      <td>242</td>\n",
       "      <td>3</td>\n",
       "    </tr>\n",
       "    <tr>\n",
       "      <th>1</th>\n",
       "      <td>186</td>\n",
       "      <td>302</td>\n",
       "      <td>3</td>\n",
       "    </tr>\n",
       "    <tr>\n",
       "      <th>2</th>\n",
       "      <td>22</td>\n",
       "      <td>377</td>\n",
       "      <td>1</td>\n",
       "    </tr>\n",
       "  </tbody>\n",
       "</table>\n",
       "</div>"
      ],
      "text/plain": [
       "   user_id  movie_id  rating\n",
       "0      196       242       3\n",
       "1      186       302       3\n",
       "2       22       377       1"
      ]
     },
     "execution_count": 6,
     "metadata": {},
     "output_type": "execute_result"
    }
   ],
   "source": [
    "# timestamp 제거 \n",
    "ratings = ratings.drop('timestamp', axis=1)\n",
    "ratings.head(3)"
   ]
  },
  {
   "cell_type": "markdown",
   "id": "fbaab7f5",
   "metadata": {},
   "source": [
    "### 평점 Matrix 생성 \n",
    "\n",
    "- 아이템 간의 유사도 계산은 아이템 자체의 특성을 비교하는 것이므로, ratings를 UF 처럼 훈련과 테스트 데이터로 분리할 필요가 없습니다"
   ]
  },
  {
   "cell_type": "code",
   "execution_count": 7,
   "id": "6509c264",
   "metadata": {},
   "outputs": [
    {
     "name": "stdout",
     "output_type": "stream",
     "text": [
      "(1682, 943)\n"
     ]
    },
    {
     "data": {
      "text/html": [
       "<div>\n",
       "<style scoped>\n",
       "    .dataframe tbody tr th:only-of-type {\n",
       "        vertical-align: middle;\n",
       "    }\n",
       "\n",
       "    .dataframe tbody tr th {\n",
       "        vertical-align: top;\n",
       "    }\n",
       "\n",
       "    .dataframe thead th {\n",
       "        text-align: right;\n",
       "    }\n",
       "</style>\n",
       "<table border=\"1\" class=\"dataframe\">\n",
       "  <thead>\n",
       "    <tr style=\"text-align: right;\">\n",
       "      <th>user_id</th>\n",
       "      <th>1</th>\n",
       "      <th>2</th>\n",
       "      <th>3</th>\n",
       "      <th>4</th>\n",
       "      <th>5</th>\n",
       "      <th>6</th>\n",
       "      <th>7</th>\n",
       "      <th>8</th>\n",
       "      <th>9</th>\n",
       "      <th>10</th>\n",
       "      <th>...</th>\n",
       "      <th>934</th>\n",
       "      <th>935</th>\n",
       "      <th>936</th>\n",
       "      <th>937</th>\n",
       "      <th>938</th>\n",
       "      <th>939</th>\n",
       "      <th>940</th>\n",
       "      <th>941</th>\n",
       "      <th>942</th>\n",
       "      <th>943</th>\n",
       "    </tr>\n",
       "    <tr>\n",
       "      <th>movie_id</th>\n",
       "      <th></th>\n",
       "      <th></th>\n",
       "      <th></th>\n",
       "      <th></th>\n",
       "      <th></th>\n",
       "      <th></th>\n",
       "      <th></th>\n",
       "      <th></th>\n",
       "      <th></th>\n",
       "      <th></th>\n",
       "      <th></th>\n",
       "      <th></th>\n",
       "      <th></th>\n",
       "      <th></th>\n",
       "      <th></th>\n",
       "      <th></th>\n",
       "      <th></th>\n",
       "      <th></th>\n",
       "      <th></th>\n",
       "      <th></th>\n",
       "      <th></th>\n",
       "    </tr>\n",
       "  </thead>\n",
       "  <tbody>\n",
       "    <tr>\n",
       "      <th>1</th>\n",
       "      <td>5.0</td>\n",
       "      <td>4.0</td>\n",
       "      <td>NaN</td>\n",
       "      <td>NaN</td>\n",
       "      <td>4.0</td>\n",
       "      <td>4.0</td>\n",
       "      <td>NaN</td>\n",
       "      <td>NaN</td>\n",
       "      <td>NaN</td>\n",
       "      <td>4.0</td>\n",
       "      <td>...</td>\n",
       "      <td>2.0</td>\n",
       "      <td>3.0</td>\n",
       "      <td>4.0</td>\n",
       "      <td>NaN</td>\n",
       "      <td>4.0</td>\n",
       "      <td>NaN</td>\n",
       "      <td>NaN</td>\n",
       "      <td>5.0</td>\n",
       "      <td>NaN</td>\n",
       "      <td>NaN</td>\n",
       "    </tr>\n",
       "    <tr>\n",
       "      <th>2</th>\n",
       "      <td>3.0</td>\n",
       "      <td>NaN</td>\n",
       "      <td>NaN</td>\n",
       "      <td>NaN</td>\n",
       "      <td>3.0</td>\n",
       "      <td>NaN</td>\n",
       "      <td>NaN</td>\n",
       "      <td>NaN</td>\n",
       "      <td>NaN</td>\n",
       "      <td>NaN</td>\n",
       "      <td>...</td>\n",
       "      <td>4.0</td>\n",
       "      <td>NaN</td>\n",
       "      <td>NaN</td>\n",
       "      <td>NaN</td>\n",
       "      <td>NaN</td>\n",
       "      <td>NaN</td>\n",
       "      <td>NaN</td>\n",
       "      <td>NaN</td>\n",
       "      <td>NaN</td>\n",
       "      <td>5.0</td>\n",
       "    </tr>\n",
       "    <tr>\n",
       "      <th>3</th>\n",
       "      <td>4.0</td>\n",
       "      <td>NaN</td>\n",
       "      <td>NaN</td>\n",
       "      <td>NaN</td>\n",
       "      <td>NaN</td>\n",
       "      <td>NaN</td>\n",
       "      <td>NaN</td>\n",
       "      <td>NaN</td>\n",
       "      <td>NaN</td>\n",
       "      <td>NaN</td>\n",
       "      <td>...</td>\n",
       "      <td>NaN</td>\n",
       "      <td>NaN</td>\n",
       "      <td>4.0</td>\n",
       "      <td>NaN</td>\n",
       "      <td>NaN</td>\n",
       "      <td>NaN</td>\n",
       "      <td>NaN</td>\n",
       "      <td>NaN</td>\n",
       "      <td>NaN</td>\n",
       "      <td>NaN</td>\n",
       "    </tr>\n",
       "    <tr>\n",
       "      <th>4</th>\n",
       "      <td>3.0</td>\n",
       "      <td>NaN</td>\n",
       "      <td>NaN</td>\n",
       "      <td>NaN</td>\n",
       "      <td>NaN</td>\n",
       "      <td>NaN</td>\n",
       "      <td>5.0</td>\n",
       "      <td>NaN</td>\n",
       "      <td>NaN</td>\n",
       "      <td>4.0</td>\n",
       "      <td>...</td>\n",
       "      <td>5.0</td>\n",
       "      <td>NaN</td>\n",
       "      <td>NaN</td>\n",
       "      <td>NaN</td>\n",
       "      <td>NaN</td>\n",
       "      <td>NaN</td>\n",
       "      <td>2.0</td>\n",
       "      <td>NaN</td>\n",
       "      <td>NaN</td>\n",
       "      <td>NaN</td>\n",
       "    </tr>\n",
       "    <tr>\n",
       "      <th>5</th>\n",
       "      <td>3.0</td>\n",
       "      <td>NaN</td>\n",
       "      <td>NaN</td>\n",
       "      <td>NaN</td>\n",
       "      <td>NaN</td>\n",
       "      <td>NaN</td>\n",
       "      <td>NaN</td>\n",
       "      <td>NaN</td>\n",
       "      <td>NaN</td>\n",
       "      <td>NaN</td>\n",
       "      <td>...</td>\n",
       "      <td>NaN</td>\n",
       "      <td>NaN</td>\n",
       "      <td>NaN</td>\n",
       "      <td>NaN</td>\n",
       "      <td>NaN</td>\n",
       "      <td>NaN</td>\n",
       "      <td>NaN</td>\n",
       "      <td>NaN</td>\n",
       "      <td>NaN</td>\n",
       "      <td>NaN</td>\n",
       "    </tr>\n",
       "    <tr>\n",
       "      <th>...</th>\n",
       "      <td>...</td>\n",
       "      <td>...</td>\n",
       "      <td>...</td>\n",
       "      <td>...</td>\n",
       "      <td>...</td>\n",
       "      <td>...</td>\n",
       "      <td>...</td>\n",
       "      <td>...</td>\n",
       "      <td>...</td>\n",
       "      <td>...</td>\n",
       "      <td>...</td>\n",
       "      <td>...</td>\n",
       "      <td>...</td>\n",
       "      <td>...</td>\n",
       "      <td>...</td>\n",
       "      <td>...</td>\n",
       "      <td>...</td>\n",
       "      <td>...</td>\n",
       "      <td>...</td>\n",
       "      <td>...</td>\n",
       "      <td>...</td>\n",
       "    </tr>\n",
       "    <tr>\n",
       "      <th>1678</th>\n",
       "      <td>NaN</td>\n",
       "      <td>NaN</td>\n",
       "      <td>NaN</td>\n",
       "      <td>NaN</td>\n",
       "      <td>NaN</td>\n",
       "      <td>NaN</td>\n",
       "      <td>NaN</td>\n",
       "      <td>NaN</td>\n",
       "      <td>NaN</td>\n",
       "      <td>NaN</td>\n",
       "      <td>...</td>\n",
       "      <td>NaN</td>\n",
       "      <td>NaN</td>\n",
       "      <td>NaN</td>\n",
       "      <td>NaN</td>\n",
       "      <td>NaN</td>\n",
       "      <td>NaN</td>\n",
       "      <td>NaN</td>\n",
       "      <td>NaN</td>\n",
       "      <td>NaN</td>\n",
       "      <td>NaN</td>\n",
       "    </tr>\n",
       "    <tr>\n",
       "      <th>1679</th>\n",
       "      <td>NaN</td>\n",
       "      <td>NaN</td>\n",
       "      <td>NaN</td>\n",
       "      <td>NaN</td>\n",
       "      <td>NaN</td>\n",
       "      <td>NaN</td>\n",
       "      <td>NaN</td>\n",
       "      <td>NaN</td>\n",
       "      <td>NaN</td>\n",
       "      <td>NaN</td>\n",
       "      <td>...</td>\n",
       "      <td>NaN</td>\n",
       "      <td>NaN</td>\n",
       "      <td>NaN</td>\n",
       "      <td>NaN</td>\n",
       "      <td>NaN</td>\n",
       "      <td>NaN</td>\n",
       "      <td>NaN</td>\n",
       "      <td>NaN</td>\n",
       "      <td>NaN</td>\n",
       "      <td>NaN</td>\n",
       "    </tr>\n",
       "    <tr>\n",
       "      <th>1680</th>\n",
       "      <td>NaN</td>\n",
       "      <td>NaN</td>\n",
       "      <td>NaN</td>\n",
       "      <td>NaN</td>\n",
       "      <td>NaN</td>\n",
       "      <td>NaN</td>\n",
       "      <td>NaN</td>\n",
       "      <td>NaN</td>\n",
       "      <td>NaN</td>\n",
       "      <td>NaN</td>\n",
       "      <td>...</td>\n",
       "      <td>NaN</td>\n",
       "      <td>NaN</td>\n",
       "      <td>NaN</td>\n",
       "      <td>NaN</td>\n",
       "      <td>NaN</td>\n",
       "      <td>NaN</td>\n",
       "      <td>NaN</td>\n",
       "      <td>NaN</td>\n",
       "      <td>NaN</td>\n",
       "      <td>NaN</td>\n",
       "    </tr>\n",
       "    <tr>\n",
       "      <th>1681</th>\n",
       "      <td>NaN</td>\n",
       "      <td>NaN</td>\n",
       "      <td>NaN</td>\n",
       "      <td>NaN</td>\n",
       "      <td>NaN</td>\n",
       "      <td>NaN</td>\n",
       "      <td>NaN</td>\n",
       "      <td>NaN</td>\n",
       "      <td>NaN</td>\n",
       "      <td>NaN</td>\n",
       "      <td>...</td>\n",
       "      <td>NaN</td>\n",
       "      <td>NaN</td>\n",
       "      <td>NaN</td>\n",
       "      <td>NaN</td>\n",
       "      <td>NaN</td>\n",
       "      <td>NaN</td>\n",
       "      <td>NaN</td>\n",
       "      <td>NaN</td>\n",
       "      <td>NaN</td>\n",
       "      <td>NaN</td>\n",
       "    </tr>\n",
       "    <tr>\n",
       "      <th>1682</th>\n",
       "      <td>NaN</td>\n",
       "      <td>NaN</td>\n",
       "      <td>NaN</td>\n",
       "      <td>NaN</td>\n",
       "      <td>NaN</td>\n",
       "      <td>NaN</td>\n",
       "      <td>NaN</td>\n",
       "      <td>NaN</td>\n",
       "      <td>NaN</td>\n",
       "      <td>NaN</td>\n",
       "      <td>...</td>\n",
       "      <td>NaN</td>\n",
       "      <td>NaN</td>\n",
       "      <td>NaN</td>\n",
       "      <td>NaN</td>\n",
       "      <td>NaN</td>\n",
       "      <td>NaN</td>\n",
       "      <td>NaN</td>\n",
       "      <td>NaN</td>\n",
       "      <td>NaN</td>\n",
       "      <td>NaN</td>\n",
       "    </tr>\n",
       "  </tbody>\n",
       "</table>\n",
       "<p>1682 rows × 943 columns</p>\n",
       "</div>"
      ],
      "text/plain": [
       "user_id   1    2    3    4    5    6    7    8    9    10   ...  934  935  \\\n",
       "movie_id                                                    ...             \n",
       "1         5.0  4.0  NaN  NaN  4.0  4.0  NaN  NaN  NaN  4.0  ...  2.0  3.0   \n",
       "2         3.0  NaN  NaN  NaN  3.0  NaN  NaN  NaN  NaN  NaN  ...  4.0  NaN   \n",
       "3         4.0  NaN  NaN  NaN  NaN  NaN  NaN  NaN  NaN  NaN  ...  NaN  NaN   \n",
       "4         3.0  NaN  NaN  NaN  NaN  NaN  5.0  NaN  NaN  4.0  ...  5.0  NaN   \n",
       "5         3.0  NaN  NaN  NaN  NaN  NaN  NaN  NaN  NaN  NaN  ...  NaN  NaN   \n",
       "...       ...  ...  ...  ...  ...  ...  ...  ...  ...  ...  ...  ...  ...   \n",
       "1678      NaN  NaN  NaN  NaN  NaN  NaN  NaN  NaN  NaN  NaN  ...  NaN  NaN   \n",
       "1679      NaN  NaN  NaN  NaN  NaN  NaN  NaN  NaN  NaN  NaN  ...  NaN  NaN   \n",
       "1680      NaN  NaN  NaN  NaN  NaN  NaN  NaN  NaN  NaN  NaN  ...  NaN  NaN   \n",
       "1681      NaN  NaN  NaN  NaN  NaN  NaN  NaN  NaN  NaN  NaN  ...  NaN  NaN   \n",
       "1682      NaN  NaN  NaN  NaN  NaN  NaN  NaN  NaN  NaN  NaN  ...  NaN  NaN   \n",
       "\n",
       "user_id   936  937  938  939  940  941  942  943  \n",
       "movie_id                                          \n",
       "1         4.0  NaN  4.0  NaN  NaN  5.0  NaN  NaN  \n",
       "2         NaN  NaN  NaN  NaN  NaN  NaN  NaN  5.0  \n",
       "3         4.0  NaN  NaN  NaN  NaN  NaN  NaN  NaN  \n",
       "4         NaN  NaN  NaN  NaN  2.0  NaN  NaN  NaN  \n",
       "5         NaN  NaN  NaN  NaN  NaN  NaN  NaN  NaN  \n",
       "...       ...  ...  ...  ...  ...  ...  ...  ...  \n",
       "1678      NaN  NaN  NaN  NaN  NaN  NaN  NaN  NaN  \n",
       "1679      NaN  NaN  NaN  NaN  NaN  NaN  NaN  NaN  \n",
       "1680      NaN  NaN  NaN  NaN  NaN  NaN  NaN  NaN  \n",
       "1681      NaN  NaN  NaN  NaN  NaN  NaN  NaN  NaN  \n",
       "1682      NaN  NaN  NaN  NaN  NaN  NaN  NaN  NaN  \n",
       "\n",
       "[1682 rows x 943 columns]"
      ]
     },
     "execution_count": 7,
     "metadata": {},
     "output_type": "execute_result"
    }
   ],
   "source": [
    "# movie_id를 인덱스로, user_id를 컬럼으로 사용하여\n",
    "# 각 사용자가 각 영화에 부여한 평점을 값으로 하는 사용자-영화 평점 매트릭스를 생성합니다.\n",
    "rating_matrix = ratings.pivot(index=\"movie_id\", columns=\"user_id\", values=\"rating\")\n",
    "\n",
    "print(rating_matrix.shape)\n",
    "rating_matrix"
   ]
  },
  {
   "cell_type": "markdown",
   "id": "a7f62b07",
   "metadata": {},
   "source": [
    "### Item-Based CF 알고리즘\n",
    "\n",
    "1) 모든 Item 간의 평가의 유사도를 계산  \n",
    "2) 현재 추천 대상이 되는 아이템과 다른 아이템들의 유사도를 추출  \n",
    "3) 현재 사용자가 평가하지 않은 모든 아이템에 대해서 현재 사용자의 예상 평가 값 계산. 예상 평가 값은 추천하려는 영화와 사용자가 평가한 영화의 유사도로 가중 평균  \n",
    "4) 아이템 중에서 예상 평가 값이 가장 높은 N 개의 아이템을 추천  \n",
    "\n",
    "이때, 추천 대상 영화와 가장 유사도가 높은 K 개의 다른 영화만 반영하여 예측 평가의 품질을 높인다.\n",
    "\n",
    "이를 위해 추천 사용자, 영화 id 를 parameter 로 받아 예상 평점을 반환하는 함수를 작성"
   ]
  },
  {
   "cell_type": "code",
   "execution_count": 8,
   "id": "f5b68233",
   "metadata": {},
   "outputs": [
    {
     "name": "stdout",
     "output_type": "stream",
     "text": [
      "(1682, 943)\n",
      "(1682, 1682)\n"
     ]
    },
    {
     "data": {
      "text/html": [
       "<div>\n",
       "<style scoped>\n",
       "    .dataframe tbody tr th:only-of-type {\n",
       "        vertical-align: middle;\n",
       "    }\n",
       "\n",
       "    .dataframe tbody tr th {\n",
       "        vertical-align: top;\n",
       "    }\n",
       "\n",
       "    .dataframe thead th {\n",
       "        text-align: right;\n",
       "    }\n",
       "</style>\n",
       "<table border=\"1\" class=\"dataframe\">\n",
       "  <thead>\n",
       "    <tr style=\"text-align: right;\">\n",
       "      <th>movie_id</th>\n",
       "      <th>1</th>\n",
       "      <th>2</th>\n",
       "      <th>3</th>\n",
       "      <th>4</th>\n",
       "      <th>5</th>\n",
       "      <th>6</th>\n",
       "      <th>7</th>\n",
       "      <th>8</th>\n",
       "      <th>9</th>\n",
       "      <th>10</th>\n",
       "      <th>...</th>\n",
       "      <th>1673</th>\n",
       "      <th>1674</th>\n",
       "      <th>1675</th>\n",
       "      <th>1676</th>\n",
       "      <th>1677</th>\n",
       "      <th>1678</th>\n",
       "      <th>1679</th>\n",
       "      <th>1680</th>\n",
       "      <th>1681</th>\n",
       "      <th>1682</th>\n",
       "    </tr>\n",
       "    <tr>\n",
       "      <th>movie_id</th>\n",
       "      <th></th>\n",
       "      <th></th>\n",
       "      <th></th>\n",
       "      <th></th>\n",
       "      <th></th>\n",
       "      <th></th>\n",
       "      <th></th>\n",
       "      <th></th>\n",
       "      <th></th>\n",
       "      <th></th>\n",
       "      <th></th>\n",
       "      <th></th>\n",
       "      <th></th>\n",
       "      <th></th>\n",
       "      <th></th>\n",
       "      <th></th>\n",
       "      <th></th>\n",
       "      <th></th>\n",
       "      <th></th>\n",
       "      <th></th>\n",
       "      <th></th>\n",
       "    </tr>\n",
       "  </thead>\n",
       "  <tbody>\n",
       "    <tr>\n",
       "      <th>1</th>\n",
       "      <td>1.000000</td>\n",
       "      <td>0.402382</td>\n",
       "      <td>0.330245</td>\n",
       "      <td>0.454938</td>\n",
       "      <td>0.286714</td>\n",
       "      <td>0.116344</td>\n",
       "      <td>0.620979</td>\n",
       "      <td>0.481114</td>\n",
       "      <td>0.496288</td>\n",
       "      <td>0.273935</td>\n",
       "      <td>...</td>\n",
       "      <td>0.035387</td>\n",
       "      <td>0.000000</td>\n",
       "      <td>0.000000</td>\n",
       "      <td>0.000000</td>\n",
       "      <td>0.035387</td>\n",
       "      <td>0.0</td>\n",
       "      <td>0.0</td>\n",
       "      <td>0.0</td>\n",
       "      <td>0.047183</td>\n",
       "      <td>0.047183</td>\n",
       "    </tr>\n",
       "    <tr>\n",
       "      <th>2</th>\n",
       "      <td>0.402382</td>\n",
       "      <td>1.000000</td>\n",
       "      <td>0.273069</td>\n",
       "      <td>0.502571</td>\n",
       "      <td>0.318836</td>\n",
       "      <td>0.083563</td>\n",
       "      <td>0.383403</td>\n",
       "      <td>0.337002</td>\n",
       "      <td>0.255252</td>\n",
       "      <td>0.171082</td>\n",
       "      <td>...</td>\n",
       "      <td>0.000000</td>\n",
       "      <td>0.000000</td>\n",
       "      <td>0.000000</td>\n",
       "      <td>0.000000</td>\n",
       "      <td>0.000000</td>\n",
       "      <td>0.0</td>\n",
       "      <td>0.0</td>\n",
       "      <td>0.0</td>\n",
       "      <td>0.078299</td>\n",
       "      <td>0.078299</td>\n",
       "    </tr>\n",
       "    <tr>\n",
       "      <th>3</th>\n",
       "      <td>0.330245</td>\n",
       "      <td>0.273069</td>\n",
       "      <td>1.000000</td>\n",
       "      <td>0.324866</td>\n",
       "      <td>0.212957</td>\n",
       "      <td>0.106722</td>\n",
       "      <td>0.372921</td>\n",
       "      <td>0.200794</td>\n",
       "      <td>0.273669</td>\n",
       "      <td>0.158104</td>\n",
       "      <td>...</td>\n",
       "      <td>0.000000</td>\n",
       "      <td>0.000000</td>\n",
       "      <td>0.000000</td>\n",
       "      <td>0.000000</td>\n",
       "      <td>0.032292</td>\n",
       "      <td>0.0</td>\n",
       "      <td>0.0</td>\n",
       "      <td>0.0</td>\n",
       "      <td>0.000000</td>\n",
       "      <td>0.096875</td>\n",
       "    </tr>\n",
       "    <tr>\n",
       "      <th>4</th>\n",
       "      <td>0.454938</td>\n",
       "      <td>0.502571</td>\n",
       "      <td>0.324866</td>\n",
       "      <td>1.000000</td>\n",
       "      <td>0.334239</td>\n",
       "      <td>0.090308</td>\n",
       "      <td>0.489283</td>\n",
       "      <td>0.490236</td>\n",
       "      <td>0.419044</td>\n",
       "      <td>0.252561</td>\n",
       "      <td>...</td>\n",
       "      <td>0.000000</td>\n",
       "      <td>0.000000</td>\n",
       "      <td>0.094022</td>\n",
       "      <td>0.094022</td>\n",
       "      <td>0.037609</td>\n",
       "      <td>0.0</td>\n",
       "      <td>0.0</td>\n",
       "      <td>0.0</td>\n",
       "      <td>0.056413</td>\n",
       "      <td>0.075218</td>\n",
       "    </tr>\n",
       "    <tr>\n",
       "      <th>5</th>\n",
       "      <td>0.286714</td>\n",
       "      <td>0.318836</td>\n",
       "      <td>0.212957</td>\n",
       "      <td>0.334239</td>\n",
       "      <td>1.000000</td>\n",
       "      <td>0.037299</td>\n",
       "      <td>0.334769</td>\n",
       "      <td>0.259161</td>\n",
       "      <td>0.272448</td>\n",
       "      <td>0.055453</td>\n",
       "      <td>...</td>\n",
       "      <td>0.000000</td>\n",
       "      <td>0.000000</td>\n",
       "      <td>0.000000</td>\n",
       "      <td>0.000000</td>\n",
       "      <td>0.000000</td>\n",
       "      <td>0.0</td>\n",
       "      <td>0.0</td>\n",
       "      <td>0.0</td>\n",
       "      <td>0.000000</td>\n",
       "      <td>0.094211</td>\n",
       "    </tr>\n",
       "    <tr>\n",
       "      <th>6</th>\n",
       "      <td>0.116344</td>\n",
       "      <td>0.083563</td>\n",
       "      <td>0.106722</td>\n",
       "      <td>0.090308</td>\n",
       "      <td>0.037299</td>\n",
       "      <td>1.000000</td>\n",
       "      <td>0.139617</td>\n",
       "      <td>0.083876</td>\n",
       "      <td>0.151064</td>\n",
       "      <td>0.203097</td>\n",
       "      <td>...</td>\n",
       "      <td>0.000000</td>\n",
       "      <td>0.000000</td>\n",
       "      <td>0.000000</td>\n",
       "      <td>0.000000</td>\n",
       "      <td>0.000000</td>\n",
       "      <td>0.0</td>\n",
       "      <td>0.0</td>\n",
       "      <td>0.0</td>\n",
       "      <td>0.000000</td>\n",
       "      <td>0.000000</td>\n",
       "    </tr>\n",
       "    <tr>\n",
       "      <th>7</th>\n",
       "      <td>0.620979</td>\n",
       "      <td>0.383403</td>\n",
       "      <td>0.372921</td>\n",
       "      <td>0.489283</td>\n",
       "      <td>0.334769</td>\n",
       "      <td>0.139617</td>\n",
       "      <td>1.000000</td>\n",
       "      <td>0.423515</td>\n",
       "      <td>0.527462</td>\n",
       "      <td>0.318623</td>\n",
       "      <td>...</td>\n",
       "      <td>0.000000</td>\n",
       "      <td>0.051498</td>\n",
       "      <td>0.000000</td>\n",
       "      <td>0.000000</td>\n",
       "      <td>0.051498</td>\n",
       "      <td>0.0</td>\n",
       "      <td>0.0</td>\n",
       "      <td>0.0</td>\n",
       "      <td>0.051498</td>\n",
       "      <td>0.051498</td>\n",
       "    </tr>\n",
       "    <tr>\n",
       "      <th>8</th>\n",
       "      <td>0.481114</td>\n",
       "      <td>0.337002</td>\n",
       "      <td>0.200794</td>\n",
       "      <td>0.490236</td>\n",
       "      <td>0.259161</td>\n",
       "      <td>0.083876</td>\n",
       "      <td>0.423515</td>\n",
       "      <td>1.000000</td>\n",
       "      <td>0.424429</td>\n",
       "      <td>0.267764</td>\n",
       "      <td>...</td>\n",
       "      <td>0.000000</td>\n",
       "      <td>0.082033</td>\n",
       "      <td>0.065627</td>\n",
       "      <td>0.065627</td>\n",
       "      <td>0.082033</td>\n",
       "      <td>0.0</td>\n",
       "      <td>0.0</td>\n",
       "      <td>0.0</td>\n",
       "      <td>0.082033</td>\n",
       "      <td>0.000000</td>\n",
       "    </tr>\n",
       "    <tr>\n",
       "      <th>9</th>\n",
       "      <td>0.496288</td>\n",
       "      <td>0.255252</td>\n",
       "      <td>0.273669</td>\n",
       "      <td>0.419044</td>\n",
       "      <td>0.272448</td>\n",
       "      <td>0.151064</td>\n",
       "      <td>0.527462</td>\n",
       "      <td>0.424429</td>\n",
       "      <td>1.000000</td>\n",
       "      <td>0.288514</td>\n",
       "      <td>...</td>\n",
       "      <td>0.000000</td>\n",
       "      <td>0.000000</td>\n",
       "      <td>0.057360</td>\n",
       "      <td>0.057360</td>\n",
       "      <td>0.071700</td>\n",
       "      <td>0.0</td>\n",
       "      <td>0.0</td>\n",
       "      <td>0.0</td>\n",
       "      <td>0.057360</td>\n",
       "      <td>0.071700</td>\n",
       "    </tr>\n",
       "    <tr>\n",
       "      <th>10</th>\n",
       "      <td>0.273935</td>\n",
       "      <td>0.171082</td>\n",
       "      <td>0.158104</td>\n",
       "      <td>0.252561</td>\n",
       "      <td>0.055453</td>\n",
       "      <td>0.203097</td>\n",
       "      <td>0.318623</td>\n",
       "      <td>0.267764</td>\n",
       "      <td>0.288514</td>\n",
       "      <td>1.000000</td>\n",
       "      <td>...</td>\n",
       "      <td>0.000000</td>\n",
       "      <td>0.000000</td>\n",
       "      <td>0.080264</td>\n",
       "      <td>0.080264</td>\n",
       "      <td>0.000000</td>\n",
       "      <td>0.0</td>\n",
       "      <td>0.0</td>\n",
       "      <td>0.0</td>\n",
       "      <td>0.000000</td>\n",
       "      <td>0.000000</td>\n",
       "    </tr>\n",
       "  </tbody>\n",
       "</table>\n",
       "<p>10 rows × 1682 columns</p>\n",
       "</div>"
      ],
      "text/plain": [
       "movie_id      1         2         3         4         5         6     \\\n",
       "movie_id                                                               \n",
       "1         1.000000  0.402382  0.330245  0.454938  0.286714  0.116344   \n",
       "2         0.402382  1.000000  0.273069  0.502571  0.318836  0.083563   \n",
       "3         0.330245  0.273069  1.000000  0.324866  0.212957  0.106722   \n",
       "4         0.454938  0.502571  0.324866  1.000000  0.334239  0.090308   \n",
       "5         0.286714  0.318836  0.212957  0.334239  1.000000  0.037299   \n",
       "6         0.116344  0.083563  0.106722  0.090308  0.037299  1.000000   \n",
       "7         0.620979  0.383403  0.372921  0.489283  0.334769  0.139617   \n",
       "8         0.481114  0.337002  0.200794  0.490236  0.259161  0.083876   \n",
       "9         0.496288  0.255252  0.273669  0.419044  0.272448  0.151064   \n",
       "10        0.273935  0.171082  0.158104  0.252561  0.055453  0.203097   \n",
       "\n",
       "movie_id      7         8         9         10    ...      1673      1674  \\\n",
       "movie_id                                          ...                       \n",
       "1         0.620979  0.481114  0.496288  0.273935  ...  0.035387  0.000000   \n",
       "2         0.383403  0.337002  0.255252  0.171082  ...  0.000000  0.000000   \n",
       "3         0.372921  0.200794  0.273669  0.158104  ...  0.000000  0.000000   \n",
       "4         0.489283  0.490236  0.419044  0.252561  ...  0.000000  0.000000   \n",
       "5         0.334769  0.259161  0.272448  0.055453  ...  0.000000  0.000000   \n",
       "6         0.139617  0.083876  0.151064  0.203097  ...  0.000000  0.000000   \n",
       "7         1.000000  0.423515  0.527462  0.318623  ...  0.000000  0.051498   \n",
       "8         0.423515  1.000000  0.424429  0.267764  ...  0.000000  0.082033   \n",
       "9         0.527462  0.424429  1.000000  0.288514  ...  0.000000  0.000000   \n",
       "10        0.318623  0.267764  0.288514  1.000000  ...  0.000000  0.000000   \n",
       "\n",
       "movie_id      1675      1676      1677  1678  1679  1680      1681      1682  \n",
       "movie_id                                                                      \n",
       "1         0.000000  0.000000  0.035387   0.0   0.0   0.0  0.047183  0.047183  \n",
       "2         0.000000  0.000000  0.000000   0.0   0.0   0.0  0.078299  0.078299  \n",
       "3         0.000000  0.000000  0.032292   0.0   0.0   0.0  0.000000  0.096875  \n",
       "4         0.094022  0.094022  0.037609   0.0   0.0   0.0  0.056413  0.075218  \n",
       "5         0.000000  0.000000  0.000000   0.0   0.0   0.0  0.000000  0.094211  \n",
       "6         0.000000  0.000000  0.000000   0.0   0.0   0.0  0.000000  0.000000  \n",
       "7         0.000000  0.000000  0.051498   0.0   0.0   0.0  0.051498  0.051498  \n",
       "8         0.065627  0.065627  0.082033   0.0   0.0   0.0  0.082033  0.000000  \n",
       "9         0.057360  0.057360  0.071700   0.0   0.0   0.0  0.057360  0.071700  \n",
       "10        0.080264  0.080264  0.000000   0.0   0.0   0.0  0.000000  0.000000  \n",
       "\n",
       "[10 rows x 1682 columns]"
      ]
     },
     "execution_count": 8,
     "metadata": {},
     "output_type": "execute_result"
    }
   ],
   "source": [
    "# 평점 매트릭스의 복사본을 생성하고, NaN(평점을 부여하지 않은 영화) 값을 0으로 채웁니다.\n",
    "matrix_dummy = rating_matrix.copy().fillna(0)\n",
    "print(matrix_dummy.shape)\n",
    "\n",
    "# 모든 가능한 아이템(movie) pair의 Cosine similarities 계산\n",
    "item_similarity = cosine_similarity(matrix_dummy, matrix_dummy)\n",
    "item_similarity = pd.DataFrame(item_similarity, index=rating_matrix.index, columns=rating_matrix.index)\n",
    "\n",
    "print(item_similarity.shape)\n",
    "item_similarity.head(10)"
   ]
  },
  {
   "cell_type": "markdown",
   "id": "dc319562",
   "metadata": {},
   "source": [
    "현재 추천 대상이 되는 영화와 다른 영화의 유사도를 추출"
   ]
  },
  {
   "cell_type": "code",
   "execution_count": 9,
   "id": "0af4acf0",
   "metadata": {},
   "outputs": [
    {
     "name": "stdout",
     "output_type": "stream",
     "text": [
      "(1682,)\n"
     ]
    },
    {
     "data": {
      "text/plain": [
       "movie_id\n",
       "1    0.402382\n",
       "2    1.000000\n",
       "3    0.273069\n",
       "4    0.502571\n",
       "5    0.318836\n",
       "Name: 2, dtype: float64"
      ]
     },
     "execution_count": 9,
     "metadata": {},
     "output_type": "execute_result"
    }
   ],
   "source": [
    "user_id = 2   # 현재 추천 대상이 되는 사용자\n",
    "movie_id = 2  # 현재 추천 대상이 되는 영화\n",
    "\n",
    "# 추천 대상 영화와 다른 영화 간의 유사도 가져오기\n",
    "sim_scores = item_similarity.loc[movie_id]\n",
    "\n",
    "print(sim_scores.shape)\n",
    "sim_scores.head()"
   ]
  },
  {
   "cell_type": "markdown",
   "id": "06ec0f48",
   "metadata": {},
   "source": [
    "### 추천 대상이 되는 사용자에게 보지 않은 영화를 추천할 때 사용자가 부여할 rating 예측\n",
    "\n",
    "1. 현 사용자의 모든 rating값 가져오기  \n",
    "2. 현 사용자가 평가하지 않은 영화의 index 가져오기\n",
    "3. 현 사용자가 평가하지 않은 영화의 rating (null) 제거 --> 사용자가 평가한 영화만 남김"
   ]
  },
  {
   "cell_type": "code",
   "execution_count": 10,
   "id": "91a878c2",
   "metadata": {},
   "outputs": [
    {
     "name": "stdout",
     "output_type": "stream",
     "text": [
      "(1682,)\n"
     ]
    },
    {
     "data": {
      "text/plain": [
       "movie_id\n",
       "1    4.0\n",
       "2    NaN\n",
       "3    NaN\n",
       "4    NaN\n",
       "5    NaN\n",
       "Name: 2, dtype: float64"
      ]
     },
     "execution_count": 10,
     "metadata": {},
     "output_type": "execute_result"
    }
   ],
   "source": [
    "# 1. rating maxtrix에서 추천 대상 사용자의 모든 영화 평가 가져오기\n",
    "user_ratings = rating_matrix.loc[:, user_id]\n",
    "\n",
    "print(user_ratings.shape)\n",
    "user_ratings.head()"
   ]
  },
  {
   "cell_type": "code",
   "execution_count": 11,
   "id": "5c7a2353",
   "metadata": {},
   "outputs": [
    {
     "name": "stdout",
     "output_type": "stream",
     "text": [
      "(1620,)\n"
     ]
    },
    {
     "data": {
      "text/plain": [
       "Index([   2,    3,    4,    5,    6,    7,    8,    9,   11,   12,\n",
       "       ...\n",
       "       1673, 1674, 1675, 1676, 1677, 1678, 1679, 1680, 1681, 1682],\n",
       "      dtype='int64', name='movie_id', length=1620)"
      ]
     },
     "execution_count": 11,
     "metadata": {},
     "output_type": "execute_result"
    }
   ],
   "source": [
    "# 2. 추천 대상 사용자가 평가하지 않은 영화의 인덱스 가져오기\n",
    "non_rating_idx = user_ratings[user_ratings.isnull()].index\n",
    "\n",
    "print(non_rating_idx.shape)\n",
    "non_rating_idx"
   ]
  },
  {
   "cell_type": "code",
   "execution_count": 12,
   "id": "11609e8f",
   "metadata": {},
   "outputs": [
    {
     "name": "stdout",
     "output_type": "stream",
     "text": [
      "(62,)\n"
     ]
    },
    {
     "data": {
      "text/plain": [
       "movie_id\n",
       "1     4.0\n",
       "10    2.0\n",
       "13    4.0\n",
       "14    4.0\n",
       "19    3.0\n",
       "Name: 2, dtype: float64"
      ]
     },
     "execution_count": 12,
     "metadata": {},
     "output_type": "execute_result"
    }
   ],
   "source": [
    "# 3. 추천 대상 사용자가 평가하지 않은 영화의 평점 제거 --> 사용자가 평가한 영화만 남김\n",
    "user_ratings = user_ratings.drop(non_rating_idx)\n",
    "\n",
    "print(user_ratings.shape)\n",
    "user_ratings.head()"
   ]
  },
  {
   "cell_type": "code",
   "execution_count": 13,
   "id": "d759b157",
   "metadata": {},
   "outputs": [
    {
     "name": "stdout",
     "output_type": "stream",
     "text": [
      "(62,)\n"
     ]
    },
    {
     "data": {
      "text/plain": [
       "movie_id\n",
       "1      0.034677\n",
       "10     0.014744\n",
       "13     0.018440\n",
       "14     0.010812\n",
       "19     0.002645\n",
       "         ...   \n",
       "312    0.005714\n",
       "313    0.021919\n",
       "314    0.003018\n",
       "315    0.015032\n",
       "316    0.017065\n",
       "Name: 2, Length: 62, dtype: float64"
      ]
     },
     "execution_count": 13,
     "metadata": {},
     "output_type": "execute_result"
    }
   ],
   "source": [
    "# item 유사도 matrix에서 추천 대상 사용자가 평가하지 않은 영화의 유사도 제거\n",
    "# 추천 대상 영화와 다른 영화 간의 유사도 중 사용자가 평가한 영화만 남김\n",
    "sim_scores = sim_scores.drop(non_rating_idx)\n",
    "\n",
    "sim_scores /= sim_scores.sum()  # 유사도 정규화\n",
    "print(sim_scores.shape)\n",
    "sim_scores"
   ]
  },
  {
   "cell_type": "markdown",
   "id": "6593925e",
   "metadata": {},
   "source": [
    "### 추천하려는 영화에 대한 추천 대상 사용자의 예상 rating 계산"
   ]
  },
  {
   "cell_type": "code",
   "execution_count": 15,
   "id": "5240f42a",
   "metadata": {},
   "outputs": [
    {
     "data": {
      "text/plain": [
       "movie_id\n",
       "50     0.036788\n",
       "1      0.034677\n",
       "127    0.030979\n",
       "100    0.030208\n",
       "273    0.029938\n",
       "257    0.027601\n",
       "25     0.026426\n",
       "281    0.026376\n",
       "284    0.026244\n",
       "282    0.025840\n",
       "Name: 2, dtype: float64"
      ]
     },
     "execution_count": 15,
     "metadata": {},
     "output_type": "execute_result"
    }
   ],
   "source": [
    "n_neighbors = 10\n",
    "# 4. 추천 대상 영화와 유사도가 높은 영화 순으로 정렬 하여 가장 유사도 높은 n 개 선택\n",
    "top_items = sim_scores.sort_values(ascending=False).head(n_neighbors)\n",
    "top_items"
   ]
  },
  {
   "cell_type": "code",
   "execution_count": 16,
   "id": "83cba06e-0726-4cae-9d36-fcc8f5640ebc",
   "metadata": {},
   "outputs": [
    {
     "data": {
      "text/plain": [
       "movie_id\n",
       "50     5.0\n",
       "1      4.0\n",
       "127    5.0\n",
       "100    5.0\n",
       "273    4.0\n",
       "257    4.0\n",
       "25     4.0\n",
       "281    3.0\n",
       "284    4.0\n",
       "282    4.0\n",
       "Name: 2, dtype: float64"
      ]
     },
     "execution_count": 16,
     "metadata": {},
     "output_type": "execute_result"
    }
   ],
   "source": [
    "# 5. top_items.index에 해당하는 영화의 평점을 user_ratings에서 재정렬하여 추출합니다.\n",
    "# 이는 가장 유사도가 높은 상위 아이템의 평점을 선택하는 작업입니다.\n",
    "# user_ratings 데이터프레임을 top_items의 인덱스 순서대로 재정렬\n",
    "top_ratings = user_ratings.reindex(top_items.index) \n",
    "# NaN 값을 가진 요소들을 제거합니다.\n",
    "top_ratings = top_ratings.dropna()\n",
    "top_ratings"
   ]
  },
  {
   "cell_type": "code",
   "execution_count": 17,
   "id": "2aea0344-144b-4bdb-9afb-f974b63dd411",
   "metadata": {},
   "outputs": [
    {
     "data": {
      "text/plain": [
       "movie_id\n",
       "50     0.036788\n",
       "1      0.034677\n",
       "127    0.030979\n",
       "100    0.030208\n",
       "273    0.029938\n",
       "257    0.027601\n",
       "25     0.026426\n",
       "281    0.026376\n",
       "284    0.026244\n",
       "282    0.025840\n",
       "Name: 2, dtype: float64"
      ]
     },
     "execution_count": 17,
     "metadata": {},
     "output_type": "execute_result"
    }
   ],
   "source": [
    "# KNN을 이용한 추천 공식 계산을 위해 유효한 top_items와 top_ratings만 사용합니다.\n",
    "valid_indices = top_ratings.index  \n",
    "top_items = top_items.loc[valid_indices]\n",
    "top_items"
   ]
  },
  {
   "cell_type": "markdown",
   "id": "f933a0f2-ef68-4b00-b6be-12f2bff54de7",
   "metadata": {},
   "source": [
    "### Implicit Rating을 이용한 추천 공식\n",
    "\n",
    "$$\\tilde{r}_{ui} = \\frac{\\sum_{j \\in KNN(i)}r_{uj} \\cdot S_{ji}}{\\sum_{j \\in KNN(i)}S_{ji}}$$"
   ]
  },
  {
   "cell_type": "code",
   "execution_count": 18,
   "id": "0b45f559-8d9d-4202-99d3-6d6e44d08128",
   "metadata": {},
   "outputs": [
    {
     "data": {
      "text/plain": [
       "4.242645126277608"
      ]
     },
     "execution_count": 18,
     "metadata": {},
     "output_type": "execute_result"
    }
   ],
   "source": [
    "# 6. KNN 평점 예측 계산\n",
    "# 추천대상 사용자 u에게 영화 i를 추천 했을 때 예상 rating\n",
    "predicted_rating = np.dot(top_items, top_ratings) / top_items.sum()\n",
    "predicted_rating"
   ]
  },
  {
   "cell_type": "markdown",
   "id": "8bd2cc89-aca5-4332-914e-1fd13e8fc468",
   "metadata": {},
   "source": [
    "###  특정 사용자에게 추천하는 영화(movie_id)의  가중평균 rating을 계산하는 함수\n",
    "- 위의 과정을 model 함수로 작성\n",
    "- 위에서 개별 사용자와 아이템에 대해 구하던 predicted_rating을 함수로 작성\n",
    "- 가중치는 주어진 영화와 주어진 사용자가 평가한 영화의 유사도(user_similarity)"
   ]
  },
  {
   "cell_type": "code",
   "execution_count": 19,
   "id": "e0b74f74-cb9d-4027-a290-6933e5939c7c",
   "metadata": {},
   "outputs": [],
   "source": [
    "def IBCF_knn_model(user_id, movie_id, rating_matrix, item_similarity, n_neighbors=0):\n",
    "    \"\"\"\n",
    "    Item-Based Collaborative Filtering을 사용하여 특정 영화에 대한 사용자의 예상 평점을 계산합니다.\n",
    "\n",
    "    Parameters:\n",
    "    - user_id (int): 평점을 예측하고자 하는 사용자의 ID.\n",
    "    - movie_id (int): 예상 평점을 계산하고자 하는 영화의 ID.\n",
    "    - rating_matrix (DataFrame): 사용자-영화 평점 행렬. 사용자 ID가 인덱스이고, 영화 ID가 컬럼입니다.\n",
    "    - item_similarity (DataFrame): 영화 간의 유사도를 나타내는 데이터프레임. 영화 ID가 인덱스이고 컬럼입니다.\n",
    "    - n_neighbors (int): 고려할 이웃의 수. 0인 경우 모든 이웃을 고려합니다. 기본값은 0입니다.\n",
    "\n",
    "    Returns:\n",
    "    - predicted_rating (float): 지정된 영화에 대한 사용자의 예상 평점. 예상 평점을 계산할 수 없는 경우 기본값으로 3.0을 반환합니다.\n",
    "\n",
    "    이 함수는 사용자가 평가한 영화의 평점과 해당 영화와 유사한 영화 간의 유사도를 기반으로 예상 평점을 계산합니다.\n",
    "    유사도와 평점 데이터를 사용하여 가중평균을 계산하며, 특정 조건에서는 기본 평점을 할당합니다.\n",
    "    \"\"\"\n",
    "    # 현재 영화가 item_similarity 인덱스에 있는지 확인\n",
    "    if movie_id in item_similarity.index:  \n",
    "        # 현재 영화와 다른 영화 간의 유사도 가져오기\n",
    "        sim_scores = item_similarity.loc[movie_id]\n",
    "        # 1. 현재 사용자의 모든 평가 가져오기\n",
    "        user_ratings = rating_matrix.loc[user_id]\n",
    "        # 2. 사용자가 평가하지 않은 영화의 인덱스 가져오기\n",
    "        non_rating_idx = user_ratings[user_ratings.isnull()].index\n",
    "        # 3. 사용자가 평가하지 않은 영화의 평점과 유사도 제거\n",
    "        sim_scores = sim_scores.drop(non_rating_idx)\n",
    "        user_ratings = user_ratings.drop(non_rating_idx)\n",
    "        \n",
    "        # 유사도의 합이 0이 아닌 경우에만 계산\n",
    "        if sim_scores.sum() > 0:\n",
    "            # 유사도 정규화\n",
    "            sim_scores /= sim_scores.sum()\n",
    "            \n",
    "            if n_neighbors == 0:  # n_neighbors가 지정되지 않은 경우 모든 유사도 사용\n",
    "                n_neighbors = len(sim_scores)\n",
    "            \n",
    "            # n_neighbors가 1 이상이면, 유사도가 높은 상위 n_neighbors만 고려\n",
    "            if n_neighbors > 1 and len(sim_scores) > 1:\n",
    "                # 4. 유사도가 높은 아이템 순으로 정렬\n",
    "                top_items = sim_scores.sort_values(ascending=False).head(n_neighbors)\n",
    "                # 5. 상위 n_neighbors에 해당하는 valid한 평점만 추출\n",
    "                # reindex를 사용하여 해당 인덱스가 없는 경우 NaN 값으로 채워 넣습니다.\n",
    "                top_ratings = user_ratings.reindex(top_items.index)\n",
    "                # NaN 값을 가진 요소들을 제거합니다.\n",
    "                top_ratings = top_ratings.dropna()\n",
    "                # # KNN을 이용한 추천 공식 계산을 위해 유효한 top_items와 top_ratings만 사용합니다.\n",
    "                valid_indices = top_ratings.index  \n",
    "                top_items = top_items.loc[valid_indices]\n",
    "                # 6. KNN 평점 예측 계산\n",
    "                if top_items.sum() > 0:\n",
    "                    predicted_rating = np.dot(top_items, top_ratings) / top_items.sum()\n",
    "                else:\n",
    "                    predicted_rating = 3.0\n",
    "            else:\n",
    "                predicted_rating = 3.0  # 유사한 아이템이 충분하지 않은 경우 기본 평점 할당\n",
    "        else:\n",
    "            predicted_rating = 3.0  # 유사도의 합이 0인 경우 기본 평점 할당\n",
    "    else:\n",
    "        predicted_rating = 3.0  # 영화가 item_similarity에 없으면 기본 평점 할당\n",
    "    return predicted_rating"
   ]
  },
  {
   "cell_type": "code",
   "execution_count": 20,
   "id": "d531b921-c9f2-4455-9f78-78feb752c40a",
   "metadata": {},
   "outputs": [
    {
     "data": {
      "text/plain": [
       "3.9124701836089573"
      ]
     },
     "execution_count": 20,
     "metadata": {},
     "output_type": "execute_result"
    }
   ],
   "source": [
    "IBCF_knn_model(12, 203, rating_matrix, item_similarity, n_neighbors=30)"
   ]
  },
  {
   "cell_type": "code",
   "execution_count": 21,
   "id": "a1880d4f-09fc-4bd5-9fa2-b50947755c5a",
   "metadata": {},
   "outputs": [
    {
     "data": {
      "text/plain": [
       "3.391002868026238"
      ]
     },
     "execution_count": 21,
     "metadata": {},
     "output_type": "execute_result"
    }
   ],
   "source": [
    "IBCF_knn_model(255, 51, rating_matrix, item_similarity, n_neighbors=30)"
   ]
  },
  {
   "cell_type": "code",
   "execution_count": 22,
   "id": "69108933-c278-4f70-a849-dc46988c0200",
   "metadata": {},
   "outputs": [
    {
     "data": {
      "text/plain": [
       "3.0"
      ]
     },
     "execution_count": 22,
     "metadata": {},
     "output_type": "execute_result"
    }
   ],
   "source": [
    "IBCF_knn_model(13, 9999, rating_matrix, item_similarity, n_neighbors=30)"
   ]
  },
  {
   "cell_type": "markdown",
   "id": "8bfb1caa",
   "metadata": {},
   "source": [
    "### 모델 성능 평가 - 모델별 RMSE를 계산하는 함수 \n",
    "- Test set을 이용하여 측정  "
   ]
  },
  {
   "cell_type": "code",
   "execution_count": 23,
   "id": "cebc4dfc-8b91-48c2-86bf-e572dac967e6",
   "metadata": {},
   "outputs": [
    {
     "data": {
      "text/plain": [
       "(25000, 3)"
      ]
     },
     "execution_count": 23,
     "metadata": {},
     "output_type": "execute_result"
    }
   ],
   "source": [
    "X = ratings.copy()\n",
    "\n",
    "_, X_test = train_test_split(X, test_size=0.25, random_state=0)\n",
    "X_test.shape"
   ]
  },
  {
   "cell_type": "code",
   "execution_count": 24,
   "id": "ab9943c5",
   "metadata": {},
   "outputs": [],
   "source": [
    "def score(model, n_neighbors=0):\n",
    "    # X_test 데이터셋에서 사용자 ID와 영화 ID의 쌍을 생성합니다.\n",
    "    id_pairs = zip(X_test['user_id'], X_test['movie_id'])\n",
    "    \n",
    "    # 생성된 각 ID 쌍에 대해 모델을 사용하여 예상 평점을 계산합니다.\n",
    "    y_pred = np.array([model(user, movie, rating_matrix, item_similarity, n_neighbors) for (user, movie) in id_pairs])\n",
    "    \n",
    "    # X_test 데이터셋에서 실제 평점을 가져옵니다.\n",
    "    y_true = np.array(X_test['rating'])\n",
    "    \n",
    "    # 실제 평점과 예측 평점 사이의 RMSE를 계산하여 반환합니다.\n",
    "    #return root_mean_squared_error(y_true, y_pred)  # sklearn latest version\n",
    "    return mean_squared_error(y_true, y_pred, squared=False)  # sklearn old version"
   ]
  },
  {
   "cell_type": "code",
   "execution_count": 25,
   "id": "b4f6b5f3-a278-4543-b8e4-2492a7688796",
   "metadata": {},
   "outputs": [
    {
     "name": "stdout",
     "output_type": "stream",
     "text": [
      "knn 감안하지 않은 simple IF - 모든 item 유사도를 포함\n",
      "1.331414149683147\n",
      "knn 감안한 IF - 30 개의 가장 유사한 item만 포함\n",
      "1.362714869794291\n",
      "CPU times: total: 18 s\n",
      "Wall time: 44.6 s\n"
     ]
    }
   ],
   "source": [
    "%%time\n",
    "# 정확도 계산\n",
    "print(\"knn 감안하지 않은 simple IF - 모든 item 유사도를 포함\")\n",
    "print(score(IBCF_knn_model, n_neighbors=0))\n",
    "\n",
    "K = 30\n",
    "print(f\"knn 감안한 IF - {K} 개의 가장 유사한 item만 포함\")\n",
    "print(score(IBCF_knn_model, n_neighbors=K))"
   ]
  },
  {
   "cell_type": "markdown",
   "id": "568d3f01",
   "metadata": {},
   "source": [
    "### 특정 사용자에 대하여 영화 추천"
   ]
  },
  {
   "cell_type": "code",
   "execution_count": 29,
   "id": "4db69558",
   "metadata": {},
   "outputs": [
    {
     "data": {
      "text/plain": [
       "movie_id\n",
       "1       4.0\n",
       "2       NaN\n",
       "3       NaN\n",
       "4       NaN\n",
       "5       NaN\n",
       "       ... \n",
       "1678    NaN\n",
       "1679    NaN\n",
       "1680    NaN\n",
       "1681    NaN\n",
       "1682    NaN\n",
       "Name: 2, Length: 1682, dtype: float64"
      ]
     },
     "execution_count": 29,
     "metadata": {},
     "output_type": "execute_result"
    }
   ],
   "source": [
    "# 추천 대상 사용자가 평가한 영화 평점 가져오기\n",
    "# 추천 대상 사용자의 ID 설정\n",
    "user_id = 2  \n",
    "# rating_matrix에서 해당 사용자가 평가한 영화 평점 가져오기\n",
    "user_movie_ratings = rating_matrix.loc[:, user_id]  \n",
    "\n",
    "# 추천 대상 사용자가 평가한 영화 평점 출력\n",
    "user_movie_ratings"
   ]
  },
  {
   "cell_type": "code",
   "execution_count": 30,
   "id": "b12534b6-358a-41a0-bd9b-e409304273ab",
   "metadata": {},
   "outputs": [
    {
     "data": {
      "text/plain": [
       "Index([2, 3, 4, 5, 6, 7, 8, 9, 11, 12, 15, 16, 17, 18, 20, 21, 22, 23, 24, 26], dtype='int64', name='movie_id')"
      ]
     },
     "execution_count": 30,
     "metadata": {},
     "output_type": "execute_result"
    }
   ],
   "source": [
    "# 추천 대상 사용자에 의해 평가되지 않은 영화만 필터링 \n",
    "unrated_movies = user_movie_ratings[user_movie_ratings.isnull()]\n",
    "unrated_movies.index[:20]"
   ]
  },
  {
   "cell_type": "code",
   "execution_count": 31,
   "id": "a3e82701",
   "metadata": {},
   "outputs": [
    {
     "data": {
      "text/plain": [
       "2    3.200713\n",
       "3    3.225232\n",
       "4    3.043486\n",
       "5    2.974994\n",
       "6    3.438292\n",
       "dtype: float64"
      ]
     },
     "execution_count": 31,
     "metadata": {},
     "output_type": "execute_result"
    }
   ],
   "source": [
    "# 사용자가 평가하지 않은 각 영화에 대해 IBCF 방식으로 예상 평점을 계산\n",
    "predicted_ratings = {movie: IBCF_knn_model(user_id, movie, rating_matrix, item_similarity, n_neighbors=30)\n",
    "                     for movie in unrated_movies.index}\n",
    "\n",
    "# 예상 평점을 포함하는 Series 객체 생성\n",
    "predicted_ratings = pd.Series(predicted_ratings)\n",
    "predicted_ratings.head()"
   ]
  },
  {
   "cell_type": "markdown",
   "id": "80852c14",
   "metadata": {},
   "source": [
    "영화를 예상 평점에 따라 정렬해서 제목을 뽑아서 돌려 줌"
   ]
  },
  {
   "cell_type": "code",
   "execution_count": 32,
   "id": "1680d827",
   "metadata": {},
   "outputs": [
    {
     "data": {
      "text/plain": [
       "1086    5.000000\n",
       "1405    5.000000\n",
       "695     5.000000\n",
       "1604    5.000000\n",
       "1324    5.000000\n",
       "1434    5.000000\n",
       "1278    5.000000\n",
       "1592    4.569907\n",
       "700     4.525458\n",
       "1171    4.463796\n",
       "dtype: float64"
      ]
     },
     "execution_count": 32,
     "metadata": {},
     "output_type": "execute_result"
    }
   ],
   "source": [
    "# 영화를 예상 평점에 따라 정렬하고, 상위 10개의 영화를 추천 목록으로 선정\n",
    "top_movies = predicted_ratings.sort_values(ascending=False).head(10)\n",
    "top_movies"
   ]
  },
  {
   "cell_type": "code",
   "execution_count": 33,
   "id": "42ed3a30",
   "metadata": {},
   "outputs": [
    {
     "data": {
      "text/plain": [
       "1086                                  Bloodsport 2 (1995)\n",
       "1405                         When Night Is Falling (1995)\n",
       "695                                      City Hall (1996)\n",
       "1604                                 Love Serenade (1996)\n",
       "1324                                        August (1996)\n",
       "1434                       Steal Big, Steal Little (1995)\n",
       "1278                                  Wild America (1997)\n",
       "1592                            Death in Brunswick (1991)\n",
       "700     Wonderful, Horrible Life of Leni Riefenstahl, ...\n",
       "1171                                    Women, The (1939)\n",
       "Name: title, dtype: object"
      ]
     },
     "execution_count": 33,
     "metadata": {},
     "output_type": "execute_result"
    }
   ],
   "source": [
    "# 추천 영화의 제목 반환\n",
    "recommendations = movies.loc[top_movies.index]['title']\n",
    "recommendations"
   ]
  },
  {
   "cell_type": "markdown",
   "id": "c13c58aa",
   "metadata": {},
   "source": [
    "### 특정 사용자에 대하여 추천 받는 함수"
   ]
  },
  {
   "cell_type": "code",
   "execution_count": 34,
   "id": "ac91cc78-22ae-478e-ac88-40bc89867184",
   "metadata": {},
   "outputs": [],
   "source": [
    "def recom_movie(user_id, n_items, neighbor_size=30):\n",
    "    # 현 사용자가 평가한 영화 ratings 가져오기\n",
    "    user_movie_ratings = rating_matrix.loc[:, user_id]\n",
    "    \n",
    "    # 평가되지 않은 영화만 필터링\n",
    "    unrated_movies = user_movie_ratings[user_movie_ratings.isnull()]\n",
    "    \n",
    "    # 사용자가 평가하지 않은 각 영화에 대해 IBCF 방식으로 예상 평점을 계산\n",
    "    predicted_ratings = {movie: IBCF_knn_model(user_id, movie, rating_matrix, item_similarity, neighbor_size)\n",
    "                         for movie in unrated_movies.index}\n",
    "    \n",
    "    # 예상 평점을 포함하는 Series 객체 생성\n",
    "    predicted_ratings = pd.Series(predicted_ratings)\n",
    "    \n",
    "    # 영화를 예상 평점에 따라 정렬하고, 상위 n_items 개의 영화를 추천 목록으로 선정\n",
    "    top_movies = predicted_ratings.sort_values(ascending=False).head(n_items)\n",
    "    \n",
    "    # 추천 영화의 제목 반환\n",
    "    recommendations = movies.loc[top_movies.index]['title']\n",
    "    return recommendations"
   ]
  },
  {
   "cell_type": "code",
   "execution_count": 35,
   "id": "7d2ae2a3-4caf-4b10-8d3f-300c80b111a5",
   "metadata": {},
   "outputs": [
    {
     "data": {
      "text/plain": [
       "1086             Bloodsport 2 (1995)\n",
       "1405    When Night Is Falling (1995)\n",
       "695                 City Hall (1996)\n",
       "1604            Love Serenade (1996)\n",
       "1324                   August (1996)\n",
       "Name: title, dtype: object"
      ]
     },
     "execution_count": 35,
     "metadata": {},
     "output_type": "execute_result"
    }
   ],
   "source": [
    "recom_movie(user_id=2, n_items=5, neighbor_size=30)"
   ]
  },
  {
   "cell_type": "markdown",
   "id": "5ab1e277",
   "metadata": {},
   "source": [
    "### 최적의 neighbor size 구하기"
   ]
  },
  {
   "cell_type": "code",
   "execution_count": 36,
   "id": "04163345",
   "metadata": {},
   "outputs": [
    {
     "name": "stdout",
     "output_type": "stream",
     "text": [
      "Neighbor size = 10 : RMSE = 1.3954\n",
      "Neighbor size = 20 : RMSE = 1.3698\n",
      "Neighbor size = 30 : RMSE = 1.3627\n",
      "Neighbor size = 40 : RMSE = 1.3603\n",
      "Neighbor size = 50 : RMSE = 1.3569\n",
      "Neighbor size = 60 : RMSE = 1.3564\n",
      "CPU times: total: 53.2 s\n",
      "Wall time: 2min 32s\n"
     ]
    }
   ],
   "source": [
    "%%time\n",
    "for neighbor_size in [10, 20, 30, 40, 50, 60]:\n",
    "    print(f\"Neighbor size = {neighbor_size} : RMSE = {score(IBCF_knn_model, neighbor_size):.4f}\")"
   ]
  },
  {
   "cell_type": "code",
   "execution_count": null,
   "id": "db3dc4b9",
   "metadata": {},
   "outputs": [],
   "source": []
  }
 ],
 "metadata": {
  "kernelspec": {
   "display_name": "Python 3 (ipykernel)",
   "language": "python",
   "name": "python3"
  },
  "language_info": {
   "codemirror_mode": {
    "name": "ipython",
    "version": 3
   },
   "file_extension": ".py",
   "mimetype": "text/x-python",
   "name": "python",
   "nbconvert_exporter": "python",
   "pygments_lexer": "ipython3",
   "version": "3.9.16"
  }
 },
 "nbformat": 4,
 "nbformat_minor": 5
}
