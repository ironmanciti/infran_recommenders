{
 "cells": [
  {
   "cell_type": "markdown",
   "id": "83eb5da5-7be4-4710-b9ec-289223d588b8",
   "metadata": {},
   "source": [
    "# 실습 - Non-Personalized Recommendation - Best Seller 추천\n",
    "\n",
    "- 영화 데이터(movies.csv) 파일을 Best Seller 추천 방식에 적용합니다.  \n",
    "- 모든 사용자에게 가장 인기 있는 도일한 영화를 추천합니다."
   ]
  },
  {
   "cell_type": "code",
   "execution_count": 1,
   "id": "3e41a571-384c-4187-b7e8-656c1499f85e",
   "metadata": {},
   "outputs": [
    {
     "data": {
      "text/plain": [
       "'1.2.2'"
      ]
     },
     "execution_count": 1,
     "metadata": {},
     "output_type": "execute_result"
    }
   ],
   "source": [
    "# 필요한 라이브러리 임포트\n",
    "import pandas as pd  \n",
    "import numpy as np  \\\n",
    "\n",
    "# from sklearn.metrics import root_mean_squared_error   # sklearn 최신 버전\n",
    "from sklearn.metrics import mean_squared_error  # sklearn 구 버전\n",
    "\n",
    "# 경고 메시지를 무시하도록 설정\n",
    "import warnings\n",
    "warnings.filterwarnings('ignore')\n",
    "\n",
    "# sklearn 라이브러리의 버전 확인\n",
    "import sklearn\n",
    "sklearn.__version__"
   ]
  },
  {
   "cell_type": "markdown",
   "id": "b18c6241-ae67-4bea-8988-503cb1c50b68",
   "metadata": {},
   "source": [
    "## 영화 데이터(movies.csv) 파일을 DataFrame으로 읽기"
   ]
  },
  {
   "cell_type": "code",
   "execution_count": 2,
   "id": "4c55c199-dc55-4e9c-ab95-7ce1f667f8a4",
   "metadata": {},
   "outputs": [
    {
     "data": {
      "text/html": [
       "<div>\n",
       "<style scoped>\n",
       "    .dataframe tbody tr th:only-of-type {\n",
       "        vertical-align: middle;\n",
       "    }\n",
       "\n",
       "    .dataframe tbody tr th {\n",
       "        vertical-align: top;\n",
       "    }\n",
       "\n",
       "    .dataframe thead th {\n",
       "        text-align: right;\n",
       "    }\n",
       "</style>\n",
       "<table border=\"1\" class=\"dataframe\">\n",
       "  <thead>\n",
       "    <tr style=\"text-align: right;\">\n",
       "      <th></th>\n",
       "      <th>title</th>\n",
       "      <th>genres</th>\n",
       "    </tr>\n",
       "    <tr>\n",
       "      <th>movieId</th>\n",
       "      <th></th>\n",
       "      <th></th>\n",
       "    </tr>\n",
       "  </thead>\n",
       "  <tbody>\n",
       "    <tr>\n",
       "      <th>1</th>\n",
       "      <td>Toy Story (1995)</td>\n",
       "      <td>Adventure|Animation|Children|Comedy|Fantasy</td>\n",
       "    </tr>\n",
       "    <tr>\n",
       "      <th>2</th>\n",
       "      <td>Jumanji (1995)</td>\n",
       "      <td>Adventure|Children|Fantasy</td>\n",
       "    </tr>\n",
       "    <tr>\n",
       "      <th>3</th>\n",
       "      <td>Grumpier Old Men (1995)</td>\n",
       "      <td>Comedy|Romance</td>\n",
       "    </tr>\n",
       "    <tr>\n",
       "      <th>4</th>\n",
       "      <td>Waiting to Exhale (1995)</td>\n",
       "      <td>Comedy|Drama|Romance</td>\n",
       "    </tr>\n",
       "    <tr>\n",
       "      <th>5</th>\n",
       "      <td>Father of the Bride Part II (1995)</td>\n",
       "      <td>Comedy</td>\n",
       "    </tr>\n",
       "  </tbody>\n",
       "</table>\n",
       "</div>"
      ],
      "text/plain": [
       "                                      title  \\\n",
       "movieId                                       \n",
       "1                          Toy Story (1995)   \n",
       "2                            Jumanji (1995)   \n",
       "3                   Grumpier Old Men (1995)   \n",
       "4                  Waiting to Exhale (1995)   \n",
       "5        Father of the Bride Part II (1995)   \n",
       "\n",
       "                                              genres  \n",
       "movieId                                               \n",
       "1        Adventure|Animation|Children|Comedy|Fantasy  \n",
       "2                         Adventure|Children|Fantasy  \n",
       "3                                     Comedy|Romance  \n",
       "4                               Comedy|Drama|Romance  \n",
       "5                                             Comedy  "
      ]
     },
     "execution_count": 2,
     "metadata": {},
     "output_type": "execute_result"
    }
   ],
   "source": [
    "# movies.csv 파일 읽기\n",
    "movies = pd.read_csv('data/ml-latest-small/movies.csv', index_col=0)\n",
    "movies.head()"
   ]
  },
  {
   "cell_type": "markdown",
   "id": "d3a54251-5f62-4041-ae04-e4f4dea7ec17",
   "metadata": {},
   "source": [
    "## 사용자 평점 (ratings.csv) 파일을 DataFrame으로 읽기 "
   ]
  },
  {
   "cell_type": "code",
   "execution_count": 3,
   "id": "7597d2a8-1938-472a-96f9-be1677375a77",
   "metadata": {},
   "outputs": [
    {
     "data": {
      "text/html": [
       "<div>\n",
       "<style scoped>\n",
       "    .dataframe tbody tr th:only-of-type {\n",
       "        vertical-align: middle;\n",
       "    }\n",
       "\n",
       "    .dataframe tbody tr th {\n",
       "        vertical-align: top;\n",
       "    }\n",
       "\n",
       "    .dataframe thead th {\n",
       "        text-align: right;\n",
       "    }\n",
       "</style>\n",
       "<table border=\"1\" class=\"dataframe\">\n",
       "  <thead>\n",
       "    <tr style=\"text-align: right;\">\n",
       "      <th></th>\n",
       "      <th>movieId</th>\n",
       "      <th>rating</th>\n",
       "      <th>timestamp</th>\n",
       "    </tr>\n",
       "    <tr>\n",
       "      <th>userId</th>\n",
       "      <th></th>\n",
       "      <th></th>\n",
       "      <th></th>\n",
       "    </tr>\n",
       "  </thead>\n",
       "  <tbody>\n",
       "    <tr>\n",
       "      <th>1</th>\n",
       "      <td>1</td>\n",
       "      <td>4.0</td>\n",
       "      <td>964982703</td>\n",
       "    </tr>\n",
       "    <tr>\n",
       "      <th>1</th>\n",
       "      <td>3</td>\n",
       "      <td>4.0</td>\n",
       "      <td>964981247</td>\n",
       "    </tr>\n",
       "    <tr>\n",
       "      <th>1</th>\n",
       "      <td>6</td>\n",
       "      <td>4.0</td>\n",
       "      <td>964982224</td>\n",
       "    </tr>\n",
       "    <tr>\n",
       "      <th>1</th>\n",
       "      <td>47</td>\n",
       "      <td>5.0</td>\n",
       "      <td>964983815</td>\n",
       "    </tr>\n",
       "    <tr>\n",
       "      <th>1</th>\n",
       "      <td>50</td>\n",
       "      <td>5.0</td>\n",
       "      <td>964982931</td>\n",
       "    </tr>\n",
       "  </tbody>\n",
       "</table>\n",
       "</div>"
      ],
      "text/plain": [
       "        movieId  rating  timestamp\n",
       "userId                            \n",
       "1             1     4.0  964982703\n",
       "1             3     4.0  964981247\n",
       "1             6     4.0  964982224\n",
       "1            47     5.0  964983815\n",
       "1            50     5.0  964982931"
      ]
     },
     "execution_count": 3,
     "metadata": {},
     "output_type": "execute_result"
    }
   ],
   "source": [
    "# ratings.csv 파일 읽기\n",
    "ratings = pd.read_csv('data/ml-latest-small/ratings.csv', index_col=0)\n",
    "ratings.head()"
   ]
  },
  {
   "cell_type": "markdown",
   "id": "c2c4377f-f634-4944-9fec-9260bcba3457",
   "metadata": {},
   "source": [
    "# 베스트셀러 추천 방식\n",
    "\n",
    "- 이 방식은 모든 사용자에게 가장 인기 있는 동일한 영화를 추천합니다.\n",
    "- 상품에 대한 모든 평가의 평균을 계산하고, 이 평균 점수가 높은 순서대로 상품을 추천합니다."
   ]
  },
  {
   "cell_type": "code",
   "execution_count": 4,
   "id": "95715c91-efc2-474e-910d-170bb8981d1d",
   "metadata": {},
   "outputs": [
    {
     "data": {
      "text/plain": [
       "movieId\n",
       "1    3.920930\n",
       "2    3.431818\n",
       "3    3.259615\n",
       "4    2.357143\n",
       "5    3.071429\n",
       "Name: rating, dtype: float64"
      ]
     },
     "execution_count": 4,
     "metadata": {},
     "output_type": "execute_result"
    }
   ],
   "source": [
    "# 각 영화별 평균 평점 계산\n",
    "movie_mean_rating = ratings.groupby('movieId')['rating'].mean()\n",
    "movie_mean_rating.head()"
   ]
  },
  {
   "cell_type": "code",
   "execution_count": 5,
   "id": "bdde3556-9181-45ec-a16b-2561e919b560",
   "metadata": {},
   "outputs": [
    {
     "data": {
      "text/plain": [
       "movieId\n",
       "88448     5.0\n",
       "100556    5.0\n",
       "143031    5.0\n",
       "143511    5.0\n",
       "143559    5.0\n",
       "Name: rating, dtype: float64"
      ]
     },
     "execution_count": 5,
     "metadata": {},
     "output_type": "execute_result"
    }
   ],
   "source": [
    "# 평균 평점이 가장 높은 상위 5개 영화 찾기\n",
    "top_movies = movie_mean_rating.sort_values(ascending=False).head(5)\n",
    "top_movies.head()"
   ]
  },
  {
   "cell_type": "code",
   "execution_count": 6,
   "id": "826535bd-4a02-49df-8c11-f1d759e9c17d",
   "metadata": {},
   "outputs": [
    {
     "data": {
      "text/plain": [
       "movieId\n",
       "88448     Paper Birds (Pájaros de papel) (2010)\n",
       "100556               Act of Killing, The (2012)\n",
       "143031                          Jump In! (2007)\n",
       "143511                             Human (2015)\n",
       "143559                      L.A. Slasher (2015)\n",
       "Name: title, dtype: object"
      ]
     },
     "execution_count": 6,
     "metadata": {},
     "output_type": "execute_result"
    }
   ],
   "source": [
    "# 상위 5개 영화의 제목 찾기\n",
    "top_movies_titles = movies.loc[top_movies.index, 'title']\n",
    "top_movies_titles"
   ]
  },
  {
   "cell_type": "markdown",
   "id": "7467b03f-e365-4ce2-9d95-06da6292a751",
   "metadata": {},
   "source": [
    "## 추천 시스템의 정확도 측정"
   ]
  },
  {
   "cell_type": "code",
   "execution_count": 13,
   "id": "cd8c2c0a-bc78-474c-8035-1f48737335fd",
   "metadata": {},
   "outputs": [
    {
     "name": "stdout",
     "output_type": "stream",
     "text": [
      "Best Seller 추천 방식의 RMSE =  0.9008684066524535\n"
     ]
    }
   ],
   "source": [
    "rmse = []\n",
    "\n",
    "for user in set(ratings.index): # 모든 userId 에 대해 순회\n",
    "    y_true = ratings.loc[user, 'rating']  # 현재 사용자가 평가한 영화 평점\n",
    "    y_pred = movie_mean_rating.loc[ratings.loc[user, 'movieId']]  # 해당 영화에 대한 모든 사용자의 평균 평점\n",
    "    assert len(y_true) == len(y_pred), \"length different\"  # 동일한 길이인지 check\n",
    "    \n",
    "    #loss = root_mean_squared_error(y_true, y_pred)    # sklearn latest version\n",
    "    loss = mean_squared_error(y_true, y_pred, squared=True)    # sklearn old version\n",
    "    \n",
    "    rmse.append(loss)\n",
    "\n",
    "print(\"Best Seller 추천 방식의 RMSE = \", np.mean(rmse))"
   ]
  },
  {
   "cell_type": "code",
   "execution_count": null,
   "id": "3514bb09-42f4-4460-86a1-38bc8c71ef13",
   "metadata": {},
   "outputs": [],
   "source": []
  }
 ],
 "metadata": {
  "kernelspec": {
   "display_name": "Python 3 (ipykernel)",
   "language": "python",
   "name": "python3"
  },
  "language_info": {
   "codemirror_mode": {
    "name": "ipython",
    "version": 3
   },
   "file_extension": ".py",
   "mimetype": "text/x-python",
   "name": "python",
   "nbconvert_exporter": "python",
   "pygments_lexer": "ipython3",
   "version": "3.9.16"
  }
 },
 "nbformat": 4,
 "nbformat_minor": 5
}
