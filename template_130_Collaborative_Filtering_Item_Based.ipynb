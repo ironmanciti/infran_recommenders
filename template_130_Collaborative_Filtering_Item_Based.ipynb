{
 "cells": [
  {
   "cell_type": "markdown",
   "id": "0e1d1ef9",
   "metadata": {},
   "source": [
    "# 130. Item-Based Collaborative Filtering (아이템 기반 협업 필터링)\n",
    "\n",
    "### User-Based CF vs Item_Basef CF\n",
    "\n",
    "| 사용자 | 기생충 | 겨울왕국 | 부산행 | 백두산 | \n",
    "| --- | --- |--- |--- | ---|\n",
    "| 철수|4 | 3 | 5 |   |  \n",
    "|영희| |2|1|2|\n",
    "|길동|1|5| | 3| \n",
    "|정숙| | |4|5|\n",
    "\n",
    "<img src=\"https://img1.daumcdn.net/thumb/R1280x0/?scode=mtistory2&fname=https%3A%2F%2Fblog.kakaocdn.net%2Fdn%2FpxM35%2FbtrbAIgrefV%2FKPUOwAAuXRUw5DOaQshNi1%2Fimg.png\" width=\"500\" />\n",
    "\n",
    "### UBCF\n",
    "\n",
    "- 장점 : 각 사용자별로 맞춤형 추천을 하므로 정확한 추천이 가능\n",
    "- 단점 : \n",
    "    - 데이터가 풍부한 경우(구매나 평가 정보) 추천이 가능   \n",
    "    - 데이터가 조금만 바뀌어도 업데이트 필요\n",
    "    \n",
    "\n",
    "### IBCF\n",
    "\n",
    "- 장점 :\n",
    "    - 사용자별로 따로 계산 않으므로 계산 속도가 빠르다.\n",
    "    - 데이터가 조금 바뀌어도 추천 결과에 영향이 크지 않으므로 업데이트를 자주하지 않아도 된다.  \n",
    "    - 대규모 사이트에 적합\n",
    "- 단점 : 사용자의 최신 취향 반영에 시간이 걸릴 수 있음\n"
   ]
  },
  {
   "cell_type": "markdown",
   "id": "b6024d32-b0b0-4eb4-b4aa-fa331cfeaa86",
   "metadata": {},
   "source": [
    "- content-based filtering 과 달리 CF 는 similarity 를 이용하므로 **item 정보가 필요하지 않기 때문에** movies dataframe에서 title 을 제외한 모든 다른 열을 drop 한다.  "
   ]
  },
  {
   "cell_type": "markdown",
   "id": "8078ca92",
   "metadata": {},
   "source": [
    "- ratings 만을 입력으로 사용"
   ]
  },
  {
   "cell_type": "markdown",
   "id": "fbaab7f5",
   "metadata": {},
   "source": [
    "### 평점 Matrix 생성 \n",
    "- item 간의 유사도를 계산하므로 ratings를 UF 처럼 X_train, X_test 분리하면 안되고 전체 item data 사용"
   ]
  },
  {
   "cell_type": "markdown",
   "id": "a7f62b07",
   "metadata": {},
   "source": [
    "### Item-Based CF 알고리즘\n",
    "\n",
    "1) 모든 Item 간의 평가의 유사도를 계산  \n",
    "2) 현재 추천 대상이 되는 아이템과 다른 아이템들의 유사도를 추출  \n",
    "3) 현재 사용자가 평가하지 않은 모든 아이템에 대해서 현재 사용자의 예상 평가 값 계산. 예상 평가 값은 추천하려는 영화와 사용자가 평가한 영화의 유사도로 가중 평균  \n",
    "4) 아이템 중에서 예상 평가 값이 가장 높은 N 개의 아이템을 추천  \n",
    "\n",
    "이때, 추천 대상 영화와 가장 유사도가 높은 K 개의 다른 영화만 반영하여 예측 평가의 품질을 높인다.\n",
    "\n",
    "이를 위해 추천 사용자, 영화 id 를 parameter 로 받아 예상 평점을 반환하는 함수를 작성"
   ]
  },
  {
   "cell_type": "markdown",
   "id": "dc319562",
   "metadata": {},
   "source": [
    "현재 추천 대상이 되는 영화와 다른 영화의 유사도를 추출"
   ]
  },
  {
   "cell_type": "markdown",
   "id": "06ec0f48",
   "metadata": {},
   "source": [
    "### 추천 대상이 되는 사용자에게 보지 않은 영화를 추천할 때 사용자가 부여할 rating 예측\n",
    "\n",
    "1. 현 사용자의 모든 rating값 가져오기  \n",
    "2. 현 사용자가 평가하지 않은 영화의 index 가져오기\n",
    "3. 현 사용자가 평가하지 않은 영화의 rating (null) 제거 --> 사용자가 평가한 영화만 남김"
   ]
  },
  {
   "cell_type": "markdown",
   "id": "6593925e",
   "metadata": {},
   "source": [
    "### 추천하려는 영화에 대한 추천 대상 사용자의 예상 rating 계산"
   ]
  },
  {
   "cell_type": "markdown",
   "id": "f933a0f2-ef68-4b00-b6be-12f2bff54de7",
   "metadata": {},
   "source": [
    "### Implicit Rating을 이용한 추천 공식\n",
    "\n",
    "$$\\tilde{r}_{ui} = \\frac{\\sum_{j \\in KNN(i)}r_{uj} \\cdot S_{ji}}{\\sum_{j \\in KNN(i)}S_{ji}}$$"
   ]
  },
  {
   "cell_type": "markdown",
   "id": "8bd2cc89-aca5-4332-914e-1fd13e8fc468",
   "metadata": {},
   "source": [
    "###  특정 사용자에게 추천하는 영화(movie_id)의  가중평균 rating을 계산하는 함수\n",
    "- 위의 과정을 model 함수로 작성\n",
    "- 위에서 개별 사용자와 아이템에 대해 구하던 predicted_rating을 함수로 작성\n",
    "- 가중치는 주어진 영화와 주어진 사용자가 평가한 영화의 유사도(user_similarity)"
   ]
  },
  {
   "cell_type": "markdown",
   "id": "8bfb1caa",
   "metadata": {},
   "source": [
    "### 모델 성능 평가 - 모델별 RMSE를 계산하는 함수 \n",
    "- Test set을 이용하여 측정  "
   ]
  },
  {
   "cell_type": "markdown",
   "id": "568d3f01",
   "metadata": {},
   "source": [
    "### 특정 사용자에 대하여 영화 추천"
   ]
  },
  {
   "cell_type": "markdown",
   "id": "80852c14",
   "metadata": {},
   "source": [
    "영화를 예상 평점에 따라 정렬해서 제목을 뽑아서 돌려 줌"
   ]
  },
  {
   "cell_type": "markdown",
   "id": "c13c58aa",
   "metadata": {},
   "source": [
    "### 특정 사용자에 대하여 추천 받는 함수"
   ]
  },
  {
   "cell_type": "markdown",
   "id": "5ab1e277",
   "metadata": {},
   "source": [
    "### 최적의 neighbor size 구하기"
   ]
  }
 ],
 "metadata": {
  "kernelspec": {
   "display_name": "Python 3 (ipykernel)",
   "language": "python",
   "name": "python3"
  },
  "language_info": {
   "codemirror_mode": {
    "name": "ipython",
    "version": 3
   },
   "file_extension": ".py",
   "mimetype": "text/x-python",
   "name": "python",
   "nbconvert_exporter": "python",
   "pygments_lexer": "ipython3",
   "version": "3.9.16"
  }
 },
 "nbformat": 4,
 "nbformat_minor": 5
}
