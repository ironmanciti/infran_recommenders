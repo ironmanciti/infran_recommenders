{
 "cells": [
  {
   "cell_type": "markdown",
   "id": "0e1d1ef9",
   "metadata": {},
   "source": [
    "# 130. Item-Based Collaborative Filtering (아이템 기반 협업 필터링)\n",
    "\n",
    "### User-Based CF vs Item_Basef CF\n",
    "\n",
    "| 사용자 | 기생충 | 겨울왕국 | 부산행 | 백두산 | \n",
    "| --- | --- |--- |--- | ---|\n",
    "| 철수|4 | 3 | 5 |   |  \n",
    "|영희| |2|1|2|\n",
    "|길동|1|5| | 3| \n",
    "|정숙| | |4|5|\n",
    "\n",
    "<img src=\"https://img1.daumcdn.net/thumb/R1280x0/?scode=mtistory2&fname=https%3A%2F%2Fblog.kakaocdn.net%2Fdn%2FpxM35%2FbtrbAIgrefV%2FKPUOwAAuXRUw5DOaQshNi1%2Fimg.png\" width=\"500\" />\n",
    "\n",
    "### UBCF\n",
    "\n",
    "- 장점 : 각 사용자별로 맞춤형 추천을 하므로 정확한 추천이 가능\n",
    "- 단점 : \n",
    "    - 데이터가 풍부한 경우(구매나 평가 정보) 추천이 가능   \n",
    "    - 데이터가 조금만 바뀌어도 업데이트 필요\n",
    "    \n",
    "\n",
    "### IBCF\n",
    "\n",
    "- 장점 :\n",
    "    - 사용자별로 따로 계산 않으므로 계산 속도가 빠르다.\n",
    "    - 데이터가 조금 바뀌어도 추천 결과에 영향이 크지 않으므로 업데이트를 자주하지 않아도 된다.  \n",
    "    - 대규모 사이트에 적합\n",
    "- 단점 : 사용자의 최신 취향 반영에 시간이 걸릴 수 있음\n"
   ]
  },
  {
   "cell_type": "code",
   "execution_count": null,
   "id": "39b13673",
   "metadata": {},
   "outputs": [],
   "source": []
  },
  {
   "cell_type": "code",
   "execution_count": null,
   "id": "8673f8b6",
   "metadata": {},
   "outputs": [],
   "source": [
    "# 필요한 라이브러리 임포트\n",
    "# from sklearn.metrics import root_mean_squared_error   # sklearn 최신 버전\n",
    "# 두 벡터 간의 코사인 유사도를 계산하기 위한 함수\n",
    "# 영화 데이터의 열 이름을 정의\n",
    "# 영화 (특성) 정보 로드"
   ]
  },
  {
   "cell_type": "markdown",
   "id": "b6024d32-b0b0-4eb4-b4aa-fa331cfeaa86",
   "metadata": {},
   "source": [
    "- content-based filtering 과 달리 CF 는 similarity 를 이용하므로 **item 정보가 필요하지 않기 때문에** movies dataframe에서 title 을 제외한 모든 다른 열을 drop 한다.  "
   ]
  },
  {
   "cell_type": "code",
   "execution_count": null,
   "id": "3b9d72a0",
   "metadata": {},
   "outputs": [],
   "source": [
    "# item 정보가 필요하지 않으므로 movie ID와 title 빼고 다른 데이터 제거"
   ]
  },
  {
   "cell_type": "code",
   "execution_count": null,
   "id": "55461243",
   "metadata": {},
   "outputs": [],
   "source": [
    "# 평점 데이터의 열 이름을 정의\n",
    "# 평점 데이터를 파일에서 읽어옴\n",
    "# 'data/u.rating' 파일을 탭('\\t')으로 구분된 데이터로 읽고, 열 이름을 r_cols로 지정"
   ]
  },
  {
   "cell_type": "markdown",
   "id": "8078ca92",
   "metadata": {},
   "source": [
    "- ratings 만을 입력으로 사용"
   ]
  },
  {
   "cell_type": "code",
   "execution_count": null,
   "id": "70d99498",
   "metadata": {},
   "outputs": [],
   "source": [
    "# timestamp 제거 "
   ]
  },
  {
   "cell_type": "markdown",
   "id": "fbaab7f5",
   "metadata": {},
   "source": [
    "### 평점 Matrix 생성 \n",
    "\n",
    "- 아이템 간의 유사도 계산은 아이템 자체의 특성을 비교하는 것이므로, ratings를 UF 처럼 훈련과 테스트 데이터로 분리할 필요가 없습니다"
   ]
  },
  {
   "cell_type": "code",
   "execution_count": null,
   "id": "5272203c",
   "metadata": {},
   "outputs": [],
   "source": [
    "# movie_id를 인덱스로, user_id를 컬럼으로 사용하여\n",
    "# 각 사용자가 각 영화에 부여한 평점을 값으로 하는 사용자-영화 평점 매트릭스를 생성합니다."
   ]
  },
  {
   "cell_type": "markdown",
   "id": "a7f62b07",
   "metadata": {},
   "source": [
    "### Item-Based CF 알고리즘\n",
    "\n",
    "1) 모든 Item 간의 평가의 유사도를 계산  \n",
    "2) 현재 추천 대상이 되는 아이템과 다른 아이템들의 유사도를 추출  \n",
    "3) 현재 사용자가 평가하지 않은 모든 아이템에 대해서 현재 사용자의 예상 평가 값 계산. 예상 평가 값은 추천하려는 영화와 사용자가 평가한 영화의 유사도로 가중 평균  \n",
    "4) 아이템 중에서 예상 평가 값이 가장 높은 N 개의 아이템을 추천  \n",
    "\n",
    "이때, 추천 대상 영화와 가장 유사도가 높은 K 개의 다른 영화만 반영하여 예측 평가의 품질을 높인다.\n",
    "\n",
    "이를 위해 추천 사용자, 영화 id 를 parameter 로 받아 예상 평점을 반환하는 함수를 작성"
   ]
  },
  {
   "cell_type": "code",
   "execution_count": null,
   "id": "bae78a61",
   "metadata": {},
   "outputs": [],
   "source": [
    "# 평점 매트릭스의 복사본을 생성하고, NaN(평점을 부여하지 않은 영화) 값을 0으로 채웁니다.\n",
    "# 모든 가능한 아이템(movie) pair의 Cosine similarities 계산"
   ]
  },
  {
   "cell_type": "markdown",
   "id": "dc319562",
   "metadata": {},
   "source": [
    "현재 추천 대상이 되는 영화와 다른 영화의 유사도를 추출"
   ]
  },
  {
   "cell_type": "code",
   "execution_count": null,
   "id": "9e57a8dd",
   "metadata": {},
   "outputs": [],
   "source": [
    "# 추천 대상 영화와 다른 영화 간의 유사도 가져오기"
   ]
  },
  {
   "cell_type": "markdown",
   "id": "06ec0f48",
   "metadata": {},
   "source": [
    "### 추천 대상이 되는 사용자에게 보지 않은 영화를 추천할 때 사용자가 부여할 rating 예측\n",
    "\n",
    "1. 현 사용자의 모든 rating값 가져오기  \n",
    "2. 현 사용자가 평가하지 않은 영화의 index 가져오기\n",
    "3. 현 사용자가 평가하지 않은 영화의 rating (null) 제거 --> 사용자가 평가한 영화만 남김"
   ]
  },
  {
   "cell_type": "code",
   "execution_count": null,
   "id": "095bc57f",
   "metadata": {},
   "outputs": [],
   "source": [
    "# 1. rating maxtrix에서 추천 대상 사용자의 모든 영화 평가 가져오기"
   ]
  },
  {
   "cell_type": "code",
   "execution_count": null,
   "id": "a1c28ba5",
   "metadata": {},
   "outputs": [],
   "source": [
    "# 2. 추천 대상 사용자가 평가하지 않은 영화의 인덱스 가져오기"
   ]
  },
  {
   "cell_type": "code",
   "execution_count": null,
   "id": "fac3d8ad",
   "metadata": {},
   "outputs": [],
   "source": [
    "# 3. 추천 대상 사용자가 평가하지 않은 영화의 평점 제거 --> 사용자가 평가한 영화만 남김"
   ]
  },
  {
   "cell_type": "code",
   "execution_count": null,
   "id": "1f6a7c2b",
   "metadata": {},
   "outputs": [],
   "source": [
    "# item 유사도 matrix에서 추천 대상 사용자가 평가하지 않은 영화의 유사도 제거\n",
    "# 추천 대상 영화와 다른 영화 간의 유사도 중 사용자가 평가한 영화만 남김"
   ]
  },
  {
   "cell_type": "markdown",
   "id": "6593925e",
   "metadata": {},
   "source": [
    "### 추천하려는 영화에 대한 추천 대상 사용자의 예상 rating 계산"
   ]
  },
  {
   "cell_type": "code",
   "execution_count": null,
   "id": "156c4f7c",
   "metadata": {},
   "outputs": [],
   "source": [
    "# 4. 추천 대상 영화와 유사도가 높은 영화 순으로 정렬 하여 가장 유사도 높은 n 개 선택"
   ]
  },
  {
   "cell_type": "code",
   "execution_count": null,
   "id": "b9e5eb88",
   "metadata": {},
   "outputs": [],
   "source": [
    "# 5. top_items.index에 해당하는 영화의 평점을 user_ratings에서 재정렬하여 추출합니다.\n",
    "# 이는 가장 유사도가 높은 상위 아이템의 평점을 선택하는 작업입니다.\n",
    "# NaN 값을 가진 요소들을 제거합니다."
   ]
  },
  {
   "cell_type": "code",
   "execution_count": null,
   "id": "3d954ce4",
   "metadata": {},
   "outputs": [],
   "source": [
    "# KNN을 이용한 추천 공식 계산을 위해 유효한 top_items와 top_ratings만 사용합니다."
   ]
  },
  {
   "cell_type": "markdown",
   "id": "f933a0f2-ef68-4b00-b6be-12f2bff54de7",
   "metadata": {},
   "source": [
    "### Implicit Rating을 이용한 추천 공식\n",
    "\n",
    "$$\\tilde{r}_{ui} = \\frac{\\sum_{j \\in KNN(i)}r_{uj} \\cdot S_{ji}}{\\sum_{j \\in KNN(i)}S_{ji}}$$"
   ]
  },
  {
   "cell_type": "code",
   "execution_count": null,
   "id": "60d2cc09",
   "metadata": {},
   "outputs": [],
   "source": [
    "# 6. KNN 평점 예측 계산\n",
    "# 추천대상 사용자 u에게 영화 i를 추천 했을 때 예상 rating"
   ]
  },
  {
   "cell_type": "markdown",
   "id": "8bd2cc89-aca5-4332-914e-1fd13e8fc468",
   "metadata": {},
   "source": [
    "###  특정 사용자에게 추천하는 영화(movie_id)의  가중평균 rating을 계산하는 함수\n",
    "- 위의 과정을 model 함수로 작성\n",
    "- 위에서 개별 사용자와 아이템에 대해 구하던 predicted_rating을 함수로 작성\n",
    "- 가중치는 주어진 영화와 주어진 사용자가 평가한 영화의 유사도(user_similarity)"
   ]
  },
  {
   "cell_type": "code",
   "execution_count": null,
   "id": "5749416c",
   "metadata": {},
   "outputs": [],
   "source": [
    "def IBCF_knn_model(user_id, movie_id, rating_matrix, item_similarity, n_neighbors=0):\n",
    "    # 현재 영화가 item_similarity 인덱스에 있는지 확인\n",
    "        # 현재 영화와 다른 영화 간의 유사도 가져오기\n",
    "        # 1. 현재 사용자의 모든 평가 가져오기\n",
    "        # 2. 사용자가 평가하지 않은 영화의 인덱스 가져오기\n",
    "        # 3. 사용자가 평가하지 않은 영화의 평점과 유사도 제거\n",
    "        # 유사도의 합이 0이 아닌 경우에만 계산\n",
    "            # 유사도 정규화\n",
    "            # n_neighbors가 1 이상이면, 유사도가 높은 상위 n_neighbors만 고려\n",
    "                # 4. 유사도가 높은 아이템 순으로 정렬\n",
    "                # 5. 상위 n_neighbors에 해당하는 valid한 평점만 추출\n",
    "                # reindex를 사용하여 해당 인덱스가 없는 경우 NaN 값으로 채워 넣습니다.\n",
    "                # NaN 값을 가진 요소들을 제거합니다.\n",
    "                # # KNN을 이용한 추천 공식 계산을 위해 유효한 top_items와 top_ratings만 사용합니다.\n",
    "                # 6. KNN 평점 예측 계산"
   ]
  },
  {
   "cell_type": "code",
   "execution_count": null,
   "id": "88c61b5b",
   "metadata": {},
   "outputs": [],
   "source": []
  },
  {
   "cell_type": "code",
   "execution_count": null,
   "id": "a00406c0",
   "metadata": {},
   "outputs": [],
   "source": []
  },
  {
   "cell_type": "code",
   "execution_count": null,
   "id": "85903e05",
   "metadata": {},
   "outputs": [],
   "source": []
  },
  {
   "cell_type": "markdown",
   "id": "8bfb1caa",
   "metadata": {},
   "source": [
    "### 모델 성능 평가 - 모델별 RMSE를 계산하는 함수 \n",
    "- Test set을 이용하여 측정  "
   ]
  },
  {
   "cell_type": "code",
   "execution_count": null,
   "id": "7e5f46cf",
   "metadata": {},
   "outputs": [],
   "source": []
  },
  {
   "cell_type": "code",
   "execution_count": null,
   "id": "64e51818",
   "metadata": {},
   "outputs": [],
   "source": [
    "def score(model, n_neighbors=0):\n",
    "    # X_test 데이터셋에서 사용자 ID와 영화 ID의 쌍을 생성합니다.\n",
    "    # 생성된 각 ID 쌍에 대해 모델을 사용하여 예상 평점을 계산합니다.\n",
    "    # X_test 데이터셋에서 실제 평점을 가져옵니다.\n",
    "    # 실제 평점과 예측 평점 사이의 RMSE를 계산하여 반환합니다.\n",
    "    #return root_mean_squared_error(y_true, y_pred)  # sklearn latest version"
   ]
  },
  {
   "cell_type": "code",
   "execution_count": null,
   "id": "13f0fe05",
   "metadata": {},
   "outputs": [],
   "source": [
    "# 정확도 계산"
   ]
  },
  {
   "cell_type": "markdown",
   "id": "568d3f01",
   "metadata": {},
   "source": [
    "### 특정 사용자에 대하여 영화 추천"
   ]
  },
  {
   "cell_type": "code",
   "execution_count": null,
   "id": "770de26b",
   "metadata": {},
   "outputs": [],
   "source": [
    "# 추천 대상 사용자가 평가한 영화 평점 가져오기\n",
    "# 추천 대상 사용자의 ID 설정\n",
    "# rating_matrix에서 해당 사용자가 평가한 영화 평점 가져오기\n",
    "# 추천 대상 사용자가 평가한 영화 평점 출력"
   ]
  },
  {
   "cell_type": "code",
   "execution_count": null,
   "id": "acd19f8f",
   "metadata": {},
   "outputs": [],
   "source": [
    "# 추천 대상 사용자에 의해 평가되지 않은 영화만 필터링 "
   ]
  },
  {
   "cell_type": "code",
   "execution_count": null,
   "id": "897b3228",
   "metadata": {},
   "outputs": [],
   "source": [
    "# 사용자가 평가하지 않은 각 영화에 대해 IBCF 방식으로 예상 평점을 계산\n",
    "# 예상 평점을 포함하는 Series 객체 생성"
   ]
  },
  {
   "cell_type": "markdown",
   "id": "80852c14",
   "metadata": {},
   "source": [
    "영화를 예상 평점에 따라 정렬해서 제목을 뽑아서 돌려 줌"
   ]
  },
  {
   "cell_type": "code",
   "execution_count": null,
   "id": "22295c4c",
   "metadata": {},
   "outputs": [],
   "source": [
    "# 영화를 예상 평점에 따라 정렬하고, 상위 10개의 영화를 추천 목록으로 선정"
   ]
  },
  {
   "cell_type": "code",
   "execution_count": null,
   "id": "73cf7211",
   "metadata": {},
   "outputs": [],
   "source": [
    "# 추천 영화의 제목 반환"
   ]
  },
  {
   "cell_type": "markdown",
   "id": "c13c58aa",
   "metadata": {},
   "source": [
    "### 특정 사용자에 대하여 추천 받는 함수"
   ]
  },
  {
   "cell_type": "code",
   "execution_count": null,
   "id": "e4018394",
   "metadata": {},
   "outputs": [],
   "source": [
    "def recom_movie(user_id, n_items, neighbor_size=30):\n",
    "    # 현 사용자가 평가한 영화 ratings 가져오기\n",
    "    # 평가되지 않은 영화만 필터링\n",
    "    # 사용자가 평가하지 않은 각 영화에 대해 IBCF 방식으로 예상 평점을 계산\n",
    "    # 예상 평점을 포함하는 Series 객체 생성\n",
    "    # 영화를 예상 평점에 따라 정렬하고, 상위 n_items 개의 영화를 추천 목록으로 선정\n",
    "    # 추천 영화의 제목 반환"
   ]
  },
  {
   "cell_type": "code",
   "execution_count": null,
   "id": "8177c183",
   "metadata": {},
   "outputs": [],
   "source": []
  },
  {
   "cell_type": "markdown",
   "id": "5ab1e277",
   "metadata": {},
   "source": [
    "### 최적의 neighbor size 구하기"
   ]
  },
  {
   "cell_type": "code",
   "execution_count": null,
   "id": "89c636d9",
   "metadata": {},
   "outputs": [],
   "source": []
  },
  {
   "cell_type": "code",
   "execution_count": null,
   "id": "d2de9411",
   "metadata": {},
   "outputs": [],
   "source": []
  }
 ],
 "metadata": {
  "kernelspec": {
   "display_name": "Python 3 (ipykernel)",
   "language": "python",
   "name": "python3"
  },
  "language_info": {
   "codemirror_mode": {
    "name": "ipython",
    "version": 3
   },
   "file_extension": ".py",
   "mimetype": "text/x-python",
   "name": "python",
   "nbconvert_exporter": "python",
   "pygments_lexer": "ipython3",
   "version": "3.9.16"
  }
 },
 "nbformat": 4,
 "nbformat_minor": 5
}
