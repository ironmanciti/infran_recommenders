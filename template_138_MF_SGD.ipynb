{
 "cells": [
  {
   "cell_type": "markdown",
   "id": "d2b583c6-cf60-4861-9869-657d3a43b704",
   "metadata": {},
   "source": [
    "# SGD 경사하강법을 이용한 MF 행렬 작성\n",
    "\n",
    "### MF 방식의 원리\n",
    "\n",
    "<img src=\"https://i.imgur.com/90NB5Y1.png\" width=400 />\n",
    "\n",
    "$$R \\approx P\\times Q^T=\\hat{R}$$\n",
    "\n",
    "R: Rating matrix, P: User latent matrix, Q: Item latent matrix, k: latent factor(잠재 요인), $\\hat{R}$: 예측값\n",
    "\n",
    "- R 행렬의 각 element는 해당 사용자 아이템에 대한 평점. 이 행렬은 사용자가 실제로 평가한 아이템에 대한 평점만을 가지고 있으므로 많은 원소가 null 로 채워진 sparse matrix 이다.\n",
    "- R 행렬을 사용자 행렬 (P)와 아이템 행렬(Q)로 쪼개어 분석하는 방법이  MF  \n",
    "- $\\hat{R}$이 최대한 R에 가까운 값을 가지도록 하는 P와 Q를 구하면 그 것이 바로 추천을 위한 model이 된다.\n",
    "\n",
    "$$\\hat{r_{ij}}=b+bu_i + bd_j + \\sum_{k=1}^k{p_{ik}q_{kj}}$$\n",
    "\n",
    "$\\hat{r_{ij}}$: 사용자 i 의 아이템 j 에  대한 예측값,  \n",
    "b: 전체 평균. 일단 데이터가 주어지면 하나로 정해지는 값   \n",
    "$bu_i$: 전체 평균을 제거한 후 사용자 i의 평가 경향(사용자 i의 평균과 전체 평균의 차이)     \n",
    "$bd_j$: 전체 평균을 제거한 후 아이템 j의 평가 경향(아이템 j의 평균과 전체 평균의 차이)   \n",
    "$p_{ik}$: 행렬 P의 i 번째 사용자 vector    \n",
    "$q_{kj}$: 행렬 Q의 column j 번째 item vector"
   ]
  },
  {
   "cell_type": "code",
   "execution_count": null,
   "id": "e1f3254f",
   "metadata": {},
   "outputs": [],
   "source": [
    "# 평점 데이터의 컬럼 이름을 정의\n",
    "# 평점 데이터를 읽어옴"
   ]
  },
  {
   "cell_type": "code",
   "execution_count": null,
   "id": "5b682144",
   "metadata": {},
   "outputs": [],
   "source": [
    "# 사용자-아이템 평점 매트릭스를 생성\n",
    "# fillna(0): 평점이 없는 경우 0으로 채워서 행렬 완성"
   ]
  },
  {
   "cell_type": "code",
   "execution_count": null,
   "id": "de21244f",
   "metadata": {},
   "outputs": [],
   "source": [
    "#첫 번째 배열 - 행 인덱스를 나타냅니다.\n",
    "#두 번째 배열 - 열 인덱스를 나타냅니다."
   ]
  },
  {
   "cell_type": "code",
   "execution_count": null,
   "id": "79367f01",
   "metadata": {},
   "outputs": [],
   "source": [
    "# 평점 행렬 R_temp_train에서 0이 아닌 값을 모두 가져옴"
   ]
  },
  {
   "cell_type": "code",
   "execution_count": null,
   "id": "dad7305d",
   "metadata": {},
   "outputs": [],
   "source": [
    "class MF():\n",
    "    def __init__(self, ratings, K, alpha, beta, iterations):\n",
    "        # 평점 행렬 초기화\n",
    "    def rmse(self):\n",
    "        # RMSE(평균 제곱근 오차)를 계산하는 함수\n",
    "    def get_prediction(self, i, j):\n",
    "        # 특정 사용자와 아이템에 대한 예측 평점 계산\n",
    "    # 학습을 통해 P, Q 행렬과 편향을 최적화하는 함수\n",
    "    def train(self):\n",
    "        #초기 random 값의 표준편차를 1/K로 작게 설정하면 학습이 안정적으로 진행\n",
    "    def sgd(self):\n",
    "        # 확률적 경사 하강법(Stochastic Gradient Descent)으로 P, Q, 편향 업데이트\n",
    "            # 사용자 및 아이템 편향 업데이트\n",
    "            # 사용자 및 아이템 잠재 요인 행렬 업데이트\n",
    "    def predict(self, test_data):\n",
    "        # 테스트 데이터에 대해 예측 평점 계산"
   ]
  },
  {
   "cell_type": "code",
   "execution_count": null,
   "id": "a6fcd78c",
   "metadata": {},
   "outputs": [],
   "source": []
  },
  {
   "cell_type": "code",
   "execution_count": null,
   "id": "6d47f8a0",
   "metadata": {},
   "outputs": [],
   "source": []
  },
  {
   "cell_type": "code",
   "execution_count": null,
   "id": "026602b6",
   "metadata": {},
   "outputs": [],
   "source": []
  },
  {
   "cell_type": "code",
   "execution_count": null,
   "id": "4f44710d",
   "metadata": {},
   "outputs": [],
   "source": [
    "# test set 의 rmse 평가\n",
    "# 테스트 데이터셋에 대한 RMSE 계산"
   ]
  },
  {
   "cell_type": "markdown",
   "id": "c357cad9-5dab-42e7-99c5-911e85e59281",
   "metadata": {},
   "source": [
    "### 특정 사용자에게 특정 영화 추천"
   ]
  },
  {
   "cell_type": "code",
   "execution_count": null,
   "id": "a9d9c14d",
   "metadata": {},
   "outputs": [],
   "source": []
  },
  {
   "cell_type": "code",
   "execution_count": null,
   "id": "f3a275d4",
   "metadata": {},
   "outputs": [],
   "source": []
  },
  {
   "cell_type": "code",
   "execution_count": null,
   "id": "dc57df8a",
   "metadata": {},
   "outputs": [],
   "source": []
  },
  {
   "cell_type": "code",
   "execution_count": null,
   "id": "39ff7eab",
   "metadata": {},
   "outputs": [],
   "source": []
  }
 ],
 "metadata": {
  "kernelspec": {
   "display_name": "Python 3 (ipykernel)",
   "language": "python",
   "name": "python3"
  },
  "language_info": {
   "codemirror_mode": {
    "name": "ipython",
    "version": 3
   },
   "file_extension": ".py",
   "mimetype": "text/x-python",
   "name": "python",
   "nbconvert_exporter": "python",
   "pygments_lexer": "ipython3",
   "version": "3.9.21"
  }
 },
 "nbformat": 4,
 "nbformat_minor": 5
}
