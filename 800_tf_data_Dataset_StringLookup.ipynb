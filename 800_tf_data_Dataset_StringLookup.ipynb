{
  "cells": [
    {
      "cell_type": "markdown",
      "id": "annoying-withdrawal",
      "metadata": {
        "id": "annoying-withdrawal"
      },
      "source": [
        "# tf.Dataset, batch를 활용한 loader 만들기"
      ]
    },
    {
      "cell_type": "code",
      "execution_count": 1,
      "id": "earned-equipment",
      "metadata": {
        "colab": {
          "base_uri": "https://localhost:8080/"
        },
        "id": "earned-equipment",
        "outputId": "1c740916-27da-4320-c241-5b2b48649384"
      },
      "outputs": [
        {
          "output_type": "execute_result",
          "data": {
            "text/plain": [
              "<_TensorSliceDataset element_spec=TensorSpec(shape=(), dtype=tf.int32, name=None)>"
            ]
          },
          "metadata": {},
          "execution_count": 1
        }
      ],
      "source": [
        "import tensorflow as tf\n",
        "\n",
        "# 일일 판매 데이터를 리스트로 정의합니다.\n",
        "daily_sales_numbers = [21, 22, -100, 31, -1, 32, 34, 31]\n",
        "\n",
        "# from_tensor_slices 메서드는 리스트나 배열 같은 데이터를 받아 Dataset 객체를 생성합니다.\n",
        "tf_dataset = tf.data.Dataset.from_tensor_slices(daily_sales_numbers)\n",
        "tf_dataset"
      ]
    },
    {
      "cell_type": "code",
      "execution_count": 2,
      "id": "aware-farmer",
      "metadata": {
        "colab": {
          "base_uri": "https://localhost:8080/"
        },
        "id": "aware-farmer",
        "outputId": "70ddeffe-4237-4a94-eab4-fd1afd49f821"
      },
      "outputs": [
        {
          "output_type": "stream",
          "name": "stdout",
          "text": [
            "tf.Tensor(21, shape=(), dtype=int32)\n",
            "tf.Tensor(22, shape=(), dtype=int32)\n",
            "tf.Tensor(-100, shape=(), dtype=int32)\n",
            "tf.Tensor(31, shape=(), dtype=int32)\n",
            "tf.Tensor(-1, shape=(), dtype=int32)\n",
            "tf.Tensor(32, shape=(), dtype=int32)\n",
            "tf.Tensor(34, shape=(), dtype=int32)\n",
            "tf.Tensor(31, shape=(), dtype=int32)\n"
          ]
        }
      ],
      "source": [
        "# Dataset 객체의 각 요소를 순회하며 출력합니다.\n",
        "for sales in tf_dataset:\n",
        "    print(sales)"
      ]
    },
    {
      "cell_type": "markdown",
      "id": "single-project",
      "metadata": {
        "id": "single-project"
      },
      "source": [
        "### as_numpy_iterator"
      ]
    },
    {
      "cell_type": "code",
      "execution_count": 4,
      "id": "manual-calculator",
      "metadata": {
        "colab": {
          "base_uri": "https://localhost:8080/"
        },
        "id": "manual-calculator",
        "outputId": "e90a3115-85ae-4507-b619-06c84c05d0eb"
      },
      "outputs": [
        {
          "output_type": "stream",
          "name": "stdout",
          "text": [
            "21\n",
            "22\n",
            "-100\n",
            "31\n",
            "-1\n",
            "32\n",
            "34\n",
            "31\n"
          ]
        }
      ],
      "source": [
        "# as_numpy_iterator() 메서드를 사용하여 Dataset의 요소를 numpy 배열 형태로 변환하여 순회합니다.\n",
        "for sales in tf_dataset.as_numpy_iterator():\n",
        "    print(sales)"
      ]
    },
    {
      "cell_type": "markdown",
      "id": "supreme-alloy",
      "metadata": {
        "id": "supreme-alloy"
      },
      "source": [
        "### take"
      ]
    },
    {
      "cell_type": "code",
      "execution_count": 5,
      "id": "together-fashion",
      "metadata": {
        "colab": {
          "base_uri": "https://localhost:8080/"
        },
        "id": "together-fashion",
        "outputId": "2ebd4686-3b77-4284-f61e-9f50e2e7dd7a"
      },
      "outputs": [
        {
          "output_type": "stream",
          "name": "stdout",
          "text": [
            "21\n",
            "22\n",
            "-100\n"
          ]
        }
      ],
      "source": [
        "# take() 메서드를 사용하여 Dataset에서 지정된 개수의 element를 가져옵니다.\n",
        "for sales in tf_dataset.take(3):\n",
        "    print(sales.numpy())"
      ]
    },
    {
      "cell_type": "markdown",
      "id": "based-motion",
      "metadata": {
        "id": "based-motion"
      },
      "source": [
        "### filter"
      ]
    },
    {
      "cell_type": "code",
      "execution_count": 6,
      "id": "conservative-roberts",
      "metadata": {
        "colab": {
          "base_uri": "https://localhost:8080/"
        },
        "id": "conservative-roberts",
        "outputId": "fcfddfa8-960c-4720-db07-d6c8779b4d1f"
      },
      "outputs": [
        {
          "output_type": "stream",
          "name": "stdout",
          "text": [
            "21\n",
            "22\n",
            "31\n",
            "32\n",
            "34\n",
            "31\n"
          ]
        }
      ],
      "source": [
        "# TensorFlow Dataset 객체를 필터링합니다.\n",
        "# filter() 메서드를 사용하여 데이터셋에서 0보다 큰 요소만을 선택합니다.\n",
        "tf_dataset = tf_dataset.filter(lambda x: x > 0)\n",
        "\n",
        "for sales in tf_dataset.as_numpy_iterator():\n",
        "    print(sales)"
      ]
    },
    {
      "cell_type": "markdown",
      "id": "considerable-gardening",
      "metadata": {
        "id": "considerable-gardening"
      },
      "source": [
        "### map\n",
        "\n",
        "- Dataset 전체에 함수를 맵핑합니다."
      ]
    },
    {
      "cell_type": "code",
      "execution_count": 7,
      "id": "boxed-reality",
      "metadata": {
        "colab": {
          "base_uri": "https://localhost:8080/"
        },
        "id": "boxed-reality",
        "outputId": "7b9a9970-4a87-4380-e690-bbf517d4b90b"
      },
      "outputs": [
        {
          "output_type": "stream",
          "name": "stdout",
          "text": [
            "42\n",
            "44\n",
            "62\n",
            "64\n",
            "68\n",
            "62\n"
          ]
        }
      ],
      "source": [
        "# map() 메서드를 사용하여 데이터셋의 각 요소를 2배로 증가시킵니다.\n",
        "tf_dataset = tf_dataset.map(lambda x: x * 2)\n",
        "\n",
        "for sales in tf_dataset.as_numpy_iterator():\n",
        "    print(sales)"
      ]
    },
    {
      "cell_type": "markdown",
      "id": "distinguished-nirvana",
      "metadata": {
        "id": "distinguished-nirvana"
      },
      "source": [
        "### shuffle\n",
        "- 데이터세트는 buffer_size 요소로 버퍼를 채운 다음이 버퍼에서 요소를 무작위로 샘플링하여 선택한 요소를 새 요소로 바꿉니다.\n",
        "\n",
        "- 완벽한 셔플 링을 위해서는 데이터 세트의 전체 크기보다 크거나 같은 버퍼 크기가 필요합니다.\n",
        "\n",
        "- 예를 들어, 데이터 집합에 10,000 개의 element가 있지만 buffer_size가 1,000으로 설정된 경우 셔플은 처음에 버퍼의 처음 1,000 개 element 중 임의의 element 만 선택합니다.\n",
        "\n",
        "- element가 선택되면 버퍼의 공간이 다음 element (즉, 1,001-st)로 대체되어 1,000 element 버퍼를 유지합니다."
      ]
    },
    {
      "cell_type": "code",
      "execution_count": 8,
      "id": "julian-apollo",
      "metadata": {
        "colab": {
          "base_uri": "https://localhost:8080/"
        },
        "id": "julian-apollo",
        "outputId": "34e4f81e-f4df-4b26-c371-f0fcd0027504"
      },
      "outputs": [
        {
          "output_type": "stream",
          "name": "stdout",
          "text": [
            "68\n",
            "62\n",
            "42\n",
            "62\n",
            "64\n",
            "44\n"
          ]
        }
      ],
      "source": [
        "# shuffle() 메서드를 사용하여 데이터셋의 순서를 무작위로 섞어 데이터의 순서에 의한 편향을 방지합니다.\n",
        "tf_dataset = tf_dataset.shuffle(10)\n",
        "\n",
        "for sales in tf_dataset.as_numpy_iterator():\n",
        "    print(sales)"
      ]
    },
    {
      "cell_type": "code",
      "execution_count": 9,
      "id": "expired-programming",
      "metadata": {
        "colab": {
          "base_uri": "https://localhost:8080/"
        },
        "id": "expired-programming",
        "outputId": "94cebdc9-c9fe-4111-8e6c-d94084dbf5cc"
      },
      "outputs": [
        {
          "output_type": "stream",
          "name": "stdout",
          "text": [
            "[44 42]\n",
            "[62 64]\n",
            "[62 68]\n"
          ]
        }
      ],
      "source": [
        "# batch() 메서드를 사용하여 각 배치의 크기를 2로 설정합니다.\n",
        "for sales_batch in tf_dataset.batch(2):\n",
        "    print(sales_batch.numpy())"
      ]
    },
    {
      "cell_type": "code",
      "execution_count": 10,
      "id": "liberal-proportion",
      "metadata": {
        "colab": {
          "base_uri": "https://localhost:8080/"
        },
        "id": "liberal-proportion",
        "outputId": "349ca077-97a3-4ad7-8877-d7b83de404c8"
      },
      "outputs": [
        {
          "output_type": "stream",
          "name": "stdout",
          "text": [
            "[62 42 62]\n",
            "[68 44 64]\n"
          ]
        }
      ],
      "source": [
        "# tf_dataset의 데이터를 배치 크기 3으로 묶어서 출력\n",
        "for sales_batch in tf_dataset.batch(3):\n",
        "    print(sales_batch.numpy())"
      ]
    },
    {
      "cell_type": "code",
      "execution_count": 11,
      "id": "coordinated-encounter",
      "metadata": {
        "colab": {
          "base_uri": "https://localhost:8080/"
        },
        "id": "coordinated-encounter",
        "outputId": "a14a3c38-66e8-47ba-8110-9244ec136510"
      },
      "outputs": [
        {
          "output_type": "stream",
          "name": "stdout",
          "text": [
            "[62 62 42 64]\n",
            "[44 68]\n"
          ]
        }
      ],
      "source": [
        "# tf_dataset의 데이터를 배치 크기 4으로 묶어서 출력\n",
        "for sales in tf_dataset.batch(4):\n",
        "    print(sales.numpy())"
      ]
    },
    {
      "cell_type": "code",
      "execution_count": 12,
      "id": "sitting-premium",
      "metadata": {
        "colab": {
          "base_uri": "https://localhost:8080/"
        },
        "id": "sitting-premium",
        "outputId": "b8c1235a-786b-4bae-de6c-7e9643a9f8c1"
      },
      "outputs": [
        {
          "output_type": "stream",
          "name": "stdout",
          "text": [
            "[62 62 68 64]\n"
          ]
        }
      ],
      "source": [
        "# tf_dataset의 데이터를 배치 크기 4로 묶어서 출력\n",
        "# drop_remainder=True로 설정하여 마지막 배치가 배치 크기보다 작으면 해당 배치를 버림\n",
        "for sales in tf_dataset.batch(4, drop_remainder=True):\n",
        "    print(sales.numpy())"
      ]
    },
    {
      "cell_type": "markdown",
      "id": "prime-mailman",
      "metadata": {
        "id": "prime-mailman"
      },
      "source": [
        "- 위 모든 것을 한 줄로 결합"
      ]
    },
    {
      "cell_type": "code",
      "execution_count": 13,
      "id": "370193ae-7a1f-411e-a87d-a036f9f187f4",
      "metadata": {
        "colab": {
          "base_uri": "https://localhost:8080/"
        },
        "id": "370193ae-7a1f-411e-a87d-a036f9f187f4",
        "outputId": "2812071a-9778-4ad5-8246-4843651a8db3"
      },
      "outputs": [
        {
          "output_type": "stream",
          "name": "stdout",
          "text": [
            "[62 64 68 62]\n"
          ]
        }
      ],
      "source": [
        "# 일일 판매 데이터를 리스트로 정의합니다.\n",
        "daily_sales_numbers = [21, 22, -100, 31, -1, 32, 34, 31]\n",
        "\n",
        "# TensorFlow의 Dataset 객체를 생성합니다.\n",
        "tf_dataset = tf.data.Dataset.from_tensor_slices(daily_sales_numbers)\n",
        "\n",
        "# 데이터셋을 필터링하여 0보다 큰 값만 유지합니다.\n",
        "# 필터링된 데이터의 각 요소에 함수를 적용하여 값을 2배로 합니다.\n",
        "# 데이터셋의 순서를 무작위로 섞습니다. 여기서는 버퍼 크기를 3으로 설정합니다.\n",
        "# 데이터셋을 배치로 나눕니다. 각 배치는 4개의 요소를 포함하며, 마지막에 남는 요소는 버립니다.\n",
        "tf_dataset = tf_dataset.filter(lambda x: x > 0).map(lambda y: y * 2).shuffle(3).batch(4, drop_remainder=True)\n",
        "\n",
        "for sales_batch in tf_dataset.as_numpy_iterator():\n",
        "    print(sales_batch)"
      ]
    },
    {
      "cell_type": "markdown",
      "id": "stuck-stanley",
      "metadata": {
        "id": "stuck-stanley"
      },
      "source": [
        "### train, test dataset 생성\n",
        "- train : test = 8 : 2"
      ]
    },
    {
      "cell_type": "code",
      "execution_count": 14,
      "id": "tender-handling",
      "metadata": {
        "colab": {
          "base_uri": "https://localhost:8080/"
        },
        "id": "tender-handling",
        "outputId": "4a98f406-7cc4-4a54-e4a4-d5bf5e82c834"
      },
      "outputs": [
        {
          "output_type": "execute_result",
          "data": {
            "text/plain": [
              "(80, 20)"
            ]
          },
          "metadata": {},
          "execution_count": 14
        }
      ],
      "source": [
        "# 연속된 숫자(0부터 99까지)로 이루어진 리스트를 생성합니다.\n",
        "daily_sales_numbers = list(range(100))\n",
        "\n",
        "# from_tensor_slices 메서드를 사용하여 Dataset 객체를 생성합니다.\n",
        "tf_dataset = tf.data.Dataset.from_tensor_slices(daily_sales_numbers)\n",
        "\n",
        "# 생성된 Dataset의 전체 크기를 계산합니다.\n",
        "ds_count = len(tf_dataset)\n",
        "\n",
        "# 전체 데이터셋의 80%를 훈련 데이터셋 크기로 설정합니다.\n",
        "train_size = int(ds_count * 0.8)\n",
        "\n",
        "# 처음부터 train_size 만큼의 데이터를 훈련 데이터셋으로 가져옵니다.\n",
        "train_ds = tf_dataset.take(train_size)\n",
        "\n",
        "# train_size 이후의 데이터를 테스트 데이터셋으로 설정합니다.\n",
        "test_ds = tf_dataset.skip(train_size)\n",
        "\n",
        "# 훈련 데이터셋과 테스트 데이터셋의 길이를 출력하여 확인합니다.\n",
        "len(train_ds), len(test_ds)"
      ]
    },
    {
      "cell_type": "markdown",
      "id": "848a4f26-f6a9-4a9a-ab89-4e0caf7da992",
      "metadata": {
        "id": "848a4f26-f6a9-4a9a-ab89-4e0caf7da992"
      },
      "source": [
        "## StringLookup\n",
        "- 문자열을 정수 index로 mapping 하여 vocabulary 사전 작성"
      ]
    },
    {
      "cell_type": "code",
      "execution_count": 15,
      "id": "56ed407c-2f77-4668-91a4-06d7002acd76",
      "metadata": {
        "colab": {
          "base_uri": "https://localhost:8080/"
        },
        "id": "56ed407c-2f77-4668-91a4-06d7002acd76",
        "outputId": "28647c02-336e-49d8-b9a2-5226f6315932"
      },
      "outputs": [
        {
          "output_type": "execute_result",
          "data": {
            "text/plain": [
              "<StringLookup name=string_lookup, built=False>"
            ]
          },
          "metadata": {},
          "execution_count": 15
        }
      ],
      "source": [
        "import tensorflow as tf\n",
        "from tensorflow.keras.layers import StringLookup\n",
        "\n",
        " # 어휘 사전으로 사용될 리스트\n",
        "vocab = [\"apple\", \"banana\", \"orange\", \"grape\"]\n",
        "\n",
        "# 어휘 사전을 이용해 정수로 변환할 예제 데이터\n",
        "data = [[\"apple\", \"orange\", \"banana\"],\n",
        "        [\"banana\", \"grape\", \"apple\"]]\n",
        "\n",
        "# StringLookup 레이어를 생성하고 어휘(vocabulary)를 설정합니다. mask_token=None은 마스킹을 사용하지 않겠다는 의미입니다.\n",
        "string_lookup = StringLookup(vocabulary=vocab, mask_token=None)\n",
        "string_lookup"
      ]
    },
    {
      "cell_type": "code",
      "execution_count": 16,
      "id": "bc1d769e-fa55-44c9-a733-971dbd00e0fc",
      "metadata": {
        "colab": {
          "base_uri": "https://localhost:8080/"
        },
        "id": "bc1d769e-fa55-44c9-a733-971dbd00e0fc",
        "outputId": "6ec3d7ea-aecf-4d88-d713-27428383034b"
      },
      "outputs": [
        {
          "output_type": "stream",
          "name": "stdout",
          "text": [
            "tf.Tensor(\n",
            "[[1 3 2]\n",
            " [2 4 1]], shape=(2, 3), dtype=int64)\n",
            "Vocabulary: ['[UNK]', 'apple', 'banana', 'orange', 'grape']\n"
          ]
        }
      ],
      "source": [
        "# StringLookup 레이어를 사용하여 데이터 리스트에서 각 문자열을 해당하는 정수 인덱스로 변환합니다.\n",
        "indices = string_lookup(data)\n",
        "\n",
        "# 변환된 정수 인덱스를 출력합니다.\n",
        "print(indices)\n",
        "\n",
        "# StringLookup 레이어에 설정된 어휘 사전을 조회합니다.\n",
        "vocab_list = string_lookup.get_vocabulary()\n",
        "\n",
        "# 조회한 어휘 사전을 출력합니다.\n",
        "print(\"Vocabulary:\", vocab_list)"
      ]
    },
    {
      "cell_type": "markdown",
      "id": "3b6b76c1-60e1-4e34-af28-cd872bbffc75",
      "metadata": {
        "id": "3b6b76c1-60e1-4e34-af28-cd872bbffc75"
      },
      "source": [
        "## Embedding Layer"
      ]
    },
    {
      "cell_type": "code",
      "execution_count": 17,
      "id": "7686831c-21ad-42b9-bfc9-158a8045f498",
      "metadata": {
        "colab": {
          "base_uri": "https://localhost:8080/",
          "height": 161
        },
        "id": "7686831c-21ad-42b9-bfc9-158a8045f498",
        "outputId": "91f96d3e-a101-420c-9aa7-44d282adc473"
      },
      "outputs": [
        {
          "output_type": "display_data",
          "data": {
            "text/plain": [
              "\u001b[1mModel: \"sequential\"\u001b[0m\n"
            ],
            "text/html": [
              "<pre style=\"white-space:pre;overflow-x:auto;line-height:normal;font-family:Menlo,'DejaVu Sans Mono',consolas,'Courier New',monospace\"><span style=\"font-weight: bold\">Model: \"sequential\"</span>\n",
              "</pre>\n"
            ]
          },
          "metadata": {}
        },
        {
          "output_type": "display_data",
          "data": {
            "text/plain": [
              "┏━━━━━━━━━━━━━━━━━━━━━━━━━━━━━━━━━━━━━━┳━━━━━━━━━━━━━━━━━━━━━━━━━━━━━┳━━━━━━━━━━━━━━━━━┓\n",
              "┃\u001b[1m \u001b[0m\u001b[1mLayer (type)                        \u001b[0m\u001b[1m \u001b[0m┃\u001b[1m \u001b[0m\u001b[1mOutput Shape               \u001b[0m\u001b[1m \u001b[0m┃\u001b[1m \u001b[0m\u001b[1m        Param #\u001b[0m\u001b[1m \u001b[0m┃\n",
              "┡━━━━━━━━━━━━━━━━━━━━━━━━━━━━━━━━━━━━━━╇━━━━━━━━━━━━━━━━━━━━━━━━━━━━━╇━━━━━━━━━━━━━━━━━┩\n",
              "│ embedding (\u001b[38;5;33mEmbedding\u001b[0m)                │ ?                           │     \u001b[38;5;34m0\u001b[0m (unbuilt) │\n",
              "└──────────────────────────────────────┴─────────────────────────────┴─────────────────┘\n"
            ],
            "text/html": [
              "<pre style=\"white-space:pre;overflow-x:auto;line-height:normal;font-family:Menlo,'DejaVu Sans Mono',consolas,'Courier New',monospace\">┏━━━━━━━━━━━━━━━━━━━━━━━━━━━━━━━━━━━━━━┳━━━━━━━━━━━━━━━━━━━━━━━━━━━━━┳━━━━━━━━━━━━━━━━━┓\n",
              "┃<span style=\"font-weight: bold\"> Layer (type)                         </span>┃<span style=\"font-weight: bold\"> Output Shape                </span>┃<span style=\"font-weight: bold\">         Param # </span>┃\n",
              "┡━━━━━━━━━━━━━━━━━━━━━━━━━━━━━━━━━━━━━━╇━━━━━━━━━━━━━━━━━━━━━━━━━━━━━╇━━━━━━━━━━━━━━━━━┩\n",
              "│ embedding (<span style=\"color: #0087ff; text-decoration-color: #0087ff\">Embedding</span>)                │ ?                           │     <span style=\"color: #00af00; text-decoration-color: #00af00\">0</span> (unbuilt) │\n",
              "└──────────────────────────────────────┴─────────────────────────────┴─────────────────┘\n",
              "</pre>\n"
            ]
          },
          "metadata": {}
        },
        {
          "output_type": "display_data",
          "data": {
            "text/plain": [
              "\u001b[1m Total params: \u001b[0m\u001b[38;5;34m0\u001b[0m (0.00 B)\n"
            ],
            "text/html": [
              "<pre style=\"white-space:pre;overflow-x:auto;line-height:normal;font-family:Menlo,'DejaVu Sans Mono',consolas,'Courier New',monospace\"><span style=\"font-weight: bold\"> Total params: </span><span style=\"color: #00af00; text-decoration-color: #00af00\">0</span> (0.00 B)\n",
              "</pre>\n"
            ]
          },
          "metadata": {}
        },
        {
          "output_type": "display_data",
          "data": {
            "text/plain": [
              "\u001b[1m Trainable params: \u001b[0m\u001b[38;5;34m0\u001b[0m (0.00 B)\n"
            ],
            "text/html": [
              "<pre style=\"white-space:pre;overflow-x:auto;line-height:normal;font-family:Menlo,'DejaVu Sans Mono',consolas,'Courier New',monospace\"><span style=\"font-weight: bold\"> Trainable params: </span><span style=\"color: #00af00; text-decoration-color: #00af00\">0</span> (0.00 B)\n",
              "</pre>\n"
            ]
          },
          "metadata": {}
        },
        {
          "output_type": "display_data",
          "data": {
            "text/plain": [
              "\u001b[1m Non-trainable params: \u001b[0m\u001b[38;5;34m0\u001b[0m (0.00 B)\n"
            ],
            "text/html": [
              "<pre style=\"white-space:pre;overflow-x:auto;line-height:normal;font-family:Menlo,'DejaVu Sans Mono',consolas,'Courier New',monospace\"><span style=\"font-weight: bold\"> Non-trainable params: </span><span style=\"color: #00af00; text-decoration-color: #00af00\">0</span> (0.00 B)\n",
              "</pre>\n"
            ]
          },
          "metadata": {}
        }
      ],
      "source": [
        "from tensorflow.keras.layers import Embedding\n",
        "\n",
        "# Embedding 레이어 설정\n",
        "# 여기서는 최대 어휘 크기를 10000으로, 임베딩 벡터의 차원을 32로 설정합니다.\n",
        "embedding_layer = Embedding(input_dim=10000, output_dim=32)\n",
        "\n",
        "# 간단한 모델 생성 및 Embedding 레이어 추가\n",
        "model = tf.keras.Sequential([\n",
        "    embedding_layer\n",
        "])\n",
        "model.summary()"
      ]
    },
    {
      "cell_type": "code",
      "source": [
        "# 예제 데이터 - 일반적으로 여기서는 각 정수가 어휘 사전의 단어를 나타냅니다.\n",
        "# 예를 들어, 5는 어휘 사전의 6번째 단어를 의미합니다(인덱싱은 0부터 시작).\n",
        "input_data = np.array([[1, 2, 3, 4, 5],\n",
        "                                    [5, 4, 3, 2, 1]])\n",
        "\n",
        "# 모델을 통해 입력 데이터를 임베딩 벡터로 변환\n",
        "output_data = model.predict(input_data)\n",
        "\n",
        "# 임베딩 결과 출력\n",
        "print(output_data.shape)\n",
        "# print(output_data)"
      ],
      "metadata": {
        "colab": {
          "base_uri": "https://localhost:8080/"
        },
        "id": "YnbySS1KE0xI",
        "outputId": "6e7acbce-6c43-4efe-c4e0-4f351647aeb7"
      },
      "id": "YnbySS1KE0xI",
      "execution_count": 21,
      "outputs": [
        {
          "output_type": "stream",
          "name": "stdout",
          "text": [
            "\u001b[1m1/1\u001b[0m \u001b[32m━━━━━━━━━━━━━━━━━━━━\u001b[0m\u001b[37m\u001b[0m \u001b[1m0s\u001b[0m 31ms/step\n",
            "(2, 5, 32)\n"
          ]
        }
      ]
    },
    {
      "cell_type": "code",
      "execution_count": 22,
      "id": "2542597d-56c3-4cc2-97cd-e7ae0e67f68c",
      "metadata": {
        "colab": {
          "base_uri": "https://localhost:8080/",
          "height": 193
        },
        "id": "2542597d-56c3-4cc2-97cd-e7ae0e67f68c",
        "outputId": "ce9d3c44-94a6-46af-b16b-f2409a92f95d"
      },
      "outputs": [
        {
          "output_type": "display_data",
          "data": {
            "text/plain": [
              "\u001b[1mModel: \"sequential_1\"\u001b[0m\n"
            ],
            "text/html": [
              "<pre style=\"white-space:pre;overflow-x:auto;line-height:normal;font-family:Menlo,'DejaVu Sans Mono',consolas,'Courier New',monospace\"><span style=\"font-weight: bold\">Model: \"sequential_1\"</span>\n",
              "</pre>\n"
            ]
          },
          "metadata": {}
        },
        {
          "output_type": "display_data",
          "data": {
            "text/plain": [
              "┏━━━━━━━━━━━━━━━━━━━━━━━━━━━━━━━━━━━━━━┳━━━━━━━━━━━━━━━━━━━━━━━━━━━━━┳━━━━━━━━━━━━━━━━━┓\n",
              "┃\u001b[1m \u001b[0m\u001b[1mLayer (type)                        \u001b[0m\u001b[1m \u001b[0m┃\u001b[1m \u001b[0m\u001b[1mOutput Shape               \u001b[0m\u001b[1m \u001b[0m┃\u001b[1m \u001b[0m\u001b[1m        Param #\u001b[0m\u001b[1m \u001b[0m┃\n",
              "┡━━━━━━━━━━━━━━━━━━━━━━━━━━━━━━━━━━━━━━╇━━━━━━━━━━━━━━━━━━━━━━━━━━━━━╇━━━━━━━━━━━━━━━━━┩\n",
              "│ string_lookup_1 (\u001b[38;5;33mStringLookup\u001b[0m)       │ (\u001b[38;5;34m4\u001b[0m)                         │               \u001b[38;5;34m0\u001b[0m │\n",
              "├──────────────────────────────────────┼─────────────────────────────┼─────────────────┤\n",
              "│ embedding_1 (\u001b[38;5;33mEmbedding\u001b[0m)              │ (\u001b[38;5;34m4\u001b[0m, \u001b[38;5;34m8\u001b[0m)                      │              \u001b[38;5;34m40\u001b[0m │\n",
              "└──────────────────────────────────────┴─────────────────────────────┴─────────────────┘\n"
            ],
            "text/html": [
              "<pre style=\"white-space:pre;overflow-x:auto;line-height:normal;font-family:Menlo,'DejaVu Sans Mono',consolas,'Courier New',monospace\">┏━━━━━━━━━━━━━━━━━━━━━━━━━━━━━━━━━━━━━━┳━━━━━━━━━━━━━━━━━━━━━━━━━━━━━┳━━━━━━━━━━━━━━━━━┓\n",
              "┃<span style=\"font-weight: bold\"> Layer (type)                         </span>┃<span style=\"font-weight: bold\"> Output Shape                </span>┃<span style=\"font-weight: bold\">         Param # </span>┃\n",
              "┡━━━━━━━━━━━━━━━━━━━━━━━━━━━━━━━━━━━━━━╇━━━━━━━━━━━━━━━━━━━━━━━━━━━━━╇━━━━━━━━━━━━━━━━━┩\n",
              "│ string_lookup_1 (<span style=\"color: #0087ff; text-decoration-color: #0087ff\">StringLookup</span>)       │ (<span style=\"color: #00af00; text-decoration-color: #00af00\">4</span>)                         │               <span style=\"color: #00af00; text-decoration-color: #00af00\">0</span> │\n",
              "├──────────────────────────────────────┼─────────────────────────────┼─────────────────┤\n",
              "│ embedding_1 (<span style=\"color: #0087ff; text-decoration-color: #0087ff\">Embedding</span>)              │ (<span style=\"color: #00af00; text-decoration-color: #00af00\">4</span>, <span style=\"color: #00af00; text-decoration-color: #00af00\">8</span>)                      │              <span style=\"color: #00af00; text-decoration-color: #00af00\">40</span> │\n",
              "└──────────────────────────────────────┴─────────────────────────────┴─────────────────┘\n",
              "</pre>\n"
            ]
          },
          "metadata": {}
        },
        {
          "output_type": "display_data",
          "data": {
            "text/plain": [
              "\u001b[1m Total params: \u001b[0m\u001b[38;5;34m40\u001b[0m (160.00 B)\n"
            ],
            "text/html": [
              "<pre style=\"white-space:pre;overflow-x:auto;line-height:normal;font-family:Menlo,'DejaVu Sans Mono',consolas,'Courier New',monospace\"><span style=\"font-weight: bold\"> Total params: </span><span style=\"color: #00af00; text-decoration-color: #00af00\">40</span> (160.00 B)\n",
              "</pre>\n"
            ]
          },
          "metadata": {}
        },
        {
          "output_type": "display_data",
          "data": {
            "text/plain": [
              "\u001b[1m Trainable params: \u001b[0m\u001b[38;5;34m40\u001b[0m (160.00 B)\n"
            ],
            "text/html": [
              "<pre style=\"white-space:pre;overflow-x:auto;line-height:normal;font-family:Menlo,'DejaVu Sans Mono',consolas,'Courier New',monospace\"><span style=\"font-weight: bold\"> Trainable params: </span><span style=\"color: #00af00; text-decoration-color: #00af00\">40</span> (160.00 B)\n",
              "</pre>\n"
            ]
          },
          "metadata": {}
        },
        {
          "output_type": "display_data",
          "data": {
            "text/plain": [
              "\u001b[1m Non-trainable params: \u001b[0m\u001b[38;5;34m0\u001b[0m (0.00 B)\n"
            ],
            "text/html": [
              "<pre style=\"white-space:pre;overflow-x:auto;line-height:normal;font-family:Menlo,'DejaVu Sans Mono',consolas,'Courier New',monospace\"><span style=\"font-weight: bold\"> Non-trainable params: </span><span style=\"color: #00af00; text-decoration-color: #00af00\">0</span> (0.00 B)\n",
              "</pre>\n"
            ]
          },
          "metadata": {}
        }
      ],
      "source": [
        "# 어휘 사전을 생성합니다. 이는 나중에 텍스트 데이터를 숫자로 매핑하는 데 사용됩니다.\n",
        "vocab = ['apple', 'banana', 'orange', 'grape']\n",
        "vocab_size = len(vocab)  # 어휘 사전의 크기를 계산합니다.\n",
        "\n",
        "# 예제 텍스트 데이터를 정의합니다.\n",
        "texts = ['apple', 'banana', 'orange', 'grape']\n",
        "\n",
        "# StringLookup 레이어를 생성합니다. 이 레이어는 텍스트를 정수 인덱스로 변환합니다.\n",
        "# mask_token=None은 마스크 토큰을 사용하지 않겠다는 의미이고, output_mode='int'는 출력을 정수 인덱스로 설정합니다.\n",
        "string_lookup = StringLookup(vocabulary=vocab, mask_token=None, output_mode='int')\n",
        "\n",
        "# Embedding 레이어를 설정합니다.\n",
        "# input_dim은 입력 차원으로 어휘 사전의 크기에 1을 더한 값입니다. 이 1은 StringLookup 레이어가 사용하는 패딩 인덱스 0을 위한 것입니다.\n",
        "# output_dim은 출력 차원으로, 여기서는 임베딩 벡터의 크기를 8로 설정했습니다.\n",
        "embedding_layer = Embedding(input_dim=vocab_size + 1, output_dim=8)\n",
        "\n",
        "# Sequential 모델을 생성하고, 위에서 정의한 StringLookup 레이어와 Embedding 레이어를 추가합니다.\n",
        "model = tf.keras.Sequential([\n",
        "    string_lookup,\n",
        "    embedding_layer\n",
        "])\n",
        "\n",
        "# 텍스트 데이터를 상수 텐서로 변환합니다.\n",
        "input_data = tf.constant(texts)\n",
        "# 모델을 사용하여 텍스트 데이터를 정수 인덱스로 변환한 후 해당 인덱스에 대응하는 임베딩 벡터를 얻습니다.\n",
        "embedded_data = model(input_data)\n",
        "\n",
        "# 모델 구조를 요약하여 출력합니다.\n",
        "model.summary()"
      ]
    },
    {
      "cell_type": "code",
      "execution_count": 23,
      "id": "8712db4b-3f76-4a54-a24e-6b39402aa31f",
      "metadata": {
        "colab": {
          "base_uri": "https://localhost:8080/"
        },
        "id": "8712db4b-3f76-4a54-a24e-6b39402aa31f",
        "outputId": "3c3372bb-f372-497a-8724-34c605e790b1"
      },
      "outputs": [
        {
          "output_type": "stream",
          "name": "stdout",
          "text": [
            "Embedded data: (4, 8)\n"
          ]
        },
        {
          "output_type": "execute_result",
          "data": {
            "text/plain": [
              "array([[ 0.02339094, -0.04399924,  0.00475561,  0.00702316,  0.02135712,\n",
              "         0.03861085, -0.02578144, -0.01207811],\n",
              "       [-0.00494865, -0.04915276, -0.04207743, -0.04613136,  0.03060498,\n",
              "         0.03861891,  0.04331971,  0.00176092],\n",
              "       [-0.03572936, -0.02243661,  0.03338191, -0.0366606 ,  0.00078827,\n",
              "        -0.0184085 ,  0.0030928 , -0.00068544],\n",
              "       [ 0.01469838,  0.00903266,  0.02276088, -0.00787131, -0.01647718,\n",
              "        -0.02739985, -0.03561059, -0.03342037]], dtype=float32)"
            ]
          },
          "metadata": {},
          "execution_count": 23
        }
      ],
      "source": [
        "# 임베딩된 데이터의 형태를 출력\n",
        "print(\"Embedded data:\", embedded_data.numpy().shape)\n",
        "# 임베딩된 데이터를 넘파이 배열로 변환하여 출력\n",
        "embedded_data.numpy()"
      ]
    },
    {
      "cell_type": "code",
      "execution_count": null,
      "id": "e5611586-2632-4702-80f5-d07ea66538c5",
      "metadata": {
        "id": "e5611586-2632-4702-80f5-d07ea66538c5"
      },
      "outputs": [],
      "source": []
    }
  ],
  "metadata": {
    "kernelspec": {
      "display_name": "Python 3 (ipykernel)",
      "language": "python",
      "name": "python3"
    },
    "language_info": {
      "codemirror_mode": {
        "name": "ipython",
        "version": 3
      },
      "file_extension": ".py",
      "mimetype": "text/x-python",
      "name": "python",
      "nbconvert_exporter": "python",
      "pygments_lexer": "ipython3",
      "version": "3.9.16"
    },
    "colab": {
      "provenance": []
    }
  },
  "nbformat": 4,
  "nbformat_minor": 5
}