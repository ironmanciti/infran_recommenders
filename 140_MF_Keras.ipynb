{
 "cells": [
  {
   "cell_type": "markdown",
   "id": "7fe40255",
   "metadata": {
    "id": "7fe40255"
   },
   "source": [
    "# 140. User-Item based Collaborative Filtering - Matrix Factorization\n",
    "\n",
    "## Keras로 MF(Matrix Factorization) 구현하기 - GPU 필요 / Colab 사용\n",
    "\n",
    "\n",
    "### MF 방식의 원리\n",
    "\n",
    "<img src=\"https://petamind.com/wp-content/uploads/2019/12/ml-mf-matrix-factorization-_op.svg\" width=400 />\n",
    "\n",
    "$$R \\approx P\\times Q^T=\\hat{R}$$\n",
    "\n",
    "R: Rating matrix, P: User latent matrix, Q: Item latent matrix, k: latent factor(잠재 요인), $\\hat{R}$: 예측값\n",
    "\n",
    "- R 행렬의 각 element는 해당 사용자 아이템에 대한 평점. 이 행렬은 사용자가 실제로 평가한 아이템에 대한 평점만을 가지고 있으므로 많은 원소가 null 로 채워진 sparse matrix 이다.\n",
    "- R 행렬을 사용자 행렬 (P)와 아이템 행렬(Q)로 쪼개어 분석하는 방법이  MF  \n",
    "- $\\hat{R}$이 최대한 R에 가까운 값을 가지도록 하는 P와 Q를 구하면 그 것이 바로 추천을 위한 model이 된다.\n",
    "\n",
    "$$\\hat{r_{ij}}=b+bu_i + bd_j + \\sum_{k=1}^k{p_{ik}q_{kj}}$$\n",
    "\n",
    "$\\hat{r_{ij}}$: 사용자 i 의 아이템 j 에  대한 예측값,  \n",
    "b: 전체 평균. 일단 데이터가 주어지면 하나로 정해지는 값   \n",
    "$bu_i$: 전체 평균을 제거한 후 사용자 i의 평가 경향(사용자 i의 평균과 전체 평균의 차이)     \n",
    "$bd_j$: 전체 평균을 제거한 후 아이템 j의 평가 경향(아이템 j의 평균과 전체 평균의 차이)   \n",
    "$p_{ik}$: 행렬 P의 i 번째 사용자 vector    \n",
    "$q_{kj}$: 행렬 Q의 column j 번째 item vector\n",
    "\n",
    "### MF 를 신경망으로 구현\n",
    "\n",
    "<img src=\"https://ichi.pro/assets/images/max/724/1*VqQ5B6ah4KhbDKNBgX-cfg.png\" />\n",
    "\n",
    "- Input Layer 는 one-hot-encoding 과 같다.\n",
    "- Embedding Layer 는 latent factor d 에 해당.  \n",
    "- 사용자와 아이템의 경향성(bias)을 feature 가 1 인  Embedding 으로 구현  \n",
    "- 전체 평균(b)는 하나의 숫자이므로 신경망의 target value에서 일률적으로 빼 주고, 나중에 산출된 예측치에 일률적으로 더해주는 것이 전체 평균을 모델화 하는 것 보다 간단함."
   ]
  },
  {
   "cell_type": "code",
   "execution_count": 10,
   "id": "2461d83d",
   "metadata": {
    "colab": {
     "base_uri": "https://localhost:8080/",
     "height": 206
    },
    "id": "2461d83d",
    "outputId": "26e55b5d-551e-4b1e-aef8-07cecac59b1a"
   },
   "outputs": [
    {
     "data": {
      "text/html": [
       "<div>\n",
       "<style scoped>\n",
       "    .dataframe tbody tr th:only-of-type {\n",
       "        vertical-align: middle;\n",
       "    }\n",
       "\n",
       "    .dataframe tbody tr th {\n",
       "        vertical-align: top;\n",
       "    }\n",
       "\n",
       "    .dataframe thead th {\n",
       "        text-align: right;\n",
       "    }\n",
       "</style>\n",
       "<table border=\"1\" class=\"dataframe\">\n",
       "  <thead>\n",
       "    <tr style=\"text-align: right;\">\n",
       "      <th></th>\n",
       "      <th>user_id</th>\n",
       "      <th>movie_id</th>\n",
       "      <th>rating</th>\n",
       "    </tr>\n",
       "  </thead>\n",
       "  <tbody>\n",
       "    <tr>\n",
       "      <th>0</th>\n",
       "      <td>196</td>\n",
       "      <td>242</td>\n",
       "      <td>3</td>\n",
       "    </tr>\n",
       "    <tr>\n",
       "      <th>1</th>\n",
       "      <td>186</td>\n",
       "      <td>302</td>\n",
       "      <td>3</td>\n",
       "    </tr>\n",
       "    <tr>\n",
       "      <th>2</th>\n",
       "      <td>22</td>\n",
       "      <td>377</td>\n",
       "      <td>1</td>\n",
       "    </tr>\n",
       "    <tr>\n",
       "      <th>3</th>\n",
       "      <td>244</td>\n",
       "      <td>51</td>\n",
       "      <td>2</td>\n",
       "    </tr>\n",
       "    <tr>\n",
       "      <th>4</th>\n",
       "      <td>166</td>\n",
       "      <td>346</td>\n",
       "      <td>1</td>\n",
       "    </tr>\n",
       "  </tbody>\n",
       "</table>\n",
       "</div>"
      ],
      "text/plain": [
       "   user_id  movie_id  rating\n",
       "0      196       242       3\n",
       "1      186       302       3\n",
       "2       22       377       1\n",
       "3      244        51       2\n",
       "4      166       346       1"
      ]
     },
     "execution_count": 10,
     "metadata": {},
     "output_type": "execute_result"
    }
   ],
   "source": [
    "import pandas as pd\n",
    "import numpy as np\n",
    "import tensorflow as tf\n",
    "from sklearn.metrics import mean_squared_error\n",
    "from sklearn.model_selection import train_test_split\n",
    "import matplotlib.pyplot as plt\n",
    "from tensorflow.keras import layers\n",
    "from tensorflow.keras.models import Model\n",
    "from tensorflow.keras.layers import Input, Embedding, Dot, Add, Flatten,  Concatenate, Dense\n",
    "\n",
    "# 평점 데이터를 URL로부터 불러옵니다. r_cols는 열 이름을 정의합니다.\n",
    "r_cols = ['user_id', 'movie_id', 'rating', 'timestamp']\n",
    "url = \"https://raw.githubusercontent.com/ironmanciti/Recommenders_Lecture/main/data/u.rating\"\n",
    "ratings = pd.read_csv(url, names=r_cols, sep='\\t', encoding='latin-1')\n",
    "\n",
    "# 'timestamp' 열을 제거하고, 'user_id', 'movie_id', 'rating' 열만 남깁니다.\n",
    "# 데이터 타입을 int로 변환하여 정수형 데이터로 처리합니다.\n",
    "ratings = ratings[['user_id', 'movie_id', 'rating']].astype(int)\n",
    "ratings.head()"
   ]
  },
  {
   "cell_type": "code",
   "execution_count": 11,
   "id": "c44204cc-7689-4c7c-a481-543f6f98cfaa",
   "metadata": {},
   "outputs": [
    {
     "data": {
      "text/html": [
       "<div>\n",
       "<style scoped>\n",
       "    .dataframe tbody tr th:only-of-type {\n",
       "        vertical-align: middle;\n",
       "    }\n",
       "\n",
       "    .dataframe tbody tr th {\n",
       "        vertical-align: top;\n",
       "    }\n",
       "\n",
       "    .dataframe thead th {\n",
       "        text-align: right;\n",
       "    }\n",
       "</style>\n",
       "<table border=\"1\" class=\"dataframe\">\n",
       "  <thead>\n",
       "    <tr style=\"text-align: right;\">\n",
       "      <th></th>\n",
       "      <th>user_id</th>\n",
       "      <th>age</th>\n",
       "      <th>sex</th>\n",
       "      <th>occupation</th>\n",
       "      <th>zip_code</th>\n",
       "    </tr>\n",
       "  </thead>\n",
       "  <tbody>\n",
       "    <tr>\n",
       "      <th>0</th>\n",
       "      <td>1</td>\n",
       "      <td>24</td>\n",
       "      <td>M</td>\n",
       "      <td>technician</td>\n",
       "      <td>85711</td>\n",
       "    </tr>\n",
       "    <tr>\n",
       "      <th>1</th>\n",
       "      <td>2</td>\n",
       "      <td>53</td>\n",
       "      <td>F</td>\n",
       "      <td>other</td>\n",
       "      <td>94043</td>\n",
       "    </tr>\n",
       "    <tr>\n",
       "      <th>2</th>\n",
       "      <td>3</td>\n",
       "      <td>23</td>\n",
       "      <td>M</td>\n",
       "      <td>writer</td>\n",
       "      <td>32067</td>\n",
       "    </tr>\n",
       "    <tr>\n",
       "      <th>3</th>\n",
       "      <td>4</td>\n",
       "      <td>24</td>\n",
       "      <td>M</td>\n",
       "      <td>technician</td>\n",
       "      <td>43537</td>\n",
       "    </tr>\n",
       "    <tr>\n",
       "      <th>4</th>\n",
       "      <td>5</td>\n",
       "      <td>33</td>\n",
       "      <td>F</td>\n",
       "      <td>other</td>\n",
       "      <td>15213</td>\n",
       "    </tr>\n",
       "  </tbody>\n",
       "</table>\n",
       "</div>"
      ],
      "text/plain": [
       "   user_id  age sex  occupation zip_code\n",
       "0        1   24   M  technician    85711\n",
       "1        2   53   F       other    94043\n",
       "2        3   23   M      writer    32067\n",
       "3        4   24   M  technician    43537\n",
       "4        5   33   F       other    15213"
      ]
     },
     "execution_count": 11,
     "metadata": {},
     "output_type": "execute_result"
    }
   ],
   "source": [
    "# 사용자 데이터를 URL로부터 불러옵니다. u_cols는 열 이름을 정의합니다.\n",
    "u_cols = ['user_id', 'age', 'sex', 'occupation', 'zip_code']\n",
    "url = \"https://raw.githubusercontent.com/ironmanciti/Recommenders_Lecture/main/data/u.user\"\n",
    "users = pd.read_csv(url, sep='|', names=u_cols, encoding='latin-1')\n",
    "users.head()"
   ]
  },
  {
   "cell_type": "code",
   "execution_count": 12,
   "id": "a7f46c87",
   "metadata": {
    "colab": {
     "base_uri": "https://localhost:8080/",
     "height": 206
    },
    "id": "a7f46c87",
    "outputId": "a6bff10c-47c0-404c-a52e-9e564d7adffb"
   },
   "outputs": [
    {
     "data": {
      "text/html": [
       "<div>\n",
       "<style scoped>\n",
       "    .dataframe tbody tr th:only-of-type {\n",
       "        vertical-align: middle;\n",
       "    }\n",
       "\n",
       "    .dataframe tbody tr th {\n",
       "        vertical-align: top;\n",
       "    }\n",
       "\n",
       "    .dataframe thead th {\n",
       "        text-align: right;\n",
       "    }\n",
       "</style>\n",
       "<table border=\"1\" class=\"dataframe\">\n",
       "  <thead>\n",
       "    <tr style=\"text-align: right;\">\n",
       "      <th></th>\n",
       "      <th>user_id</th>\n",
       "      <th>age</th>\n",
       "      <th>sex</th>\n",
       "    </tr>\n",
       "  </thead>\n",
       "  <tbody>\n",
       "    <tr>\n",
       "      <th>0</th>\n",
       "      <td>1</td>\n",
       "      <td>0.328767</td>\n",
       "      <td>M</td>\n",
       "    </tr>\n",
       "    <tr>\n",
       "      <th>1</th>\n",
       "      <td>2</td>\n",
       "      <td>0.726027</td>\n",
       "      <td>F</td>\n",
       "    </tr>\n",
       "    <tr>\n",
       "      <th>2</th>\n",
       "      <td>3</td>\n",
       "      <td>0.315068</td>\n",
       "      <td>M</td>\n",
       "    </tr>\n",
       "    <tr>\n",
       "      <th>3</th>\n",
       "      <td>4</td>\n",
       "      <td>0.328767</td>\n",
       "      <td>M</td>\n",
       "    </tr>\n",
       "    <tr>\n",
       "      <th>4</th>\n",
       "      <td>5</td>\n",
       "      <td>0.452055</td>\n",
       "      <td>F</td>\n",
       "    </tr>\n",
       "  </tbody>\n",
       "</table>\n",
       "</div>"
      ],
      "text/plain": [
       "   user_id       age sex\n",
       "0        1  0.328767   M\n",
       "1        2  0.726027   F\n",
       "2        3  0.315068   M\n",
       "3        4  0.328767   M\n",
       "4        5  0.452055   F"
      ]
     },
     "execution_count": 12,
     "metadata": {},
     "output_type": "execute_result"
    }
   ],
   "source": [
    "# 필요한 열만 선택합니다. \n",
    "users = users[['user_id', 'age', 'sex']]\n",
    "\n",
    "# 'age' 열을 'age'의 최대값으로 나누어 0과 1 사이의 값으로 정규화합니다. \n",
    "users['age'] = users['age'] / users['age'].max()\n",
    "users.head()"
   ]
  },
  {
   "cell_type": "code",
   "execution_count": 13,
   "id": "b1957793-b204-453c-9db8-e34bb68697fb",
   "metadata": {},
   "outputs": [
    {
     "data": {
      "text/html": [
       "<div>\n",
       "<style scoped>\n",
       "    .dataframe tbody tr th:only-of-type {\n",
       "        vertical-align: middle;\n",
       "    }\n",
       "\n",
       "    .dataframe tbody tr th {\n",
       "        vertical-align: top;\n",
       "    }\n",
       "\n",
       "    .dataframe thead th {\n",
       "        text-align: right;\n",
       "    }\n",
       "</style>\n",
       "<table border=\"1\" class=\"dataframe\">\n",
       "  <thead>\n",
       "    <tr style=\"text-align: right;\">\n",
       "      <th></th>\n",
       "      <th>user_id</th>\n",
       "      <th>movie_id</th>\n",
       "      <th>rating</th>\n",
       "      <th>age</th>\n",
       "      <th>sex</th>\n",
       "    </tr>\n",
       "  </thead>\n",
       "  <tbody>\n",
       "    <tr>\n",
       "      <th>0</th>\n",
       "      <td>196</td>\n",
       "      <td>242</td>\n",
       "      <td>3</td>\n",
       "      <td>0.671233</td>\n",
       "      <td>M</td>\n",
       "    </tr>\n",
       "    <tr>\n",
       "      <th>1</th>\n",
       "      <td>196</td>\n",
       "      <td>393</td>\n",
       "      <td>4</td>\n",
       "      <td>0.671233</td>\n",
       "      <td>M</td>\n",
       "    </tr>\n",
       "    <tr>\n",
       "      <th>2</th>\n",
       "      <td>196</td>\n",
       "      <td>381</td>\n",
       "      <td>4</td>\n",
       "      <td>0.671233</td>\n",
       "      <td>M</td>\n",
       "    </tr>\n",
       "    <tr>\n",
       "      <th>3</th>\n",
       "      <td>196</td>\n",
       "      <td>251</td>\n",
       "      <td>3</td>\n",
       "      <td>0.671233</td>\n",
       "      <td>M</td>\n",
       "    </tr>\n",
       "    <tr>\n",
       "      <th>4</th>\n",
       "      <td>196</td>\n",
       "      <td>655</td>\n",
       "      <td>5</td>\n",
       "      <td>0.671233</td>\n",
       "      <td>M</td>\n",
       "    </tr>\n",
       "    <tr>\n",
       "      <th>...</th>\n",
       "      <td>...</td>\n",
       "      <td>...</td>\n",
       "      <td>...</td>\n",
       "      <td>...</td>\n",
       "      <td>...</td>\n",
       "    </tr>\n",
       "    <tr>\n",
       "      <th>99995</th>\n",
       "      <td>941</td>\n",
       "      <td>919</td>\n",
       "      <td>5</td>\n",
       "      <td>0.273973</td>\n",
       "      <td>M</td>\n",
       "    </tr>\n",
       "    <tr>\n",
       "      <th>99996</th>\n",
       "      <td>941</td>\n",
       "      <td>273</td>\n",
       "      <td>3</td>\n",
       "      <td>0.273973</td>\n",
       "      <td>M</td>\n",
       "    </tr>\n",
       "    <tr>\n",
       "      <th>99997</th>\n",
       "      <td>941</td>\n",
       "      <td>1</td>\n",
       "      <td>5</td>\n",
       "      <td>0.273973</td>\n",
       "      <td>M</td>\n",
       "    </tr>\n",
       "    <tr>\n",
       "      <th>99998</th>\n",
       "      <td>941</td>\n",
       "      <td>294</td>\n",
       "      <td>4</td>\n",
       "      <td>0.273973</td>\n",
       "      <td>M</td>\n",
       "    </tr>\n",
       "    <tr>\n",
       "      <th>99999</th>\n",
       "      <td>941</td>\n",
       "      <td>1007</td>\n",
       "      <td>4</td>\n",
       "      <td>0.273973</td>\n",
       "      <td>M</td>\n",
       "    </tr>\n",
       "  </tbody>\n",
       "</table>\n",
       "<p>100000 rows × 5 columns</p>\n",
       "</div>"
      ],
      "text/plain": [
       "       user_id  movie_id  rating       age sex\n",
       "0          196       242       3  0.671233   M\n",
       "1          196       393       4  0.671233   M\n",
       "2          196       381       4  0.671233   M\n",
       "3          196       251       3  0.671233   M\n",
       "4          196       655       5  0.671233   M\n",
       "...        ...       ...     ...       ...  ..\n",
       "99995      941       919       5  0.273973   M\n",
       "99996      941       273       3  0.273973   M\n",
       "99997      941         1       5  0.273973   M\n",
       "99998      941       294       4  0.273973   M\n",
       "99999      941      1007       4  0.273973   M\n",
       "\n",
       "[100000 rows x 5 columns]"
      ]
     },
     "execution_count": 13,
     "metadata": {},
     "output_type": "execute_result"
    }
   ],
   "source": [
    "# 'user_id'를 기준으로 'ratings' 데이터프레임과 'users' 데이터프레임을 병합합니다.\n",
    "# 이 과정을 통해 각 평점 데이터에 해당 사용자의 정보가 추가됩니다.\n",
    "ratings = pd.merge(ratings, users, on='user_id')\n",
    "ratings"
   ]
  },
  {
   "cell_type": "code",
   "execution_count": 14,
   "id": "db852905",
   "metadata": {
    "colab": {
     "base_uri": "https://localhost:8080/",
     "height": 206
    },
    "id": "db852905",
    "outputId": "4843330e-faf0-4bc7-da21-ba827c04ef4a"
   },
   "outputs": [
    {
     "data": {
      "text/html": [
       "<div>\n",
       "<style scoped>\n",
       "    .dataframe tbody tr th:only-of-type {\n",
       "        vertical-align: middle;\n",
       "    }\n",
       "\n",
       "    .dataframe tbody tr th {\n",
       "        vertical-align: top;\n",
       "    }\n",
       "\n",
       "    .dataframe thead th {\n",
       "        text-align: right;\n",
       "    }\n",
       "</style>\n",
       "<table border=\"1\" class=\"dataframe\">\n",
       "  <thead>\n",
       "    <tr style=\"text-align: right;\">\n",
       "      <th></th>\n",
       "      <th>user_id</th>\n",
       "      <th>movie_id</th>\n",
       "      <th>rating</th>\n",
       "      <th>age</th>\n",
       "      <th>sex_F</th>\n",
       "      <th>sex_M</th>\n",
       "    </tr>\n",
       "  </thead>\n",
       "  <tbody>\n",
       "    <tr>\n",
       "      <th>0</th>\n",
       "      <td>196</td>\n",
       "      <td>242</td>\n",
       "      <td>3</td>\n",
       "      <td>0.671233</td>\n",
       "      <td>False</td>\n",
       "      <td>True</td>\n",
       "    </tr>\n",
       "    <tr>\n",
       "      <th>1</th>\n",
       "      <td>196</td>\n",
       "      <td>393</td>\n",
       "      <td>4</td>\n",
       "      <td>0.671233</td>\n",
       "      <td>False</td>\n",
       "      <td>True</td>\n",
       "    </tr>\n",
       "    <tr>\n",
       "      <th>2</th>\n",
       "      <td>196</td>\n",
       "      <td>381</td>\n",
       "      <td>4</td>\n",
       "      <td>0.671233</td>\n",
       "      <td>False</td>\n",
       "      <td>True</td>\n",
       "    </tr>\n",
       "    <tr>\n",
       "      <th>3</th>\n",
       "      <td>196</td>\n",
       "      <td>251</td>\n",
       "      <td>3</td>\n",
       "      <td>0.671233</td>\n",
       "      <td>False</td>\n",
       "      <td>True</td>\n",
       "    </tr>\n",
       "    <tr>\n",
       "      <th>4</th>\n",
       "      <td>196</td>\n",
       "      <td>655</td>\n",
       "      <td>5</td>\n",
       "      <td>0.671233</td>\n",
       "      <td>False</td>\n",
       "      <td>True</td>\n",
       "    </tr>\n",
       "  </tbody>\n",
       "</table>\n",
       "</div>"
      ],
      "text/plain": [
       "   user_id  movie_id  rating       age  sex_F  sex_M\n",
       "0      196       242       3  0.671233  False   True\n",
       "1      196       393       4  0.671233  False   True\n",
       "2      196       381       4  0.671233  False   True\n",
       "3      196       251       3  0.671233  False   True\n",
       "4      196       655       5  0.671233  False   True"
      ]
     },
     "execution_count": 14,
     "metadata": {},
     "output_type": "execute_result"
    }
   ],
   "source": [
    "# 원-핫 인코딩을 적용하여 범주형 변수를 수치형으로 변환합니다.\n",
    "ratings = pd.get_dummies(ratings)\n",
    "ratings.head()"
   ]
  },
  {
   "cell_type": "code",
   "execution_count": 15,
   "id": "qKb60NxZeJsA",
   "metadata": {
    "id": "qKb60NxZeJsA"
   },
   "outputs": [],
   "source": [
    "target_ratings = ratings.pop('rating')"
   ]
  },
  {
   "cell_type": "code",
   "execution_count": 16,
   "id": "ce3f2e10-0549-47cc-8045-bd3faa1e5acf",
   "metadata": {
    "colab": {
     "base_uri": "https://localhost:8080/",
     "height": 112
    },
    "id": "ce3f2e10-0549-47cc-8045-bd3faa1e5acf",
    "outputId": "5610edee-9f31-463f-8f35-1da315599c0b"
   },
   "outputs": [
    {
     "data": {
      "text/html": [
       "<div>\n",
       "<style scoped>\n",
       "    .dataframe tbody tr th:only-of-type {\n",
       "        vertical-align: middle;\n",
       "    }\n",
       "\n",
       "    .dataframe tbody tr th {\n",
       "        vertical-align: top;\n",
       "    }\n",
       "\n",
       "    .dataframe thead th {\n",
       "        text-align: right;\n",
       "    }\n",
       "</style>\n",
       "<table border=\"1\" class=\"dataframe\">\n",
       "  <thead>\n",
       "    <tr style=\"text-align: right;\">\n",
       "      <th></th>\n",
       "      <th>user_id</th>\n",
       "      <th>movie_id</th>\n",
       "      <th>age</th>\n",
       "      <th>sex_F</th>\n",
       "      <th>sex_M</th>\n",
       "    </tr>\n",
       "  </thead>\n",
       "  <tbody>\n",
       "    <tr>\n",
       "      <th>0</th>\n",
       "      <td>196</td>\n",
       "      <td>242</td>\n",
       "      <td>0.671233</td>\n",
       "      <td>False</td>\n",
       "      <td>True</td>\n",
       "    </tr>\n",
       "    <tr>\n",
       "      <th>1</th>\n",
       "      <td>196</td>\n",
       "      <td>393</td>\n",
       "      <td>0.671233</td>\n",
       "      <td>False</td>\n",
       "      <td>True</td>\n",
       "    </tr>\n",
       "  </tbody>\n",
       "</table>\n",
       "</div>"
      ],
      "text/plain": [
       "   user_id  movie_id       age  sex_F  sex_M\n",
       "0      196       242  0.671233  False   True\n",
       "1      196       393  0.671233  False   True"
      ]
     },
     "execution_count": 16,
     "metadata": {},
     "output_type": "execute_result"
    }
   ],
   "source": [
    "ratings.head(2)"
   ]
  },
  {
   "cell_type": "code",
   "execution_count": 17,
   "id": "98tFAS_8fIIR",
   "metadata": {
    "colab": {
     "base_uri": "https://localhost:8080/"
    },
    "id": "98tFAS_8fIIR",
    "outputId": "91b37c71-5b74-4aac-9f84-4ecd7c96d403"
   },
   "outputs": [
    {
     "data": {
      "text/plain": [
       "3"
      ]
     },
     "execution_count": 17,
     "metadata": {},
     "output_type": "execute_result"
    }
   ],
   "source": [
    "# 'ratings' 데이터프레임에서 첫 두 열을 제외한 나머지 열들을 선택하고, \n",
    "# 열의 수를 'others_input_shape' 변수에 저장합니다.\n",
    "# 이는 모델의 입력으로 사용될 때 해당 데이터의 차원 수를 지정에 사용합니다.\n",
    "others_input_shape = ratings.iloc[:, 2:].values.shape[1]\n",
    "others_input_shape"
   ]
  },
  {
   "cell_type": "code",
   "execution_count": 18,
   "id": "d43d0d81",
   "metadata": {
    "colab": {
     "base_uri": "https://localhost:8080/"
    },
    "id": "d43d0d81",
    "outputId": "518c8340-7c2a-43a6-e186-572cbd28aba9"
   },
   "outputs": [
    {
     "data": {
      "text/plain": [
       "((80000, 5), (20000, 5), (80000,), (20000,))"
      ]
     },
     "execution_count": 18,
     "metadata": {},
     "output_type": "execute_result"
    }
   ],
   "source": [
    "# train test set 분리\n",
    "train_ratings, test_ratings, train_targets, test_targets = train_test_split(ratings, target_ratings, test_size=0.2, random_state=0)\n",
    "train_ratings.shape, test_ratings.shape, train_targets.shape, test_targets.shape"
   ]
  },
  {
   "cell_type": "code",
   "execution_count": 19,
   "id": "1e11347a",
   "metadata": {
    "colab": {
     "base_uri": "https://localhost:8080/"
    },
    "id": "1e11347a",
    "outputId": "bb6e0a53-1b8d-42ff-902b-fc66c35e8fc5"
   },
   "outputs": [
    {
     "data": {
      "text/plain": [
       "(100, 3.53185, 944, 1683)"
      ]
     },
     "execution_count": 19,
     "metadata": {},
     "output_type": "execute_result"
    }
   ],
   "source": [
    "# 잠재 요인(latent factor)의 수를 설정합니다. \n",
    "K = 100\n",
    "\n",
    "# 훈련 데이터셋에서 평점의 평균을 계산합니다. 이 평균값은 추천 시스템의 기준선(baseline) 평가로 사용됩니다.\n",
    "mu = train_targets.mean()\n",
    "\n",
    "# 사용자 수를 계산합니다. user_id의 최대값에 1을 더함으로써 0부터 시작하는 인덱스를 맞춥니다.\n",
    "M = ratings.user_id.max() + 1\n",
    "\n",
    "# 영화 수를 계산합니다. movie_id의 최대값에 1을 더함으로써 0부터 시작하는 인덱스를 맞춥니다.\n",
    "N = ratings.movie_id.max() + 1\n",
    "\n",
    "# 계산된 값을 출력합니다.\n",
    "K, mu, M, N"
   ]
  },
  {
   "cell_type": "code",
   "execution_count": 20,
   "id": "681410c6",
   "metadata": {
    "colab": {
     "base_uri": "https://localhost:8080/"
    },
    "id": "681410c6",
    "outputId": "901facd4-0ab5-404e-c089-9f3835248d6b"
   },
   "outputs": [
    {
     "data": {
      "text/plain": [
       "TensorShape([100])"
      ]
     },
     "execution_count": 20,
     "metadata": {},
     "output_type": "execute_result"
    }
   ],
   "source": [
    "# 사용자 임베딩의 shape 확인\n",
    "# 사용자 수(M)와 잠재 요인의 수(K)를 기반으로 한 임베딩 행렬에서\n",
    "# 하나의 사용자 임베딩 벡터를 가져온 후 그 shape을 출력\n",
    "Embedding(M, K)(0).shape"
   ]
  },
  {
   "cell_type": "markdown",
   "id": "da516474-5d9f-4fce-8b32-8844d523845e",
   "metadata": {
    "id": "da516474-5d9f-4fce-8b32-8844d523845e"
   },
   "source": [
    "### Shallow Neural Network\n",
    "\n",
    "<img src=\"https://petamind.com/wp-content/uploads/2019/12/ml-mf-matrix-factorization-_op.svg\" width=400 />\n",
    "\n",
    "$$\\hat{r}_{ij} = b + bu_i + bd_i + \\sum_1^k{p_{ik}q_{jk}}$$\n",
    "  \n",
    "k :  잠재 요인(latent factor)의 수   \n",
    "$\\hat{r}_{ij}$ : 사용자 i의 아이템 j에 대한 예측값  \n",
    "b : 전체 평균 (데이터가 주어지면 하나로 정해지는 상수)  \n",
    "$bu_i$ : 전체 평균을 제거한 후 사용자 i의 평가 경향 (사용자 i의 평균과 전체 평균의 차이)  \n",
    "$bd_i$ : 전체 평균을 제거한 후 아이텐 j의 평가 경향 (아이템 j의 평균과 전체 평균의 차이)  \n",
    "$p_{ik}$ : 행렬 P의 i번째 사용자 vector  \n",
    "$q_{jk}$ : 행렬 Q의 column j 번째 item vector  "
   ]
  },
  {
   "cell_type": "code",
   "execution_count": 21,
   "id": "cc07b254-09bc-4f9c-8fba-585b31be7989",
   "metadata": {
    "colab": {
     "base_uri": "https://localhost:8080/"
    },
    "id": "cc07b254-09bc-4f9c-8fba-585b31be7989",
    "outputId": "11b98d3e-7625-4cc4-cbb9-488cfad026de"
   },
   "outputs": [
    {
     "name": "stdout",
     "output_type": "stream",
     "text": [
      "Model: \"model\"\n",
      "__________________________________________________________________________________________________\n",
      " Layer (type)                Output Shape                 Param #   Connected to                  \n",
      "==================================================================================================\n",
      " p_ik (InputLayer)           [(None, 1)]                  0         []                            \n",
      "                                                                                                  \n",
      " q_kj (InputLayer)           [(None, 1)]                  0         []                            \n",
      "                                                                                                  \n",
      " P (Embedding)               (None, 1, 100)               94400     ['p_ik[0][0]']                \n",
      "                                                                                                  \n",
      " Q (Embedding)               (None, 1, 100)               168300    ['q_kj[0][0]']                \n",
      "                                                                                                  \n",
      " bu (Embedding)              (None, 1, 1)                 944       ['p_ik[0][0]']                \n",
      "                                                                                                  \n",
      " bd (Embedding)              (None, 1, 1)                 1683      ['q_kj[0][0]']                \n",
      "                                                                                                  \n",
      " flatten (Flatten)           (None, 100)                  0         ['P[0][0]']                   \n",
      "                                                                                                  \n",
      " flatten_1 (Flatten)         (None, 100)                  0         ['Q[0][0]']                   \n",
      "                                                                                                  \n",
      " flatten_2 (Flatten)         (None, 1)                    0         ['bu[0][0]']                  \n",
      "                                                                                                  \n",
      " flatten_3 (Flatten)         (None, 1)                    0         ['bd[0][0]']                  \n",
      "                                                                                                  \n",
      " other features (InputLayer  [(None, 3)]                  0         []                            \n",
      " )                                                                                                \n",
      "                                                                                                  \n",
      " concatenate (Concatenate)   (None, 205)                  0         ['flatten[0][0]',             \n",
      "                                                                     'flatten_1[0][0]',           \n",
      "                                                                     'flatten_2[0][0]',           \n",
      "                                                                     'flatten_3[0][0]',           \n",
      "                                                                     'other features[0][0]']      \n",
      "                                                                                                  \n",
      " dense (Dense)               (None, 1024)                 210944    ['concatenate[0][0]']         \n",
      "                                                                                                  \n",
      " dense_1 (Dense)             (None, 64)                   65600     ['dense[0][0]']               \n",
      "                                                                                                  \n",
      " dense_2 (Dense)             (None, 1)                    65        ['dense_1[0][0]']             \n",
      "                                                                                                  \n",
      "==================================================================================================\n",
      "Total params: 541936 (2.07 MB)\n",
      "Trainable params: 541936 (2.07 MB)\n",
      "Non-trainable params: 0 (0.00 Byte)\n",
      "__________________________________________________________________________________________________\n"
     ]
    }
   ],
   "source": [
    "user = Input(shape=(1, ), name=\"p_ik\")      # 사용자 입력\n",
    "item = Input(shape=(1, ), name=\"q_kj\")      # Item 입력\n",
    "other_features = Input(shape=(others_input_shape,), name=\"other features\")  # 기타 특성 입력\n",
    "P_embedding = Embedding(M, K, name=\"P\")(user)   # 사용자 임베딩 레이어 (M, K)\n",
    "Q_embedding = Embedding(N, K, name=\"Q\")(item)   # Item 임베딩 레이어 (N, K)\n",
    "\n",
    "user_bias = Embedding(M, 1, name=\"bu\")(user)     # 사용자 편향 (M, 1)\n",
    "item_bias = Embedding(N, 1, name=\"bd\")(item)     # Item 편향 (N, 1)\n",
    "\n",
    "# Concatenate를 위해 임베딩 레이어들을 1차원으로 flatten\n",
    "P_embedding = Flatten()(P_embedding)           #(K,)\n",
    "Q_embedding = Flatten()(Q_embedding)           #(K,)\n",
    "user_bias = Flatten()(user_bias)               #(1,)\n",
    "item_bias = Flatten()(item_bias)               #(1,)\n",
    "\n",
    "# 4개의 임베딩 레이어와 기타 특성들을 concatenate\n",
    "x = Concatenate()([P_embedding, Q_embedding, user_bias, item_bias, other_features])\n",
    "# Hidden Layer로 연결\n",
    "x = Dense(1024, activation='relu')(x)\n",
    "x = Dense(64, activation='relu')(x)\n",
    "Rating = Dense(1)(x)\n",
    "\n",
    "# 모델 설정\n",
    "model = Model(inputs=[user, item, other_features], outputs=Rating)\n",
    "model.summary()"
   ]
  },
  {
   "cell_type": "code",
   "execution_count": 22,
   "id": "f4781449-f2c4-43e6-a32a-3245f3c3c6e9",
   "metadata": {
    "colab": {
     "base_uri": "https://localhost:8080/",
     "height": 661
    },
    "id": "f4781449-f2c4-43e6-a32a-3245f3c3c6e9",
    "outputId": "5e5c68c5-f4cd-4de8-b73b-cc761e39003a"
   },
   "outputs": [
    {
     "name": "stdout",
     "output_type": "stream",
     "text": [
      "You must install pydot (`pip install pydot`) and install graphviz (see instructions at https://graphviz.gitlab.io/download/) for plot_model to work.\n"
     ]
    }
   ],
   "source": [
    "tf.keras.utils.plot_model(model)"
   ]
  },
  {
   "cell_type": "code",
   "execution_count": 23,
   "id": "3118c96b",
   "metadata": {
    "id": "3118c96b"
   },
   "outputs": [],
   "source": [
    "model.compile(\n",
    "  loss=\"mse\",       # 손실 함수로 평균 제곱 오차(MSE) 사용\n",
    "  optimizer=\"sgd\",  # 최적화 알고리즘으로 확률적 경사 하강법(SGD) 사용\n",
    "  metrics=[\"mae\"]   # 평가 지표로 MSE 사용\n",
    ")"
   ]
  },
  {
   "cell_type": "code",
   "execution_count": 24,
   "id": "52be3457-5c16-4fd0-a707-02d91eb19acb",
   "metadata": {},
   "outputs": [
    {
     "name": "stdout",
     "output_type": "stream",
     "text": [
      "Epoch 1/30\n",
      "313/313 [==============================] - 2s 6ms/step - loss: 1.2612 - mae: 0.9421 - val_loss: 1.2733 - val_mae: 0.9466\n",
      "Epoch 2/30\n",
      "313/313 [==============================] - 2s 5ms/step - loss: 1.2554 - mae: 0.9400 - val_loss: 1.2681 - val_mae: 0.9447\n",
      "Epoch 3/30\n",
      "313/313 [==============================] - 2s 5ms/step - loss: 1.2488 - mae: 0.9375 - val_loss: 1.2614 - val_mae: 0.9421\n",
      "Epoch 4/30\n",
      "313/313 [==============================] - 2s 5ms/step - loss: 1.2396 - mae: 0.9335 - val_loss: 1.2502 - val_mae: 0.9372\n",
      "Epoch 5/30\n",
      "313/313 [==============================] - 2s 5ms/step - loss: 1.2245 - mae: 0.9271 - val_loss: 1.2340 - val_mae: 0.9254\n",
      "Epoch 6/30\n",
      "313/313 [==============================] - 2s 5ms/step - loss: 1.1994 - mae: 0.9157 - val_loss: 1.1997 - val_mae: 0.9134\n",
      "Epoch 7/30\n",
      "313/313 [==============================] - 2s 5ms/step - loss: 1.1563 - mae: 0.8948 - val_loss: 1.1456 - val_mae: 0.8901\n",
      "Epoch 8/30\n",
      "313/313 [==============================] - 2s 5ms/step - loss: 1.0899 - mae: 0.8573 - val_loss: 1.0790 - val_mae: 0.8534\n",
      "Epoch 9/30\n",
      "313/313 [==============================] - 2s 5ms/step - loss: 1.0214 - mae: 0.8161 - val_loss: 1.0201 - val_mae: 0.8187\n",
      "Epoch 10/30\n",
      "313/313 [==============================] - 2s 5ms/step - loss: 0.9718 - mae: 0.7882 - val_loss: 0.9980 - val_mae: 0.7882\n",
      "Epoch 11/30\n",
      "313/313 [==============================] - 2s 5ms/step - loss: 0.9382 - mae: 0.7708 - val_loss: 0.9645 - val_mae: 0.7749\n",
      "Epoch 12/30\n",
      "313/313 [==============================] - 2s 5ms/step - loss: 0.9149 - mae: 0.7597 - val_loss: 0.9559 - val_mae: 0.7866\n",
      "Epoch 13/30\n",
      "313/313 [==============================] - 2s 5ms/step - loss: 0.8991 - mae: 0.7521 - val_loss: 0.9333 - val_mae: 0.7730\n",
      "Epoch 14/30\n",
      "313/313 [==============================] - 2s 5ms/step - loss: 0.8861 - mae: 0.7462 - val_loss: 0.9166 - val_mae: 0.7596\n",
      "Epoch 15/30\n",
      "313/313 [==============================] - 2s 5ms/step - loss: 0.8762 - mae: 0.7416 - val_loss: 0.9098 - val_mae: 0.7554\n",
      "Epoch 16/30\n",
      "313/313 [==============================] - 2s 5ms/step - loss: 0.8690 - mae: 0.7382 - val_loss: 0.9056 - val_mae: 0.7517\n",
      "Epoch 17/30\n",
      "313/313 [==============================] - 2s 5ms/step - loss: 0.8629 - mae: 0.7348 - val_loss: 0.9176 - val_mae: 0.7506\n",
      "Epoch 18/30\n",
      "313/313 [==============================] - 2s 5ms/step - loss: 0.8591 - mae: 0.7331 - val_loss: 0.9273 - val_mae: 0.7527\n",
      "Epoch 19/30\n",
      "313/313 [==============================] - 2s 5ms/step - loss: 0.8554 - mae: 0.7316 - val_loss: 0.8995 - val_mae: 0.7532\n",
      "Epoch 20/30\n",
      "313/313 [==============================] - 2s 5ms/step - loss: 0.8523 - mae: 0.7298 - val_loss: 0.8976 - val_mae: 0.7445\n",
      "Epoch 21/30\n",
      "313/313 [==============================] - 2s 5ms/step - loss: 0.8495 - mae: 0.7285 - val_loss: 0.8935 - val_mae: 0.7439\n",
      "Epoch 22/30\n",
      "313/313 [==============================] - 2s 6ms/step - loss: 0.8466 - mae: 0.7266 - val_loss: 0.8910 - val_mae: 0.7449\n",
      "Epoch 23/30\n",
      "313/313 [==============================] - 2s 5ms/step - loss: 0.8460 - mae: 0.7267 - val_loss: 0.8914 - val_mae: 0.7466\n",
      "Epoch 24/30\n",
      "313/313 [==============================] - 2s 6ms/step - loss: 0.8447 - mae: 0.7260 - val_loss: 0.8888 - val_mae: 0.7454\n",
      "Epoch 25/30\n",
      "313/313 [==============================] - 2s 6ms/step - loss: 0.8427 - mae: 0.7250 - val_loss: 0.8875 - val_mae: 0.7424\n",
      "Epoch 26/30\n",
      "313/313 [==============================] - 2s 6ms/step - loss: 0.8400 - mae: 0.7239 - val_loss: 0.8872 - val_mae: 0.7425\n",
      "Epoch 27/30\n",
      "313/313 [==============================] - 2s 6ms/step - loss: 0.8403 - mae: 0.7241 - val_loss: 0.8906 - val_mae: 0.7410\n",
      "Epoch 28/30\n",
      "313/313 [==============================] - 2s 6ms/step - loss: 0.8391 - mae: 0.7235 - val_loss: 0.8878 - val_mae: 0.7446\n",
      "Epoch 29/30\n",
      "313/313 [==============================] - 2s 6ms/step - loss: 0.8369 - mae: 0.7223 - val_loss: 0.9068 - val_mae: 0.7436\n",
      "Epoch 30/30\n",
      "313/313 [==============================] - 2s 6ms/step - loss: 0.8369 - mae: 0.7224 - val_loss: 0.8876 - val_mae: 0.7457\n"
     ]
    }
   ],
   "source": [
    "# 모델 학습\n",
    "history = model.fit(\n",
    "    [\n",
    "        train_ratings.user_id.values,  # 훈련 데이터의 사용자 ID\n",
    "        train_ratings.movie_id.values,  # 훈련 데이터의 영화 ID\n",
    "        train_ratings.iloc[:, 2:].astype('float32').values  # 훈련 데이터의 기타 특성들을 float32 타입으로 변환\n",
    "    ], \n",
    "    train_targets.values.astype('float32') - mu,  # 타겟 값에서 전체 평점의 평균을 뺀 값으로, 타입은 float32\n",
    "    epochs=30,  # 총 30번의 에포크 동안 학습\n",
    "    batch_size=256,  # 배치 사이즈를 256으로 설정\n",
    "    validation_data=(\n",
    "        [\n",
    "            test_ratings.user_id.values,  # 검증 데이터의 사용자 ID\n",
    "            test_ratings.movie_id.values,  # 검증 데이터의 영화 ID\n",
    "            test_ratings.iloc[:, 2:].astype('float32').values  # 검증 데이터의 기타 특성들을 float32 타입으로 변환\n",
    "        ], \n",
    "        test_targets.values.astype('float32') - mu  # 검증 타겟 값에서 전체 평점의 평균을 뺀 값으로, 타입은 float32\n",
    "    )\n",
    ")"
   ]
  },
  {
   "cell_type": "code",
   "execution_count": 25,
   "id": "cd4d4fbf",
   "metadata": {
    "colab": {
     "base_uri": "https://localhost:8080/"
    },
    "id": "cd4d4fbf",
    "outputId": "13457e6b-4d65-4164-fc7b-632b8a371e18"
   },
   "outputs": [
    {
     "name": "stdout",
     "output_type": "stream",
     "text": [
      "625/625 [==============================] - 1s 1ms/step - loss: 0.8876 - mae: 0.7457\n"
     ]
    },
    {
     "data": {
      "text/plain": [
       "[0.8876449465751648, 0.7457435131072998]"
      ]
     },
     "execution_count": 25,
     "metadata": {},
     "output_type": "execute_result"
    }
   ],
   "source": [
    "# 모델 평가를 수행합니다.\n",
    "model.evaluate(\n",
    "    [\n",
    "        test_ratings.user_id.values,  # 테스트 데이터의 사용자 ID\n",
    "        test_ratings.movie_id.values,  # 테스트 데이터의 영화 ID\n",
    "        test_ratings.iloc[:, 2:].astype('float32').values  # 테스트 데이터의 기타 특성들을 float32 타입으로 변환\n",
    "    ], \n",
    "    test_targets.values - mu  # 테스트 타겟 값에서 전체 평점의 평균을 뺀 값\n",
    ")"
   ]
  },
  {
   "cell_type": "code",
   "execution_count": 26,
   "id": "932063da",
   "metadata": {
    "colab": {
     "base_uri": "https://localhost:8080/",
     "height": 449
    },
    "id": "932063da",
    "outputId": "0124e253-e047-4b86-d0e6-c9530760bdce"
   },
   "outputs": [
    {
     "data": {
      "image/png": "[encoded data removed]",
      "text/plain": [
       "<Figure size 640x480 with 1 Axes>"
      ]
     },
     "metadata": {},
     "output_type": "display_data"
    }
   ],
   "source": [
    "# Plot MSE\n",
    "plt.plot(history.history['loss'], label=\"Train MSE\")\n",
    "plt.plot(history.history['val_loss'], label=\"Test MSE\")\n",
    "plt.xlabel('epoch')\n",
    "plt.ylabel('MSE')\n",
    "plt.legend()\n",
    "plt.show()"
   ]
  },
  {
   "cell_type": "code",
   "execution_count": 27,
   "id": "95cece4a-954a-48d2-8a2e-5feade1399b9",
   "metadata": {},
   "outputs": [
    {
     "name": "stdout",
     "output_type": "stream",
     "text": [
      "1/1 [==============================] - 0s 87ms/step\n",
      "Actuals: \n",
      " [4 4 5 2 4 5]\n",
      "\n",
      "Predictions: \n",
      " [[4.012479 ]\n",
      " [3.4726107]\n",
      " [4.598463 ]\n",
      " [3.251894 ]\n",
      " [3.9314528]\n",
      " [3.2930903]]\n"
     ]
    }
   ],
   "source": [
    "# 테스트 세트에서 사용자 ID와 영화 ID, 그리고 기타 특성을 6개 선택\n",
    "user_ids = test_ratings.user_id.values[10:16]\n",
    "movie_ids = test_ratings.movie_id.values[10:16]\n",
    "other_features = test_ratings.iloc[:, 2:].values[10:16]  \n",
    "\n",
    "# 학습된 모델을 사용하여 선택된 샘플에 대한 평점 예측을 수행합니다.\n",
    "# 예측된 결과에 전체 평점 평균(mu)을 더하여 실제 평점 범위로 변환합니다.\n",
    "predictions = model.predict([\n",
    "    user_ids.astype('float32'), # 입력 데이터의 타입을 float32로 명시적으로 변환합니다.\n",
    "    movie_ids.astype('float32'), \n",
    "    other_features.astype('float32')\n",
    "]) + mu\n",
    "\n",
    "# 실제 평점과 예측 평점을 출력하여 비교\n",
    "print(\"Actuals: \\n\", test_targets.values[10:16])  # 실제 평점 출력\n",
    "print( )\n",
    "print(\"Predictions: \\n\", predictions)  # 예측 평점 출력"
   ]
  },
  {
   "cell_type": "code",
   "execution_count": 28,
   "id": "caf89219",
   "metadata": {
    "colab": {
     "base_uri": "https://localhost:8080/"
    },
    "id": "caf89219",
    "outputId": "2f312e24-208b-452e-ded0-c6cbad3ae587"
   },
   "outputs": [
    {
     "name": "stdout",
     "output_type": "stream",
     "text": [
      "625/625 [==============================] - 1s 931us/step\n"
     ]
    },
    {
     "data": {
      "text/plain": [
       "0.8876447950736838"
      ]
     },
     "execution_count": 28,
     "metadata": {},
     "output_type": "execute_result"
    }
   ],
   "source": [
    "# 테스트 세트에서 사용자 ID, 영화 ID, 그리고 기타 특성을 전체 선택\n",
    "user_ids = test_ratings.user_id.values.astype('float32')\n",
    "movie_ids = test_ratings.movie_id.values.astype('float32')\n",
    "other_features = test_ratings.iloc[:, 2:].values.astype('float32')\n",
    "\n",
    "# 모델을 사용하여 전체 테스트 세트에 대한 예측을 수행하고, 전체 평균(mu)을 더해 실제 평점 범위로 변환\n",
    "y_pred = model.predict([user_ids, movie_ids, other_features]) + mu\n",
    "\n",
    "# 실제 평점\n",
    "y_true = test_targets.values\n",
    "\n",
    "# 실제 값과 예측 값 사이의 평균 제곱 오차(MSE) 계산\n",
    "mean_squared_error(y_true, y_pred, squared=True)"
   ]
  },
  {
   "cell_type": "code",
   "execution_count": null,
   "id": "ab616abe",
   "metadata": {
    "id": "ab616abe"
   },
   "outputs": [],
   "source": []
  }
 ],
 "metadata": {
  "accelerator": "GPU",
  "colab": {
   "gpuType": "T4",
   "provenance": []
  },
  "kernelspec": {
   "display_name": "Python 3 (ipykernel)",
   "language": "python",
   "name": "python3"
  },
  "language_info": {
   "codemirror_mode": {
    "name": "ipython",
    "version": 3
   },
   "file_extension": ".py",
   "mimetype": "text/x-python",
   "name": "python",
   "nbconvert_exporter": "python",
   "pygments_lexer": "ipython3",
   "version": "3.9.16"
  }
 },
 "nbformat": 4,
 "nbformat_minor": 5
}
