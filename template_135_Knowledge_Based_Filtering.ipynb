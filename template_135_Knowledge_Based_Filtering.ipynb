{
 "cells": [
  {
   "cell_type": "markdown",
   "id": "64350231-cd92-4817-9d92-7e2c8255e2d1",
   "metadata": {},
   "source": [
    "# Knowledge Based Filtering\n",
    "\n",
    "지식 기반 필터링(Knowledge-based Filtering)\"은 사용자가 제공한 명시적인 요구 사항을 바탕으로 아이템을 추천하는 시스템입니다. 이 방법은 사용자의 과거 행동이나 명확한 선호도가 부족할 때 유용하며, 사용자가 특정 요구 사항을 입력함으로써 추천을 받게 됩니다.\n",
    "\n",
    "예를 들어, 영화 추천 시스템에서 사용자가 선호하는 장르, 감독, 배우, 또는 영화의 특정 기능(예: 상영 시간, 연도 등)에 대한 선호도를 입력하면, 시스템은 이 정보를 기반으로 영화를 필터링하고 추천합니다.\n",
    "\n",
    "지식 기반 필터링의 예제 코드를 작성하기 전에, 우리는 몇 가지 가정을 해야 합니다. 예를 들어, 우리에게는 영화에 대한 정보가 담긴 movies 데이터프레임과 사용자가 요구하는 조건을 충족하는 영화를 추천하는 함수가 필요합니다."
   ]
  },
  {
   "cell_type": "code",
   "execution_count": null,
   "id": "e9a41992",
   "metadata": {},
   "outputs": [],
   "source": [
    "# MovieLens 데이터셋 로드"
   ]
  },
  {
   "cell_type": "code",
   "execution_count": null,
   "id": "4748bf5d",
   "metadata": {},
   "outputs": [],
   "source": []
  },
  {
   "cell_type": "code",
   "execution_count": null,
   "id": "bf472dee",
   "metadata": {},
   "outputs": [],
   "source": []
  },
  {
   "cell_type": "code",
   "execution_count": null,
   "id": "e512ceb6",
   "metadata": {},
   "outputs": [],
   "source": [
    "# 장르를 기반으로 필터링\n",
    "# 예) 'Comedy' 장르를 포함하는 영화 필터링하는 방법\n",
    "# 필터링된 영화 목록 출력"
   ]
  },
  {
   "cell_type": "code",
   "execution_count": null,
   "id": "b78ca415",
   "metadata": {},
   "outputs": [],
   "source": [
    "# 연도를 기반으로 필터링\n",
    "# 예) 영화 제목에서 '(1995)'를 포함하는 영화 필터링 방법\n",
    "# 백슬래시(\\\\)를 사용하여 괄호를 이스케이프 처리\n",
    "# 필터링된 영화 목록 출력"
   ]
  },
  {
   "cell_type": "code",
   "execution_count": null,
   "id": "d9c00108",
   "metadata": {},
   "outputs": [],
   "source": [
    "# 영화 목록 ID 생성\n",
    "# ratings 데이터프레임에서 'movieId' 열에 있는 고유한 영화 ID 목록 추출"
   ]
  },
  {
   "cell_type": "code",
   "execution_count": null,
   "id": "9e883593",
   "metadata": {},
   "outputs": [],
   "source": [
    "# rated_movie_ids 목록에 있는 영화 ID를 가진 영화만 선택"
   ]
  },
  {
   "cell_type": "markdown",
   "id": "95585a20-554e-42c3-b92f-9560202f77e6",
   "metadata": {},
   "source": [
    "### 장르와 연도를 기반으로 영화를 추천하는 함수"
   ]
  },
  {
   "cell_type": "code",
   "execution_count": null,
   "id": "bde97ee9",
   "metadata": {},
   "outputs": [],
   "source": [
    "def recommend_movies(movies, ratings, preferred_genre=None, year=None):\n",
    "    # 이는 원본 데이터를 변경하지 않고, 필터링 작업을 수행하기 위해 df 복사\n",
    "    # 장르를 기반으로 필터링. na=False : 결측치가 있는 데이터를 제외하고 필터링\n",
    "    # 연도를 기반으로 필터링. na=False : 결측치가 있는 데이터를 제외하고 필터링\n",
    "    # 평점 정보를 가진 영화만을 최종적으로 선택\n",
    "    # ratings 데이터프레임에서 고유한 영화 ID를 추출\n",
    "    # filtered_movies 데이터프레임에서 rated_movie_ids에 포함된 영화 ID만 선택"
   ]
  },
  {
   "cell_type": "code",
   "execution_count": null,
   "id": "d2cd4340",
   "metadata": {},
   "outputs": [],
   "source": [
    "# 영화 데이터프레임에서 모든 장르를 추출하여 정렬된 장르 list 생성\n",
    "# 영화 데이터프레임의 'genres' 열에서 각 장르를 분리하고, 고유한 장르를 집합(set)으로 만든 후 리스트로 변환"
   ]
  },
  {
   "cell_type": "code",
   "execution_count": null,
   "id": "7c489f4a",
   "metadata": {},
   "outputs": [],
   "source": [
    "# 사용자 입력 받기"
   ]
  },
  {
   "cell_type": "code",
   "execution_count": null,
   "id": "93f758ce",
   "metadata": {},
   "outputs": [],
   "source": [
    "# year 입력이 숫자인지 확인하고, 숫자라면 int로 변환"
   ]
  },
  {
   "cell_type": "code",
   "execution_count": null,
   "id": "6ac9e873",
   "metadata": {},
   "outputs": [],
   "source": [
    "# 사용자가 선호하는 장르와 연도를 기반으로 영화 추천 받기\n",
    "# 추천된 영화 출력"
   ]
  },
  {
   "cell_type": "code",
   "execution_count": null,
   "id": "6885e584",
   "metadata": {},
   "outputs": [],
   "source": []
  }
 ],
 "metadata": {
  "kernelspec": {
   "display_name": "Python 3 (ipykernel)",
   "language": "python",
   "name": "python3"
  },
  "language_info": {
   "codemirror_mode": {
    "name": "ipython",
    "version": 3
   },
   "file_extension": ".py",
   "mimetype": "text/x-python",
   "name": "python",
   "nbconvert_exporter": "python",
   "pygments_lexer": "ipython3",
   "version": "3.9.21"
  }
 },
 "nbformat": 4,
 "nbformat_minor": 5
}
