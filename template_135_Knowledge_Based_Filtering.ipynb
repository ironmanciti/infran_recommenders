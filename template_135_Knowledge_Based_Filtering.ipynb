{
 "cells": [
  {
   "cell_type": "markdown",
   "id": "64350231-cd92-4817-9d92-7e2c8255e2d1",
   "metadata": {},
   "source": [
    "# Knowledge Based Filtering\n",
    "\n",
    "지식 기반 필터링(Knowledge-based Filtering)\"은 사용자가 제공한 명시적인 요구 사항을 바탕으로 아이템을 추천하는 시스템입니다. 이 방법은 사용자의 과거 행동이나 명확한 선호도가 부족할 때 유용하며, 사용자가 특정 요구 사항을 입력함으로써 추천을 받게 됩니다.\n",
    "\n",
    "예를 들어, 영화 추천 시스템에서 사용자가 선호하는 장르, 감독, 배우, 또는 영화의 특정 기능(예: 상영 시간, 연도 등)에 대한 선호도를 입력하면, 시스템은 이 정보를 기반으로 영화를 필터링하고 추천합니다.\n",
    "\n",
    "지식 기반 필터링의 예제 코드를 작성하기 전에, 우리는 몇 가지 가정을 해야 합니다. 예를 들어, 우리에게는 영화에 대한 정보가 담긴 movies 데이터프레임과 사용자가 요구하는 조건을 충족하는 영화를 추천하는 함수가 필요합니다."
   ]
  },
  {
   "cell_type": "markdown",
   "id": "95585a20-554e-42c3-b92f-9560202f77e6",
   "metadata": {},
   "source": [
    "### 장르와 연도를 기반으로 영화를 추천하는 함수"
   ]
  }
 ],
 "metadata": {
  "kernelspec": {
   "display_name": "Python 3 (ipykernel)",
   "language": "python",
   "name": "python3"
  },
  "language_info": {
   "codemirror_mode": {
    "name": "ipython",
    "version": 3
   },
   "file_extension": ".py",
   "mimetype": "text/x-python",
   "name": "python",
   "nbconvert_exporter": "python",
   "pygments_lexer": "ipython3",
   "version": "3.9.16"
  }
 },
 "nbformat": 4,
 "nbformat_minor": 5
}
