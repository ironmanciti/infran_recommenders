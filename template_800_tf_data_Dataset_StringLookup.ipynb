{
 "cells": [
  {
   "cell_type": "markdown",
   "id": "annoying-withdrawal",
   "metadata": {},
   "source": [
    "# tf.Dataset, batch를 활용한 loader 만들기"
   ]
  },
  {
   "cell_type": "markdown",
   "id": "single-project",
   "metadata": {},
   "source": [
    "### as_numpy_iterator"
   ]
  },
  {
   "cell_type": "markdown",
   "id": "supreme-alloy",
   "metadata": {},
   "source": [
    "### take"
   ]
  },
  {
   "cell_type": "markdown",
   "id": "based-motion",
   "metadata": {},
   "source": [
    "### filter"
   ]
  },
  {
   "cell_type": "markdown",
   "id": "considerable-gardening",
   "metadata": {},
   "source": [
    "### map\n",
    "\n",
    "- Dataset 전체에 함수를 맵핑합니다."
   ]
  },
  {
   "cell_type": "markdown",
   "id": "distinguished-nirvana",
   "metadata": {},
   "source": [
    "### shuffle\n",
    "- 데이터세트는 buffer_size 요소로 버퍼를 채운 다음이 버퍼에서 요소를 무작위로 샘플링하여 선택한 요소를 새 요소로 바꿉니다.\n",
    "\n",
    "- 완벽한 셔플 링을 위해서는 데이터 세트의 전체 크기보다 크거나 같은 버퍼 크기가 필요합니다.\n",
    "\n",
    "- 예를 들어, 데이터 집합에 10,000 개의 element가 있지만 buffer_size가 1,000으로 설정된 경우 셔플은 처음에 버퍼의 처음 1,000 개 element 중 임의의 element 만 선택합니다.\n",
    "\n",
    "- element가 선택되면 버퍼의 공간이 다음 element (즉, 1,001-st)로 대체되어 1,000 element 버퍼를 유지합니다."
   ]
  },
  {
   "cell_type": "markdown",
   "id": "prime-mailman",
   "metadata": {},
   "source": [
    "- 위 모든 것을 한 줄로 결합"
   ]
  },
  {
   "cell_type": "markdown",
   "id": "stuck-stanley",
   "metadata": {},
   "source": [
    "### train, test dataset 생성\n",
    "- train : test = 8 : 2"
   ]
  },
  {
   "cell_type": "markdown",
   "id": "848a4f26-f6a9-4a9a-ab89-4e0caf7da992",
   "metadata": {},
   "source": [
    "## StringLookup \n",
    "- 문자열을 정수 index로 mapping 하여 vocabulary 사전 작성"
   ]
  },
  {
   "cell_type": "markdown",
   "id": "3b6b76c1-60e1-4e34-af28-cd872bbffc75",
   "metadata": {},
   "source": [
    "## Embedding Layer"
   ]
  }
 ],
 "metadata": {
  "kernelspec": {
   "display_name": "Python 3 (ipykernel)",
   "language": "python",
   "name": "python3"
  },
  "language_info": {
   "codemirror_mode": {
    "name": "ipython",
    "version": 3
   },
   "file_extension": ".py",
   "mimetype": "text/x-python",
   "name": "python",
   "nbconvert_exporter": "python",
   "pygments_lexer": "ipython3",
   "version": "3.9.16"
  }
 },
 "nbformat": 4,
 "nbformat_minor": 5
}
