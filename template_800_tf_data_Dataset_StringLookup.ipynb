{
 "cells": [
  {
   "cell_type": "markdown",
   "id": "annoying-withdrawal",
   "metadata": {
    "id": "annoying-withdrawal"
   },
   "source": [
    "# tf.Dataset, batch를 활용한 loader 만들기"
   ]
  },
  {
   "cell_type": "code",
   "execution_count": null,
   "id": "256fa5eb",
   "metadata": {},
   "outputs": [],
   "source": [
    "# 일일 판매 데이터를 리스트로 정의합니다.\n",
    "# from_tensor_slices 메서드는 리스트나 배열 같은 데이터를 받아 Dataset 객체를 생성합니다."
   ]
  },
  {
   "cell_type": "code",
   "execution_count": null,
   "id": "0d1445e1",
   "metadata": {},
   "outputs": [],
   "source": [
    "# Dataset 객체의 각 요소를 순회하며 출력합니다."
   ]
  },
  {
   "cell_type": "markdown",
   "id": "single-project",
   "metadata": {
    "id": "single-project"
   },
   "source": [
    "### as_numpy_iterator"
   ]
  },
  {
   "cell_type": "code",
   "execution_count": null,
   "id": "e151c41c",
   "metadata": {},
   "outputs": [],
   "source": [
    "# as_numpy_iterator() 메서드를 사용하여 Dataset의 요소를 numpy 배열 형태로 변환하여 순회합니다."
   ]
  },
  {
   "cell_type": "markdown",
   "id": "supreme-alloy",
   "metadata": {
    "id": "supreme-alloy"
   },
   "source": [
    "### take"
   ]
  },
  {
   "cell_type": "code",
   "execution_count": null,
   "id": "5ec254b6",
   "metadata": {},
   "outputs": [],
   "source": [
    "# take() 메서드를 사용하여 Dataset에서 지정된 개수의 element를 가져옵니다."
   ]
  },
  {
   "cell_type": "markdown",
   "id": "based-motion",
   "metadata": {
    "id": "based-motion"
   },
   "source": [
    "### filter"
   ]
  },
  {
   "cell_type": "code",
   "execution_count": null,
   "id": "0ab6bb9b",
   "metadata": {},
   "outputs": [],
   "source": [
    "# TensorFlow Dataset 객체를 필터링합니다.\n",
    "# filter() 메서드를 사용하여 데이터셋에서 0보다 큰 요소만을 선택합니다."
   ]
  },
  {
   "cell_type": "markdown",
   "id": "considerable-gardening",
   "metadata": {
    "id": "considerable-gardening"
   },
   "source": [
    "### map\n",
    "\n",
    "- Dataset 전체에 함수를 맵핑합니다."
   ]
  },
  {
   "cell_type": "code",
   "execution_count": null,
   "id": "f191b9fc",
   "metadata": {},
   "outputs": [],
   "source": [
    "# map() 메서드를 사용하여 데이터셋의 각 요소를 2배로 증가시킵니다."
   ]
  },
  {
   "cell_type": "markdown",
   "id": "distinguished-nirvana",
   "metadata": {
    "id": "distinguished-nirvana"
   },
   "source": [
    "### shuffle\n",
    "- 데이터세트는 buffer_size 요소로 버퍼를 채운 다음이 버퍼에서 요소를 무작위로 샘플링하여 선택한 요소를 새 요소로 바꿉니다.\n",
    "\n",
    "- 완벽한 셔플 링을 위해서는 데이터 세트의 전체 크기보다 크거나 같은 버퍼 크기가 필요합니다.\n",
    "\n",
    "- 예를 들어, 데이터 집합에 10,000 개의 element가 있지만 buffer_size가 1,000으로 설정된 경우 셔플은 처음에 버퍼의 처음 1,000 개 element 중 임의의 element 만 선택합니다.\n",
    "\n",
    "- element가 선택되면 버퍼의 공간이 다음 element (즉, 1,001-st)로 대체되어 1,000 element 버퍼를 유지합니다."
   ]
  },
  {
   "cell_type": "code",
   "execution_count": null,
   "id": "3195e0fc",
   "metadata": {},
   "outputs": [],
   "source": [
    "# shuffle() 메서드를 사용하여 데이터셋의 순서를 무작위로 섞어 데이터의 순서에 의한 편향을 방지합니다."
   ]
  },
  {
   "cell_type": "code",
   "execution_count": null,
   "id": "4bc8069f",
   "metadata": {},
   "outputs": [],
   "source": [
    "# batch() 메서드를 사용하여 각 배치의 크기를 2로 설정합니다."
   ]
  },
  {
   "cell_type": "code",
   "execution_count": null,
   "id": "9a675265",
   "metadata": {},
   "outputs": [],
   "source": [
    "# tf_dataset의 데이터를 배치 크기 3으로 묶어서 출력"
   ]
  },
  {
   "cell_type": "code",
   "execution_count": null,
   "id": "63923789",
   "metadata": {},
   "outputs": [],
   "source": [
    "# tf_dataset의 데이터를 배치 크기 4으로 묶어서 출력"
   ]
  },
  {
   "cell_type": "code",
   "execution_count": null,
   "id": "5ac42b67",
   "metadata": {},
   "outputs": [],
   "source": [
    "# tf_dataset의 데이터를 배치 크기 4로 묶어서 출력\n",
    "# drop_remainder=True로 설정하여 마지막 배치가 배치 크기보다 작으면 해당 배치를 버림"
   ]
  },
  {
   "cell_type": "markdown",
   "id": "prime-mailman",
   "metadata": {
    "id": "prime-mailman"
   },
   "source": [
    "- 위 모든 것을 한 줄로 결합"
   ]
  },
  {
   "cell_type": "code",
   "execution_count": null,
   "id": "ac477c98",
   "metadata": {},
   "outputs": [],
   "source": [
    "# 일일 판매 데이터를 리스트로 정의합니다.\n",
    "# TensorFlow의 Dataset 객체를 생성합니다.\n",
    "# 데이터셋을 필터링하여 0보다 큰 값만 유지합니다.\n",
    "# 필터링된 데이터의 각 요소에 함수를 적용하여 값을 2배로 합니다.\n",
    "# 데이터셋의 순서를 무작위로 섞습니다. 여기서는 버퍼 크기를 3으로 설정합니다.\n",
    "# 데이터셋을 배치로 나눕니다. 각 배치는 4개의 요소를 포함하며, 마지막에 남는 요소는 버립니다."
   ]
  },
  {
   "cell_type": "markdown",
   "id": "stuck-stanley",
   "metadata": {
    "id": "stuck-stanley"
   },
   "source": [
    "### train, test dataset 생성\n",
    "- train : test = 8 : 2"
   ]
  },
  {
   "cell_type": "code",
   "execution_count": null,
   "id": "4f0092af",
   "metadata": {},
   "outputs": [],
   "source": [
    "# 연속된 숫자(0부터 99까지)로 이루어진 리스트를 생성합니다.\n",
    "# from_tensor_slices 메서드를 사용하여 Dataset 객체를 생성합니다.\n",
    "# 생성된 Dataset의 전체 크기를 계산합니다.\n",
    "# 전체 데이터셋의 80%를 훈련 데이터셋 크기로 설정합니다.\n",
    "# 처음부터 train_size 만큼의 데이터를 훈련 데이터셋으로 가져옵니다.\n",
    "# train_size 이후의 데이터를 테스트 데이터셋으로 설정합니다.\n",
    "# 훈련 데이터셋과 테스트 데이터셋의 길이를 출력하여 확인합니다."
   ]
  },
  {
   "cell_type": "markdown",
   "id": "848a4f26-f6a9-4a9a-ab89-4e0caf7da992",
   "metadata": {
    "id": "848a4f26-f6a9-4a9a-ab89-4e0caf7da992"
   },
   "source": [
    "## StringLookup\n",
    "- 문자열을 정수 index로 mapping 하여 vocabulary 사전 작성"
   ]
  },
  {
   "cell_type": "code",
   "execution_count": null,
   "id": "9a8eb356",
   "metadata": {},
   "outputs": [],
   "source": [
    " # 어휘 사전으로 사용될 리스트\n",
    "# 어휘 사전을 이용해 정수로 변환할 예제 데이터\n",
    "# StringLookup 레이어를 생성하고 어휘(vocabulary)를 설정합니다. mask_token=None은 마스킹을 사용하지 않겠다는 의미입니다."
   ]
  },
  {
   "cell_type": "code",
   "execution_count": null,
   "id": "f8c71005",
   "metadata": {},
   "outputs": [],
   "source": [
    "# StringLookup 레이어를 사용하여 데이터 리스트에서 각 문자열을 해당하는 정수 인덱스로 변환합니다.\n",
    "# 변환된 정수 인덱스를 출력합니다.\n",
    "# StringLookup 레이어에 설정된 어휘 사전을 조회합니다.\n",
    "# 조회한 어휘 사전을 출력합니다."
   ]
  },
  {
   "cell_type": "markdown",
   "id": "3b6b76c1-60e1-4e34-af28-cd872bbffc75",
   "metadata": {
    "id": "3b6b76c1-60e1-4e34-af28-cd872bbffc75"
   },
   "source": [
    "## Embedding Layer"
   ]
  },
  {
   "cell_type": "code",
   "execution_count": null,
   "id": "97f16191",
   "metadata": {},
   "outputs": [],
   "source": [
    "# Embedding 레이어 설정\n",
    "# 여기서는 최대 어휘 크기를 10000으로, 임베딩 벡터의 차원을 32로 설정합니다.\n",
    "# 간단한 모델 생성 및 Embedding 레이어 추가"
   ]
  },
  {
   "cell_type": "code",
   "execution_count": null,
   "id": "2bb31798",
   "metadata": {},
   "outputs": [],
   "source": [
    "# 예제 데이터 - 일반적으로 여기서는 각 정수가 어휘 사전의 단어를 나타냅니다.\n",
    "# 예를 들어, 5는 어휘 사전의 6번째 단어를 의미합니다(인덱싱은 0부터 시작).\n",
    "# 모델을 통해 입력 데이터를 임베딩 벡터로 변환\n",
    "# 임베딩 결과 출력\n",
    "# print(output_data)"
   ]
  },
  {
   "cell_type": "code",
   "execution_count": null,
   "id": "b1e63edb",
   "metadata": {},
   "outputs": [],
   "source": [
    "# 어휘 사전을 생성합니다. 이는 나중에 텍스트 데이터를 숫자로 매핑하는 데 사용됩니다.\n",
    "# 예제 텍스트 데이터를 정의합니다.\n",
    "# StringLookup 레이어를 생성합니다. 이 레이어는 텍스트를 정수 인덱스로 변환합니다.\n",
    "# mask_token=None은 마스크 토큰을 사용하지 않겠다는 의미이고, output_mode='int'는 출력을 정수 인덱스로 설정합니다.\n",
    "# Embedding 레이어를 설정합니다.\n",
    "# input_dim은 입력 차원으로 어휘 사전의 크기에 1을 더한 값입니다. 이 1은 StringLookup 레이어가 사용하는 패딩 인덱스 0을 위한 것입니다.\n",
    "# output_dim은 출력 차원으로, 여기서는 임베딩 벡터의 크기를 8로 설정했습니다.\n",
    "# Sequential 모델을 생성하고, 위에서 정의한 StringLookup 레이어와 Embedding 레이어를 추가합니다.\n",
    "# 텍스트 데이터를 상수 텐서로 변환합니다.\n",
    "# 모델을 사용하여 텍스트 데이터를 정수 인덱스로 변환한 후 해당 인덱스에 대응하는 임베딩 벡터를 얻습니다.\n",
    "# 모델 구조를 요약하여 출력합니다."
   ]
  },
  {
   "cell_type": "code",
   "execution_count": null,
   "id": "5a751949",
   "metadata": {},
   "outputs": [],
   "source": [
    "# 임베딩된 데이터의 형태를 출력\n",
    "# 임베딩된 데이터를 넘파이 배열로 변환하여 출력"
   ]
  },
  {
   "cell_type": "code",
   "execution_count": null,
   "id": "7706a3bb",
   "metadata": {},
   "outputs": [],
   "source": []
  }
 ],
 "metadata": {
  "colab": {
   "provenance": []
  },
  "kernelspec": {
   "display_name": "Python 3 (ipykernel)",
   "language": "python",
   "name": "python3"
  },
  "language_info": {
   "codemirror_mode": {
    "name": "ipython",
    "version": 3
   },
   "file_extension": ".py",
   "mimetype": "text/x-python",
   "name": "python",
   "nbconvert_exporter": "python",
   "pygments_lexer": "ipython3",
   "version": "3.9.16"
  }
 },
 "nbformat": 4,
 "nbformat_minor": 5
}
