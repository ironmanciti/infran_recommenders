{
 "cells": [
  {
   "cell_type": "markdown",
   "id": "d2b583c6-cf60-4861-9869-657d3a43b704",
   "metadata": {},
   "source": [
    "# SGD 경사하강법을 이용한 MF 행렬 작성\n",
    "\n",
    "### MF 방식의 원리\n",
    "\n",
    "<img src=\"https://i.imgur.com/90NB5Y1.png\" width=400 />\n",
    "\n",
    "$$R \\approx P\\times Q^T=\\hat{R}$$\n",
    "\n",
    "R: Rating matrix, P: User latent matrix, Q: Item latent matrix, k: latent factor(잠재 요인), $\\hat{R}$: 예측값\n",
    "\n",
    "- R 행렬의 각 element는 해당 사용자 아이템에 대한 평점. 이 행렬은 사용자가 실제로 평가한 아이템에 대한 평점만을 가지고 있으므로 많은 원소가 null 로 채워진 sparse matrix 이다.\n",
    "- R 행렬을 사용자 행렬 (P)와 아이템 행렬(Q)로 쪼개어 분석하는 방법이  MF  \n",
    "- $\\hat{R}$이 최대한 R에 가까운 값을 가지도록 하는 P와 Q를 구하면 그 것이 바로 추천을 위한 model이 된다.\n",
    "\n",
    "$$\\hat{r_{ij}}=b+bu_i + bd_j + \\sum_{k=1}^k{p_{ik}q_{kj}}$$\n",
    "\n",
    "$\\hat{r_{ij}}$: 사용자 i 의 아이템 j 에  대한 예측값,  \n",
    "b: 전체 평균. 일단 데이터가 주어지면 하나로 정해지는 값   \n",
    "$bu_i$: 전체 평균을 제거한 후 사용자 i의 평가 경향(사용자 i의 평균과 전체 평균의 차이)     \n",
    "$bd_j$: 전체 평균을 제거한 후 아이템 j의 평가 경향(아이템 j의 평균과 전체 평균의 차이)   \n",
    "$p_{ik}$: 행렬 P의 i 번째 사용자 vector    \n",
    "$q_{kj}$: 행렬 Q의 column j 번째 item vector"
   ]
  },
  {
   "cell_type": "code",
   "execution_count": 1,
   "id": "d0fab954-fc06-42bd-8b00-628e2ebc6ad9",
   "metadata": {},
   "outputs": [
    {
     "data": {
      "text/plain": [
       "((75000, 3), (25000, 3))"
      ]
     },
     "execution_count": 1,
     "metadata": {},
     "output_type": "execute_result"
    }
   ],
   "source": [
    "import numpy as np\n",
    "import pandas as pd\n",
    "from sklearn.model_selection import train_test_split\n",
    "\n",
    "# 평점 데이터의 컬럼 이름을 정의\n",
    "r_cols = ['user_id', 'movie_id', 'rating', 'timestamp']\n",
    "\n",
    "# 평점 데이터를 읽어옴\n",
    "ratings = pd.read_csv('data/u.rating', sep='\\t', names=r_cols, encoding='latin-1')\n",
    "\n",
    "ratings = ratings[['user_id', 'movie_id', 'rating']]\n",
    "\n",
    "ratings_train, ratings_test = train_test_split(ratings, test_size=0.25, random_state=0)\n",
    "ratings_train.shape, ratings_test.shape"
   ]
  },
  {
   "cell_type": "code",
   "execution_count": 2,
   "id": "ef3337ff-f81a-4b20-8fec-30d8b4e5f9b8",
   "metadata": {},
   "outputs": [
    {
     "name": "stdout",
     "output_type": "stream",
     "text": [
      "(943, 1628)\n"
     ]
    },
    {
     "data": {
      "text/html": [
       "<div>\n",
       "<style scoped>\n",
       "    .dataframe tbody tr th:only-of-type {\n",
       "        vertical-align: middle;\n",
       "    }\n",
       "\n",
       "    .dataframe tbody tr th {\n",
       "        vertical-align: top;\n",
       "    }\n",
       "\n",
       "    .dataframe thead th {\n",
       "        text-align: right;\n",
       "    }\n",
       "</style>\n",
       "<table border=\"1\" class=\"dataframe\">\n",
       "  <thead>\n",
       "    <tr style=\"text-align: right;\">\n",
       "      <th>movie_id</th>\n",
       "      <th>1</th>\n",
       "      <th>2</th>\n",
       "      <th>3</th>\n",
       "      <th>4</th>\n",
       "      <th>5</th>\n",
       "      <th>6</th>\n",
       "      <th>7</th>\n",
       "      <th>8</th>\n",
       "      <th>9</th>\n",
       "      <th>10</th>\n",
       "      <th>...</th>\n",
       "      <th>1668</th>\n",
       "      <th>1669</th>\n",
       "      <th>1672</th>\n",
       "      <th>1673</th>\n",
       "      <th>1674</th>\n",
       "      <th>1676</th>\n",
       "      <th>1677</th>\n",
       "      <th>1678</th>\n",
       "      <th>1681</th>\n",
       "      <th>1682</th>\n",
       "    </tr>\n",
       "    <tr>\n",
       "      <th>user_id</th>\n",
       "      <th></th>\n",
       "      <th></th>\n",
       "      <th></th>\n",
       "      <th></th>\n",
       "      <th></th>\n",
       "      <th></th>\n",
       "      <th></th>\n",
       "      <th></th>\n",
       "      <th></th>\n",
       "      <th></th>\n",
       "      <th></th>\n",
       "      <th></th>\n",
       "      <th></th>\n",
       "      <th></th>\n",
       "      <th></th>\n",
       "      <th></th>\n",
       "      <th></th>\n",
       "      <th></th>\n",
       "      <th></th>\n",
       "      <th></th>\n",
       "      <th></th>\n",
       "    </tr>\n",
       "  </thead>\n",
       "  <tbody>\n",
       "    <tr>\n",
       "      <th>1</th>\n",
       "      <td>5.0</td>\n",
       "      <td>3.0</td>\n",
       "      <td>4.0</td>\n",
       "      <td>3.0</td>\n",
       "      <td>0.0</td>\n",
       "      <td>5.0</td>\n",
       "      <td>0.0</td>\n",
       "      <td>1.0</td>\n",
       "      <td>0.0</td>\n",
       "      <td>3.0</td>\n",
       "      <td>...</td>\n",
       "      <td>0.0</td>\n",
       "      <td>0.0</td>\n",
       "      <td>0.0</td>\n",
       "      <td>0.0</td>\n",
       "      <td>0.0</td>\n",
       "      <td>0.0</td>\n",
       "      <td>0.0</td>\n",
       "      <td>0.0</td>\n",
       "      <td>0.0</td>\n",
       "      <td>0.0</td>\n",
       "    </tr>\n",
       "    <tr>\n",
       "      <th>2</th>\n",
       "      <td>0.0</td>\n",
       "      <td>0.0</td>\n",
       "      <td>0.0</td>\n",
       "      <td>0.0</td>\n",
       "      <td>0.0</td>\n",
       "      <td>0.0</td>\n",
       "      <td>0.0</td>\n",
       "      <td>0.0</td>\n",
       "      <td>0.0</td>\n",
       "      <td>2.0</td>\n",
       "      <td>...</td>\n",
       "      <td>0.0</td>\n",
       "      <td>0.0</td>\n",
       "      <td>0.0</td>\n",
       "      <td>0.0</td>\n",
       "      <td>0.0</td>\n",
       "      <td>0.0</td>\n",
       "      <td>0.0</td>\n",
       "      <td>0.0</td>\n",
       "      <td>0.0</td>\n",
       "      <td>0.0</td>\n",
       "    </tr>\n",
       "    <tr>\n",
       "      <th>3</th>\n",
       "      <td>0.0</td>\n",
       "      <td>0.0</td>\n",
       "      <td>0.0</td>\n",
       "      <td>0.0</td>\n",
       "      <td>0.0</td>\n",
       "      <td>0.0</td>\n",
       "      <td>0.0</td>\n",
       "      <td>0.0</td>\n",
       "      <td>0.0</td>\n",
       "      <td>0.0</td>\n",
       "      <td>...</td>\n",
       "      <td>0.0</td>\n",
       "      <td>0.0</td>\n",
       "      <td>0.0</td>\n",
       "      <td>0.0</td>\n",
       "      <td>0.0</td>\n",
       "      <td>0.0</td>\n",
       "      <td>0.0</td>\n",
       "      <td>0.0</td>\n",
       "      <td>0.0</td>\n",
       "      <td>0.0</td>\n",
       "    </tr>\n",
       "    <tr>\n",
       "      <th>4</th>\n",
       "      <td>0.0</td>\n",
       "      <td>0.0</td>\n",
       "      <td>0.0</td>\n",
       "      <td>0.0</td>\n",
       "      <td>0.0</td>\n",
       "      <td>0.0</td>\n",
       "      <td>0.0</td>\n",
       "      <td>0.0</td>\n",
       "      <td>0.0</td>\n",
       "      <td>0.0</td>\n",
       "      <td>...</td>\n",
       "      <td>0.0</td>\n",
       "      <td>0.0</td>\n",
       "      <td>0.0</td>\n",
       "      <td>0.0</td>\n",
       "      <td>0.0</td>\n",
       "      <td>0.0</td>\n",
       "      <td>0.0</td>\n",
       "      <td>0.0</td>\n",
       "      <td>0.0</td>\n",
       "      <td>0.0</td>\n",
       "    </tr>\n",
       "    <tr>\n",
       "      <th>5</th>\n",
       "      <td>4.0</td>\n",
       "      <td>3.0</td>\n",
       "      <td>0.0</td>\n",
       "      <td>0.0</td>\n",
       "      <td>0.0</td>\n",
       "      <td>0.0</td>\n",
       "      <td>0.0</td>\n",
       "      <td>0.0</td>\n",
       "      <td>0.0</td>\n",
       "      <td>0.0</td>\n",
       "      <td>...</td>\n",
       "      <td>0.0</td>\n",
       "      <td>0.0</td>\n",
       "      <td>0.0</td>\n",
       "      <td>0.0</td>\n",
       "      <td>0.0</td>\n",
       "      <td>0.0</td>\n",
       "      <td>0.0</td>\n",
       "      <td>0.0</td>\n",
       "      <td>0.0</td>\n",
       "      <td>0.0</td>\n",
       "    </tr>\n",
       "  </tbody>\n",
       "</table>\n",
       "<p>5 rows × 1628 columns</p>\n",
       "</div>"
      ],
      "text/plain": [
       "movie_id  1     2     3     4     5     6     7     8     9     10    ...  \\\n",
       "user_id                                                               ...   \n",
       "1          5.0   3.0   4.0   3.0   0.0   5.0   0.0   1.0   0.0   3.0  ...   \n",
       "2          0.0   0.0   0.0   0.0   0.0   0.0   0.0   0.0   0.0   2.0  ...   \n",
       "3          0.0   0.0   0.0   0.0   0.0   0.0   0.0   0.0   0.0   0.0  ...   \n",
       "4          0.0   0.0   0.0   0.0   0.0   0.0   0.0   0.0   0.0   0.0  ...   \n",
       "5          4.0   3.0   0.0   0.0   0.0   0.0   0.0   0.0   0.0   0.0  ...   \n",
       "\n",
       "movie_id  1668  1669  1672  1673  1674  1676  1677  1678  1681  1682  \n",
       "user_id                                                               \n",
       "1          0.0   0.0   0.0   0.0   0.0   0.0   0.0   0.0   0.0   0.0  \n",
       "2          0.0   0.0   0.0   0.0   0.0   0.0   0.0   0.0   0.0   0.0  \n",
       "3          0.0   0.0   0.0   0.0   0.0   0.0   0.0   0.0   0.0   0.0  \n",
       "4          0.0   0.0   0.0   0.0   0.0   0.0   0.0   0.0   0.0   0.0  \n",
       "5          0.0   0.0   0.0   0.0   0.0   0.0   0.0   0.0   0.0   0.0  \n",
       "\n",
       "[5 rows x 1628 columns]"
      ]
     },
     "execution_count": 2,
     "metadata": {},
     "output_type": "execute_result"
    }
   ],
   "source": [
    "# 사용자-아이템 평점 매트릭스를 생성\n",
    "# fillna(0): 평점이 없는 경우 0으로 채워서 행렬 완성\n",
    "R_temp_train = ratings_train.pivot(index='user_id', columns='movie_id', values='rating').fillna(0)\n",
    "\n",
    "print(R_temp_train.shape)\n",
    "R_temp_train.head()"
   ]
  },
  {
   "cell_type": "code",
   "execution_count": 3,
   "id": "c2beb044-16fc-4c05-8bf7-77242c5ffe09",
   "metadata": {},
   "outputs": [
    {
     "data": {
      "text/plain": [
       "(array([  0,   0,   0, ..., 942, 942, 942], dtype=int64),\n",
       " array([   0,    1,    2, ..., 1181, 1221, 1322], dtype=int64))"
      ]
     },
     "execution_count": 3,
     "metadata": {},
     "output_type": "execute_result"
    }
   ],
   "source": [
    "#첫 번째 배열 - 행 인덱스를 나타냅니다.\n",
    "#두 번째 배열 - 열 인덱스를 나타냅니다.\n",
    "R_temp_train.values.nonzero()"
   ]
  },
  {
   "cell_type": "code",
   "execution_count": 4,
   "id": "41376cb7-6ff4-4521-96b3-0a252607b167",
   "metadata": {},
   "outputs": [
    {
     "data": {
      "text/plain": [
       "array([5., 3., 4., ..., 3., 3., 3.])"
      ]
     },
     "execution_count": 4,
     "metadata": {},
     "output_type": "execute_result"
    }
   ],
   "source": [
    "# 평점 행렬 R_temp_train에서 0이 아닌 값을 모두 가져옴\n",
    "R_temp_train.values[R_temp_train.values.nonzero()]"
   ]
  },
  {
   "cell_type": "code",
   "execution_count": 57,
   "id": "594cb119-5a3d-45a3-b8fa-3086b3ce49aa",
   "metadata": {},
   "outputs": [],
   "source": [
    "class MF():\n",
    "    def __init__(self, ratings, K, alpha, beta, iterations):\n",
    "        # 평점 행렬 초기화\n",
    "        self.R = np.array(ratings)\n",
    "        self.num_users, self.num_items = np.shape(self.R)  # 사용자 수와 아이템 수 계산\n",
    "        self.K = K  # 잠재 요인 개수\n",
    "        self.alpha = alpha  # 학습률\n",
    "        self.beta = beta  # 정규화 파라미터\n",
    "        self.iterations = iterations  # 학습 반복 횟수\n",
    "\n",
    "    def rmse(self):\n",
    "        # RMSE(평균 제곱근 오차)를 계산하는 함수\n",
    "        xs, ys = self.R.nonzero()  # 평점이 매겨진 위치의 인덱스\n",
    "        self.predictions = []\n",
    "        self.errors = []\n",
    "        for x, y in zip(xs, ys):\n",
    "            prediction = self.get_prediction(x, y)  # 예측 값 계산\n",
    "            self.predictions.append(prediction)\n",
    "            self.errors.append(self.R[x, y] - prediction)  # 실제 값과의 차이(오차) 계산\n",
    "        self.predictions = np.array(self.predictions)\n",
    "        self.errors = np.array(self.errors)\n",
    "        return np.sqrt(np.mean(self.errors ** 2))  # RMSE 반환\n",
    "\n",
    "    def get_prediction(self, i, j):\n",
    "        # 특정 사용자와 아이템에 대한 예측 평점 계산\n",
    "        prediction = self.b + self.b_u[i] + self.b_d[j] + self.P[i, :].dot(self.Q[j,:].T)\n",
    "        return prediction\n",
    "\n",
    "    # 학습을 통해 P, Q 행렬과 편향을 최적화하는 함수\n",
    "    def train(self):\n",
    "        #초기 random 값의 표준편차를 1/K로 작게 설정하면 학습이 안정적으로 진행\n",
    "        self.P = np.random.normal(scale=1./self.K, size=(self.num_users, self.K))  # 사용자 잠재 요인 행렬 초기화 \n",
    "        self.Q = np.random.normal(scale=1./self.K, size=(self.num_items, self.K))  # 아이템 잠재 요인 행렬 초기화 \n",
    "\n",
    "        self.b_u = np.zeros(self.num_users)  # 사용자 편향 초기화\n",
    "        self.b_d = np.zeros(self.num_items)  # 아이템 편향 초기화\n",
    "        self.b = np.mean(self.R[self.R.nonzero()])  # 전체 편향 초기화 (평점의 평균 값)\n",
    "\n",
    "        rows, columns = self.R.nonzero()  # 평점이 있는 위치\n",
    "        self.samples = [(i, j, self.R[i, j]) for i, j in zip(rows, columns)]  # 학습 샘플 생성\n",
    "\n",
    "        training_process = []\n",
    "        for i in range(self.iterations):\n",
    "            np.random.shuffle(self.samples)  # 샘플 순서 랜덤화\n",
    "            self.sgd()  # 확률적 경사 하강법으로 학습\n",
    "            rmse = self.rmse()  # 현재 RMSE 계산\n",
    "            training_process.append((i+1, rmse))  # 학습 과정 저장\n",
    "            if (i+1) % 10 == 0:\n",
    "                print(f\"Iteration: {i+1}, Train RMSE = {rmse:.4f}\")\n",
    "        return training_process\n",
    "\n",
    "    def sgd(self):\n",
    "        # 확률적 경사 하강법(Stochastic Gradient Descent)으로 P, Q, 편향 업데이트\n",
    "        for i, j, r in self.samples:\n",
    "            prediction = self.get_prediction(i, j)  # 현재 예측 값\n",
    "            e = (r - prediction)  # 실제 값과 예측 값의 오차\n",
    "\n",
    "            # 사용자 및 아이템 편향 업데이트\n",
    "            self.b_u[i] += self.alpha * (e - self.beta * self.b_u[i])\n",
    "            self.b_d[j] += self.alpha * (e - self.beta * self.b_d[j])\n",
    "\n",
    "            # 사용자 및 아이템 잠재 요인 행렬 업데이트\n",
    "            self.P[i, :] += self.alpha * (e * self.Q[j, :] - self.beta * self.P[i, :])\n",
    "            self.Q[j, :] += self.alpha * (e * self.P[i, :] - self.beta * self.Q[j, :])\n",
    "\n",
    "    def predict(self, test_data):\n",
    "        # 테스트 데이터에 대해 예측 평점 계산\n",
    "        predictions = []\n",
    "        for _, row in test_data.iterrows():\n",
    "            user, item = int(row['user_id']), int(row['movie_id'])\n",
    "            if user < self.num_users and item < self.num_items:  # 유효한 인덱스인지 확인\n",
    "                prediction = self.get_prediction(user, item)\n",
    "                predictions.append(prediction)\n",
    "            else:\n",
    "                predictions.append(np.nan)  # 유효하지 않은 인덱스는 NaN으로 처리\n",
    "        return np.array(predictions)"
   ]
  },
  {
   "cell_type": "code",
   "execution_count": 58,
   "id": "08e9d0bf-c2c1-42da-acd1-ec2e85349674",
   "metadata": {},
   "outputs": [],
   "source": [
    "mf = MF(R_temp_train, K=30, alpha=0.005, beta=0.3, iterations=100)"
   ]
  },
  {
   "cell_type": "code",
   "execution_count": 59,
   "id": "1ed4a135-e93d-4330-9469-d2bb11a699fc",
   "metadata": {},
   "outputs": [
    {
     "name": "stdout",
     "output_type": "stream",
     "text": [
      "Iteration: 10, Train RMSE = 0.9360\n",
      "Iteration: 20, Train RMSE = 0.9288\n",
      "Iteration: 30, Train RMSE = 0.9265\n",
      "Iteration: 40, Train RMSE = 0.9254\n",
      "Iteration: 50, Train RMSE = 0.9249\n",
      "Iteration: 60, Train RMSE = 0.9243\n",
      "Iteration: 70, Train RMSE = 0.9239\n",
      "Iteration: 80, Train RMSE = 0.9239\n",
      "Iteration: 90, Train RMSE = 0.9237\n",
      "Iteration: 100, Train RMSE = 0.9235\n"
     ]
    }
   ],
   "source": [
    "train_process = mf.train()"
   ]
  },
  {
   "cell_type": "code",
   "execution_count": 60,
   "id": "2632d917-88e4-44e4-bc46-1bdbd9d637e4",
   "metadata": {},
   "outputs": [
    {
     "data": {
      "text/plain": [
       "[<matplotlib.lines.Line2D at 0x20acffbc430>]"
      ]
     },
     "execution_count": 60,
     "metadata": {},
     "output_type": "execute_result"
    },
    {
     "data": {
      "image/png": "[encoded data removed]",
      "text/plain": [
       "<Figure size 640x480 with 1 Axes>"
      ]
     },
     "metadata": {},
     "output_type": "display_data"
    }
   ],
   "source": [
    "import matplotlib.pyplot as plt\n",
    "\n",
    "plt.plot([v for i, v in train_process])"
   ]
  },
  {
   "cell_type": "code",
   "execution_count": 61,
   "id": "7ba15390-2557-432a-b523-96fed9706e10",
   "metadata": {},
   "outputs": [
    {
     "name": "stdout",
     "output_type": "stream",
     "text": [
      "Test RMSE = 1.1905\n"
     ]
    }
   ],
   "source": [
    "# test set 의 rmse 평가\n",
    "test_data = ratings_test.copy()  # 원본 데이터 수정 방지\n",
    "test_data['prediction'] = mf.predict(test_data)\n",
    "test_data = test_data.dropna(subset=['prediction'])  # 유효한 예측만 사용\n",
    "rmse = np.sqrt(np.mean((test_data['rating'] - test_data['prediction']) ** 2))\n",
    "\n",
    "# 테스트 데이터셋에 대한 RMSE 계산\n",
    "print(f\"Test RMSE = {rmse:.4f}\")"
   ]
  },
  {
   "cell_type": "markdown",
   "id": "c357cad9-5dab-42e7-99c5-911e85e59281",
   "metadata": {},
   "source": [
    "### 특정 사용자에게 특정 영화 추천"
   ]
  },
  {
   "cell_type": "code",
   "execution_count": 67,
   "id": "edfd6513-3f64-4a91-b7c2-c9c8c3560ebc",
   "metadata": {},
   "outputs": [
    {
     "data": {
      "text/html": [
       "<div>\n",
       "<style scoped>\n",
       "    .dataframe tbody tr th:only-of-type {\n",
       "        vertical-align: middle;\n",
       "    }\n",
       "\n",
       "    .dataframe tbody tr th {\n",
       "        vertical-align: top;\n",
       "    }\n",
       "\n",
       "    .dataframe thead th {\n",
       "        text-align: right;\n",
       "    }\n",
       "</style>\n",
       "<table border=\"1\" class=\"dataframe\">\n",
       "  <thead>\n",
       "    <tr style=\"text-align: right;\">\n",
       "      <th></th>\n",
       "      <th>user_id</th>\n",
       "      <th>movie_id</th>\n",
       "      <th>rating</th>\n",
       "    </tr>\n",
       "  </thead>\n",
       "  <tbody>\n",
       "    <tr>\n",
       "      <th>3582</th>\n",
       "      <td>23</td>\n",
       "      <td>528</td>\n",
       "      <td>4</td>\n",
       "    </tr>\n",
       "    <tr>\n",
       "      <th>60498</th>\n",
       "      <td>695</td>\n",
       "      <td>242</td>\n",
       "      <td>5</td>\n",
       "    </tr>\n",
       "    <tr>\n",
       "      <th>53227</th>\n",
       "      <td>774</td>\n",
       "      <td>28</td>\n",
       "      <td>3</td>\n",
       "    </tr>\n",
       "    <tr>\n",
       "      <th>21333</th>\n",
       "      <td>417</td>\n",
       "      <td>550</td>\n",
       "      <td>3</td>\n",
       "    </tr>\n",
       "    <tr>\n",
       "      <th>3885</th>\n",
       "      <td>234</td>\n",
       "      <td>1035</td>\n",
       "      <td>3</td>\n",
       "    </tr>\n",
       "  </tbody>\n",
       "</table>\n",
       "</div>"
      ],
      "text/plain": [
       "       user_id  movie_id  rating\n",
       "3582        23       528       4\n",
       "60498      695       242       5\n",
       "53227      774        28       3\n",
       "21333      417       550       3\n",
       "3885       234      1035       3"
      ]
     },
     "execution_count": 67,
     "metadata": {},
     "output_type": "execute_result"
    }
   ],
   "source": [
    "ratings_test.head()"
   ]
  },
  {
   "cell_type": "code",
   "execution_count": 66,
   "id": "28dd18c2-28a7-4e86-841b-5da3291023cb",
   "metadata": {},
   "outputs": [
    {
     "data": {
      "text/plain": [
       "array([4.50486074, 2.76133082, 2.95696399, 2.62346506, 4.04646674])"
      ]
     },
     "execution_count": 66,
     "metadata": {},
     "output_type": "execute_result"
    }
   ],
   "source": [
    "mf.predict(ratings_test.head())"
   ]
  },
  {
   "cell_type": "code",
   "execution_count": null,
   "id": "4311fd1b-053a-4df5-9eba-5cd31cf6145c",
   "metadata": {},
   "outputs": [],
   "source": []
  },
  {
   "cell_type": "code",
   "execution_count": null,
   "id": "8a292107-c3d9-4b21-89fa-4e5e165aac2d",
   "metadata": {},
   "outputs": [],
   "source": []
  }
 ],
 "metadata": {
  "kernelspec": {
   "display_name": "Python 3 (ipykernel)",
   "language": "python",
   "name": "python3"
  },
  "language_info": {
   "codemirror_mode": {
    "name": "ipython",
    "version": 3
   },
   "file_extension": ".py",
   "mimetype": "text/x-python",
   "name": "python",
   "nbconvert_exporter": "python",
   "pygments_lexer": "ipython3",
   "version": "3.9.7"
  }
 },
 "nbformat": 4,
 "nbformat_minor": 5
}
