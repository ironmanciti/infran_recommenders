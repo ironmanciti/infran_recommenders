{
 "cells": [
  {
   "cell_type": "markdown",
   "id": "ce2297ab",
   "metadata": {},
   "source": [
    "# 100. Non-Personalized Recommendation - Best Seller 추천"
   ]
  },
  {
   "cell_type": "markdown",
   "id": "bb73314c",
   "metadata": {},
   "source": [
    "## 영화 데이터 (u.item) 파일을 DataFrame으로 읽기\n",
    "- title : 제목  \n",
    "- release data : 개봉 날짜  \n",
    "- 장르 : unknown에서 Western까지 19가지 변수 (0, 1)로 multi-hot encoding"
   ]
  },
  {
   "cell_type": "markdown",
   "id": "1cf5ca1e",
   "metadata": {},
   "source": [
    "## 사용자의 영화평점 데이터 (u.data) 파일을 DataFrame으로 읽기\n",
    "\n",
    "- 사용자-영화-평점으로 구성"
   ]
  },
  {
   "cell_type": "markdown",
   "id": "5dff337e",
   "metadata": {},
   "source": [
    "# 베스트셀러 추천 방식\n",
    "\n",
    "- 이 방식은 모든 사용자에게 가장 인기 있는 동일한 상품을 추천합니다.\n",
    "- 상품에 대한 모든 평가의 평균을 계산하고, 이 평균 점수가 높은 순서대로 상품을 추천합니다."
   ]
  },
  {
   "cell_type": "markdown",
   "id": "13ac0847",
   "metadata": {},
   "source": [
    "## 추천 시스템의 정확도 측정\n",
    "\n",
    "$$RMSE=\\sqrt{\\frac{1}{N}\\sum_{i=1}^{N}(y_i - \\hat{y_i})^2}$$\n",
    "\n",
    "RMSE는 실제 값과 예측 값 사이의 차이를 제곱하여 평균낸 값의 제곱근입니다. 이 값은 예측이 실제 값에서 얼마나 벗어났는지를 나타내는 지표로, 오차의 크기를 측정합니다. 따라서, RMSE 값이 작을수록 모델의 예측이 실제 값에 가깝다는 것을 의미하며, 모델의 성능이 더 좋다고 할 수 있습니다.\n",
    "\n",
    "## Best Seller 추천 방식의 정확도 계산"
   ]
  },
  {
   "cell_type": "markdown",
   "id": "2eb9f523",
   "metadata": {},
   "source": [
    "특정 user가 실제로 평가한 값 (y_true)과 그 영화의 평균 rating (y_pred)의 MSE 측정"
   ]
  },
  {
   "cell_type": "markdown",
   "id": "004927a9-8a66-4e50-bed4-cb0c0b74f654",
   "metadata": {},
   "source": [
    "모든 사용자에게 위와 같은 accuracy 계산을 하여 전체적인 정확도를 rmse 평균으로 계산"
   ]
  }
 ],
 "metadata": {
  "kernelspec": {
   "display_name": "Python 3 (ipykernel)",
   "language": "python",
   "name": "python3"
  },
  "language_info": {
   "codemirror_mode": {
    "name": "ipython",
    "version": 3
   },
   "file_extension": ".py",
   "mimetype": "text/x-python",
   "name": "python",
   "nbconvert_exporter": "python",
   "pygments_lexer": "ipython3",
   "version": "3.9.16"
  }
 },
 "nbformat": 4,
 "nbformat_minor": 5
}
