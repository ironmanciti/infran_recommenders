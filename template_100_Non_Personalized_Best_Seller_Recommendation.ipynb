{
 "cells": [
  {
   "cell_type": "markdown",
   "id": "ce2297ab",
   "metadata": {},
   "source": [
    "# 100. Non-Personalized Recommendation - Best Seller 추천\n",
    "\n",
    "- 모든 사람에게 가장 인기 있는 동일한 item 추천합니다.\n",
    "- 각 item에 대한 평가를 평균하여 높은 평균값 순으로 추천합니다."
   ]
  },
  {
   "cell_type": "code",
   "execution_count": null,
   "id": "b605bb26",
   "metadata": {},
   "outputs": [],
   "source": [
    "# 필요한 라이브러리 임포트\n",
    "# from sklearn.metrics import mean_squared_error  # sklearn old version\n",
    "# 경고 메시지를 무시하도록 설정\n",
    "# sklearn 라이브러리의 버전 확인"
   ]
  },
  {
   "cell_type": "markdown",
   "id": "bb73314c",
   "metadata": {},
   "source": [
    "## 영화 데이터 (u.item) 파일을 DataFrame으로 읽기\n",
    "- title : 제목  \n",
    "- release data : 개봉 날짜  \n",
    "- 장르 : unknown에서 Western까지 19가지 변수 (0, 1)로 multi-hot encoding 되어 있습니다."
   ]
  },
  {
   "cell_type": "code",
   "execution_count": null,
   "id": "435949e1",
   "metadata": {},
   "outputs": [],
   "source": [
    "# 영화 데이터의 컬럼 이름을 정의\n",
    "# 영화 데이터를 읽어옴\n",
    "# movie_id 컬럼을 인덱스로 설정\n",
    "# 처음 5개의 데이터를 출력"
   ]
  },
  {
   "cell_type": "markdown",
   "id": "1cf5ca1e",
   "metadata": {},
   "source": [
    "## 사용자의 영화평점 데이터 (u.rating) 파일을 DataFrame으로 읽기\n",
    "\n",
    "- 사용자-영화-평점으로 구성"
   ]
  },
  {
   "cell_type": "code",
   "execution_count": null,
   "id": "5111be88",
   "metadata": {},
   "outputs": [],
   "source": [
    "# 평점 데이터의 컬럼 이름을 정의\n",
    "# 평점 데이터를 읽어옴\n",
    "# user_id 컬럼을 인덱스로 설정\n",
    "# 처음 5개의 데이터를 출력"
   ]
  },
  {
   "cell_type": "markdown",
   "id": "5dff337e",
   "metadata": {},
   "source": [
    "# 베스트셀러 추천 방식\n",
    "\n",
    "- 이 방식은 모든 사용자에게 가장 인기 있는 동일한 상품을 추천합니다.\n",
    "- 상품에 대한 모든 평가의 평균을 계산하고, 이 평균 점수가 높은 순서대로 상품을 추천합니다."
   ]
  },
  {
   "cell_type": "code",
   "execution_count": null,
   "id": "3cba13f4",
   "metadata": {},
   "outputs": [],
   "source": [
    "# movie_id를 기준으로 그룹화하여 각 영화의 평균 평점을 계산"
   ]
  },
  {
   "cell_type": "code",
   "execution_count": null,
   "id": "3709650c",
   "metadata": {},
   "outputs": [],
   "source": [
    "# 각 영화별 평균 평점 계산"
   ]
  },
  {
   "cell_type": "code",
   "execution_count": null,
   "id": "aaead49e",
   "metadata": {},
   "outputs": [],
   "source": [
    "# 각 영화의 평균 평가를 내림차순으로 정렬"
   ]
  },
  {
   "cell_type": "code",
   "execution_count": null,
   "id": "9182184a",
   "metadata": {},
   "outputs": [],
   "source": [
    "# 상위 영화를 기준으로 영화 데이터 프레임에서 해당 영화들을 선택\n",
    "# 선택된 영화들의 제목을 출력"
   ]
  },
  {
   "cell_type": "markdown",
   "id": "13ac0847",
   "metadata": {},
   "source": [
    "## 추천 시스템의 정확도 측정\n",
    "\n",
    "$$RMSE=\\sqrt{\\frac{1}{N}\\sum_{i=1}^{N}(y_i - \\hat{y_i})^2}$$\n",
    "\n",
    "RMSE는 실제 값과 예측 값 사이의 차이를 제곱하여 평균낸 값의 제곱근입니다. 이 값은 예측이 실제 값에서 얼마나 벗어났는지를 나타내는 지표로, 오차의 크기를 측정합니다. 따라서, RMSE 값이 작을수록 모델의 예측이 실제 값에 가깝다는 것을 의미하며, 모델의 성능이 더 좋다고 할 수 있습니다.\n",
    "\n",
    "## Best Seller 추천 방식의 정확도 계산"
   ]
  },
  {
   "cell_type": "code",
   "execution_count": null,
   "id": "6e862192",
   "metadata": {},
   "outputs": [],
   "source": [
    "# movie id 별 평균 rating"
   ]
  },
  {
   "cell_type": "code",
   "execution_count": null,
   "id": "b68856f9",
   "metadata": {},
   "outputs": [],
   "source": [
    "# 특정 user가 특정 movie_id 에 부여한 rating"
   ]
  },
  {
   "cell_type": "markdown",
   "id": "2eb9f523",
   "metadata": {},
   "source": [
    "특정 user가 실제로 평가한 값 (y_true)과 그 영화의 평균 rating (y_pred)의 MSE 측정"
   ]
  },
  {
   "cell_type": "code",
   "execution_count": null,
   "id": "d7903408",
   "metadata": {},
   "outputs": [],
   "source": [
    "# 현재 사용자가 평가한 영화들의 실제 평점"
   ]
  },
  {
   "cell_type": "code",
   "execution_count": null,
   "id": "b0de38d1",
   "metadata": {},
   "outputs": [],
   "source": [
    "# movie_mean_rating에서 사용자가 평가한 영화들의 평균 평점을 가져옵니다."
   ]
  },
  {
   "cell_type": "code",
   "execution_count": null,
   "id": "64646d95",
   "metadata": {},
   "outputs": [],
   "source": [
    "# 실제 평점과 예측 평점의 길이가 같은지 확인합니다. 다르면 에러를 발생시킵니다."
   ]
  },
  {
   "cell_type": "code",
   "execution_count": null,
   "id": "e3e65890",
   "metadata": {},
   "outputs": [],
   "source": [
    "# 실제 평점과 예측 평점 사이의 RMSE를 계산합니다.\n",
    "# mean_squared_error(y_true, y_pred, squared=True)  # sklearn old version"
   ]
  },
  {
   "cell_type": "markdown",
   "id": "004927a9-8a66-4e50-bed4-cb0c0b74f654",
   "metadata": {},
   "source": [
    "모든 사용자에게 위와 같은 accuracy 계산을 하여 전체적인 정확도를 rmse 평균으로 계산"
   ]
  },
  {
   "cell_type": "code",
   "execution_count": null,
   "id": "1ebf2017",
   "metadata": {},
   "outputs": [],
   "source": [
    "# RMSE(Root Mean Squared Error) 값을 저장할 리스트를 초기화\n",
    "# ratings 데이터프레임의 인덱스에서 user ID를 추출하여 각 사용자별로 반복\n",
    "    # 사용자가 평가한 영화들의 평균 평점\n",
    "    # 실제 평점과 예측 평점의 길이가 같은지 확인\n",
    "    # 실제 평점과 예측 평점 사이의 RMSE를 계산\n",
    "    # loss = mean_squared_error(y_true, y_pred, squared=False)    # sklearn old version\n",
    "    # 계산된 RMSE 값을 rmse 리스트에 추가\n",
    "# rmse 리스트에 저장된 모든 RMSE 값의 평균을 계산하여 출력\n",
    "# 이 값은 \"Best Seller 추천 방식\"의 전체적인 정확도를 나타냅니다."
   ]
  },
  {
   "cell_type": "code",
   "execution_count": null,
   "id": "8d9cd5c9",
   "metadata": {},
   "outputs": [],
   "source": []
  },
  {
   "cell_type": "code",
   "execution_count": null,
   "id": "bf94b009",
   "metadata": {},
   "outputs": [],
   "source": []
  },
  {
   "cell_type": "code",
   "execution_count": null,
   "id": "f364ab2e",
   "metadata": {},
   "outputs": [],
   "source": []
  }
 ],
 "metadata": {
  "kernelspec": {
   "display_name": "Python 3 (ipykernel)",
   "language": "python",
   "name": "python3"
  },
  "language_info": {
   "codemirror_mode": {
    "name": "ipython",
    "version": 3
   },
   "file_extension": ".py",
   "mimetype": "text/x-python",
   "name": "python",
   "nbconvert_exporter": "python",
   "pygments_lexer": "ipython3",
   "version": "3.9.21"
  }
 },
 "nbformat": 4,
 "nbformat_minor": 5
}
