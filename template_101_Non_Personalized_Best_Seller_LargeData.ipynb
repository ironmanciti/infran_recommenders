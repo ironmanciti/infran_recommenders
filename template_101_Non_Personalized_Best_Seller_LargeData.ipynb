{
 "cells": [
  {
   "cell_type": "markdown",
   "id": "83eb5da5-7be4-4710-b9ec-289223d588b8",
   "metadata": {},
   "source": [
    "# 실습 - Non-Personalized Recommendation - Best Seller 추천"
   ]
  },
  {
   "cell_type": "markdown",
   "id": "b18c6241-ae67-4bea-8988-503cb1c50b68",
   "metadata": {},
   "source": [
    "## 영화 데이터(movies.csv) 파일을 DataFrame으로 읽기"
   ]
  },
  {
   "cell_type": "markdown",
   "id": "d3a54251-5f62-4041-ae04-e4f4dea7ec17",
   "metadata": {},
   "source": [
    "## 사용자 평점 (ratings.csv) 파일을 DataFrame으로 읽기 "
   ]
  },
  {
   "cell_type": "markdown",
   "id": "c2c4377f-f634-4944-9fec-9260bcba3457",
   "metadata": {},
   "source": [
    "# 베스트셀러 추천 방식\n",
    "\n",
    "- 이 방식은 모든 사용자에게 가장 인기 있는 동일한 영화를 추천합니다.\n",
    "- 상품에 대한 모든 평가의 평균을 계산하고, 이 평균 점수가 높은 순서대로 상품을 추천합니다."
   ]
  },
  {
   "cell_type": "markdown",
   "id": "7467b03f-e365-4ce2-9d95-06da6292a751",
   "metadata": {},
   "source": [
    "## 추천 시스템의 정확도 측정"
   ]
  }
 ],
 "metadata": {
  "kernelspec": {
   "display_name": "Python 3 (ipykernel)",
   "language": "python",
   "name": "python3"
  },
  "language_info": {
   "codemirror_mode": {
    "name": "ipython",
    "version": 3
   },
   "file_extension": ".py",
   "mimetype": "text/x-python",
   "name": "python",
   "nbconvert_exporter": "python",
   "pygments_lexer": "ipython3",
   "version": "3.9.16"
  }
 },
 "nbformat": 4,
 "nbformat_minor": 5
}
