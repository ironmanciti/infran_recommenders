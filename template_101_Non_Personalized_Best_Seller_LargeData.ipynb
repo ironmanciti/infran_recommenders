{
 "cells": [
  {
   "cell_type": "markdown",
   "id": "83eb5da5-7be4-4710-b9ec-289223d588b8",
   "metadata": {},
   "source": [
    "# 실습 - Non-Personalized Recommendation - Best Seller 추천\n",
    "\n",
    "- 영화 데이터(movies.csv) 파일을 Best Seller 추천 방식에 적용합니다.  \n",
    "- 모든 사용자에게 가장 인기 있는 도일한 영화를 추천합니다."
   ]
  },
  {
   "cell_type": "code",
   "execution_count": null,
   "id": "3fa369b8",
   "metadata": {},
   "outputs": [],
   "source": [
    "# 필요한 라이브러리 임포트\n",
    "# from sklearn.metrics import root_mean_squared_error   # sklearn 최신 버전\n",
    "# 경고 메시지를 무시하도록 설정\n",
    "# sklearn 라이브러리의 버전 확인"
   ]
  },
  {
   "cell_type": "markdown",
   "id": "b18c6241-ae67-4bea-8988-503cb1c50b68",
   "metadata": {},
   "source": [
    "## 영화 데이터(movies.csv) 파일을 DataFrame으로 읽기"
   ]
  },
  {
   "cell_type": "code",
   "execution_count": null,
   "id": "6a2e7900",
   "metadata": {},
   "outputs": [],
   "source": [
    "# movies.csv 파일 읽기"
   ]
  },
  {
   "cell_type": "markdown",
   "id": "d3a54251-5f62-4041-ae04-e4f4dea7ec17",
   "metadata": {},
   "source": [
    "## 사용자 평점 (ratings.csv) 파일을 DataFrame으로 읽기 "
   ]
  },
  {
   "cell_type": "code",
   "execution_count": null,
   "id": "e87b4f10",
   "metadata": {},
   "outputs": [],
   "source": [
    "# ratings.csv 파일 읽기"
   ]
  },
  {
   "cell_type": "markdown",
   "id": "c2c4377f-f634-4944-9fec-9260bcba3457",
   "metadata": {},
   "source": [
    "# 베스트셀러 추천 방식\n",
    "\n",
    "- 이 방식은 모든 사용자에게 가장 인기 있는 동일한 영화를 추천합니다.\n",
    "- 상품에 대한 모든 평가의 평균을 계산하고, 이 평균 점수가 높은 순서대로 상품을 추천합니다."
   ]
  },
  {
   "cell_type": "code",
   "execution_count": null,
   "id": "cdfa0014",
   "metadata": {},
   "outputs": [],
   "source": [
    "# 각 영화별 평균 평점 계산"
   ]
  },
  {
   "cell_type": "code",
   "execution_count": null,
   "id": "1f0d6665",
   "metadata": {},
   "outputs": [],
   "source": [
    "# 평균 평점이 가장 높은 상위 5개 영화 찾기"
   ]
  },
  {
   "cell_type": "code",
   "execution_count": null,
   "id": "118c1252",
   "metadata": {},
   "outputs": [],
   "source": [
    "# 상위 5개 영화의 제목 찾기"
   ]
  },
  {
   "cell_type": "markdown",
   "id": "7467b03f-e365-4ce2-9d95-06da6292a751",
   "metadata": {},
   "source": [
    "## 추천 시스템의 정확도 측정"
   ]
  },
  {
   "cell_type": "code",
   "execution_count": null,
   "id": "33789c77",
   "metadata": {},
   "outputs": [],
   "source": [
    "    #loss = root_mean_squared_error(y_true, y_pred)    # sklearn latest version"
   ]
  },
  {
   "cell_type": "code",
   "execution_count": null,
   "id": "3cdf66f5",
   "metadata": {},
   "outputs": [],
   "source": []
  }
 ],
 "metadata": {
  "kernelspec": {
   "display_name": "Python 3 (ipykernel)",
   "language": "python",
   "name": "python3"
  },
  "language_info": {
   "codemirror_mode": {
    "name": "ipython",
    "version": 3
   },
   "file_extension": ".py",
   "mimetype": "text/x-python",
   "name": "python",
   "nbconvert_exporter": "python",
   "pygments_lexer": "ipython3",
   "version": "3.9.16"
  }
 },
 "nbformat": 4,
 "nbformat_minor": 5
}
