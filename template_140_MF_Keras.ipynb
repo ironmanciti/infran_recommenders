{
 "cells": [
  {
   "cell_type": "markdown",
   "id": "7fe40255",
   "metadata": {
    "id": "7fe40255"
   },
   "source": [
    "# 140. User-Item based Collaborative Filtering - Matrix Factorization\n",
    "\n",
    "## Keras로 MF(Matrix Factorization) 구현하기 - GPU 필요 / Colab 사용\n",
    "\n",
    "\n",
    "### MF 방식의 원리\n",
    "\n",
    "<img src=\"https://i.imgur.com/90NB5Y1.png\" width=400 />\n",
    "\n",
    "$$R \\approx P\\times Q^T=\\hat{R}$$\n",
    "\n",
    "R: Rating matrix, P: User latent matrix, Q: Item latent matrix, k: latent factor(잠재 요인), $\\hat{R}$: 예측값\n",
    "\n",
    "- R 행렬의 각 element는 해당 사용자 아이템에 대한 평점. 이 행렬은 사용자가 실제로 평가한 아이템에 대한 평점만을 가지고 있으므로 많은 원소가 null 로 채워진 sparse matrix 이다.\n",
    "- R 행렬을 사용자 행렬 (P)와 아이템 행렬(Q)로 쪼개어 분석하는 방법이  MF  \n",
    "- $\\hat{R}$이 최대한 R에 가까운 값을 가지도록 하는 P와 Q를 구하면 그 것이 바로 추천을 위한 model이 된다.\n",
    "\n",
    "$$\\hat{r_{ij}}=b+bu_i + bd_j + \\sum_{k=1}^k{p_{ik}q_{kj}}$$\n",
    "\n",
    "$\\hat{r_{ij}}$: 사용자 i 의 아이템 j 에  대한 예측값,  \n",
    "b: 전체 평균. 일단 데이터가 주어지면 하나로 정해지는 값   \n",
    "$bu_i$: 전체 평균을 제거한 후 사용자 i의 평가 경향(사용자 i의 평균과 전체 평균의 차이)     \n",
    "$bd_j$: 전체 평균을 제거한 후 아이템 j의 평가 경향(아이템 j의 평균과 전체 평균의 차이)   \n",
    "$p_{ik}$: 행렬 P의 i 번째 사용자 vector    \n",
    "$q_{kj}$: 행렬 Q의 column j 번째 item vector\n",
    "\n",
    "### MF 를 신경망으로 구현\n",
    "\n",
    "<img src=\"https://ichi.pro/assets/images/max/724/1*VqQ5B6ah4KhbDKNBgX-cfg.png\" />\n",
    "\n",
    "- Input Layer 는 one-hot-encoding 과 같다.\n",
    "- Embedding Layer 는 latent factor d 에 해당.  \n",
    "- 사용자와 아이템의 경향성(bias)을 feature 가 1 인  Embedding 으로 구현  \n",
    "- 전체 평균(b)는 하나의 숫자이므로 신경망의 target value에서 일률적으로 빼 주고, 나중에 산출된 예측치에 일률적으로 더해주는 것이 전체 평균을 모델화 하는 것 보다 간단함."
   ]
  },
  {
   "cell_type": "code",
   "execution_count": null,
   "id": "49b872e7",
   "metadata": {},
   "outputs": [],
   "source": [
    "# 필요한 library import\n",
    "# 평점 데이터를 URL로부터 불러옵니다. r_cols는 열 이름을 정의합니다.\n",
    "# 'timestamp' 열을 제거하고, 'user_id', 'movie_id', 'rating' 열만 남깁니다.\n",
    "# 데이터 타입을 int로 변환하여 정수형 데이터로 처리합니다."
   ]
  },
  {
   "cell_type": "code",
   "execution_count": null,
   "id": "f402e055",
   "metadata": {},
   "outputs": [],
   "source": [
    "# 사용자 데이터를 URL로부터 불러옵니다. u_cols는 열 이름을 정의합니다."
   ]
  },
  {
   "cell_type": "code",
   "execution_count": null,
   "id": "d6e78383",
   "metadata": {},
   "outputs": [],
   "source": [
    "# 필요한 열만 선택합니다.\n",
    "# 'age' 열을 'age'의 최대값으로 나누어 0과 1 사이의 값으로 정규화합니다."
   ]
  },
  {
   "cell_type": "code",
   "execution_count": null,
   "id": "aad2a448",
   "metadata": {},
   "outputs": [],
   "source": [
    "# 'user_id'를 기준으로 'ratings' 데이터프레임과 'users' 데이터프레임을 병합합니다.\n",
    "# 이 과정을 통해 각 평점 데이터에 해당 사용자의 정보가 추가됩니다."
   ]
  },
  {
   "cell_type": "code",
   "execution_count": null,
   "id": "4a4b7792",
   "metadata": {},
   "outputs": [],
   "source": [
    "# 원-핫 인코딩을 적용하여 범주형 변수를 수치형으로 변환합니다."
   ]
  },
  {
   "cell_type": "code",
   "execution_count": null,
   "id": "abade831",
   "metadata": {},
   "outputs": [],
   "source": [
    "# ratings 데이터프레임에서 'rating' 열을 제거하고, 이를 target_ratings에 저장"
   ]
  },
  {
   "cell_type": "code",
   "execution_count": null,
   "id": "5dd32ae5",
   "metadata": {},
   "outputs": [],
   "source": []
  },
  {
   "cell_type": "code",
   "execution_count": null,
   "id": "393a937d",
   "metadata": {},
   "outputs": [],
   "source": [
    "# 'ratings' 데이터프레임에서 첫 두 열을 제외한 나머지 열들을 선택하고,\n",
    "# 열의 수를 'others_input_shape' 변수에 저장합니다.\n",
    "# 이는 모델의 입력으로 사용될 기타 특성의 차원 수를 지정에 사용합니다."
   ]
  },
  {
   "cell_type": "code",
   "execution_count": null,
   "id": "6520bb9a",
   "metadata": {},
   "outputs": [],
   "source": [
    "# train test set 분리"
   ]
  },
  {
   "cell_type": "code",
   "execution_count": null,
   "id": "938f636f",
   "metadata": {},
   "outputs": [],
   "source": [
    "# 잠재 요인(latent factor)의 수를 설정합니다.\n",
    "# 훈련 데이터셋에서 평점의 평균을 계산합니다. 이 평균값은 추천 시스템의 기준선(baseline) 평가로 사용됩니다.\n",
    "# 사용자 수를 계산합니다. user_id의 최대값에 1을 더함으로써 0부터 시작하는 인덱스를 맞춥니다.\n",
    "# 영화 수를 계산합니다. movie_id의 최대값에 1을 더함으로써 0부터 시작하는 인덱스를 맞춥니다.\n",
    "# 계산된 값을 출력합니다."
   ]
  },
  {
   "cell_type": "code",
   "execution_count": null,
   "id": "8471c4e2",
   "metadata": {},
   "outputs": [],
   "source": [
    "# 사용자 임베딩의 shape 확인\n",
    "# 사용자 수(M)와 잠재 요인의 수(K)를 기반으로 한 임베딩 행렬에서\n",
    "# 하나의 사용자 임베딩 벡터를 가져온 후 그 shape을 출력"
   ]
  },
  {
   "cell_type": "markdown",
   "id": "da516474-5d9f-4fce-8b32-8844d523845e",
   "metadata": {
    "id": "da516474-5d9f-4fce-8b32-8844d523845e"
   },
   "source": [
    "### Shallow Neural Network\n",
    "\n",
    "<img src=\"https://i.imgur.com/90NB5Y1.png\" width=400 />\n",
    "\n",
    "$$\\hat{r}_{ij} = b + bu_i + bd_i + \\sum_1^k{p_{ik}q_{jk}}$$\n",
    "  \n",
    "k :  잠재 요인(latent factor)의 수   \n",
    "$\\hat{r}_{ij}$ : 사용자 i의 아이템 j에 대한 예측값  \n",
    "b : 전체 평균 (데이터가 주어지면 하나로 정해지는 상수)  \n",
    "$bu_i$ : 전체 평균을 제거한 후 사용자 i의 평가 경향 (사용자 i의 평균과 전체 평균의 차이)  \n",
    "$bd_i$ : 전체 평균을 제거한 후 아이텐 j의 평가 경향 (아이템 j의 평균과 전체 평균의 차이)  \n",
    "$p_{ik}$ : 행렬 P의 i번째 사용자 vector  \n",
    "$q_{jk}$ : 행렬 Q의 column j 번째 item vector  "
   ]
  },
  {
   "cell_type": "code",
   "execution_count": null,
   "id": "2f63d3eb",
   "metadata": {},
   "outputs": [],
   "source": [
    "# 사용자 입력 레이어\n",
    "# Item 입력 레이어\n",
    "# 기타 특성 입력 레이어\n",
    "# 사용자 임베딩 레이어 (M, K)\n",
    "# Item 임베딩 레이어 (N, K)\n",
    "# 사용자 편향 (M, 1) 임베딩 레이어\n",
    "# Item 편향 (N, 1) 임베딩 레이어\n",
    "# Concatenate를 위해 임베딩 레이어들을 1차원으로 flatten\n",
    "# 4개의 임베딩 레이어와 기타 특성들을 concatenate\n",
    "# Hidden Layer로 연결\n",
    "# 모델 설정"
   ]
  },
  {
   "cell_type": "code",
   "execution_count": null,
   "id": "e2f0720c",
   "metadata": {},
   "outputs": [],
   "source": []
  },
  {
   "cell_type": "code",
   "execution_count": null,
   "id": "60f64b2c",
   "metadata": {},
   "outputs": [],
   "source": []
  },
  {
   "cell_type": "code",
   "execution_count": null,
   "id": "6f9e0da9",
   "metadata": {},
   "outputs": [],
   "source": [
    "# 모델 학습\n",
    "    # 타겟 값에서 전체 평점의 평균을 뺀 값으로, 타입은 float32\n",
    "    # 이렇게 하는 이유는 데이터의 평균을 0으로 맞추어 학습 성능을 향상시키기 위함."
   ]
  },
  {
   "cell_type": "code",
   "execution_count": null,
   "id": "318aca3e",
   "metadata": {},
   "outputs": [],
   "source": [
    "# 모델 평가를 수행합니다.\n",
    "    # 테스트 타겟 값에서 전체 평점의 평균을 뺀 값"
   ]
  },
  {
   "cell_type": "code",
   "execution_count": null,
   "id": "e129f7e7",
   "metadata": {},
   "outputs": [],
   "source": [
    "# Plot MSE"
   ]
  },
  {
   "cell_type": "code",
   "execution_count": null,
   "id": "09c912f8",
   "metadata": {},
   "outputs": [],
   "source": [
    "# 테스트 세트에서 사용자 ID와 영화 ID, 그리고 기타 특성을 6개 선택\n",
    "# 학습된 모델을 사용하여 선택된 샘플에 대한 평점 예측을 수행합니다.\n",
    "# 예측된 결과에 전체 평점 평균(mu)을 더하여 실제 평점 범위로 변환합니다.\n",
    "# 실제 평점과 예측 평점을 출력하여 비교"
   ]
  },
  {
   "cell_type": "code",
   "execution_count": null,
   "id": "d3b94d71",
   "metadata": {},
   "outputs": [],
   "source": [
    "# 테스트 세트에서 사용자 ID, 영화 ID, 그리고 기타 특성을 전체 선택\n",
    "# 모델을 사용하여 전체 테스트 세트에 대한 예측을 수행하고, 전체 평균(mu)을 더해 실제 평점 범위로 변환\n",
    "# 실제 평점\n",
    "# 실제 값과 예측 값 사이의 평균 제곱 오차(MSE) 계산"
   ]
  },
  {
   "cell_type": "code",
   "execution_count": null,
   "id": "b814dd24",
   "metadata": {},
   "outputs": [],
   "source": []
  }
 ],
 "metadata": {
  "accelerator": "GPU",
  "colab": {
   "gpuType": "T4",
   "provenance": []
  },
  "kernelspec": {
   "display_name": "Python 3 (ipykernel)",
   "language": "python",
   "name": "python3"
  },
  "language_info": {
   "codemirror_mode": {
    "name": "ipython",
    "version": 3
   },
   "file_extension": ".py",
   "mimetype": "text/x-python",
   "name": "python",
   "nbconvert_exporter": "python",
   "pygments_lexer": "ipython3",
   "version": "3.9.16"
  }
 },
 "nbformat": 4,
 "nbformat_minor": 5
}
