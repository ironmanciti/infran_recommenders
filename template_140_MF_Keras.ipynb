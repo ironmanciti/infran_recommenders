{
 "cells": [
  {
   "cell_type": "markdown",
   "id": "7fe40255",
   "metadata": {
    "id": "7fe40255"
   },
   "source": [
    "# 140. User-Item based Collaborative Filtering - Matrix Factorization\n",
    "\n",
    "## Keras로 MF(Matrix Factorization) 구현하기 - GPU 필요 / Colab 사용\n",
    "\n",
    "\n",
    "### MF 방식의 원리\n",
    "\n",
    "<img src=\"https://petamind.com/wp-content/uploads/2019/12/ml-mf-matrix-factorization-_op.svg\" width=400 />\n",
    "\n",
    "$$R \\approx P\\times Q^T=\\hat{R}$$\n",
    "\n",
    "R: Rating matrix, P: User latent matrix, Q: Item latent matrix, k: latent factor(잠재 요인), $\\hat{R}$: 예측값\n",
    "\n",
    "- R 행렬의 각 element는 해당 사용자 아이템에 대한 평점. 이 행렬은 사용자가 실제로 평가한 아이템에 대한 평점만을 가지고 있으므로 많은 원소가 null 로 채워진 sparse matrix 이다.\n",
    "- R 행렬을 사용자 행렬 (P)와 아이템 행렬(Q)로 쪼개어 분석하는 방법이  MF  \n",
    "- $\\hat{R}$이 최대한 R에 가까운 값을 가지도록 하는 P와 Q를 구하면 그 것이 바로 추천을 위한 model이 된다.\n",
    "\n",
    "$$\\hat{r_{ij}}=b+bu_i + bd_j + \\sum_{k=1}^k{p_{ik}q_{kj}}$$\n",
    "\n",
    "$\\hat{r_{ij}}$: 사용자 i 의 아이템 j 에  대한 예측값,  \n",
    "b: 전체 평균. 일단 데이터가 주어지면 하나로 정해지는 값   \n",
    "$bu_i$: 전체 평균을 제거한 후 사용자 i의 평가 경향(사용자 i의 평균과 전체 평균의 차이)     \n",
    "$bd_j$: 전체 평균을 제거한 후 아이템 j의 평가 경향(아이템 j의 평균과 전체 평균의 차이)   \n",
    "$p_{ik}$: 행렬 P의 i 번째 사용자 vector    \n",
    "$q_{kj}$: 행렬 Q의 column j 번째 item vector\n",
    "\n",
    "### MF 를 신경망으로 구현\n",
    "\n",
    "<img src=\"https://ichi.pro/assets/images/max/724/1*VqQ5B6ah4KhbDKNBgX-cfg.png\" />\n",
    "\n",
    "- Input Layer 는 one-hot-encoding 과 같다.\n",
    "- Embedding Layer 는 latent factor d 에 해당.  \n",
    "- 사용자와 아이템의 경향성(bias)을 feature 가 1 인  Embedding 으로 구현  \n",
    "- 전체 평균(b)는 하나의 숫자이므로 신경망의 target value에서 일률적으로 빼 주고, 나중에 산출된 예측치에 일률적으로 더해주는 것이 전체 평균을 모델화 하는 것 보다 간단함."
   ]
  },
  {
   "cell_type": "markdown",
   "id": "da516474-5d9f-4fce-8b32-8844d523845e",
   "metadata": {
    "id": "da516474-5d9f-4fce-8b32-8844d523845e"
   },
   "source": [
    "### Shallow Neural Network\n",
    "\n",
    "<img src=\"https://petamind.com/wp-content/uploads/2019/12/ml-mf-matrix-factorization-_op.svg\" width=400 />\n",
    "\n",
    "$$\\hat{r}_{ij} = b + bu_i + bd_i + \\sum_1^k{p_{ik}q_{jk}}$$\n",
    "  \n",
    "k :  잠재 요인(latent factor)의 수   \n",
    "$\\hat{r}_{ij}$ : 사용자 i의 아이템 j에 대한 예측값  \n",
    "b : 전체 평균 (데이터가 주어지면 하나로 정해지는 상수)  \n",
    "$bu_i$ : 전체 평균을 제거한 후 사용자 i의 평가 경향 (사용자 i의 평균과 전체 평균의 차이)  \n",
    "$bd_i$ : 전체 평균을 제거한 후 아이텐 j의 평가 경향 (아이템 j의 평균과 전체 평균의 차이)  \n",
    "$p_{ik}$ : 행렬 P의 i번째 사용자 vector  \n",
    "$q_{jk}$ : 행렬 Q의 column j 번째 item vector  "
   ]
  }
 ],
 "metadata": {
  "accelerator": "GPU",
  "colab": {
   "gpuType": "T4",
   "provenance": []
  },
  "kernelspec": {
   "display_name": "Python 3 (ipykernel)",
   "language": "python",
   "name": "python3"
  },
  "language_info": {
   "codemirror_mode": {
    "name": "ipython",
    "version": 3
   },
   "file_extension": ".py",
   "mimetype": "text/x-python",
   "name": "python",
   "nbconvert_exporter": "python",
   "pygments_lexer": "ipython3",
   "version": "3.9.16"
  }
 },
 "nbformat": 4,
 "nbformat_minor": 5
}
